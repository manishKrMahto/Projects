{
  "nbformat": 4,
  "nbformat_minor": 0,
  "metadata": {
    "colab": {
      "provenance": []
    },
    "kernelspec": {
      "name": "python3",
      "display_name": "Python 3"
    },
    "language_info": {
      "name": "python"
    }
  },
  "cells": [
    {
      "cell_type": "code",
      "execution_count": 90,
      "metadata": {
        "id": "ABabQeDyRQSe"
      },
      "outputs": [],
      "source": [
        "import numpy as np\n",
        "import pandas as pd\n",
        "import matplotlib.pyplot as plt\n",
        "import seaborn as sns\n",
        "\n",
        "from sklearn.model_selection import train_test_split\n",
        "from sklearn.preprocessing import StandardScaler\n",
        "from sklearn.linear_model import LinearRegression , Ridge\n",
        "from sklearn.metrics import r2_score,accuracy_score\n",
        "from sklearn.tree import DecisionTreeRegressor\n",
        "from sklearn.tree import plot_tree\n",
        "from sklearn.ensemble import RandomForestRegressor\n",
        "import xgboost as xg"
      ]
    },
    {
      "cell_type": "markdown",
      "source": [
        "# data loading"
      ],
      "metadata": {
        "id": "i9GqkXKhqdRf"
      }
    },
    {
      "cell_type": "code",
      "source": [
        "df = pd.read_csv('/content/phones clearned.csv')\n",
        "df.shape"
      ],
      "metadata": {
        "colab": {
          "base_uri": "https://localhost:8080/"
        },
        "id": "KNB_F_PlRxs9",
        "outputId": "a1de106d-3780-4618-c9c5-bf7ad57812f2"
      },
      "execution_count": 91,
      "outputs": [
        {
          "output_type": "execute_result",
          "data": {
            "text/plain": [
              "(984, 16)"
            ]
          },
          "metadata": {},
          "execution_count": 91
        }
      ]
    },
    {
      "cell_type": "code",
      "source": [
        "df.isnull().sum()"
      ],
      "metadata": {
        "colab": {
          "base_uri": "https://localhost:8080/"
        },
        "id": "4MlmsmXXT7cp",
        "outputId": "aba55fac-c296-495e-de06-e136f8675c50"
      },
      "execution_count": 92,
      "outputs": [
        {
          "output_type": "execute_result",
          "data": {
            "text/plain": [
              "model                0\n",
              "brand                0\n",
              "selling_price        0\n",
              "sim type             0\n",
              "is 5G                0\n",
              "cores                0\n",
              "RAM                  0\n",
              "ROM                  0\n",
              "battery_mAh          0\n",
              "is_fast              0\n",
              "display_size         0\n",
              "refresh rate         0\n",
              "notch                0\n",
              "rear camera count    0\n",
              "rear primary cam     0\n",
              "front primary cam    0\n",
              "dtype: int64"
            ]
          },
          "metadata": {},
          "execution_count": 92
        }
      ]
    },
    {
      "cell_type": "code",
      "source": [
        "df.head(3)"
      ],
      "metadata": {
        "colab": {
          "base_uri": "https://localhost:8080/",
          "height": 265
        },
        "id": "Z2y07r7eSBny",
        "outputId": "e282b9d8-024e-4a2d-b634-339fdc0a899b"
      },
      "execution_count": 93,
      "outputs": [
        {
          "output_type": "execute_result",
          "data": {
            "text/plain": [
              "                       model    brand  selling_price  sim type  is 5G  cores  \\\n",
              "0              OnePlus 11 5G  OnePlus          54999  Dual Sim      1      8   \n",
              "1  OnePlus Nord CE 2 Lite 5G  OnePlus          19989  Dual Sim      1      8   \n",
              "2      Samsung Galaxy A14 5G  Samsung          16499  Dual Sim      1      8   \n",
              "\n",
              "     RAM     ROM  battery_mAh  is_fast  display_size  refresh rate  \\\n",
              "0  12 GB  256 GB         5000        1          6.70           120   \n",
              "1   6 GB  128 GB         5000        1          6.59           120   \n",
              "2   4 GB   64 GB         5000        1          6.60            90   \n",
              "\n",
              "        notch rear camera count  rear primary cam  front primary cam  \n",
              "0  Punch Hole            Triple              50.0               16.0  \n",
              "1  Punch Hole            Triple              64.0               16.0  \n",
              "2  Water Drop            Triple              50.0               13.0  "
            ],
            "text/html": [
              "\n",
              "  <div id=\"df-ff6babcb-fe28-4fc9-ae49-58ddff8b9c3a\" class=\"colab-df-container\">\n",
              "    <div>\n",
              "<style scoped>\n",
              "    .dataframe tbody tr th:only-of-type {\n",
              "        vertical-align: middle;\n",
              "    }\n",
              "\n",
              "    .dataframe tbody tr th {\n",
              "        vertical-align: top;\n",
              "    }\n",
              "\n",
              "    .dataframe thead th {\n",
              "        text-align: right;\n",
              "    }\n",
              "</style>\n",
              "<table border=\"1\" class=\"dataframe\">\n",
              "  <thead>\n",
              "    <tr style=\"text-align: right;\">\n",
              "      <th></th>\n",
              "      <th>model</th>\n",
              "      <th>brand</th>\n",
              "      <th>selling_price</th>\n",
              "      <th>sim type</th>\n",
              "      <th>is 5G</th>\n",
              "      <th>cores</th>\n",
              "      <th>RAM</th>\n",
              "      <th>ROM</th>\n",
              "      <th>battery_mAh</th>\n",
              "      <th>is_fast</th>\n",
              "      <th>display_size</th>\n",
              "      <th>refresh rate</th>\n",
              "      <th>notch</th>\n",
              "      <th>rear camera count</th>\n",
              "      <th>rear primary cam</th>\n",
              "      <th>front primary cam</th>\n",
              "    </tr>\n",
              "  </thead>\n",
              "  <tbody>\n",
              "    <tr>\n",
              "      <th>0</th>\n",
              "      <td>OnePlus 11 5G</td>\n",
              "      <td>OnePlus</td>\n",
              "      <td>54999</td>\n",
              "      <td>Dual Sim</td>\n",
              "      <td>1</td>\n",
              "      <td>8</td>\n",
              "      <td>12 GB</td>\n",
              "      <td>256 GB</td>\n",
              "      <td>5000</td>\n",
              "      <td>1</td>\n",
              "      <td>6.70</td>\n",
              "      <td>120</td>\n",
              "      <td>Punch Hole</td>\n",
              "      <td>Triple</td>\n",
              "      <td>50.0</td>\n",
              "      <td>16.0</td>\n",
              "    </tr>\n",
              "    <tr>\n",
              "      <th>1</th>\n",
              "      <td>OnePlus Nord CE 2 Lite 5G</td>\n",
              "      <td>OnePlus</td>\n",
              "      <td>19989</td>\n",
              "      <td>Dual Sim</td>\n",
              "      <td>1</td>\n",
              "      <td>8</td>\n",
              "      <td>6 GB</td>\n",
              "      <td>128 GB</td>\n",
              "      <td>5000</td>\n",
              "      <td>1</td>\n",
              "      <td>6.59</td>\n",
              "      <td>120</td>\n",
              "      <td>Punch Hole</td>\n",
              "      <td>Triple</td>\n",
              "      <td>64.0</td>\n",
              "      <td>16.0</td>\n",
              "    </tr>\n",
              "    <tr>\n",
              "      <th>2</th>\n",
              "      <td>Samsung Galaxy A14 5G</td>\n",
              "      <td>Samsung</td>\n",
              "      <td>16499</td>\n",
              "      <td>Dual Sim</td>\n",
              "      <td>1</td>\n",
              "      <td>8</td>\n",
              "      <td>4 GB</td>\n",
              "      <td>64 GB</td>\n",
              "      <td>5000</td>\n",
              "      <td>1</td>\n",
              "      <td>6.60</td>\n",
              "      <td>90</td>\n",
              "      <td>Water Drop</td>\n",
              "      <td>Triple</td>\n",
              "      <td>50.0</td>\n",
              "      <td>13.0</td>\n",
              "    </tr>\n",
              "  </tbody>\n",
              "</table>\n",
              "</div>\n",
              "    <div class=\"colab-df-buttons\">\n",
              "\n",
              "  <div class=\"colab-df-container\">\n",
              "    <button class=\"colab-df-convert\" onclick=\"convertToInteractive('df-ff6babcb-fe28-4fc9-ae49-58ddff8b9c3a')\"\n",
              "            title=\"Convert this dataframe to an interactive table.\"\n",
              "            style=\"display:none;\">\n",
              "\n",
              "  <svg xmlns=\"http://www.w3.org/2000/svg\" height=\"24px\" viewBox=\"0 -960 960 960\">\n",
              "    <path d=\"M120-120v-720h720v720H120Zm60-500h600v-160H180v160Zm220 220h160v-160H400v160Zm0 220h160v-160H400v160ZM180-400h160v-160H180v160Zm440 0h160v-160H620v160ZM180-180h160v-160H180v160Zm440 0h160v-160H620v160Z\"/>\n",
              "  </svg>\n",
              "    </button>\n",
              "\n",
              "  <style>\n",
              "    .colab-df-container {\n",
              "      display:flex;\n",
              "      gap: 12px;\n",
              "    }\n",
              "\n",
              "    .colab-df-convert {\n",
              "      background-color: #E8F0FE;\n",
              "      border: none;\n",
              "      border-radius: 50%;\n",
              "      cursor: pointer;\n",
              "      display: none;\n",
              "      fill: #1967D2;\n",
              "      height: 32px;\n",
              "      padding: 0 0 0 0;\n",
              "      width: 32px;\n",
              "    }\n",
              "\n",
              "    .colab-df-convert:hover {\n",
              "      background-color: #E2EBFA;\n",
              "      box-shadow: 0px 1px 2px rgba(60, 64, 67, 0.3), 0px 1px 3px 1px rgba(60, 64, 67, 0.15);\n",
              "      fill: #174EA6;\n",
              "    }\n",
              "\n",
              "    .colab-df-buttons div {\n",
              "      margin-bottom: 4px;\n",
              "    }\n",
              "\n",
              "    [theme=dark] .colab-df-convert {\n",
              "      background-color: #3B4455;\n",
              "      fill: #D2E3FC;\n",
              "    }\n",
              "\n",
              "    [theme=dark] .colab-df-convert:hover {\n",
              "      background-color: #434B5C;\n",
              "      box-shadow: 0px 1px 3px 1px rgba(0, 0, 0, 0.15);\n",
              "      filter: drop-shadow(0px 1px 2px rgba(0, 0, 0, 0.3));\n",
              "      fill: #FFFFFF;\n",
              "    }\n",
              "  </style>\n",
              "\n",
              "    <script>\n",
              "      const buttonEl =\n",
              "        document.querySelector('#df-ff6babcb-fe28-4fc9-ae49-58ddff8b9c3a button.colab-df-convert');\n",
              "      buttonEl.style.display =\n",
              "        google.colab.kernel.accessAllowed ? 'block' : 'none';\n",
              "\n",
              "      async function convertToInteractive(key) {\n",
              "        const element = document.querySelector('#df-ff6babcb-fe28-4fc9-ae49-58ddff8b9c3a');\n",
              "        const dataTable =\n",
              "          await google.colab.kernel.invokeFunction('convertToInteractive',\n",
              "                                                    [key], {});\n",
              "        if (!dataTable) return;\n",
              "\n",
              "        const docLinkHtml = 'Like what you see? Visit the ' +\n",
              "          '<a target=\"_blank\" href=https://colab.research.google.com/notebooks/data_table.ipynb>data table notebook</a>'\n",
              "          + ' to learn more about interactive tables.';\n",
              "        element.innerHTML = '';\n",
              "        dataTable['output_type'] = 'display_data';\n",
              "        await google.colab.output.renderOutput(dataTable, element);\n",
              "        const docLink = document.createElement('div');\n",
              "        docLink.innerHTML = docLinkHtml;\n",
              "        element.appendChild(docLink);\n",
              "      }\n",
              "    </script>\n",
              "  </div>\n",
              "\n",
              "\n",
              "<div id=\"df-24c868d2-4908-4827-97a1-efe2cdbbcec1\">\n",
              "  <button class=\"colab-df-quickchart\" onclick=\"quickchart('df-24c868d2-4908-4827-97a1-efe2cdbbcec1')\"\n",
              "            title=\"Suggest charts\"\n",
              "            style=\"display:none;\">\n",
              "\n",
              "<svg xmlns=\"http://www.w3.org/2000/svg\" height=\"24px\"viewBox=\"0 0 24 24\"\n",
              "     width=\"24px\">\n",
              "    <g>\n",
              "        <path d=\"M19 3H5c-1.1 0-2 .9-2 2v14c0 1.1.9 2 2 2h14c1.1 0 2-.9 2-2V5c0-1.1-.9-2-2-2zM9 17H7v-7h2v7zm4 0h-2V7h2v10zm4 0h-2v-4h2v4z\"/>\n",
              "    </g>\n",
              "</svg>\n",
              "  </button>\n",
              "\n",
              "<style>\n",
              "  .colab-df-quickchart {\n",
              "      --bg-color: #E8F0FE;\n",
              "      --fill-color: #1967D2;\n",
              "      --hover-bg-color: #E2EBFA;\n",
              "      --hover-fill-color: #174EA6;\n",
              "      --disabled-fill-color: #AAA;\n",
              "      --disabled-bg-color: #DDD;\n",
              "  }\n",
              "\n",
              "  [theme=dark] .colab-df-quickchart {\n",
              "      --bg-color: #3B4455;\n",
              "      --fill-color: #D2E3FC;\n",
              "      --hover-bg-color: #434B5C;\n",
              "      --hover-fill-color: #FFFFFF;\n",
              "      --disabled-bg-color: #3B4455;\n",
              "      --disabled-fill-color: #666;\n",
              "  }\n",
              "\n",
              "  .colab-df-quickchart {\n",
              "    background-color: var(--bg-color);\n",
              "    border: none;\n",
              "    border-radius: 50%;\n",
              "    cursor: pointer;\n",
              "    display: none;\n",
              "    fill: var(--fill-color);\n",
              "    height: 32px;\n",
              "    padding: 0;\n",
              "    width: 32px;\n",
              "  }\n",
              "\n",
              "  .colab-df-quickchart:hover {\n",
              "    background-color: var(--hover-bg-color);\n",
              "    box-shadow: 0 1px 2px rgba(60, 64, 67, 0.3), 0 1px 3px 1px rgba(60, 64, 67, 0.15);\n",
              "    fill: var(--button-hover-fill-color);\n",
              "  }\n",
              "\n",
              "  .colab-df-quickchart-complete:disabled,\n",
              "  .colab-df-quickchart-complete:disabled:hover {\n",
              "    background-color: var(--disabled-bg-color);\n",
              "    fill: var(--disabled-fill-color);\n",
              "    box-shadow: none;\n",
              "  }\n",
              "\n",
              "  .colab-df-spinner {\n",
              "    border: 2px solid var(--fill-color);\n",
              "    border-color: transparent;\n",
              "    border-bottom-color: var(--fill-color);\n",
              "    animation:\n",
              "      spin 1s steps(1) infinite;\n",
              "  }\n",
              "\n",
              "  @keyframes spin {\n",
              "    0% {\n",
              "      border-color: transparent;\n",
              "      border-bottom-color: var(--fill-color);\n",
              "      border-left-color: var(--fill-color);\n",
              "    }\n",
              "    20% {\n",
              "      border-color: transparent;\n",
              "      border-left-color: var(--fill-color);\n",
              "      border-top-color: var(--fill-color);\n",
              "    }\n",
              "    30% {\n",
              "      border-color: transparent;\n",
              "      border-left-color: var(--fill-color);\n",
              "      border-top-color: var(--fill-color);\n",
              "      border-right-color: var(--fill-color);\n",
              "    }\n",
              "    40% {\n",
              "      border-color: transparent;\n",
              "      border-right-color: var(--fill-color);\n",
              "      border-top-color: var(--fill-color);\n",
              "    }\n",
              "    60% {\n",
              "      border-color: transparent;\n",
              "      border-right-color: var(--fill-color);\n",
              "    }\n",
              "    80% {\n",
              "      border-color: transparent;\n",
              "      border-right-color: var(--fill-color);\n",
              "      border-bottom-color: var(--fill-color);\n",
              "    }\n",
              "    90% {\n",
              "      border-color: transparent;\n",
              "      border-bottom-color: var(--fill-color);\n",
              "    }\n",
              "  }\n",
              "</style>\n",
              "\n",
              "  <script>\n",
              "    async function quickchart(key) {\n",
              "      const quickchartButtonEl =\n",
              "        document.querySelector('#' + key + ' button');\n",
              "      quickchartButtonEl.disabled = true;  // To prevent multiple clicks.\n",
              "      quickchartButtonEl.classList.add('colab-df-spinner');\n",
              "      try {\n",
              "        const charts = await google.colab.kernel.invokeFunction(\n",
              "            'suggestCharts', [key], {});\n",
              "      } catch (error) {\n",
              "        console.error('Error during call to suggestCharts:', error);\n",
              "      }\n",
              "      quickchartButtonEl.classList.remove('colab-df-spinner');\n",
              "      quickchartButtonEl.classList.add('colab-df-quickchart-complete');\n",
              "    }\n",
              "    (() => {\n",
              "      let quickchartButtonEl =\n",
              "        document.querySelector('#df-24c868d2-4908-4827-97a1-efe2cdbbcec1 button');\n",
              "      quickchartButtonEl.style.display =\n",
              "        google.colab.kernel.accessAllowed ? 'block' : 'none';\n",
              "    })();\n",
              "  </script>\n",
              "</div>\n",
              "\n",
              "    </div>\n",
              "  </div>\n"
            ],
            "application/vnd.google.colaboratory.intrinsic+json": {
              "type": "dataframe",
              "variable_name": "df",
              "summary": "{\n  \"name\": \"df\",\n  \"rows\": 984,\n  \"fields\": [\n    {\n      \"column\": \"model\",\n      \"properties\": {\n        \"dtype\": \"string\",\n        \"num_unique_values\": 984,\n        \"samples\": [\n          \"Vivo V21 5G\",\n          \"iQOO 9 SE 5G (12GB RAM + 256GB)\",\n          \"Realme XT\"\n        ],\n        \"semantic_type\": \"\",\n        \"description\": \"\"\n      }\n    },\n    {\n      \"column\": \"brand\",\n      \"properties\": {\n        \"dtype\": \"category\",\n        \"num_unique_values\": 52,\n        \"samples\": [\n          \"Cola\",\n          \"LG\",\n          \"BlackZone\"\n        ],\n        \"semantic_type\": \"\",\n        \"description\": \"\"\n      }\n    },\n    {\n      \"column\": \"selling_price\",\n      \"properties\": {\n        \"dtype\": \"number\",\n        \"std\": 38638,\n        \"min\": 599,\n        \"max\": 650000,\n        \"num_unique_values\": 390,\n        \"samples\": [\n          28999,\n          42999,\n          29990\n        ],\n        \"semantic_type\": \"\",\n        \"description\": \"\"\n      }\n    },\n    {\n      \"column\": \"sim type\",\n      \"properties\": {\n        \"dtype\": \"category\",\n        \"num_unique_values\": 2,\n        \"samples\": [\n          \"Single Sim\",\n          \"Dual Sim\"\n        ],\n        \"semantic_type\": \"\",\n        \"description\": \"\"\n      }\n    },\n    {\n      \"column\": \"is 5G\",\n      \"properties\": {\n        \"dtype\": \"number\",\n        \"std\": 0,\n        \"min\": 0,\n        \"max\": 1,\n        \"num_unique_values\": 2,\n        \"samples\": [\n          0,\n          1\n        ],\n        \"semantic_type\": \"\",\n        \"description\": \"\"\n      }\n    },\n    {\n      \"column\": \"cores\",\n      \"properties\": {\n        \"dtype\": \"number\",\n        \"std\": 1,\n        \"min\": 1,\n        \"max\": 8,\n        \"num_unique_values\": 5,\n        \"samples\": [\n          6,\n          2\n        ],\n        \"semantic_type\": \"\",\n        \"description\": \"\"\n      }\n    },\n    {\n      \"column\": \"RAM\",\n      \"properties\": {\n        \"dtype\": \"category\",\n        \"num_unique_values\": 17,\n        \"samples\": [\n          \"12\\u2009GB\",\n          \"6\\u2009GB\"\n        ],\n        \"semantic_type\": \"\",\n        \"description\": \"\"\n      }\n    },\n    {\n      \"column\": \"ROM\",\n      \"properties\": {\n        \"dtype\": \"category\",\n        \"num_unique_values\": 15,\n        \"samples\": [\n          \"48\\u2009MB\",\n          \"4\\u2009MB\"\n        ],\n        \"semantic_type\": \"\",\n        \"description\": \"\"\n      }\n    },\n    {\n      \"column\": \"battery_mAh\",\n      \"properties\": {\n        \"dtype\": \"number\",\n        \"std\": 1088,\n        \"min\": 800,\n        \"max\": 22000,\n        \"num_unique_values\": 96,\n        \"samples\": [\n          4360,\n          1480\n        ],\n        \"semantic_type\": \"\",\n        \"description\": \"\"\n      }\n    },\n    {\n      \"column\": \"is_fast\",\n      \"properties\": {\n        \"dtype\": \"number\",\n        \"std\": 0,\n        \"min\": 0,\n        \"max\": 1,\n        \"num_unique_values\": 2,\n        \"samples\": [\n          0,\n          1\n        ],\n        \"semantic_type\": \"\",\n        \"description\": \"\"\n      }\n    },\n    {\n      \"column\": \"display_size\",\n      \"properties\": {\n        \"dtype\": \"number\",\n        \"std\": 0.6263717981773901,\n        \"min\": 1.77,\n        \"max\": 8.03,\n        \"num_unique_values\": 84,\n        \"samples\": [\n          6.22,\n          6.7\n        ],\n        \"semantic_type\": \"\",\n        \"description\": \"\"\n      }\n    },\n    {\n      \"column\": \"refresh rate\",\n      \"properties\": {\n        \"dtype\": \"number\",\n        \"std\": 15,\n        \"min\": 90,\n        \"max\": 240,\n        \"num_unique_values\": 5,\n        \"samples\": [\n          90,\n          240\n        ],\n        \"semantic_type\": \"\",\n        \"description\": \"\"\n      }\n    },\n    {\n      \"column\": \"notch\",\n      \"properties\": {\n        \"dtype\": \"category\",\n        \"num_unique_values\": 5,\n        \"samples\": [\n          \"Water Drop\",\n          \"Dual Punch Hole\"\n        ],\n        \"semantic_type\": \"\",\n        \"description\": \"\"\n      }\n    },\n    {\n      \"column\": \"rear camera count\",\n      \"properties\": {\n        \"dtype\": \"category\",\n        \"num_unique_values\": 4,\n        \"samples\": [\n          \"Dual\",\n          \"Single\"\n        ],\n        \"semantic_type\": \"\",\n        \"description\": \"\"\n      }\n    },\n    {\n      \"column\": \"rear primary cam\",\n      \"properties\": {\n        \"dtype\": \"number\",\n        \"std\": 34.09620469483442,\n        \"min\": 0.0,\n        \"max\": 200.0,\n        \"num_unique_values\": 20,\n        \"samples\": [\n          50.0,\n          47.2\n        ],\n        \"semantic_type\": \"\",\n        \"description\": \"\"\n      }\n    },\n    {\n      \"column\": \"front primary cam\",\n      \"properties\": {\n        \"dtype\": \"number\",\n        \"std\": 11.228757478011353,\n        \"min\": 0.0,\n        \"max\": 60.0,\n        \"num_unique_values\": 24,\n        \"samples\": [\n          0.0,\n          11.1\n        ],\n        \"semantic_type\": \"\",\n        \"description\": \"\"\n      }\n    }\n  ]\n}"
            }
          },
          "metadata": {},
          "execution_count": 93
        }
      ]
    },
    {
      "cell_type": "markdown",
      "source": [
        "# EDA"
      ],
      "metadata": {
        "id": "JWFMJEwoqlsj"
      }
    },
    {
      "cell_type": "code",
      "source": [
        "df['selling_price'].describe()"
      ],
      "metadata": {
        "colab": {
          "base_uri": "https://localhost:8080/"
        },
        "id": "OHvbwAIkSCdS",
        "outputId": "f4bfb6e7-08e5-4f5e-e214-265446e98fb2"
      },
      "execution_count": 94,
      "outputs": [
        {
          "output_type": "execute_result",
          "data": {
            "text/plain": [
              "count       984.000000\n",
              "mean      31372.305894\n",
              "std       38638.415961\n",
              "min         599.000000\n",
              "25%       12977.750000\n",
              "50%       19990.000000\n",
              "75%       34990.000000\n",
              "max      650000.000000\n",
              "Name: selling_price, dtype: float64"
            ]
          },
          "metadata": {},
          "execution_count": 94
        }
      ]
    },
    {
      "cell_type": "code",
      "source": [
        "df[df['selling_price']== 650000]"
      ],
      "metadata": {
        "colab": {
          "base_uri": "https://localhost:8080/",
          "height": 150
        },
        "id": "CIn2COisTngu",
        "outputId": "0adf73b1-8664-4276-f938-77f61d69ec43"
      },
      "execution_count": 95,
      "outputs": [
        {
          "output_type": "execute_result",
          "data": {
            "text/plain": [
              "                     model  brand  selling_price    sim type  is 5G  cores  \\\n",
              "426  Vertu Signature Touch  Vertu         650000  Single Sim      0      8   \n",
              "\n",
              "      RAM    ROM  battery_mAh  is_fast  display_size  refresh rate  \\\n",
              "426  2 GB  64 GB         2275        0           4.7           120   \n",
              "\n",
              "          notch rear camera count  rear primary cam  front primary cam  \n",
              "426  Punch Hole            Single              13.0                2.1  "
            ],
            "text/html": [
              "\n",
              "  <div id=\"df-37a83d23-1c90-4bc5-8ba7-f3604758447a\" class=\"colab-df-container\">\n",
              "    <div>\n",
              "<style scoped>\n",
              "    .dataframe tbody tr th:only-of-type {\n",
              "        vertical-align: middle;\n",
              "    }\n",
              "\n",
              "    .dataframe tbody tr th {\n",
              "        vertical-align: top;\n",
              "    }\n",
              "\n",
              "    .dataframe thead th {\n",
              "        text-align: right;\n",
              "    }\n",
              "</style>\n",
              "<table border=\"1\" class=\"dataframe\">\n",
              "  <thead>\n",
              "    <tr style=\"text-align: right;\">\n",
              "      <th></th>\n",
              "      <th>model</th>\n",
              "      <th>brand</th>\n",
              "      <th>selling_price</th>\n",
              "      <th>sim type</th>\n",
              "      <th>is 5G</th>\n",
              "      <th>cores</th>\n",
              "      <th>RAM</th>\n",
              "      <th>ROM</th>\n",
              "      <th>battery_mAh</th>\n",
              "      <th>is_fast</th>\n",
              "      <th>display_size</th>\n",
              "      <th>refresh rate</th>\n",
              "      <th>notch</th>\n",
              "      <th>rear camera count</th>\n",
              "      <th>rear primary cam</th>\n",
              "      <th>front primary cam</th>\n",
              "    </tr>\n",
              "  </thead>\n",
              "  <tbody>\n",
              "    <tr>\n",
              "      <th>426</th>\n",
              "      <td>Vertu Signature Touch</td>\n",
              "      <td>Vertu</td>\n",
              "      <td>650000</td>\n",
              "      <td>Single Sim</td>\n",
              "      <td>0</td>\n",
              "      <td>8</td>\n",
              "      <td>2 GB</td>\n",
              "      <td>64 GB</td>\n",
              "      <td>2275</td>\n",
              "      <td>0</td>\n",
              "      <td>4.7</td>\n",
              "      <td>120</td>\n",
              "      <td>Punch Hole</td>\n",
              "      <td>Single</td>\n",
              "      <td>13.0</td>\n",
              "      <td>2.1</td>\n",
              "    </tr>\n",
              "  </tbody>\n",
              "</table>\n",
              "</div>\n",
              "    <div class=\"colab-df-buttons\">\n",
              "\n",
              "  <div class=\"colab-df-container\">\n",
              "    <button class=\"colab-df-convert\" onclick=\"convertToInteractive('df-37a83d23-1c90-4bc5-8ba7-f3604758447a')\"\n",
              "            title=\"Convert this dataframe to an interactive table.\"\n",
              "            style=\"display:none;\">\n",
              "\n",
              "  <svg xmlns=\"http://www.w3.org/2000/svg\" height=\"24px\" viewBox=\"0 -960 960 960\">\n",
              "    <path d=\"M120-120v-720h720v720H120Zm60-500h600v-160H180v160Zm220 220h160v-160H400v160Zm0 220h160v-160H400v160ZM180-400h160v-160H180v160Zm440 0h160v-160H620v160ZM180-180h160v-160H180v160Zm440 0h160v-160H620v160Z\"/>\n",
              "  </svg>\n",
              "    </button>\n",
              "\n",
              "  <style>\n",
              "    .colab-df-container {\n",
              "      display:flex;\n",
              "      gap: 12px;\n",
              "    }\n",
              "\n",
              "    .colab-df-convert {\n",
              "      background-color: #E8F0FE;\n",
              "      border: none;\n",
              "      border-radius: 50%;\n",
              "      cursor: pointer;\n",
              "      display: none;\n",
              "      fill: #1967D2;\n",
              "      height: 32px;\n",
              "      padding: 0 0 0 0;\n",
              "      width: 32px;\n",
              "    }\n",
              "\n",
              "    .colab-df-convert:hover {\n",
              "      background-color: #E2EBFA;\n",
              "      box-shadow: 0px 1px 2px rgba(60, 64, 67, 0.3), 0px 1px 3px 1px rgba(60, 64, 67, 0.15);\n",
              "      fill: #174EA6;\n",
              "    }\n",
              "\n",
              "    .colab-df-buttons div {\n",
              "      margin-bottom: 4px;\n",
              "    }\n",
              "\n",
              "    [theme=dark] .colab-df-convert {\n",
              "      background-color: #3B4455;\n",
              "      fill: #D2E3FC;\n",
              "    }\n",
              "\n",
              "    [theme=dark] .colab-df-convert:hover {\n",
              "      background-color: #434B5C;\n",
              "      box-shadow: 0px 1px 3px 1px rgba(0, 0, 0, 0.15);\n",
              "      filter: drop-shadow(0px 1px 2px rgba(0, 0, 0, 0.3));\n",
              "      fill: #FFFFFF;\n",
              "    }\n",
              "  </style>\n",
              "\n",
              "    <script>\n",
              "      const buttonEl =\n",
              "        document.querySelector('#df-37a83d23-1c90-4bc5-8ba7-f3604758447a button.colab-df-convert');\n",
              "      buttonEl.style.display =\n",
              "        google.colab.kernel.accessAllowed ? 'block' : 'none';\n",
              "\n",
              "      async function convertToInteractive(key) {\n",
              "        const element = document.querySelector('#df-37a83d23-1c90-4bc5-8ba7-f3604758447a');\n",
              "        const dataTable =\n",
              "          await google.colab.kernel.invokeFunction('convertToInteractive',\n",
              "                                                    [key], {});\n",
              "        if (!dataTable) return;\n",
              "\n",
              "        const docLinkHtml = 'Like what you see? Visit the ' +\n",
              "          '<a target=\"_blank\" href=https://colab.research.google.com/notebooks/data_table.ipynb>data table notebook</a>'\n",
              "          + ' to learn more about interactive tables.';\n",
              "        element.innerHTML = '';\n",
              "        dataTable['output_type'] = 'display_data';\n",
              "        await google.colab.output.renderOutput(dataTable, element);\n",
              "        const docLink = document.createElement('div');\n",
              "        docLink.innerHTML = docLinkHtml;\n",
              "        element.appendChild(docLink);\n",
              "      }\n",
              "    </script>\n",
              "  </div>\n",
              "\n",
              "\n",
              "    </div>\n",
              "  </div>\n"
            ],
            "application/vnd.google.colaboratory.intrinsic+json": {
              "type": "dataframe",
              "summary": "{\n  \"name\": \"df[df['selling_price']== 650000]\",\n  \"rows\": 1,\n  \"fields\": [\n    {\n      \"column\": \"model\",\n      \"properties\": {\n        \"dtype\": \"string\",\n        \"num_unique_values\": 1,\n        \"samples\": [\n          \"Vertu Signature Touch\"\n        ],\n        \"semantic_type\": \"\",\n        \"description\": \"\"\n      }\n    },\n    {\n      \"column\": \"brand\",\n      \"properties\": {\n        \"dtype\": \"string\",\n        \"num_unique_values\": 1,\n        \"samples\": [\n          \"Vertu\"\n        ],\n        \"semantic_type\": \"\",\n        \"description\": \"\"\n      }\n    },\n    {\n      \"column\": \"selling_price\",\n      \"properties\": {\n        \"dtype\": \"number\",\n        \"std\": null,\n        \"min\": 650000,\n        \"max\": 650000,\n        \"num_unique_values\": 1,\n        \"samples\": [\n          650000\n        ],\n        \"semantic_type\": \"\",\n        \"description\": \"\"\n      }\n    },\n    {\n      \"column\": \"sim type\",\n      \"properties\": {\n        \"dtype\": \"string\",\n        \"num_unique_values\": 1,\n        \"samples\": [\n          \"Single Sim\"\n        ],\n        \"semantic_type\": \"\",\n        \"description\": \"\"\n      }\n    },\n    {\n      \"column\": \"is 5G\",\n      \"properties\": {\n        \"dtype\": \"number\",\n        \"std\": null,\n        \"min\": 0,\n        \"max\": 0,\n        \"num_unique_values\": 1,\n        \"samples\": [\n          0\n        ],\n        \"semantic_type\": \"\",\n        \"description\": \"\"\n      }\n    },\n    {\n      \"column\": \"cores\",\n      \"properties\": {\n        \"dtype\": \"number\",\n        \"std\": null,\n        \"min\": 8,\n        \"max\": 8,\n        \"num_unique_values\": 1,\n        \"samples\": [\n          8\n        ],\n        \"semantic_type\": \"\",\n        \"description\": \"\"\n      }\n    },\n    {\n      \"column\": \"RAM\",\n      \"properties\": {\n        \"dtype\": \"string\",\n        \"num_unique_values\": 1,\n        \"samples\": [\n          \"2\\u2009GB\"\n        ],\n        \"semantic_type\": \"\",\n        \"description\": \"\"\n      }\n    },\n    {\n      \"column\": \"ROM\",\n      \"properties\": {\n        \"dtype\": \"string\",\n        \"num_unique_values\": 1,\n        \"samples\": [\n          \"64\\u2009GB\"\n        ],\n        \"semantic_type\": \"\",\n        \"description\": \"\"\n      }\n    },\n    {\n      \"column\": \"battery_mAh\",\n      \"properties\": {\n        \"dtype\": \"number\",\n        \"std\": null,\n        \"min\": 2275,\n        \"max\": 2275,\n        \"num_unique_values\": 1,\n        \"samples\": [\n          2275\n        ],\n        \"semantic_type\": \"\",\n        \"description\": \"\"\n      }\n    },\n    {\n      \"column\": \"is_fast\",\n      \"properties\": {\n        \"dtype\": \"number\",\n        \"std\": null,\n        \"min\": 0,\n        \"max\": 0,\n        \"num_unique_values\": 1,\n        \"samples\": [\n          0\n        ],\n        \"semantic_type\": \"\",\n        \"description\": \"\"\n      }\n    },\n    {\n      \"column\": \"display_size\",\n      \"properties\": {\n        \"dtype\": \"number\",\n        \"std\": null,\n        \"min\": 4.7,\n        \"max\": 4.7,\n        \"num_unique_values\": 1,\n        \"samples\": [\n          4.7\n        ],\n        \"semantic_type\": \"\",\n        \"description\": \"\"\n      }\n    },\n    {\n      \"column\": \"refresh rate\",\n      \"properties\": {\n        \"dtype\": \"number\",\n        \"std\": null,\n        \"min\": 120,\n        \"max\": 120,\n        \"num_unique_values\": 1,\n        \"samples\": [\n          120\n        ],\n        \"semantic_type\": \"\",\n        \"description\": \"\"\n      }\n    },\n    {\n      \"column\": \"notch\",\n      \"properties\": {\n        \"dtype\": \"string\",\n        \"num_unique_values\": 1,\n        \"samples\": [\n          \"Punch Hole\"\n        ],\n        \"semantic_type\": \"\",\n        \"description\": \"\"\n      }\n    },\n    {\n      \"column\": \"rear camera count\",\n      \"properties\": {\n        \"dtype\": \"string\",\n        \"num_unique_values\": 1,\n        \"samples\": [\n          \"Single\"\n        ],\n        \"semantic_type\": \"\",\n        \"description\": \"\"\n      }\n    },\n    {\n      \"column\": \"rear primary cam\",\n      \"properties\": {\n        \"dtype\": \"number\",\n        \"std\": null,\n        \"min\": 13.0,\n        \"max\": 13.0,\n        \"num_unique_values\": 1,\n        \"samples\": [\n          13.0\n        ],\n        \"semantic_type\": \"\",\n        \"description\": \"\"\n      }\n    },\n    {\n      \"column\": \"front primary cam\",\n      \"properties\": {\n        \"dtype\": \"number\",\n        \"std\": null,\n        \"min\": 2.1,\n        \"max\": 2.1,\n        \"num_unique_values\": 1,\n        \"samples\": [\n          2.1\n        ],\n        \"semantic_type\": \"\",\n        \"description\": \"\"\n      }\n    }\n  ]\n}"
            }
          },
          "metadata": {},
          "execution_count": 95
        }
      ]
    },
    {
      "cell_type": "code",
      "source": [
        "# price currected from internet\n",
        "df['selling_price'].iloc[426] = 64990"
      ],
      "metadata": {
        "colab": {
          "base_uri": "https://localhost:8080/"
        },
        "id": "ZMlFWaQIUjhi",
        "outputId": "c59b25cb-4ae9-46a4-d067-f099ce05d634"
      },
      "execution_count": 96,
      "outputs": [
        {
          "output_type": "stream",
          "name": "stderr",
          "text": [
            "<ipython-input-96-74a7ee9f332e>:2: SettingWithCopyWarning: \n",
            "A value is trying to be set on a copy of a slice from a DataFrame\n",
            "\n",
            "See the caveats in the documentation: https://pandas.pydata.org/pandas-docs/stable/user_guide/indexing.html#returning-a-view-versus-a-copy\n",
            "  df['selling_price'].iloc[426] = 64990\n"
          ]
        }
      ]
    },
    {
      "cell_type": "code",
      "source": [
        "df['selling_price'].describe()"
      ],
      "metadata": {
        "colab": {
          "base_uri": "https://localhost:8080/"
        },
        "id": "Np1ArLjGVwwf",
        "outputId": "039cd07d-4703-46c8-c966-131436b7c629"
      },
      "execution_count": 97,
      "outputs": [
        {
          "output_type": "execute_result",
          "data": {
            "text/plain": [
              "count       984.000000\n",
              "mean      30777.783537\n",
              "std       33232.580775\n",
              "min         599.000000\n",
              "25%       12977.750000\n",
              "50%       19990.000000\n",
              "75%       34990.000000\n",
              "max      480000.000000\n",
              "Name: selling_price, dtype: float64"
            ]
          },
          "metadata": {},
          "execution_count": 97
        }
      ]
    },
    {
      "cell_type": "code",
      "source": [
        "sorted(list(df['selling_price']) , reverse=True)"
      ],
      "metadata": {
        "id": "a8TC0ypdWDx-",
        "colab": {
          "base_uri": "https://localhost:8080/"
        },
        "outputId": "269d8dde-4b7b-4fde-9ab8-134e4d2c5653"
      },
      "execution_count": 98,
      "outputs": [
        {
          "output_type": "execute_result",
          "data": {
            "text/plain": [
              "[480000,\n",
              " 214990,\n",
              " 199990,\n",
              " 182999,\n",
              " 179900,\n",
              " 172999,\n",
              " 169900,\n",
              " 169000,\n",
              " 163980,\n",
              " 162990,\n",
              " 154998,\n",
              " 149999,\n",
              " 149900,\n",
              " 147900,\n",
              " 142990,\n",
              " 139990,\n",
              " 139900,\n",
              " 134999,\n",
              " 134999,\n",
              " 129990,\n",
              " 129990,\n",
              " 129900,\n",
              " 129900,\n",
              " 124990,\n",
              " 119990,\n",
              " 119990,\n",
              " 119990,\n",
              " 119900,\n",
              " 118999,\n",
              " 118990,\n",
              " 114990,\n",
              " 113990,\n",
              " 110999,\n",
              " 109999,\n",
              " 109990,\n",
              " 109900,\n",
              " 107990,\n",
              " 106990,\n",
              " 106990,\n",
              " 105999,\n",
              " 104999,\n",
              " 104999,\n",
              " 101999,\n",
              " 99999,\n",
              " 99990,\n",
              " 99990,\n",
              " 99990,\n",
              " 95999,\n",
              " 94990,\n",
              " 94990,\n",
              " 92999,\n",
              " 92980,\n",
              " 92249,\n",
              " 91999,\n",
              " 91999,\n",
              " 89999,\n",
              " 89999,\n",
              " 89990,\n",
              " 88999,\n",
              " 86000,\n",
              " 85990,\n",
              " 84999,\n",
              " 84990,\n",
              " 84990,\n",
              " 83000,\n",
              " 82990,\n",
              " 82990,\n",
              " 82990,\n",
              " 82990,\n",
              " 82199,\n",
              " 81999,\n",
              " 79999,\n",
              " 79990,\n",
              " 79990,\n",
              " 79700,\n",
              " 78990,\n",
              " 77990,\n",
              " 75999,\n",
              " 75999,\n",
              " 75990,\n",
              " 74999,\n",
              " 74999,\n",
              " 74999,\n",
              " 73999,\n",
              " 72999,\n",
              " 72999,\n",
              " 71999,\n",
              " 71999,\n",
              " 71999,\n",
              " 70990,\n",
              " 70990,\n",
              " 70990,\n",
              " 69999,\n",
              " 69999,\n",
              " 69999,\n",
              " 69999,\n",
              " 69999,\n",
              " 69990,\n",
              " 69990,\n",
              " 69990,\n",
              " 69990,\n",
              " 69990,\n",
              " 65999,\n",
              " 65499,\n",
              " 64999,\n",
              " 64990,\n",
              " 64900,\n",
              " 64800,\n",
              " 64449,\n",
              " 63990,\n",
              " 62999,\n",
              " 61990,\n",
              " 60999,\n",
              " 60999,\n",
              " 60999,\n",
              " 60990,\n",
              " 59999,\n",
              " 59999,\n",
              " 59999,\n",
              " 59999,\n",
              " 59990,\n",
              " 59990,\n",
              " 59990,\n",
              " 59990,\n",
              " 59990,\n",
              " 59450,\n",
              " 58999,\n",
              " 58990,\n",
              " 58990,\n",
              " 58990,\n",
              " 57999,\n",
              " 57999,\n",
              " 56999,\n",
              " 55999,\n",
              " 54999,\n",
              " 54999,\n",
              " 54999,\n",
              " 54999,\n",
              " 54999,\n",
              " 54999,\n",
              " 54999,\n",
              " 54999,\n",
              " 54990,\n",
              " 54990,\n",
              " 54300,\n",
              " 53990,\n",
              " 53100,\n",
              " 52990,\n",
              " 51999,\n",
              " 51880,\n",
              " 50999,\n",
              " 50990,\n",
              " 50990,\n",
              " 49999,\n",
              " 49999,\n",
              " 49990,\n",
              " 49990,\n",
              " 49990,\n",
              " 49990,\n",
              " 49959,\n",
              " 48990,\n",
              " 48900,\n",
              " 47990,\n",
              " 47990,\n",
              " 47990,\n",
              " 46999,\n",
              " 46999,\n",
              " 46999,\n",
              " 46990,\n",
              " 46990,\n",
              " 46990,\n",
              " 45999,\n",
              " 45999,\n",
              " 45999,\n",
              " 45999,\n",
              " 44999,\n",
              " 44999,\n",
              " 44999,\n",
              " 44999,\n",
              " 44990,\n",
              " 43999,\n",
              " 43999,\n",
              " 42999,\n",
              " 42999,\n",
              " 42999,\n",
              " 42999,\n",
              " 42990,\n",
              " 42990,\n",
              " 42990,\n",
              " 42990,\n",
              " 42990,\n",
              " 41999,\n",
              " 41999,\n",
              " 41990,\n",
              " 41990,\n",
              " 41990,\n",
              " 41990,\n",
              " 40990,\n",
              " 40480,\n",
              " 39999,\n",
              " 39999,\n",
              " 39999,\n",
              " 39999,\n",
              " 39999,\n",
              " 39999,\n",
              " 39999,\n",
              " 39999,\n",
              " 39999,\n",
              " 39999,\n",
              " 39999,\n",
              " 39990,\n",
              " 39990,\n",
              " 39990,\n",
              " 39990,\n",
              " 39990,\n",
              " 39990,\n",
              " 39990,\n",
              " 39990,\n",
              " 39900,\n",
              " 38999,\n",
              " 38999,\n",
              " 38999,\n",
              " 38700,\n",
              " 36999,\n",
              " 36999,\n",
              " 36994,\n",
              " 36760,\n",
              " 36499,\n",
              " 36000,\n",
              " 35999,\n",
              " 35999,\n",
              " 35990,\n",
              " 35499,\n",
              " 35489,\n",
              " 35389,\n",
              " 34999,\n",
              " 34999,\n",
              " 34999,\n",
              " 34999,\n",
              " 34999,\n",
              " 34999,\n",
              " 34999,\n",
              " 34999,\n",
              " 34999,\n",
              " 34999,\n",
              " 34990,\n",
              " 34990,\n",
              " 34990,\n",
              " 34990,\n",
              " 34990,\n",
              " 34949,\n",
              " 33900,\n",
              " 33749,\n",
              " 33499,\n",
              " 32999,\n",
              " 32999,\n",
              " 32999,\n",
              " 32999,\n",
              " 32999,\n",
              " 32999,\n",
              " 32999,\n",
              " 32990,\n",
              " 32990,\n",
              " 32990,\n",
              " 32990,\n",
              " 32990,\n",
              " 32990,\n",
              " 31999,\n",
              " 31999,\n",
              " 31999,\n",
              " 31994,\n",
              " 31994,\n",
              " 31994,\n",
              " 31990,\n",
              " 31990,\n",
              " 31239,\n",
              " 30994,\n",
              " 30990,\n",
              " 30990,\n",
              " 30990,\n",
              " 30990,\n",
              " 30990,\n",
              " 29999,\n",
              " 29999,\n",
              " 29999,\n",
              " 29999,\n",
              " 29999,\n",
              " 29999,\n",
              " 29999,\n",
              " 29999,\n",
              " 29999,\n",
              " 29999,\n",
              " 29999,\n",
              " 29990,\n",
              " 29990,\n",
              " 29990,\n",
              " 29990,\n",
              " 29990,\n",
              " 29990,\n",
              " 29990,\n",
              " 29990,\n",
              " 29990,\n",
              " 29990,\n",
              " 29990,\n",
              " 29990,\n",
              " 29990,\n",
              " 29990,\n",
              " 29340,\n",
              " 28999,\n",
              " 28999,\n",
              " 28999,\n",
              " 28999,\n",
              " 28994,\n",
              " 28990,\n",
              " 28990,\n",
              " 28990,\n",
              " 28499,\n",
              " 28499,\n",
              " 28498,\n",
              " 28249,\n",
              " 27999,\n",
              " 27999,\n",
              " 27999,\n",
              " 27999,\n",
              " 27999,\n",
              " 27999,\n",
              " 27999,\n",
              " 27999,\n",
              " 27999,\n",
              " 27999,\n",
              " 27994,\n",
              " 27994,\n",
              " 27990,\n",
              " 27990,\n",
              " 27990,\n",
              " 27990,\n",
              " 27660,\n",
              " 27499,\n",
              " 27000,\n",
              " 26999,\n",
              " 26999,\n",
              " 26999,\n",
              " 26999,\n",
              " 26990,\n",
              " 26990,\n",
              " 26990,\n",
              " 26749,\n",
              " 26499,\n",
              " 26380,\n",
              " 25999,\n",
              " 25999,\n",
              " 25999,\n",
              " 25999,\n",
              " 25999,\n",
              " 25999,\n",
              " 25994,\n",
              " 25990,\n",
              " 25969,\n",
              " 25900,\n",
              " 25899,\n",
              " 25895,\n",
              " 25595,\n",
              " 25289,\n",
              " 25000,\n",
              " 25000,\n",
              " 24999,\n",
              " 24999,\n",
              " 24999,\n",
              " 24999,\n",
              " 24999,\n",
              " 24999,\n",
              " 24999,\n",
              " 24999,\n",
              " 24999,\n",
              " 24999,\n",
              " 24999,\n",
              " 24999,\n",
              " 24999,\n",
              " 24994,\n",
              " 24990,\n",
              " 24990,\n",
              " 24990,\n",
              " 24990,\n",
              " 24990,\n",
              " 24990,\n",
              " 24990,\n",
              " 24990,\n",
              " 24990,\n",
              " 24990,\n",
              " 24990,\n",
              " 24820,\n",
              " 24762,\n",
              " 24499,\n",
              " 24494,\n",
              " 23999,\n",
              " 23999,\n",
              " 23999,\n",
              " 23994,\n",
              " 23990,\n",
              " 23990,\n",
              " 23990,\n",
              " 23890,\n",
              " 23790,\n",
              " 23500,\n",
              " 23499,\n",
              " 23399,\n",
              " 23269,\n",
              " 22999,\n",
              " 22999,\n",
              " 22999,\n",
              " 22999,\n",
              " 22999,\n",
              " 22999,\n",
              " 22999,\n",
              " 22999,\n",
              " 22999,\n",
              " 22999,\n",
              " 22998,\n",
              " 22994,\n",
              " 22990,\n",
              " 22990,\n",
              " 22990,\n",
              " 22990,\n",
              " 22990,\n",
              " 22990,\n",
              " 22990,\n",
              " 22990,\n",
              " 22700,\n",
              " 22494,\n",
              " 22494,\n",
              " 22490,\n",
              " 21999,\n",
              " 21999,\n",
              " 21999,\n",
              " 21999,\n",
              " 21999,\n",
              " 21999,\n",
              " 21995,\n",
              " 21994,\n",
              " 21990,\n",
              " 21990,\n",
              " 21990,\n",
              " 21990,\n",
              " 21990,\n",
              " 21899,\n",
              " 21890,\n",
              " 21788,\n",
              " 21490,\n",
              " 20999,\n",
              " 20999,\n",
              " 20999,\n",
              " 20999,\n",
              " 20999,\n",
              " 20990,\n",
              " 20990,\n",
              " 20990,\n",
              " 20990,\n",
              " 20499,\n",
              " 20499,\n",
              " 20490,\n",
              " 20120,\n",
              " 20000,\n",
              " 19999,\n",
              " 19999,\n",
              " 19999,\n",
              " 19999,\n",
              " 19999,\n",
              " 19999,\n",
              " 19999,\n",
              " 19999,\n",
              " 19999,\n",
              " 19999,\n",
              " 19999,\n",
              " 19999,\n",
              " 19999,\n",
              " 19999,\n",
              " 19999,\n",
              " 19999,\n",
              " 19990,\n",
              " 19990,\n",
              " 19990,\n",
              " 19990,\n",
              " 19990,\n",
              " 19990,\n",
              " 19990,\n",
              " 19990,\n",
              " 19990,\n",
              " 19990,\n",
              " 19990,\n",
              " 19990,\n",
              " 19990,\n",
              " 19990,\n",
              " 19990,\n",
              " 19990,\n",
              " 19990,\n",
              " 19989,\n",
              " 19988,\n",
              " 19980,\n",
              " 19650,\n",
              " 19499,\n",
              " 19499,\n",
              " 19499,\n",
              " 19000,\n",
              " 18999,\n",
              " 18999,\n",
              " 18999,\n",
              " 18999,\n",
              " 18999,\n",
              " 18999,\n",
              " 18999,\n",
              " 18999,\n",
              " 18999,\n",
              " 18999,\n",
              " 18990,\n",
              " 18990,\n",
              " 18990,\n",
              " 18990,\n",
              " 18699,\n",
              " 18499,\n",
              " 18499,\n",
              " 18499,\n",
              " 18499,\n",
              " 18499,\n",
              " 18498,\n",
              " 18000,\n",
              " 17999,\n",
              " 17999,\n",
              " 17999,\n",
              " 17999,\n",
              " 17999,\n",
              " 17999,\n",
              " 17999,\n",
              " 17999,\n",
              " 17999,\n",
              " 17999,\n",
              " 17999,\n",
              " 17999,\n",
              " 17999,\n",
              " 17999,\n",
              " 17999,\n",
              " 17994,\n",
              " 17990,\n",
              " 17990,\n",
              " 17990,\n",
              " 17990,\n",
              " 17990,\n",
              " 17990,\n",
              " 17990,\n",
              " 17990,\n",
              " 17990,\n",
              " 17990,\n",
              " 17990,\n",
              " 17990,\n",
              " 17859,\n",
              " 17499,\n",
              " 17499,\n",
              " 17478,\n",
              " 16999,\n",
              " 16999,\n",
              " 16999,\n",
              " 16999,\n",
              " 16999,\n",
              " 16999,\n",
              " 16999,\n",
              " 16999,\n",
              " 16999,\n",
              " 16999,\n",
              " 16999,\n",
              " 16999,\n",
              " 16999,\n",
              " 16999,\n",
              " 16999,\n",
              " 16999,\n",
              " 16990,\n",
              " 16990,\n",
              " 16990,\n",
              " 16990,\n",
              " 16990,\n",
              " 16990,\n",
              " 16940,\n",
              " 16900,\n",
              " 16685,\n",
              " 16499,\n",
              " 16499,\n",
              " 16499,\n",
              " 16499,\n",
              " 16499,\n",
              " 16499,\n",
              " 16499,\n",
              " 16499,\n",
              " 16499,\n",
              " 16490,\n",
              " 16490,\n",
              " 15999,\n",
              " 15999,\n",
              " 15999,\n",
              " 15999,\n",
              " 15999,\n",
              " 15999,\n",
              " 15999,\n",
              " 15999,\n",
              " 15999,\n",
              " 15999,\n",
              " 15999,\n",
              " 15999,\n",
              " 15999,\n",
              " 15999,\n",
              " 15999,\n",
              " 15998,\n",
              " 15990,\n",
              " 15990,\n",
              " 15990,\n",
              " 15990,\n",
              " 15990,\n",
              " 15990,\n",
              " 15990,\n",
              " 15990,\n",
              " 15988,\n",
              " 15824,\n",
              " 15499,\n",
              " 15499,\n",
              " 15499,\n",
              " 15499,\n",
              " 15499,\n",
              " 15499,\n",
              " 15499,\n",
              " 15499,\n",
              " 15499,\n",
              " 15490,\n",
              " 15490,\n",
              " 15490,\n",
              " 15000,\n",
              " 14999,\n",
              " 14999,\n",
              " 14999,\n",
              " 14999,\n",
              " 14999,\n",
              " 14999,\n",
              " 14999,\n",
              " 14999,\n",
              " 14999,\n",
              " 14999,\n",
              " 14999,\n",
              " 14999,\n",
              " 14999,\n",
              " 14999,\n",
              " 14999,\n",
              " 14999,\n",
              " 14999,\n",
              " 14999,\n",
              " 14999,\n",
              " 14999,\n",
              " 14999,\n",
              " 14990,\n",
              " 14990,\n",
              " 14990,\n",
              " 14990,\n",
              " 14990,\n",
              " 14990,\n",
              " 14990,\n",
              " 14990,\n",
              " 14990,\n",
              " 14990,\n",
              " 14965,\n",
              " 14859,\n",
              " 14799,\n",
              " 14746,\n",
              " 14700,\n",
              " 14590,\n",
              " 14499,\n",
              " 14499,\n",
              " 14499,\n",
              " 14499,\n",
              " 14499,\n",
              " 14499,\n",
              " 14490,\n",
              " 14490,\n",
              " 14489,\n",
              " 14450,\n",
              " 14439,\n",
              " 14290,\n",
              " 13999,\n",
              " 13999,\n",
              " 13999,\n",
              " 13999,\n",
              " 13999,\n",
              " 13999,\n",
              " 13999,\n",
              " 13999,\n",
              " 13999,\n",
              " 13999,\n",
              " 13999,\n",
              " 13999,\n",
              " 13999,\n",
              " 13999,\n",
              " 13999,\n",
              " 13990,\n",
              " 13990,\n",
              " 13990,\n",
              " 13990,\n",
              " 13990,\n",
              " 13990,\n",
              " 13990,\n",
              " 13990,\n",
              " 13989,\n",
              " 13969,\n",
              " 13799,\n",
              " 13774,\n",
              " 13499,\n",
              " 13499,\n",
              " 13499,\n",
              " 13499,\n",
              " 13499,\n",
              " 13499,\n",
              " 13490,\n",
              " 13490,\n",
              " 13489,\n",
              " 13466,\n",
              " 13279,\n",
              " 12999,\n",
              " 12999,\n",
              " 12999,\n",
              " 12999,\n",
              " 12999,\n",
              " 12999,\n",
              " 12999,\n",
              " 12999,\n",
              " 12999,\n",
              " 12999,\n",
              " 12999,\n",
              " 12999,\n",
              " 12999,\n",
              " 12999,\n",
              " 12990,\n",
              " 12990,\n",
              " 12990,\n",
              " 12990,\n",
              " 12989,\n",
              " 12944,\n",
              " 12799,\n",
              " 12799,\n",
              " 12787,\n",
              " 12500,\n",
              " 12499,\n",
              " 12499,\n",
              " 12499,\n",
              " 12499,\n",
              " 12499,\n",
              " 12490,\n",
              " 12490,\n",
              " 12490,\n",
              " 12489,\n",
              " 12390,\n",
              " 12364,\n",
              " 12340,\n",
              " 12199,\n",
              " 12188,\n",
              " 12120,\n",
              " 11999,\n",
              " 11999,\n",
              " 11999,\n",
              " 11999,\n",
              " 11999,\n",
              " 11999,\n",
              " 11999,\n",
              " 11999,\n",
              " 11999,\n",
              " 11999,\n",
              " 11999,\n",
              " 11999,\n",
              " 11999,\n",
              " 11999,\n",
              " 11999,\n",
              " 11999,\n",
              " 11999,\n",
              " 11990,\n",
              " 11990,\n",
              " 11990,\n",
              " 11990,\n",
              " 11990,\n",
              " 11989,\n",
              " 11936,\n",
              " 11879,\n",
              " 11828,\n",
              " 11725,\n",
              " 11700,\n",
              " 11600,\n",
              " 11499,\n",
              " 11499,\n",
              " 11499,\n",
              " 11499,\n",
              " 11499,\n",
              " 11499,\n",
              " 11499,\n",
              " 11499,\n",
              " 11490,\n",
              " 11490,\n",
              " 11490,\n",
              " 11399,\n",
              " 11000,\n",
              " 10999,\n",
              " 10999,\n",
              " 10999,\n",
              " 10999,\n",
              " 10999,\n",
              " 10999,\n",
              " 10999,\n",
              " 10999,\n",
              " 10999,\n",
              " 10990,\n",
              " 10990,\n",
              " 10990,\n",
              " 10949,\n",
              " 10890,\n",
              " 10850,\n",
              " 10850,\n",
              " 10799,\n",
              " 10630,\n",
              " 10499,\n",
              " 10499,\n",
              " 10499,\n",
              " 10499,\n",
              " 10499,\n",
              " 10499,\n",
              " 10499,\n",
              " 10490,\n",
              " 10300,\n",
              " 9999,\n",
              " 9999,\n",
              " 9999,\n",
              " 9999,\n",
              " 9999,\n",
              " 9999,\n",
              " 9999,\n",
              " 9999,\n",
              " 9999,\n",
              " 9999,\n",
              " 9999,\n",
              " 9999,\n",
              " 9999,\n",
              " 9999,\n",
              " 9990,\n",
              " 9990,\n",
              " 9990,\n",
              " 9990,\n",
              " 9990,\n",
              " 9990,\n",
              " 9950,\n",
              " 9690,\n",
              " 9589,\n",
              " 9499,\n",
              " 9499,\n",
              " 9499,\n",
              " 9499,\n",
              " 9499,\n",
              " 9490,\n",
              " 9299,\n",
              " 9299,\n",
              " 9022,\n",
              " 8999,\n",
              " 8999,\n",
              " 8999,\n",
              " 8999,\n",
              " 8999,\n",
              " 8999,\n",
              " 8999,\n",
              " 8999,\n",
              " 8999,\n",
              " 8999,\n",
              " 8999,\n",
              " 8999,\n",
              " 8999,\n",
              " 8999,\n",
              " 8990,\n",
              " 8990,\n",
              " 8990,\n",
              " 8990,\n",
              " 8990,\n",
              " 8968,\n",
              " 8950,\n",
              " 8910,\n",
              " 8890,\n",
              " 8859,\n",
              " 8799,\n",
              " 8720,\n",
              " 8499,\n",
              " 8499,\n",
              " 8499,\n",
              " 8499,\n",
              " 8499,\n",
              " 8399,\n",
              " 8390,\n",
              " 8388,\n",
              " 8299,\n",
              " 8299,\n",
              " 8199,\n",
              " 8099,\n",
              " 7999,\n",
              " 7999,\n",
              " 7999,\n",
              " 7999,\n",
              " 7999,\n",
              " 7999,\n",
              " 7999,\n",
              " 7999,\n",
              " 7999,\n",
              " 7999,\n",
              " 7990,\n",
              " 7790,\n",
              " 7790,\n",
              " 7749,\n",
              " 7499,\n",
              " 7499,\n",
              " 7499,\n",
              " 7499,\n",
              " 7499,\n",
              " 7499,\n",
              " 7499,\n",
              " 7399,\n",
              " 7320,\n",
              " 7299,\n",
              " 7289,\n",
              " 7249,\n",
              " 7145,\n",
              " 6999,\n",
              " 6999,\n",
              " 6999,\n",
              " 6999,\n",
              " 6999,\n",
              " 6999,\n",
              " 6999,\n",
              " 6999,\n",
              " 6999,\n",
              " 6999,\n",
              " 6990,\n",
              " 6899,\n",
              " 6799,\n",
              " 6699,\n",
              " 6499,\n",
              " 6499,\n",
              " 6499,\n",
              " 6499,\n",
              " 6499,\n",
              " 6490,\n",
              " 6490,\n",
              " 6490,\n",
              " 6299,\n",
              " 6299,\n",
              " 6249,\n",
              " 6199,\n",
              " 6190,\n",
              " 6171,\n",
              " 5999,\n",
              " 5999,\n",
              " 5990,\n",
              " 5990,\n",
              " 5890,\n",
              " 5785,\n",
              " 5499,\n",
              " 5490,\n",
              " 5299,\n",
              " 5249,\n",
              " 4999,\n",
              " 4990,\n",
              " 4787,\n",
              " 4649,\n",
              " 4499,\n",
              " 3999,\n",
              " 3990,\n",
              " 3890,\n",
              " 3589,\n",
              " 3499,\n",
              " 3099,\n",
              " 2999,\n",
              " 2799,\n",
              " 1999,\n",
              " 1899,\n",
              " 1799,\n",
              " 1762,\n",
              " 1749,\n",
              " 1599,\n",
              " 1299,\n",
              " 649,\n",
              " 599]"
            ]
          },
          "metadata": {},
          "execution_count": 98
        }
      ]
    },
    {
      "cell_type": "code",
      "source": [
        "df[df['selling_price'].isin([480000,\n",
        " 214990,\n",
        " 199990,\n",
        " 182999,\n",
        " 179900,\n",
        " 172999,\n",
        " 169900,\n",
        " 169000,\n",
        " 163980,\n",
        " 162990,]) ]"
      ],
      "metadata": {
        "colab": {
          "base_uri": "https://localhost:8080/",
          "height": 710
        },
        "id": "9Ui0bZdZWdGO",
        "outputId": "f7c8bbc9-ba0d-4b28-b814-03cae657354e"
      },
      "execution_count": 99,
      "outputs": [
        {
          "output_type": "execute_result",
          "data": {
            "text/plain": [
              "                                        model    brand  selling_price  \\\n",
              "288             Apple iPhone 14 Pro Max (1TB)    Apple         182999   \n",
              "455                       Xiaomi Mi Mix Alpha   Xiaomi         199990   \n",
              "706                          Huawei Mate Xs 2   Huawei         162990   \n",
              "740           Apple iPhone 14 Pro Max (512GB)    Apple         169900   \n",
              "757             Apple iPhone 13 Pro Max (1TB)    Apple         179900   \n",
              "790                 Apple iPhone 14 Pro (1TB)    Apple         172999   \n",
              "890    Xiaomi Redmi K20 Pro Signature Edition   Xiaomi         480000   \n",
              "909  Samsung Galaxy Z Fold 4 (12GB RAM + 1TB)  Samsung         163980   \n",
              "955          Huawei Mate 30 RS Porsche Design   Huawei         214990   \n",
              "958                             Huawei Mate X   Huawei         169000   \n",
              "\n",
              "     sim type  is 5G  cores    RAM     ROM  battery_mAh  is_fast  \\\n",
              "288  Dual Sim      1      6   6 GB    1 TB         4323        1   \n",
              "455  Dual Sim      1      8  12 GB  512 GB         4050        1   \n",
              "706  Dual Sim      0      8   8 GB  512 GB         4600        1   \n",
              "740  Dual Sim      1      6   6 GB  512 GB         4323        1   \n",
              "757  Dual Sim      1      6   6 GB    1 TB         4352        1   \n",
              "790  Dual Sim      1      6   6 GB    1 TB         3200        1   \n",
              "890  Dual Sim      0      8   8 GB  256 GB         4000        1   \n",
              "909  Dual Sim      1      8  12 GB    1 TB         4400        1   \n",
              "955  Dual Sim      1      8  12 GB  512 GB         4500        1   \n",
              "958  Dual Sim      1      8   8 GB  512 GB         4500        1   \n",
              "\n",
              "     display_size  refresh rate       notch rear camera count  \\\n",
              "288          6.70           120  Punch Hole            Triple   \n",
              "455          7.92           120  Punch Hole            Triple   \n",
              "706          7.80           120  Punch Hole            Triple   \n",
              "740          6.70           120  Punch Hole            Triple   \n",
              "757          6.70           120       Small            Triple   \n",
              "790          6.10           120  Punch Hole            Triple   \n",
              "890          6.39           120  Punch Hole            Triple   \n",
              "909          7.60           120  Punch Hole            Triple   \n",
              "955          6.53           120       Large              Quad   \n",
              "958          8.00           120  Punch Hole            Triple   \n",
              "\n",
              "     rear primary cam  front primary cam  \n",
              "288              48.0               12.0  \n",
              "455             108.0                0.0  \n",
              "706               0.0                0.0  \n",
              "740              48.0               12.0  \n",
              "757              12.0               12.0  \n",
              "790              48.0               12.0  \n",
              "890              48.0               20.0  \n",
              "909               0.0                0.0  \n",
              "955              40.0               32.0  \n",
              "958               0.0                0.0  "
            ],
            "text/html": [
              "\n",
              "  <div id=\"df-b5c03bf4-08b8-4508-a4dc-676335844e54\" class=\"colab-df-container\">\n",
              "    <div>\n",
              "<style scoped>\n",
              "    .dataframe tbody tr th:only-of-type {\n",
              "        vertical-align: middle;\n",
              "    }\n",
              "\n",
              "    .dataframe tbody tr th {\n",
              "        vertical-align: top;\n",
              "    }\n",
              "\n",
              "    .dataframe thead th {\n",
              "        text-align: right;\n",
              "    }\n",
              "</style>\n",
              "<table border=\"1\" class=\"dataframe\">\n",
              "  <thead>\n",
              "    <tr style=\"text-align: right;\">\n",
              "      <th></th>\n",
              "      <th>model</th>\n",
              "      <th>brand</th>\n",
              "      <th>selling_price</th>\n",
              "      <th>sim type</th>\n",
              "      <th>is 5G</th>\n",
              "      <th>cores</th>\n",
              "      <th>RAM</th>\n",
              "      <th>ROM</th>\n",
              "      <th>battery_mAh</th>\n",
              "      <th>is_fast</th>\n",
              "      <th>display_size</th>\n",
              "      <th>refresh rate</th>\n",
              "      <th>notch</th>\n",
              "      <th>rear camera count</th>\n",
              "      <th>rear primary cam</th>\n",
              "      <th>front primary cam</th>\n",
              "    </tr>\n",
              "  </thead>\n",
              "  <tbody>\n",
              "    <tr>\n",
              "      <th>288</th>\n",
              "      <td>Apple iPhone 14 Pro Max (1TB)</td>\n",
              "      <td>Apple</td>\n",
              "      <td>182999</td>\n",
              "      <td>Dual Sim</td>\n",
              "      <td>1</td>\n",
              "      <td>6</td>\n",
              "      <td>6 GB</td>\n",
              "      <td>1 TB</td>\n",
              "      <td>4323</td>\n",
              "      <td>1</td>\n",
              "      <td>6.70</td>\n",
              "      <td>120</td>\n",
              "      <td>Punch Hole</td>\n",
              "      <td>Triple</td>\n",
              "      <td>48.0</td>\n",
              "      <td>12.0</td>\n",
              "    </tr>\n",
              "    <tr>\n",
              "      <th>455</th>\n",
              "      <td>Xiaomi Mi Mix Alpha</td>\n",
              "      <td>Xiaomi</td>\n",
              "      <td>199990</td>\n",
              "      <td>Dual Sim</td>\n",
              "      <td>1</td>\n",
              "      <td>8</td>\n",
              "      <td>12 GB</td>\n",
              "      <td>512 GB</td>\n",
              "      <td>4050</td>\n",
              "      <td>1</td>\n",
              "      <td>7.92</td>\n",
              "      <td>120</td>\n",
              "      <td>Punch Hole</td>\n",
              "      <td>Triple</td>\n",
              "      <td>108.0</td>\n",
              "      <td>0.0</td>\n",
              "    </tr>\n",
              "    <tr>\n",
              "      <th>706</th>\n",
              "      <td>Huawei Mate Xs 2</td>\n",
              "      <td>Huawei</td>\n",
              "      <td>162990</td>\n",
              "      <td>Dual Sim</td>\n",
              "      <td>0</td>\n",
              "      <td>8</td>\n",
              "      <td>8 GB</td>\n",
              "      <td>512 GB</td>\n",
              "      <td>4600</td>\n",
              "      <td>1</td>\n",
              "      <td>7.80</td>\n",
              "      <td>120</td>\n",
              "      <td>Punch Hole</td>\n",
              "      <td>Triple</td>\n",
              "      <td>0.0</td>\n",
              "      <td>0.0</td>\n",
              "    </tr>\n",
              "    <tr>\n",
              "      <th>740</th>\n",
              "      <td>Apple iPhone 14 Pro Max (512GB)</td>\n",
              "      <td>Apple</td>\n",
              "      <td>169900</td>\n",
              "      <td>Dual Sim</td>\n",
              "      <td>1</td>\n",
              "      <td>6</td>\n",
              "      <td>6 GB</td>\n",
              "      <td>512 GB</td>\n",
              "      <td>4323</td>\n",
              "      <td>1</td>\n",
              "      <td>6.70</td>\n",
              "      <td>120</td>\n",
              "      <td>Punch Hole</td>\n",
              "      <td>Triple</td>\n",
              "      <td>48.0</td>\n",
              "      <td>12.0</td>\n",
              "    </tr>\n",
              "    <tr>\n",
              "      <th>757</th>\n",
              "      <td>Apple iPhone 13 Pro Max (1TB)</td>\n",
              "      <td>Apple</td>\n",
              "      <td>179900</td>\n",
              "      <td>Dual Sim</td>\n",
              "      <td>1</td>\n",
              "      <td>6</td>\n",
              "      <td>6 GB</td>\n",
              "      <td>1 TB</td>\n",
              "      <td>4352</td>\n",
              "      <td>1</td>\n",
              "      <td>6.70</td>\n",
              "      <td>120</td>\n",
              "      <td>Small</td>\n",
              "      <td>Triple</td>\n",
              "      <td>12.0</td>\n",
              "      <td>12.0</td>\n",
              "    </tr>\n",
              "    <tr>\n",
              "      <th>790</th>\n",
              "      <td>Apple iPhone 14 Pro (1TB)</td>\n",
              "      <td>Apple</td>\n",
              "      <td>172999</td>\n",
              "      <td>Dual Sim</td>\n",
              "      <td>1</td>\n",
              "      <td>6</td>\n",
              "      <td>6 GB</td>\n",
              "      <td>1 TB</td>\n",
              "      <td>3200</td>\n",
              "      <td>1</td>\n",
              "      <td>6.10</td>\n",
              "      <td>120</td>\n",
              "      <td>Punch Hole</td>\n",
              "      <td>Triple</td>\n",
              "      <td>48.0</td>\n",
              "      <td>12.0</td>\n",
              "    </tr>\n",
              "    <tr>\n",
              "      <th>890</th>\n",
              "      <td>Xiaomi Redmi K20 Pro Signature Edition</td>\n",
              "      <td>Xiaomi</td>\n",
              "      <td>480000</td>\n",
              "      <td>Dual Sim</td>\n",
              "      <td>0</td>\n",
              "      <td>8</td>\n",
              "      <td>8 GB</td>\n",
              "      <td>256 GB</td>\n",
              "      <td>4000</td>\n",
              "      <td>1</td>\n",
              "      <td>6.39</td>\n",
              "      <td>120</td>\n",
              "      <td>Punch Hole</td>\n",
              "      <td>Triple</td>\n",
              "      <td>48.0</td>\n",
              "      <td>20.0</td>\n",
              "    </tr>\n",
              "    <tr>\n",
              "      <th>909</th>\n",
              "      <td>Samsung Galaxy Z Fold 4 (12GB RAM + 1TB)</td>\n",
              "      <td>Samsung</td>\n",
              "      <td>163980</td>\n",
              "      <td>Dual Sim</td>\n",
              "      <td>1</td>\n",
              "      <td>8</td>\n",
              "      <td>12 GB</td>\n",
              "      <td>1 TB</td>\n",
              "      <td>4400</td>\n",
              "      <td>1</td>\n",
              "      <td>7.60</td>\n",
              "      <td>120</td>\n",
              "      <td>Punch Hole</td>\n",
              "      <td>Triple</td>\n",
              "      <td>0.0</td>\n",
              "      <td>0.0</td>\n",
              "    </tr>\n",
              "    <tr>\n",
              "      <th>955</th>\n",
              "      <td>Huawei Mate 30 RS Porsche Design</td>\n",
              "      <td>Huawei</td>\n",
              "      <td>214990</td>\n",
              "      <td>Dual Sim</td>\n",
              "      <td>1</td>\n",
              "      <td>8</td>\n",
              "      <td>12 GB</td>\n",
              "      <td>512 GB</td>\n",
              "      <td>4500</td>\n",
              "      <td>1</td>\n",
              "      <td>6.53</td>\n",
              "      <td>120</td>\n",
              "      <td>Large</td>\n",
              "      <td>Quad</td>\n",
              "      <td>40.0</td>\n",
              "      <td>32.0</td>\n",
              "    </tr>\n",
              "    <tr>\n",
              "      <th>958</th>\n",
              "      <td>Huawei Mate X</td>\n",
              "      <td>Huawei</td>\n",
              "      <td>169000</td>\n",
              "      <td>Dual Sim</td>\n",
              "      <td>1</td>\n",
              "      <td>8</td>\n",
              "      <td>8 GB</td>\n",
              "      <td>512 GB</td>\n",
              "      <td>4500</td>\n",
              "      <td>1</td>\n",
              "      <td>8.00</td>\n",
              "      <td>120</td>\n",
              "      <td>Punch Hole</td>\n",
              "      <td>Triple</td>\n",
              "      <td>0.0</td>\n",
              "      <td>0.0</td>\n",
              "    </tr>\n",
              "  </tbody>\n",
              "</table>\n",
              "</div>\n",
              "    <div class=\"colab-df-buttons\">\n",
              "\n",
              "  <div class=\"colab-df-container\">\n",
              "    <button class=\"colab-df-convert\" onclick=\"convertToInteractive('df-b5c03bf4-08b8-4508-a4dc-676335844e54')\"\n",
              "            title=\"Convert this dataframe to an interactive table.\"\n",
              "            style=\"display:none;\">\n",
              "\n",
              "  <svg xmlns=\"http://www.w3.org/2000/svg\" height=\"24px\" viewBox=\"0 -960 960 960\">\n",
              "    <path d=\"M120-120v-720h720v720H120Zm60-500h600v-160H180v160Zm220 220h160v-160H400v160Zm0 220h160v-160H400v160ZM180-400h160v-160H180v160Zm440 0h160v-160H620v160ZM180-180h160v-160H180v160Zm440 0h160v-160H620v160Z\"/>\n",
              "  </svg>\n",
              "    </button>\n",
              "\n",
              "  <style>\n",
              "    .colab-df-container {\n",
              "      display:flex;\n",
              "      gap: 12px;\n",
              "    }\n",
              "\n",
              "    .colab-df-convert {\n",
              "      background-color: #E8F0FE;\n",
              "      border: none;\n",
              "      border-radius: 50%;\n",
              "      cursor: pointer;\n",
              "      display: none;\n",
              "      fill: #1967D2;\n",
              "      height: 32px;\n",
              "      padding: 0 0 0 0;\n",
              "      width: 32px;\n",
              "    }\n",
              "\n",
              "    .colab-df-convert:hover {\n",
              "      background-color: #E2EBFA;\n",
              "      box-shadow: 0px 1px 2px rgba(60, 64, 67, 0.3), 0px 1px 3px 1px rgba(60, 64, 67, 0.15);\n",
              "      fill: #174EA6;\n",
              "    }\n",
              "\n",
              "    .colab-df-buttons div {\n",
              "      margin-bottom: 4px;\n",
              "    }\n",
              "\n",
              "    [theme=dark] .colab-df-convert {\n",
              "      background-color: #3B4455;\n",
              "      fill: #D2E3FC;\n",
              "    }\n",
              "\n",
              "    [theme=dark] .colab-df-convert:hover {\n",
              "      background-color: #434B5C;\n",
              "      box-shadow: 0px 1px 3px 1px rgba(0, 0, 0, 0.15);\n",
              "      filter: drop-shadow(0px 1px 2px rgba(0, 0, 0, 0.3));\n",
              "      fill: #FFFFFF;\n",
              "    }\n",
              "  </style>\n",
              "\n",
              "    <script>\n",
              "      const buttonEl =\n",
              "        document.querySelector('#df-b5c03bf4-08b8-4508-a4dc-676335844e54 button.colab-df-convert');\n",
              "      buttonEl.style.display =\n",
              "        google.colab.kernel.accessAllowed ? 'block' : 'none';\n",
              "\n",
              "      async function convertToInteractive(key) {\n",
              "        const element = document.querySelector('#df-b5c03bf4-08b8-4508-a4dc-676335844e54');\n",
              "        const dataTable =\n",
              "          await google.colab.kernel.invokeFunction('convertToInteractive',\n",
              "                                                    [key], {});\n",
              "        if (!dataTable) return;\n",
              "\n",
              "        const docLinkHtml = 'Like what you see? Visit the ' +\n",
              "          '<a target=\"_blank\" href=https://colab.research.google.com/notebooks/data_table.ipynb>data table notebook</a>'\n",
              "          + ' to learn more about interactive tables.';\n",
              "        element.innerHTML = '';\n",
              "        dataTable['output_type'] = 'display_data';\n",
              "        await google.colab.output.renderOutput(dataTable, element);\n",
              "        const docLink = document.createElement('div');\n",
              "        docLink.innerHTML = docLinkHtml;\n",
              "        element.appendChild(docLink);\n",
              "      }\n",
              "    </script>\n",
              "  </div>\n",
              "\n",
              "\n",
              "<div id=\"df-79ac2c4f-8141-42dc-ada4-8067b2feeb54\">\n",
              "  <button class=\"colab-df-quickchart\" onclick=\"quickchart('df-79ac2c4f-8141-42dc-ada4-8067b2feeb54')\"\n",
              "            title=\"Suggest charts\"\n",
              "            style=\"display:none;\">\n",
              "\n",
              "<svg xmlns=\"http://www.w3.org/2000/svg\" height=\"24px\"viewBox=\"0 0 24 24\"\n",
              "     width=\"24px\">\n",
              "    <g>\n",
              "        <path d=\"M19 3H5c-1.1 0-2 .9-2 2v14c0 1.1.9 2 2 2h14c1.1 0 2-.9 2-2V5c0-1.1-.9-2-2-2zM9 17H7v-7h2v7zm4 0h-2V7h2v10zm4 0h-2v-4h2v4z\"/>\n",
              "    </g>\n",
              "</svg>\n",
              "  </button>\n",
              "\n",
              "<style>\n",
              "  .colab-df-quickchart {\n",
              "      --bg-color: #E8F0FE;\n",
              "      --fill-color: #1967D2;\n",
              "      --hover-bg-color: #E2EBFA;\n",
              "      --hover-fill-color: #174EA6;\n",
              "      --disabled-fill-color: #AAA;\n",
              "      --disabled-bg-color: #DDD;\n",
              "  }\n",
              "\n",
              "  [theme=dark] .colab-df-quickchart {\n",
              "      --bg-color: #3B4455;\n",
              "      --fill-color: #D2E3FC;\n",
              "      --hover-bg-color: #434B5C;\n",
              "      --hover-fill-color: #FFFFFF;\n",
              "      --disabled-bg-color: #3B4455;\n",
              "      --disabled-fill-color: #666;\n",
              "  }\n",
              "\n",
              "  .colab-df-quickchart {\n",
              "    background-color: var(--bg-color);\n",
              "    border: none;\n",
              "    border-radius: 50%;\n",
              "    cursor: pointer;\n",
              "    display: none;\n",
              "    fill: var(--fill-color);\n",
              "    height: 32px;\n",
              "    padding: 0;\n",
              "    width: 32px;\n",
              "  }\n",
              "\n",
              "  .colab-df-quickchart:hover {\n",
              "    background-color: var(--hover-bg-color);\n",
              "    box-shadow: 0 1px 2px rgba(60, 64, 67, 0.3), 0 1px 3px 1px rgba(60, 64, 67, 0.15);\n",
              "    fill: var(--button-hover-fill-color);\n",
              "  }\n",
              "\n",
              "  .colab-df-quickchart-complete:disabled,\n",
              "  .colab-df-quickchart-complete:disabled:hover {\n",
              "    background-color: var(--disabled-bg-color);\n",
              "    fill: var(--disabled-fill-color);\n",
              "    box-shadow: none;\n",
              "  }\n",
              "\n",
              "  .colab-df-spinner {\n",
              "    border: 2px solid var(--fill-color);\n",
              "    border-color: transparent;\n",
              "    border-bottom-color: var(--fill-color);\n",
              "    animation:\n",
              "      spin 1s steps(1) infinite;\n",
              "  }\n",
              "\n",
              "  @keyframes spin {\n",
              "    0% {\n",
              "      border-color: transparent;\n",
              "      border-bottom-color: var(--fill-color);\n",
              "      border-left-color: var(--fill-color);\n",
              "    }\n",
              "    20% {\n",
              "      border-color: transparent;\n",
              "      border-left-color: var(--fill-color);\n",
              "      border-top-color: var(--fill-color);\n",
              "    }\n",
              "    30% {\n",
              "      border-color: transparent;\n",
              "      border-left-color: var(--fill-color);\n",
              "      border-top-color: var(--fill-color);\n",
              "      border-right-color: var(--fill-color);\n",
              "    }\n",
              "    40% {\n",
              "      border-color: transparent;\n",
              "      border-right-color: var(--fill-color);\n",
              "      border-top-color: var(--fill-color);\n",
              "    }\n",
              "    60% {\n",
              "      border-color: transparent;\n",
              "      border-right-color: var(--fill-color);\n",
              "    }\n",
              "    80% {\n",
              "      border-color: transparent;\n",
              "      border-right-color: var(--fill-color);\n",
              "      border-bottom-color: var(--fill-color);\n",
              "    }\n",
              "    90% {\n",
              "      border-color: transparent;\n",
              "      border-bottom-color: var(--fill-color);\n",
              "    }\n",
              "  }\n",
              "</style>\n",
              "\n",
              "  <script>\n",
              "    async function quickchart(key) {\n",
              "      const quickchartButtonEl =\n",
              "        document.querySelector('#' + key + ' button');\n",
              "      quickchartButtonEl.disabled = true;  // To prevent multiple clicks.\n",
              "      quickchartButtonEl.classList.add('colab-df-spinner');\n",
              "      try {\n",
              "        const charts = await google.colab.kernel.invokeFunction(\n",
              "            'suggestCharts', [key], {});\n",
              "      } catch (error) {\n",
              "        console.error('Error during call to suggestCharts:', error);\n",
              "      }\n",
              "      quickchartButtonEl.classList.remove('colab-df-spinner');\n",
              "      quickchartButtonEl.classList.add('colab-df-quickchart-complete');\n",
              "    }\n",
              "    (() => {\n",
              "      let quickchartButtonEl =\n",
              "        document.querySelector('#df-79ac2c4f-8141-42dc-ada4-8067b2feeb54 button');\n",
              "      quickchartButtonEl.style.display =\n",
              "        google.colab.kernel.accessAllowed ? 'block' : 'none';\n",
              "    })();\n",
              "  </script>\n",
              "</div>\n",
              "\n",
              "    </div>\n",
              "  </div>\n"
            ],
            "application/vnd.google.colaboratory.intrinsic+json": {
              "type": "dataframe",
              "summary": "{\n  \"name\": \" 162990,]) ]\",\n  \"rows\": 10,\n  \"fields\": [\n    {\n      \"column\": \"model\",\n      \"properties\": {\n        \"dtype\": \"string\",\n        \"num_unique_values\": 10,\n        \"samples\": [\n          \"Huawei Mate 30 RS Porsche Design\",\n          \"Xiaomi Mi Mix Alpha\",\n          \"Apple iPhone 14 Pro (1TB)\"\n        ],\n        \"semantic_type\": \"\",\n        \"description\": \"\"\n      }\n    },\n    {\n      \"column\": \"brand\",\n      \"properties\": {\n        \"dtype\": \"category\",\n        \"num_unique_values\": 4,\n        \"samples\": [\n          \"Xiaomi\",\n          \"Samsung\",\n          \"Apple\"\n        ],\n        \"semantic_type\": \"\",\n        \"description\": \"\"\n      }\n    },\n    {\n      \"column\": \"selling_price\",\n      \"properties\": {\n        \"dtype\": \"number\",\n        \"std\": 96404,\n        \"min\": 162990,\n        \"max\": 480000,\n        \"num_unique_values\": 10,\n        \"samples\": [\n          214990,\n          199990,\n          172999\n        ],\n        \"semantic_type\": \"\",\n        \"description\": \"\"\n      }\n    },\n    {\n      \"column\": \"sim type\",\n      \"properties\": {\n        \"dtype\": \"category\",\n        \"num_unique_values\": 1,\n        \"samples\": [\n          \"Dual Sim\"\n        ],\n        \"semantic_type\": \"\",\n        \"description\": \"\"\n      }\n    },\n    {\n      \"column\": \"is 5G\",\n      \"properties\": {\n        \"dtype\": \"number\",\n        \"std\": 0,\n        \"min\": 0,\n        \"max\": 1,\n        \"num_unique_values\": 2,\n        \"samples\": [\n          0\n        ],\n        \"semantic_type\": \"\",\n        \"description\": \"\"\n      }\n    },\n    {\n      \"column\": \"cores\",\n      \"properties\": {\n        \"dtype\": \"number\",\n        \"std\": 1,\n        \"min\": 6,\n        \"max\": 8,\n        \"num_unique_values\": 2,\n        \"samples\": [\n          8\n        ],\n        \"semantic_type\": \"\",\n        \"description\": \"\"\n      }\n    },\n    {\n      \"column\": \"RAM\",\n      \"properties\": {\n        \"dtype\": \"category\",\n        \"num_unique_values\": 3,\n        \"samples\": [\n          \"6\\u2009GB\"\n        ],\n        \"semantic_type\": \"\",\n        \"description\": \"\"\n      }\n    },\n    {\n      \"column\": \"ROM\",\n      \"properties\": {\n        \"dtype\": \"category\",\n        \"num_unique_values\": 3,\n        \"samples\": [\n          \"1\\u2009TB\"\n        ],\n        \"semantic_type\": \"\",\n        \"description\": \"\"\n      }\n    },\n    {\n      \"column\": \"battery_mAh\",\n      \"properties\": {\n        \"dtype\": \"number\",\n        \"std\": 406,\n        \"min\": 3200,\n        \"max\": 4600,\n        \"num_unique_values\": 8,\n        \"samples\": [\n          4050\n        ],\n        \"semantic_type\": \"\",\n        \"description\": \"\"\n      }\n    },\n    {\n      \"column\": \"is_fast\",\n      \"properties\": {\n        \"dtype\": \"number\",\n        \"std\": 0,\n        \"min\": 1,\n        \"max\": 1,\n        \"num_unique_values\": 1,\n        \"samples\": [\n          1\n        ],\n        \"semantic_type\": \"\",\n        \"description\": \"\"\n      }\n    },\n    {\n      \"column\": \"display_size\",\n      \"properties\": {\n        \"dtype\": \"number\",\n        \"std\": 0.707109923876369,\n        \"min\": 6.1,\n        \"max\": 8.0,\n        \"num_unique_values\": 8,\n        \"samples\": [\n          7.92\n        ],\n        \"semantic_type\": \"\",\n        \"description\": \"\"\n      }\n    },\n    {\n      \"column\": \"refresh rate\",\n      \"properties\": {\n        \"dtype\": \"number\",\n        \"std\": 0,\n        \"min\": 120,\n        \"max\": 120,\n        \"num_unique_values\": 1,\n        \"samples\": [\n          120\n        ],\n        \"semantic_type\": \"\",\n        \"description\": \"\"\n      }\n    },\n    {\n      \"column\": \"notch\",\n      \"properties\": {\n        \"dtype\": \"category\",\n        \"num_unique_values\": 3,\n        \"samples\": [\n          \"Punch Hole\"\n        ],\n        \"semantic_type\": \"\",\n        \"description\": \"\"\n      }\n    },\n    {\n      \"column\": \"rear camera count\",\n      \"properties\": {\n        \"dtype\": \"category\",\n        \"num_unique_values\": 2,\n        \"samples\": [\n          \"Quad\"\n        ],\n        \"semantic_type\": \"\",\n        \"description\": \"\"\n      }\n    },\n    {\n      \"column\": \"rear primary cam\",\n      \"properties\": {\n        \"dtype\": \"number\",\n        \"std\": 33.72041913539431,\n        \"min\": 0.0,\n        \"max\": 108.0,\n        \"num_unique_values\": 5,\n        \"samples\": [\n          108.0\n        ],\n        \"semantic_type\": \"\",\n        \"description\": \"\"\n      }\n    },\n    {\n      \"column\": \"front primary cam\",\n      \"properties\": {\n        \"dtype\": \"number\",\n        \"std\": 10.540925533894598,\n        \"min\": 0.0,\n        \"max\": 32.0,\n        \"num_unique_values\": 4,\n        \"samples\": [\n          0.0\n        ],\n        \"semantic_type\": \"\",\n        \"description\": \"\"\n      }\n    }\n  ]\n}"
            }
          },
          "metadata": {},
          "execution_count": 99
        }
      ]
    },
    {
      "cell_type": "code",
      "source": [
        "df['selling_price'].iloc[890] = 31999"
      ],
      "metadata": {
        "colab": {
          "base_uri": "https://localhost:8080/"
        },
        "id": "BA5KQ5x2XgRq",
        "outputId": "989f88ab-76b2-4c8b-d92e-518dd7184a5f"
      },
      "execution_count": 100,
      "outputs": [
        {
          "output_type": "stream",
          "name": "stderr",
          "text": [
            "<ipython-input-100-0561d3c08079>:1: SettingWithCopyWarning: \n",
            "A value is trying to be set on a copy of a slice from a DataFrame\n",
            "\n",
            "See the caveats in the documentation: https://pandas.pydata.org/pandas-docs/stable/user_guide/indexing.html#returning-a-view-versus-a-copy\n",
            "  df['selling_price'].iloc[890] = 31999\n"
          ]
        }
      ]
    },
    {
      "cell_type": "code",
      "source": [
        "df['selling_price'].describe()"
      ],
      "metadata": {
        "colab": {
          "base_uri": "https://localhost:8080/"
        },
        "id": "MuAj0wPNYJJI",
        "outputId": "c094e7eb-f146-4075-fc7a-a6e5812d55cf"
      },
      "execution_count": 101,
      "outputs": [
        {
          "output_type": "execute_result",
          "data": {
            "text/plain": [
              "count       984.000000\n",
              "mean      30322.497967\n",
              "std       29981.792931\n",
              "min         599.000000\n",
              "25%       12977.750000\n",
              "50%       19990.000000\n",
              "75%       34990.000000\n",
              "max      214990.000000\n",
              "Name: selling_price, dtype: float64"
            ]
          },
          "metadata": {},
          "execution_count": 101
        }
      ]
    },
    {
      "cell_type": "code",
      "source": [
        "sns.kdeplot(df['selling_price'])"
      ],
      "metadata": {
        "colab": {
          "base_uri": "https://localhost:8080/",
          "height": 482
        },
        "id": "OTXG3HD4YPqI",
        "outputId": "6a0058b5-0fbb-4eea-deef-ada589c781e7"
      },
      "execution_count": 102,
      "outputs": [
        {
          "output_type": "execute_result",
          "data": {
            "text/plain": [
              "<Axes: xlabel='selling_price', ylabel='Density'>"
            ]
          },
          "metadata": {},
          "execution_count": 102
        },
        {
          "output_type": "display_data",
          "data": {
            "text/plain": [
              "<Figure size 640x480 with 1 Axes>"
            ],
            "image/png": "[encoded data removed]"
          },
          "metadata": {}
        }
      ]
    },
    {
      "cell_type": "code",
      "source": [
        "df['selling_price'].plot(kind = 'hist')"
      ],
      "metadata": {
        "colab": {
          "base_uri": "https://localhost:8080/",
          "height": 447
        },
        "id": "swCFaRHRYlHv",
        "outputId": "4b36e47f-e254-4409-fe62-a308edb7418e"
      },
      "execution_count": 103,
      "outputs": [
        {
          "output_type": "execute_result",
          "data": {
            "text/plain": [
              "<Axes: ylabel='Frequency'>"
            ]
          },
          "metadata": {},
          "execution_count": 103
        },
        {
          "output_type": "display_data",
          "data": {
            "text/plain": [
              "<Figure size 640x480 with 1 Axes>"
            ],
            "image/png": "[encoded data removed]"
          },
          "metadata": {}
        }
      ]
    },
    {
      "cell_type": "markdown",
      "source": [
        "co relation between **brand** and **selling price**"
      ],
      "metadata": {
        "id": "vdllp0ZzZgBH"
      }
    },
    {
      "cell_type": "code",
      "source": [
        "plt.figure(figsize=(12,6))\n",
        "plt.bar(df['brand'],df['selling_price'] ,log=True)\n",
        "plt.xticks(rotation = 'vertical')"
      ],
      "metadata": {
        "colab": {
          "base_uri": "https://localhost:8080/",
          "height": 1000
        },
        "id": "oz7Tj05JY6AG",
        "outputId": "df82b5d3-7fb1-4831-80f2-343ca8bb98f7"
      },
      "execution_count": 104,
      "outputs": [
        {
          "output_type": "execute_result",
          "data": {
            "text/plain": [
              "([0,\n",
              "  1,\n",
              "  2,\n",
              "  3,\n",
              "  4,\n",
              "  5,\n",
              "  6,\n",
              "  7,\n",
              "  8,\n",
              "  9,\n",
              "  10,\n",
              "  11,\n",
              "  12,\n",
              "  13,\n",
              "  14,\n",
              "  15,\n",
              "  16,\n",
              "  17,\n",
              "  18,\n",
              "  19,\n",
              "  20,\n",
              "  21,\n",
              "  22,\n",
              "  23,\n",
              "  24,\n",
              "  25,\n",
              "  26,\n",
              "  27,\n",
              "  28,\n",
              "  29,\n",
              "  30,\n",
              "  31,\n",
              "  32,\n",
              "  33,\n",
              "  34,\n",
              "  35,\n",
              "  36,\n",
              "  37,\n",
              "  38,\n",
              "  39,\n",
              "  40,\n",
              "  41,\n",
              "  42,\n",
              "  43,\n",
              "  44,\n",
              "  45,\n",
              "  46,\n",
              "  47,\n",
              "  48,\n",
              "  49,\n",
              "  50,\n",
              "  51],\n",
              " [Text(0, 0, 'OnePlus'),\n",
              "  Text(1, 0, 'Samsung'),\n",
              "  Text(2, 0, 'Motorola'),\n",
              "  Text(3, 0, 'Realme'),\n",
              "  Text(4, 0, 'Apple'),\n",
              "  Text(5, 0, 'Xiaomi'),\n",
              "  Text(6, 0, 'Nothing'),\n",
              "  Text(7, 0, 'Oppo'),\n",
              "  Text(8, 0, 'Vivo'),\n",
              "  Text(9, 0, 'OPPO'),\n",
              "  Text(10, 0, 'Poco'),\n",
              "  Text(11, 0, 'iQOO'),\n",
              "  Text(12, 0, 'Jio'),\n",
              "  Text(13, 0, 'Gionee'),\n",
              "  Text(14, 0, 'Tecno'),\n",
              "  Text(15, 0, 'Tesla'),\n",
              "  Text(16, 0, 'Google'),\n",
              "  Text(17, 0, 'Infinix'),\n",
              "  Text(18, 0, 'Nokia'),\n",
              "  Text(19, 0, 'Cola'),\n",
              "  Text(20, 0, 'Letv'),\n",
              "  Text(21, 0, 'POCO'),\n",
              "  Text(22, 0, 'iKall'),\n",
              "  Text(23, 0, 'LeEco'),\n",
              "  Text(24, 0, 'Duoqin'),\n",
              "  Text(25, 0, 'Lava'),\n",
              "  Text(26, 0, 'Honor'),\n",
              "  Text(27, 0, 'Nubia'),\n",
              "  Text(28, 0, 'Redmi'),\n",
              "  Text(29, 0, 'Asus'),\n",
              "  Text(30, 0, 'itel'),\n",
              "  Text(31, 0, 'Royole'),\n",
              "  Text(32, 0, 'Sony'),\n",
              "  Text(33, 0, 'Oukitel'),\n",
              "  Text(34, 0, 'Vertu'),\n",
              "  Text(35, 0, 'BLU'),\n",
              "  Text(36, 0, 'Lyf'),\n",
              "  Text(37, 0, 'Itel'),\n",
              "  Text(38, 0, 'Huawei'),\n",
              "  Text(39, 0, 'ZTE'),\n",
              "  Text(40, 0, 'Lenovo'),\n",
              "  Text(41, 0, 'LG'),\n",
              "  Text(42, 0, 'Micromax'),\n",
              "  Text(43, 0, 'Leitz'),\n",
              "  Text(44, 0, 'Eunity'),\n",
              "  Text(45, 0, 'CAT'),\n",
              "  Text(46, 0, 'DIZO'),\n",
              "  Text(47, 0, 'BlackZone'),\n",
              "  Text(48, 0, 'Doogee'),\n",
              "  Text(49, 0, 'TCL'),\n",
              "  Text(50, 0, 'Sharp'),\n",
              "  Text(51, 0, 'Blackview')])"
            ]
          },
          "metadata": {},
          "execution_count": 104
        },
        {
          "output_type": "display_data",
          "data": {
            "text/plain": [
              "<Figure size 1200x600 with 1 Axes>"
            ],
            "image/png": "[encoded data removed]"
          },
          "metadata": {}
        }
      ]
    },
    {
      "cell_type": "code",
      "source": [
        "df['brand'].nunique()"
      ],
      "metadata": {
        "colab": {
          "base_uri": "https://localhost:8080/"
        },
        "id": "I53xVEE6aR3r",
        "outputId": "8419a4a5-931e-42ba-e006-1d377fbf46e8"
      },
      "execution_count": 105,
      "outputs": [
        {
          "output_type": "execute_result",
          "data": {
            "text/plain": [
              "52"
            ]
          },
          "metadata": {},
          "execution_count": 105
        }
      ]
    },
    {
      "cell_type": "code",
      "source": [
        "df['sim type'].value_counts()"
      ],
      "metadata": {
        "colab": {
          "base_uri": "https://localhost:8080/"
        },
        "id": "M5L2kmTPeWhO",
        "outputId": "f36213b0-0e72-43b1-809d-0c3da93bfb5c"
      },
      "execution_count": 106,
      "outputs": [
        {
          "output_type": "execute_result",
          "data": {
            "text/plain": [
              "sim type\n",
              "Dual Sim      967\n",
              "Single Sim     17\n",
              "Name: count, dtype: int64"
            ]
          },
          "metadata": {},
          "execution_count": 106
        }
      ]
    },
    {
      "cell_type": "code",
      "source": [
        "df['sim type'].value_counts().plot(kind = 'pie' , autopct = '%0.1f%%')"
      ],
      "metadata": {
        "colab": {
          "base_uri": "https://localhost:8080/",
          "height": 423
        },
        "id": "Lah-RsyZm0va",
        "outputId": "b21b294b-5f7b-413a-9898-948abdbaf918"
      },
      "execution_count": 107,
      "outputs": [
        {
          "output_type": "execute_result",
          "data": {
            "text/plain": [
              "<Axes: ylabel='count'>"
            ]
          },
          "metadata": {},
          "execution_count": 107
        },
        {
          "output_type": "display_data",
          "data": {
            "text/plain": [
              "<Figure size 640x480 with 1 Axes>"
            ],
            "image/png": "[encoded data removed]"
          },
          "metadata": {}
        }
      ]
    },
    {
      "cell_type": "code",
      "source": [
        "plt.figure(figsize=(12,6))\n",
        "plt.bar(df['sim type'],df['selling_price'] )\n",
        "plt.xticks(rotation = 'vertical')"
      ],
      "metadata": {
        "colab": {
          "base_uri": "https://localhost:8080/",
          "height": 598
        },
        "id": "17fvLid2etWt",
        "outputId": "fea9bcdc-6802-43ef-afb7-31696eceaf37"
      },
      "execution_count": 108,
      "outputs": [
        {
          "output_type": "execute_result",
          "data": {
            "text/plain": [
              "([0, 1], [Text(0, 0, 'Dual Sim'), Text(1, 0, 'Single Sim')])"
            ]
          },
          "metadata": {},
          "execution_count": 108
        },
        {
          "output_type": "display_data",
          "data": {
            "text/plain": [
              "<Figure size 1200x600 with 1 Axes>"
            ],
            "image/png": "[encoded data removed]"
          },
          "metadata": {}
        }
      ]
    },
    {
      "cell_type": "code",
      "source": [
        "df['is 5G'].value_counts().plot(kind = 'pie' , autopct = '%0.2f%%')"
      ],
      "metadata": {
        "id": "dpILudBVe5Kt",
        "colab": {
          "base_uri": "https://localhost:8080/",
          "height": 423
        },
        "outputId": "557c6f03-3ddd-48f7-cb3e-0e46050dbcfd"
      },
      "execution_count": 109,
      "outputs": [
        {
          "output_type": "execute_result",
          "data": {
            "text/plain": [
              "<Axes: ylabel='count'>"
            ]
          },
          "metadata": {},
          "execution_count": 109
        },
        {
          "output_type": "display_data",
          "data": {
            "text/plain": [
              "<Figure size 640x480 with 1 Axes>"
            ],
            "image/png": "[encoded data removed]"
          },
          "metadata": {}
        }
      ]
    },
    {
      "cell_type": "code",
      "source": [
        "plt.figure(figsize=(12,6))\n",
        "plt.bar(df['is 5G'],df['selling_price'] )"
      ],
      "metadata": {
        "colab": {
          "base_uri": "https://localhost:8080/",
          "height": 539
        },
        "id": "6gxwAQVppQ5M",
        "outputId": "b7b9a4a7-0feb-4433-b653-bb8f08ba42a8"
      },
      "execution_count": 110,
      "outputs": [
        {
          "output_type": "execute_result",
          "data": {
            "text/plain": [
              "<BarContainer object of 984 artists>"
            ]
          },
          "metadata": {},
          "execution_count": 110
        },
        {
          "output_type": "display_data",
          "data": {
            "text/plain": [
              "<Figure size 1200x600 with 1 Axes>"
            ],
            "image/png": "[encoded data removed]"
          },
          "metadata": {}
        }
      ]
    },
    {
      "cell_type": "code",
      "source": [
        "plt.figure(figsize=(12,6))\n",
        "plt.bar(df['sim type'],df['selling_price'] )"
      ],
      "metadata": {
        "colab": {
          "base_uri": "https://localhost:8080/",
          "height": 539
        },
        "id": "T2fLa5A7l4Qp",
        "outputId": "261b6194-b7ba-41e8-b116-3a53874243c7"
      },
      "execution_count": 111,
      "outputs": [
        {
          "output_type": "execute_result",
          "data": {
            "text/plain": [
              "<BarContainer object of 984 artists>"
            ]
          },
          "metadata": {},
          "execution_count": 111
        },
        {
          "output_type": "display_data",
          "data": {
            "text/plain": [
              "<Figure size 1200x600 with 1 Axes>"
            ],
            "image/png": "[encoded data removed]"
          },
          "metadata": {}
        }
      ]
    },
    {
      "cell_type": "code",
      "source": [
        "df['cores'].value_counts().plot(kind='pie' , autopct='%0.2f%%')"
      ],
      "metadata": {
        "colab": {
          "base_uri": "https://localhost:8080/",
          "height": 423
        },
        "id": "vhB7ZSkAmkuf",
        "outputId": "841fce1a-301b-41c5-f02e-3415dc4da8b5"
      },
      "execution_count": 112,
      "outputs": [
        {
          "output_type": "execute_result",
          "data": {
            "text/plain": [
              "<Axes: ylabel='count'>"
            ]
          },
          "metadata": {},
          "execution_count": 112
        },
        {
          "output_type": "display_data",
          "data": {
            "text/plain": [
              "<Figure size 640x480 with 1 Axes>"
            ],
            "image/png": "[encoded data removed]"
          },
          "metadata": {}
        }
      ]
    },
    {
      "cell_type": "code",
      "source": [
        "plt.figure(figsize=(12,6))\n",
        "plt.bar(df['cores'],df['selling_price'] )"
      ],
      "metadata": {
        "colab": {
          "base_uri": "https://localhost:8080/",
          "height": 539
        },
        "id": "gsFY8VtwpnuW",
        "outputId": "0022e054-9df0-4b78-ce60-3ccbbb406f64"
      },
      "execution_count": 113,
      "outputs": [
        {
          "output_type": "execute_result",
          "data": {
            "text/plain": [
              "<BarContainer object of 984 artists>"
            ]
          },
          "metadata": {},
          "execution_count": 113
        },
        {
          "output_type": "display_data",
          "data": {
            "text/plain": [
              "<Figure size 1200x600 with 1 Axes>"
            ],
            "image/png": "[encoded data removed]"
          },
          "metadata": {}
        }
      ]
    },
    {
      "cell_type": "code",
      "source": [
        "df['RAM'].value_counts().plot(kind='pie' , autopct = '%0.2f%%')"
      ],
      "metadata": {
        "colab": {
          "base_uri": "https://localhost:8080/",
          "height": 423
        },
        "id": "HBRd8f59oNLD",
        "outputId": "a1e37279-e81e-4aa0-f9dd-676e963869dd"
      },
      "execution_count": 114,
      "outputs": [
        {
          "output_type": "execute_result",
          "data": {
            "text/plain": [
              "<Axes: ylabel='count'>"
            ]
          },
          "metadata": {},
          "execution_count": 114
        },
        {
          "output_type": "display_data",
          "data": {
            "text/plain": [
              "<Figure size 640x480 with 1 Axes>"
            ],
            "image/png": "[encoded data removed]"
          },
          "metadata": {}
        }
      ]
    },
    {
      "cell_type": "code",
      "source": [
        "plt.figure(figsize=(12,6))\n",
        "plt.bar(df['RAM'],df['selling_price']  , log = True)"
      ],
      "metadata": {
        "colab": {
          "base_uri": "https://localhost:8080/",
          "height": 539
        },
        "id": "9xbQoWYEokZ6",
        "outputId": "f75d90c1-8c2d-4e3e-86ee-b12975e6a6d4"
      },
      "execution_count": 115,
      "outputs": [
        {
          "output_type": "execute_result",
          "data": {
            "text/plain": [
              "<BarContainer object of 984 artists>"
            ]
          },
          "metadata": {},
          "execution_count": 115
        },
        {
          "output_type": "display_data",
          "data": {
            "text/plain": [
              "<Figure size 1200x600 with 1 Axes>"
            ],
            "image/png": "[encoded data removed]"
          },
          "metadata": {}
        }
      ]
    },
    {
      "cell_type": "code",
      "source": [
        "df['ROM'].value_counts().plot(kind = 'pie' , autopct = '%0.2f%%')"
      ],
      "metadata": {
        "colab": {
          "base_uri": "https://localhost:8080/",
          "height": 423
        },
        "id": "ssJLj6gHp1iZ",
        "outputId": "cecae269-5636-4578-88ee-7063bec80bc5"
      },
      "execution_count": 116,
      "outputs": [
        {
          "output_type": "execute_result",
          "data": {
            "text/plain": [
              "<Axes: ylabel='count'>"
            ]
          },
          "metadata": {},
          "execution_count": 116
        },
        {
          "output_type": "display_data",
          "data": {
            "text/plain": [
              "<Figure size 640x480 with 1 Axes>"
            ],
            "image/png": "[encoded data removed]"
          },
          "metadata": {}
        }
      ]
    },
    {
      "cell_type": "code",
      "source": [
        "plt.figure(figsize=(12,6))\n",
        "plt.bar(df['ROM'],df['selling_price'] )"
      ],
      "metadata": {
        "colab": {
          "base_uri": "https://localhost:8080/",
          "height": 539
        },
        "id": "4RzD35TfqW6O",
        "outputId": "20756065-3642-4099-eee7-92226729d7fb"
      },
      "execution_count": 117,
      "outputs": [
        {
          "output_type": "execute_result",
          "data": {
            "text/plain": [
              "<BarContainer object of 984 artists>"
            ]
          },
          "metadata": {},
          "execution_count": 117
        },
        {
          "output_type": "display_data",
          "data": {
            "text/plain": [
              "<Figure size 1200x600 with 1 Axes>"
            ],
            "image/png": "[encoded data removed]"
          },
          "metadata": {}
        }
      ]
    },
    {
      "cell_type": "code",
      "source": [
        "df.columns"
      ],
      "metadata": {
        "colab": {
          "base_uri": "https://localhost:8080/"
        },
        "id": "YF3OWWtHqoz9",
        "outputId": "9a226acd-ecab-4142-f93b-e5bbc064cd2b"
      },
      "execution_count": 118,
      "outputs": [
        {
          "output_type": "execute_result",
          "data": {
            "text/plain": [
              "Index(['model', 'brand', 'selling_price', 'sim type', 'is 5G', 'cores', 'RAM',\n",
              "       'ROM', 'battery_mAh', 'is_fast', 'display_size', 'refresh rate',\n",
              "       'notch', 'rear camera count', 'rear primary cam', 'front primary cam'],\n",
              "      dtype='object')"
            ]
          },
          "metadata": {},
          "execution_count": 118
        }
      ]
    },
    {
      "cell_type": "code",
      "source": [
        "df['battery_mAh'].value_counts().plot(kind = 'pie' , autopct = '%0.2f%%')"
      ],
      "metadata": {
        "colab": {
          "base_uri": "https://localhost:8080/",
          "height": 423
        },
        "id": "JQAszStFq2YM",
        "outputId": "5baf792a-74cb-4b68-b0ba-39f88f1bcc54"
      },
      "execution_count": 119,
      "outputs": [
        {
          "output_type": "execute_result",
          "data": {
            "text/plain": [
              "<Axes: ylabel='count'>"
            ]
          },
          "metadata": {},
          "execution_count": 119
        },
        {
          "output_type": "display_data",
          "data": {
            "text/plain": [
              "<Figure size 640x480 with 1 Axes>"
            ],
            "image/png": "[encoded data removed]"
          },
          "metadata": {}
        }
      ]
    },
    {
      "cell_type": "code",
      "source": [
        "df['battery_mAh'].describe()"
      ],
      "metadata": {
        "colab": {
          "base_uri": "https://localhost:8080/"
        },
        "id": "w2_rkDoLsPj1",
        "outputId": "fb6e23b8-df59-4ca6-f51c-fc92691c28b8"
      },
      "execution_count": 120,
      "outputs": [
        {
          "output_type": "execute_result",
          "data": {
            "text/plain": [
              "count      984.000000\n",
              "mean      4763.869919\n",
              "std       1088.418959\n",
              "min        800.000000\n",
              "25%       4500.000000\n",
              "50%       5000.000000\n",
              "75%       5000.000000\n",
              "max      22000.000000\n",
              "Name: battery_mAh, dtype: float64"
            ]
          },
          "metadata": {},
          "execution_count": 120
        }
      ]
    },
    {
      "cell_type": "code",
      "source": [
        "df[df['battery_mAh'] == 22000]"
      ],
      "metadata": {
        "colab": {
          "base_uri": "https://localhost:8080/",
          "height": 133
        },
        "id": "qaadQuKysYyC",
        "outputId": "1af2a71b-e974-498e-9075-f75c9cf4595d"
      },
      "execution_count": 121,
      "outputs": [
        {
          "output_type": "execute_result",
          "data": {
            "text/plain": [
              "            model   brand  selling_price  sim type  is 5G  cores    RAM  \\\n",
              "847  Doogee V Max  Doogee          45999  Dual Sim      1      8  12 GB   \n",
              "\n",
              "        ROM  battery_mAh  is_fast  display_size  refresh rate       notch  \\\n",
              "847  256 GB        22000        1          6.58           120  Water Drop   \n",
              "\n",
              "    rear camera count  rear primary cam  front primary cam  \n",
              "847            Triple             108.0               32.0  "
            ],
            "text/html": [
              "\n",
              "  <div id=\"df-91d8bd21-a050-4319-b21f-5f0d9094dbe3\" class=\"colab-df-container\">\n",
              "    <div>\n",
              "<style scoped>\n",
              "    .dataframe tbody tr th:only-of-type {\n",
              "        vertical-align: middle;\n",
              "    }\n",
              "\n",
              "    .dataframe tbody tr th {\n",
              "        vertical-align: top;\n",
              "    }\n",
              "\n",
              "    .dataframe thead th {\n",
              "        text-align: right;\n",
              "    }\n",
              "</style>\n",
              "<table border=\"1\" class=\"dataframe\">\n",
              "  <thead>\n",
              "    <tr style=\"text-align: right;\">\n",
              "      <th></th>\n",
              "      <th>model</th>\n",
              "      <th>brand</th>\n",
              "      <th>selling_price</th>\n",
              "      <th>sim type</th>\n",
              "      <th>is 5G</th>\n",
              "      <th>cores</th>\n",
              "      <th>RAM</th>\n",
              "      <th>ROM</th>\n",
              "      <th>battery_mAh</th>\n",
              "      <th>is_fast</th>\n",
              "      <th>display_size</th>\n",
              "      <th>refresh rate</th>\n",
              "      <th>notch</th>\n",
              "      <th>rear camera count</th>\n",
              "      <th>rear primary cam</th>\n",
              "      <th>front primary cam</th>\n",
              "    </tr>\n",
              "  </thead>\n",
              "  <tbody>\n",
              "    <tr>\n",
              "      <th>847</th>\n",
              "      <td>Doogee V Max</td>\n",
              "      <td>Doogee</td>\n",
              "      <td>45999</td>\n",
              "      <td>Dual Sim</td>\n",
              "      <td>1</td>\n",
              "      <td>8</td>\n",
              "      <td>12 GB</td>\n",
              "      <td>256 GB</td>\n",
              "      <td>22000</td>\n",
              "      <td>1</td>\n",
              "      <td>6.58</td>\n",
              "      <td>120</td>\n",
              "      <td>Water Drop</td>\n",
              "      <td>Triple</td>\n",
              "      <td>108.0</td>\n",
              "      <td>32.0</td>\n",
              "    </tr>\n",
              "  </tbody>\n",
              "</table>\n",
              "</div>\n",
              "    <div class=\"colab-df-buttons\">\n",
              "\n",
              "  <div class=\"colab-df-container\">\n",
              "    <button class=\"colab-df-convert\" onclick=\"convertToInteractive('df-91d8bd21-a050-4319-b21f-5f0d9094dbe3')\"\n",
              "            title=\"Convert this dataframe to an interactive table.\"\n",
              "            style=\"display:none;\">\n",
              "\n",
              "  <svg xmlns=\"http://www.w3.org/2000/svg\" height=\"24px\" viewBox=\"0 -960 960 960\">\n",
              "    <path d=\"M120-120v-720h720v720H120Zm60-500h600v-160H180v160Zm220 220h160v-160H400v160Zm0 220h160v-160H400v160ZM180-400h160v-160H180v160Zm440 0h160v-160H620v160ZM180-180h160v-160H180v160Zm440 0h160v-160H620v160Z\"/>\n",
              "  </svg>\n",
              "    </button>\n",
              "\n",
              "  <style>\n",
              "    .colab-df-container {\n",
              "      display:flex;\n",
              "      gap: 12px;\n",
              "    }\n",
              "\n",
              "    .colab-df-convert {\n",
              "      background-color: #E8F0FE;\n",
              "      border: none;\n",
              "      border-radius: 50%;\n",
              "      cursor: pointer;\n",
              "      display: none;\n",
              "      fill: #1967D2;\n",
              "      height: 32px;\n",
              "      padding: 0 0 0 0;\n",
              "      width: 32px;\n",
              "    }\n",
              "\n",
              "    .colab-df-convert:hover {\n",
              "      background-color: #E2EBFA;\n",
              "      box-shadow: 0px 1px 2px rgba(60, 64, 67, 0.3), 0px 1px 3px 1px rgba(60, 64, 67, 0.15);\n",
              "      fill: #174EA6;\n",
              "    }\n",
              "\n",
              "    .colab-df-buttons div {\n",
              "      margin-bottom: 4px;\n",
              "    }\n",
              "\n",
              "    [theme=dark] .colab-df-convert {\n",
              "      background-color: #3B4455;\n",
              "      fill: #D2E3FC;\n",
              "    }\n",
              "\n",
              "    [theme=dark] .colab-df-convert:hover {\n",
              "      background-color: #434B5C;\n",
              "      box-shadow: 0px 1px 3px 1px rgba(0, 0, 0, 0.15);\n",
              "      filter: drop-shadow(0px 1px 2px rgba(0, 0, 0, 0.3));\n",
              "      fill: #FFFFFF;\n",
              "    }\n",
              "  </style>\n",
              "\n",
              "    <script>\n",
              "      const buttonEl =\n",
              "        document.querySelector('#df-91d8bd21-a050-4319-b21f-5f0d9094dbe3 button.colab-df-convert');\n",
              "      buttonEl.style.display =\n",
              "        google.colab.kernel.accessAllowed ? 'block' : 'none';\n",
              "\n",
              "      async function convertToInteractive(key) {\n",
              "        const element = document.querySelector('#df-91d8bd21-a050-4319-b21f-5f0d9094dbe3');\n",
              "        const dataTable =\n",
              "          await google.colab.kernel.invokeFunction('convertToInteractive',\n",
              "                                                    [key], {});\n",
              "        if (!dataTable) return;\n",
              "\n",
              "        const docLinkHtml = 'Like what you see? Visit the ' +\n",
              "          '<a target=\"_blank\" href=https://colab.research.google.com/notebooks/data_table.ipynb>data table notebook</a>'\n",
              "          + ' to learn more about interactive tables.';\n",
              "        element.innerHTML = '';\n",
              "        dataTable['output_type'] = 'display_data';\n",
              "        await google.colab.output.renderOutput(dataTable, element);\n",
              "        const docLink = document.createElement('div');\n",
              "        docLink.innerHTML = docLinkHtml;\n",
              "        element.appendChild(docLink);\n",
              "      }\n",
              "    </script>\n",
              "  </div>\n",
              "\n",
              "\n",
              "    </div>\n",
              "  </div>\n"
            ],
            "application/vnd.google.colaboratory.intrinsic+json": {
              "type": "dataframe",
              "summary": "{\n  \"name\": \"df[df['battery_mAh'] == 22000]\",\n  \"rows\": 1,\n  \"fields\": [\n    {\n      \"column\": \"model\",\n      \"properties\": {\n        \"dtype\": \"string\",\n        \"num_unique_values\": 1,\n        \"samples\": [\n          \"Doogee V Max\"\n        ],\n        \"semantic_type\": \"\",\n        \"description\": \"\"\n      }\n    },\n    {\n      \"column\": \"brand\",\n      \"properties\": {\n        \"dtype\": \"string\",\n        \"num_unique_values\": 1,\n        \"samples\": [\n          \"Doogee\"\n        ],\n        \"semantic_type\": \"\",\n        \"description\": \"\"\n      }\n    },\n    {\n      \"column\": \"selling_price\",\n      \"properties\": {\n        \"dtype\": \"number\",\n        \"std\": null,\n        \"min\": 45999,\n        \"max\": 45999,\n        \"num_unique_values\": 1,\n        \"samples\": [\n          45999\n        ],\n        \"semantic_type\": \"\",\n        \"description\": \"\"\n      }\n    },\n    {\n      \"column\": \"sim type\",\n      \"properties\": {\n        \"dtype\": \"string\",\n        \"num_unique_values\": 1,\n        \"samples\": [\n          \"Dual Sim\"\n        ],\n        \"semantic_type\": \"\",\n        \"description\": \"\"\n      }\n    },\n    {\n      \"column\": \"is 5G\",\n      \"properties\": {\n        \"dtype\": \"number\",\n        \"std\": null,\n        \"min\": 1,\n        \"max\": 1,\n        \"num_unique_values\": 1,\n        \"samples\": [\n          1\n        ],\n        \"semantic_type\": \"\",\n        \"description\": \"\"\n      }\n    },\n    {\n      \"column\": \"cores\",\n      \"properties\": {\n        \"dtype\": \"number\",\n        \"std\": null,\n        \"min\": 8,\n        \"max\": 8,\n        \"num_unique_values\": 1,\n        \"samples\": [\n          8\n        ],\n        \"semantic_type\": \"\",\n        \"description\": \"\"\n      }\n    },\n    {\n      \"column\": \"RAM\",\n      \"properties\": {\n        \"dtype\": \"string\",\n        \"num_unique_values\": 1,\n        \"samples\": [\n          \"12\\u2009GB\"\n        ],\n        \"semantic_type\": \"\",\n        \"description\": \"\"\n      }\n    },\n    {\n      \"column\": \"ROM\",\n      \"properties\": {\n        \"dtype\": \"string\",\n        \"num_unique_values\": 1,\n        \"samples\": [\n          \"256\\u2009GB\"\n        ],\n        \"semantic_type\": \"\",\n        \"description\": \"\"\n      }\n    },\n    {\n      \"column\": \"battery_mAh\",\n      \"properties\": {\n        \"dtype\": \"number\",\n        \"std\": null,\n        \"min\": 22000,\n        \"max\": 22000,\n        \"num_unique_values\": 1,\n        \"samples\": [\n          22000\n        ],\n        \"semantic_type\": \"\",\n        \"description\": \"\"\n      }\n    },\n    {\n      \"column\": \"is_fast\",\n      \"properties\": {\n        \"dtype\": \"number\",\n        \"std\": null,\n        \"min\": 1,\n        \"max\": 1,\n        \"num_unique_values\": 1,\n        \"samples\": [\n          1\n        ],\n        \"semantic_type\": \"\",\n        \"description\": \"\"\n      }\n    },\n    {\n      \"column\": \"display_size\",\n      \"properties\": {\n        \"dtype\": \"number\",\n        \"std\": null,\n        \"min\": 6.58,\n        \"max\": 6.58,\n        \"num_unique_values\": 1,\n        \"samples\": [\n          6.58\n        ],\n        \"semantic_type\": \"\",\n        \"description\": \"\"\n      }\n    },\n    {\n      \"column\": \"refresh rate\",\n      \"properties\": {\n        \"dtype\": \"number\",\n        \"std\": null,\n        \"min\": 120,\n        \"max\": 120,\n        \"num_unique_values\": 1,\n        \"samples\": [\n          120\n        ],\n        \"semantic_type\": \"\",\n        \"description\": \"\"\n      }\n    },\n    {\n      \"column\": \"notch\",\n      \"properties\": {\n        \"dtype\": \"string\",\n        \"num_unique_values\": 1,\n        \"samples\": [\n          \"Water Drop\"\n        ],\n        \"semantic_type\": \"\",\n        \"description\": \"\"\n      }\n    },\n    {\n      \"column\": \"rear camera count\",\n      \"properties\": {\n        \"dtype\": \"string\",\n        \"num_unique_values\": 1,\n        \"samples\": [\n          \"Triple\"\n        ],\n        \"semantic_type\": \"\",\n        \"description\": \"\"\n      }\n    },\n    {\n      \"column\": \"rear primary cam\",\n      \"properties\": {\n        \"dtype\": \"number\",\n        \"std\": null,\n        \"min\": 108.0,\n        \"max\": 108.0,\n        \"num_unique_values\": 1,\n        \"samples\": [\n          108.0\n        ],\n        \"semantic_type\": \"\",\n        \"description\": \"\"\n      }\n    },\n    {\n      \"column\": \"front primary cam\",\n      \"properties\": {\n        \"dtype\": \"number\",\n        \"std\": null,\n        \"min\": 32.0,\n        \"max\": 32.0,\n        \"num_unique_values\": 1,\n        \"samples\": [\n          32.0\n        ],\n        \"semantic_type\": \"\",\n        \"description\": \"\"\n      }\n    }\n  ]\n}"
            }
          },
          "metadata": {},
          "execution_count": 121
        }
      ]
    },
    {
      "cell_type": "code",
      "source": [
        "plt.figure(figsize=(12,6))\n",
        "plt.bar(df['battery_mAh'],df['selling_price'] , log = True)"
      ],
      "metadata": {
        "colab": {
          "base_uri": "https://localhost:8080/",
          "height": 539
        },
        "id": "CGVeqCwZq878",
        "outputId": "0570c73e-eed6-4981-a418-7ff9f8752c37"
      },
      "execution_count": 122,
      "outputs": [
        {
          "output_type": "execute_result",
          "data": {
            "text/plain": [
              "<BarContainer object of 984 artists>"
            ]
          },
          "metadata": {},
          "execution_count": 122
        },
        {
          "output_type": "display_data",
          "data": {
            "text/plain": [
              "<Figure size 1200x600 with 1 Axes>"
            ],
            "image/png": "[encoded data removed]"
          },
          "metadata": {}
        }
      ]
    },
    {
      "cell_type": "code",
      "source": [
        "df['is_fast'].value_counts().plot(kind = 'pie' , autopct = '%0.2f%%')"
      ],
      "metadata": {
        "colab": {
          "base_uri": "https://localhost:8080/",
          "height": 423
        },
        "id": "eoiyxgHhtOXO",
        "outputId": "8cd8ee97-cfb6-4a23-fd24-0d212800cfd9"
      },
      "execution_count": 123,
      "outputs": [
        {
          "output_type": "execute_result",
          "data": {
            "text/plain": [
              "<Axes: ylabel='count'>"
            ]
          },
          "metadata": {},
          "execution_count": 123
        },
        {
          "output_type": "display_data",
          "data": {
            "text/plain": [
              "<Figure size 640x480 with 1 Axes>"
            ],
            "image/png": "[encoded data removed]"
          },
          "metadata": {}
        }
      ]
    },
    {
      "cell_type": "code",
      "source": [
        "plt.figure(figsize=(12,6))\n",
        "plt.bar(df['is_fast'],df['selling_price'] )"
      ],
      "metadata": {
        "colab": {
          "base_uri": "https://localhost:8080/",
          "height": 539
        },
        "id": "oKydw0l0ttc9",
        "outputId": "1ce09480-5ded-44f9-bef0-9e1bdc9e0f0a"
      },
      "execution_count": 124,
      "outputs": [
        {
          "output_type": "execute_result",
          "data": {
            "text/plain": [
              "<BarContainer object of 984 artists>"
            ]
          },
          "metadata": {},
          "execution_count": 124
        },
        {
          "output_type": "display_data",
          "data": {
            "text/plain": [
              "<Figure size 1200x600 with 1 Axes>"
            ],
            "image/png": "[encoded data removed]"
          },
          "metadata": {}
        }
      ]
    },
    {
      "cell_type": "code",
      "source": [
        "df['display_size'].value_counts().plot(kind='pie' , autopct='%0.2F%%')"
      ],
      "metadata": {
        "id": "eHbIJekkuJtn",
        "colab": {
          "base_uri": "https://localhost:8080/",
          "height": 423
        },
        "outputId": "a33ad5c1-7fa7-4e91-a0bb-892cdddb239d"
      },
      "execution_count": 125,
      "outputs": [
        {
          "output_type": "execute_result",
          "data": {
            "text/plain": [
              "<Axes: ylabel='count'>"
            ]
          },
          "metadata": {},
          "execution_count": 125
        },
        {
          "output_type": "display_data",
          "data": {
            "text/plain": [
              "<Figure size 640x480 with 1 Axes>"
            ],
            "image/png": "[encoded data removed]"
          },
          "metadata": {}
        }
      ]
    },
    {
      "cell_type": "code",
      "source": [
        "plt.figure(figsize=(12,6))\n",
        "plt.bar(df['display_size'],df['selling_price'] )"
      ],
      "metadata": {
        "colab": {
          "base_uri": "https://localhost:8080/",
          "height": 539
        },
        "id": "-aaGNZH-eorh",
        "outputId": "678bfbe0-9043-4871-8778-1e3ce4aa4c66"
      },
      "execution_count": 126,
      "outputs": [
        {
          "output_type": "execute_result",
          "data": {
            "text/plain": [
              "<BarContainer object of 984 artists>"
            ]
          },
          "metadata": {},
          "execution_count": 126
        },
        {
          "output_type": "display_data",
          "data": {
            "text/plain": [
              "<Figure size 1200x600 with 1 Axes>"
            ],
            "image/png": "[encoded data removed]"
          },
          "metadata": {}
        }
      ]
    },
    {
      "cell_type": "code",
      "source": [
        "df['refresh rate'].value_counts().plot(kind='pie' , autopct='%.2f%%')"
      ],
      "metadata": {
        "colab": {
          "base_uri": "https://localhost:8080/",
          "height": 423
        },
        "id": "4t3t14sOfn4T",
        "outputId": "0dd10951-f12e-4347-f026-48759a79af79"
      },
      "execution_count": 127,
      "outputs": [
        {
          "output_type": "execute_result",
          "data": {
            "text/plain": [
              "<Axes: ylabel='count'>"
            ]
          },
          "metadata": {},
          "execution_count": 127
        },
        {
          "output_type": "display_data",
          "data": {
            "text/plain": [
              "<Figure size 640x480 with 1 Axes>"
            ],
            "image/png": "[encoded data removed]"
          },
          "metadata": {}
        }
      ]
    },
    {
      "cell_type": "code",
      "source": [
        "plt.figure(figsize=(12,6))\n",
        "plt.bar(df['refresh rate'],df['selling_price'] )"
      ],
      "metadata": {
        "colab": {
          "base_uri": "https://localhost:8080/",
          "height": 539
        },
        "id": "prXQ4LbKgCXE",
        "outputId": "958fefff-c2f7-42f1-99a0-a5de8c008d86"
      },
      "execution_count": 128,
      "outputs": [
        {
          "output_type": "execute_result",
          "data": {
            "text/plain": [
              "<BarContainer object of 984 artists>"
            ]
          },
          "metadata": {},
          "execution_count": 128
        },
        {
          "output_type": "display_data",
          "data": {
            "text/plain": [
              "<Figure size 1200x600 with 1 Axes>"
            ],
            "image/png": "[encoded data removed]"
          },
          "metadata": {}
        }
      ]
    },
    {
      "cell_type": "code",
      "source": [
        "from sklearn.preprocessing import LabelEncoder"
      ],
      "metadata": {
        "id": "ITJ44-fvge1O"
      },
      "execution_count": 129,
      "outputs": []
    },
    {
      "cell_type": "code",
      "source": [
        "df.head(1)"
      ],
      "metadata": {
        "colab": {
          "base_uri": "https://localhost:8080/",
          "height": 133
        },
        "id": "moyecz4Bhw1b",
        "outputId": "91dd3127-14aa-445c-c0e4-bf9018d48dfc"
      },
      "execution_count": 130,
      "outputs": [
        {
          "output_type": "execute_result",
          "data": {
            "text/plain": [
              "           model    brand  selling_price  sim type  is 5G  cores    RAM  \\\n",
              "0  OnePlus 11 5G  OnePlus          54999  Dual Sim      1      8  12 GB   \n",
              "\n",
              "      ROM  battery_mAh  is_fast  display_size  refresh rate       notch  \\\n",
              "0  256 GB         5000        1           6.7           120  Punch Hole   \n",
              "\n",
              "  rear camera count  rear primary cam  front primary cam  \n",
              "0            Triple              50.0               16.0  "
            ],
            "text/html": [
              "\n",
              "  <div id=\"df-32e0f25e-8487-42a5-aedc-af390df4b2e7\" class=\"colab-df-container\">\n",
              "    <div>\n",
              "<style scoped>\n",
              "    .dataframe tbody tr th:only-of-type {\n",
              "        vertical-align: middle;\n",
              "    }\n",
              "\n",
              "    .dataframe tbody tr th {\n",
              "        vertical-align: top;\n",
              "    }\n",
              "\n",
              "    .dataframe thead th {\n",
              "        text-align: right;\n",
              "    }\n",
              "</style>\n",
              "<table border=\"1\" class=\"dataframe\">\n",
              "  <thead>\n",
              "    <tr style=\"text-align: right;\">\n",
              "      <th></th>\n",
              "      <th>model</th>\n",
              "      <th>brand</th>\n",
              "      <th>selling_price</th>\n",
              "      <th>sim type</th>\n",
              "      <th>is 5G</th>\n",
              "      <th>cores</th>\n",
              "      <th>RAM</th>\n",
              "      <th>ROM</th>\n",
              "      <th>battery_mAh</th>\n",
              "      <th>is_fast</th>\n",
              "      <th>display_size</th>\n",
              "      <th>refresh rate</th>\n",
              "      <th>notch</th>\n",
              "      <th>rear camera count</th>\n",
              "      <th>rear primary cam</th>\n",
              "      <th>front primary cam</th>\n",
              "    </tr>\n",
              "  </thead>\n",
              "  <tbody>\n",
              "    <tr>\n",
              "      <th>0</th>\n",
              "      <td>OnePlus 11 5G</td>\n",
              "      <td>OnePlus</td>\n",
              "      <td>54999</td>\n",
              "      <td>Dual Sim</td>\n",
              "      <td>1</td>\n",
              "      <td>8</td>\n",
              "      <td>12 GB</td>\n",
              "      <td>256 GB</td>\n",
              "      <td>5000</td>\n",
              "      <td>1</td>\n",
              "      <td>6.7</td>\n",
              "      <td>120</td>\n",
              "      <td>Punch Hole</td>\n",
              "      <td>Triple</td>\n",
              "      <td>50.0</td>\n",
              "      <td>16.0</td>\n",
              "    </tr>\n",
              "  </tbody>\n",
              "</table>\n",
              "</div>\n",
              "    <div class=\"colab-df-buttons\">\n",
              "\n",
              "  <div class=\"colab-df-container\">\n",
              "    <button class=\"colab-df-convert\" onclick=\"convertToInteractive('df-32e0f25e-8487-42a5-aedc-af390df4b2e7')\"\n",
              "            title=\"Convert this dataframe to an interactive table.\"\n",
              "            style=\"display:none;\">\n",
              "\n",
              "  <svg xmlns=\"http://www.w3.org/2000/svg\" height=\"24px\" viewBox=\"0 -960 960 960\">\n",
              "    <path d=\"M120-120v-720h720v720H120Zm60-500h600v-160H180v160Zm220 220h160v-160H400v160Zm0 220h160v-160H400v160ZM180-400h160v-160H180v160Zm440 0h160v-160H620v160ZM180-180h160v-160H180v160Zm440 0h160v-160H620v160Z\"/>\n",
              "  </svg>\n",
              "    </button>\n",
              "\n",
              "  <style>\n",
              "    .colab-df-container {\n",
              "      display:flex;\n",
              "      gap: 12px;\n",
              "    }\n",
              "\n",
              "    .colab-df-convert {\n",
              "      background-color: #E8F0FE;\n",
              "      border: none;\n",
              "      border-radius: 50%;\n",
              "      cursor: pointer;\n",
              "      display: none;\n",
              "      fill: #1967D2;\n",
              "      height: 32px;\n",
              "      padding: 0 0 0 0;\n",
              "      width: 32px;\n",
              "    }\n",
              "\n",
              "    .colab-df-convert:hover {\n",
              "      background-color: #E2EBFA;\n",
              "      box-shadow: 0px 1px 2px rgba(60, 64, 67, 0.3), 0px 1px 3px 1px rgba(60, 64, 67, 0.15);\n",
              "      fill: #174EA6;\n",
              "    }\n",
              "\n",
              "    .colab-df-buttons div {\n",
              "      margin-bottom: 4px;\n",
              "    }\n",
              "\n",
              "    [theme=dark] .colab-df-convert {\n",
              "      background-color: #3B4455;\n",
              "      fill: #D2E3FC;\n",
              "    }\n",
              "\n",
              "    [theme=dark] .colab-df-convert:hover {\n",
              "      background-color: #434B5C;\n",
              "      box-shadow: 0px 1px 3px 1px rgba(0, 0, 0, 0.15);\n",
              "      filter: drop-shadow(0px 1px 2px rgba(0, 0, 0, 0.3));\n",
              "      fill: #FFFFFF;\n",
              "    }\n",
              "  </style>\n",
              "\n",
              "    <script>\n",
              "      const buttonEl =\n",
              "        document.querySelector('#df-32e0f25e-8487-42a5-aedc-af390df4b2e7 button.colab-df-convert');\n",
              "      buttonEl.style.display =\n",
              "        google.colab.kernel.accessAllowed ? 'block' : 'none';\n",
              "\n",
              "      async function convertToInteractive(key) {\n",
              "        const element = document.querySelector('#df-32e0f25e-8487-42a5-aedc-af390df4b2e7');\n",
              "        const dataTable =\n",
              "          await google.colab.kernel.invokeFunction('convertToInteractive',\n",
              "                                                    [key], {});\n",
              "        if (!dataTable) return;\n",
              "\n",
              "        const docLinkHtml = 'Like what you see? Visit the ' +\n",
              "          '<a target=\"_blank\" href=https://colab.research.google.com/notebooks/data_table.ipynb>data table notebook</a>'\n",
              "          + ' to learn more about interactive tables.';\n",
              "        element.innerHTML = '';\n",
              "        dataTable['output_type'] = 'display_data';\n",
              "        await google.colab.output.renderOutput(dataTable, element);\n",
              "        const docLink = document.createElement('div');\n",
              "        docLink.innerHTML = docLinkHtml;\n",
              "        element.appendChild(docLink);\n",
              "      }\n",
              "    </script>\n",
              "  </div>\n",
              "\n",
              "\n",
              "    </div>\n",
              "  </div>\n"
            ],
            "application/vnd.google.colaboratory.intrinsic+json": {
              "type": "dataframe",
              "variable_name": "df",
              "summary": "{\n  \"name\": \"df\",\n  \"rows\": 984,\n  \"fields\": [\n    {\n      \"column\": \"model\",\n      \"properties\": {\n        \"dtype\": \"string\",\n        \"num_unique_values\": 984,\n        \"samples\": [\n          \"Vivo V21 5G\",\n          \"iQOO 9 SE 5G (12GB RAM + 256GB)\",\n          \"Realme XT\"\n        ],\n        \"semantic_type\": \"\",\n        \"description\": \"\"\n      }\n    },\n    {\n      \"column\": \"brand\",\n      \"properties\": {\n        \"dtype\": \"category\",\n        \"num_unique_values\": 52,\n        \"samples\": [\n          \"Cola\",\n          \"LG\",\n          \"BlackZone\"\n        ],\n        \"semantic_type\": \"\",\n        \"description\": \"\"\n      }\n    },\n    {\n      \"column\": \"selling_price\",\n      \"properties\": {\n        \"dtype\": \"number\",\n        \"std\": 29981,\n        \"min\": 599,\n        \"max\": 214990,\n        \"num_unique_values\": 389,\n        \"samples\": [\n          1299,\n          74999,\n          6299\n        ],\n        \"semantic_type\": \"\",\n        \"description\": \"\"\n      }\n    },\n    {\n      \"column\": \"sim type\",\n      \"properties\": {\n        \"dtype\": \"category\",\n        \"num_unique_values\": 2,\n        \"samples\": [\n          \"Single Sim\",\n          \"Dual Sim\"\n        ],\n        \"semantic_type\": \"\",\n        \"description\": \"\"\n      }\n    },\n    {\n      \"column\": \"is 5G\",\n      \"properties\": {\n        \"dtype\": \"number\",\n        \"std\": 0,\n        \"min\": 0,\n        \"max\": 1,\n        \"num_unique_values\": 2,\n        \"samples\": [\n          0,\n          1\n        ],\n        \"semantic_type\": \"\",\n        \"description\": \"\"\n      }\n    },\n    {\n      \"column\": \"cores\",\n      \"properties\": {\n        \"dtype\": \"number\",\n        \"std\": 1,\n        \"min\": 1,\n        \"max\": 8,\n        \"num_unique_values\": 5,\n        \"samples\": [\n          6,\n          2\n        ],\n        \"semantic_type\": \"\",\n        \"description\": \"\"\n      }\n    },\n    {\n      \"column\": \"RAM\",\n      \"properties\": {\n        \"dtype\": \"category\",\n        \"num_unique_values\": 17,\n        \"samples\": [\n          \"12\\u2009GB\",\n          \"6\\u2009GB\"\n        ],\n        \"semantic_type\": \"\",\n        \"description\": \"\"\n      }\n    },\n    {\n      \"column\": \"ROM\",\n      \"properties\": {\n        \"dtype\": \"category\",\n        \"num_unique_values\": 15,\n        \"samples\": [\n          \"48\\u2009MB\",\n          \"4\\u2009MB\"\n        ],\n        \"semantic_type\": \"\",\n        \"description\": \"\"\n      }\n    },\n    {\n      \"column\": \"battery_mAh\",\n      \"properties\": {\n        \"dtype\": \"number\",\n        \"std\": 1088,\n        \"min\": 800,\n        \"max\": 22000,\n        \"num_unique_values\": 96,\n        \"samples\": [\n          4360,\n          1480\n        ],\n        \"semantic_type\": \"\",\n        \"description\": \"\"\n      }\n    },\n    {\n      \"column\": \"is_fast\",\n      \"properties\": {\n        \"dtype\": \"number\",\n        \"std\": 0,\n        \"min\": 0,\n        \"max\": 1,\n        \"num_unique_values\": 2,\n        \"samples\": [\n          0,\n          1\n        ],\n        \"semantic_type\": \"\",\n        \"description\": \"\"\n      }\n    },\n    {\n      \"column\": \"display_size\",\n      \"properties\": {\n        \"dtype\": \"number\",\n        \"std\": 0.6263717981773901,\n        \"min\": 1.77,\n        \"max\": 8.03,\n        \"num_unique_values\": 84,\n        \"samples\": [\n          6.22,\n          6.7\n        ],\n        \"semantic_type\": \"\",\n        \"description\": \"\"\n      }\n    },\n    {\n      \"column\": \"refresh rate\",\n      \"properties\": {\n        \"dtype\": \"number\",\n        \"std\": 15,\n        \"min\": 90,\n        \"max\": 240,\n        \"num_unique_values\": 5,\n        \"samples\": [\n          90,\n          240\n        ],\n        \"semantic_type\": \"\",\n        \"description\": \"\"\n      }\n    },\n    {\n      \"column\": \"notch\",\n      \"properties\": {\n        \"dtype\": \"category\",\n        \"num_unique_values\": 5,\n        \"samples\": [\n          \"Water Drop\",\n          \"Dual Punch Hole\"\n        ],\n        \"semantic_type\": \"\",\n        \"description\": \"\"\n      }\n    },\n    {\n      \"column\": \"rear camera count\",\n      \"properties\": {\n        \"dtype\": \"category\",\n        \"num_unique_values\": 4,\n        \"samples\": [\n          \"Dual\",\n          \"Single\"\n        ],\n        \"semantic_type\": \"\",\n        \"description\": \"\"\n      }\n    },\n    {\n      \"column\": \"rear primary cam\",\n      \"properties\": {\n        \"dtype\": \"number\",\n        \"std\": 34.09620469483442,\n        \"min\": 0.0,\n        \"max\": 200.0,\n        \"num_unique_values\": 20,\n        \"samples\": [\n          50.0,\n          47.2\n        ],\n        \"semantic_type\": \"\",\n        \"description\": \"\"\n      }\n    },\n    {\n      \"column\": \"front primary cam\",\n      \"properties\": {\n        \"dtype\": \"number\",\n        \"std\": 11.228757478011353,\n        \"min\": 0.0,\n        \"max\": 60.0,\n        \"num_unique_values\": 24,\n        \"samples\": [\n          0.0,\n          11.1\n        ],\n        \"semantic_type\": \"\",\n        \"description\": \"\"\n      }\n    }\n  ]\n}"
            }
          },
          "metadata": {},
          "execution_count": 130
        }
      ]
    },
    {
      "cell_type": "code",
      "source": [
        "encoder = LabelEncoder()\n",
        "\n",
        "df['brand'] = encoder.fit_transform(df['brand'])\n",
        "df['sim type'] = encoder.fit_transform(df['sim type'])\n",
        "df['notch'] = encoder.fit_transform(df['notch'])\n",
        "df['rear camera count'] = encoder.fit_transform(df['rear camera count'])"
      ],
      "metadata": {
        "id": "h2SHNdbqhqhw"
      },
      "execution_count": 131,
      "outputs": []
    },
    {
      "cell_type": "code",
      "source": [
        "df.sample(5)"
      ],
      "metadata": {
        "colab": {
          "base_uri": "https://localhost:8080/",
          "height": 345
        },
        "id": "wb__HEnPiaWu",
        "outputId": "853b25ab-cb1d-4edf-d03e-e2bbbe65c18d"
      },
      "execution_count": 132,
      "outputs": [
        {
          "output_type": "execute_result",
          "data": {
            "text/plain": [
              "                                       model  brand  selling_price  sim type  \\\n",
              "303                  Xiaomi Mi 11 Lite NE 5G     47          21890         0   \n",
              "596                          Apple iPhone 7s      0          52990         1   \n",
              "823                        Xiaomi Mi 11X Pro     47          30990         0   \n",
              "587                 Xiaomi Redmi Note 8 2021     47           9990         0   \n",
              "164  Xiaomi Redmi Note 10S (6GB RAM + 128GB)     47          11999         0   \n",
              "\n",
              "     is 5G  cores   RAM     ROM  battery_mAh  is_fast  display_size  \\\n",
              "303      1      8  6 GB  128 GB         4250        1          6.55   \n",
              "596      0      4  3 GB   32 GB         2230        0          4.70   \n",
              "823      1      8  8 GB  128 GB         4520        1          6.67   \n",
              "587      0      8  4 GB   64 GB         4000        1          6.30   \n",
              "164      0      8  6 GB  128 GB         5000        1          6.43   \n",
              "\n",
              "     refresh rate  notch  rear camera count  rear primary cam  \\\n",
              "303            90      2                  3              64.0   \n",
              "596           120      2                  2              13.0   \n",
              "823           120      2                  3             108.0   \n",
              "587           120      4                  1              48.0   \n",
              "164           120      2                  1              64.0   \n",
              "\n",
              "     front primary cam  \n",
              "303               20.0  \n",
              "596                7.0  \n",
              "823               20.0  \n",
              "587               13.0  \n",
              "164               13.0  "
            ],
            "text/html": [
              "\n",
              "  <div id=\"df-b072304b-1e5f-4416-b916-066da6db17c4\" class=\"colab-df-container\">\n",
              "    <div>\n",
              "<style scoped>\n",
              "    .dataframe tbody tr th:only-of-type {\n",
              "        vertical-align: middle;\n",
              "    }\n",
              "\n",
              "    .dataframe tbody tr th {\n",
              "        vertical-align: top;\n",
              "    }\n",
              "\n",
              "    .dataframe thead th {\n",
              "        text-align: right;\n",
              "    }\n",
              "</style>\n",
              "<table border=\"1\" class=\"dataframe\">\n",
              "  <thead>\n",
              "    <tr style=\"text-align: right;\">\n",
              "      <th></th>\n",
              "      <th>model</th>\n",
              "      <th>brand</th>\n",
              "      <th>selling_price</th>\n",
              "      <th>sim type</th>\n",
              "      <th>is 5G</th>\n",
              "      <th>cores</th>\n",
              "      <th>RAM</th>\n",
              "      <th>ROM</th>\n",
              "      <th>battery_mAh</th>\n",
              "      <th>is_fast</th>\n",
              "      <th>display_size</th>\n",
              "      <th>refresh rate</th>\n",
              "      <th>notch</th>\n",
              "      <th>rear camera count</th>\n",
              "      <th>rear primary cam</th>\n",
              "      <th>front primary cam</th>\n",
              "    </tr>\n",
              "  </thead>\n",
              "  <tbody>\n",
              "    <tr>\n",
              "      <th>303</th>\n",
              "      <td>Xiaomi Mi 11 Lite NE 5G</td>\n",
              "      <td>47</td>\n",
              "      <td>21890</td>\n",
              "      <td>0</td>\n",
              "      <td>1</td>\n",
              "      <td>8</td>\n",
              "      <td>6 GB</td>\n",
              "      <td>128 GB</td>\n",
              "      <td>4250</td>\n",
              "      <td>1</td>\n",
              "      <td>6.55</td>\n",
              "      <td>90</td>\n",
              "      <td>2</td>\n",
              "      <td>3</td>\n",
              "      <td>64.0</td>\n",
              "      <td>20.0</td>\n",
              "    </tr>\n",
              "    <tr>\n",
              "      <th>596</th>\n",
              "      <td>Apple iPhone 7s</td>\n",
              "      <td>0</td>\n",
              "      <td>52990</td>\n",
              "      <td>1</td>\n",
              "      <td>0</td>\n",
              "      <td>4</td>\n",
              "      <td>3 GB</td>\n",
              "      <td>32 GB</td>\n",
              "      <td>2230</td>\n",
              "      <td>0</td>\n",
              "      <td>4.70</td>\n",
              "      <td>120</td>\n",
              "      <td>2</td>\n",
              "      <td>2</td>\n",
              "      <td>13.0</td>\n",
              "      <td>7.0</td>\n",
              "    </tr>\n",
              "    <tr>\n",
              "      <th>823</th>\n",
              "      <td>Xiaomi Mi 11X Pro</td>\n",
              "      <td>47</td>\n",
              "      <td>30990</td>\n",
              "      <td>0</td>\n",
              "      <td>1</td>\n",
              "      <td>8</td>\n",
              "      <td>8 GB</td>\n",
              "      <td>128 GB</td>\n",
              "      <td>4520</td>\n",
              "      <td>1</td>\n",
              "      <td>6.67</td>\n",
              "      <td>120</td>\n",
              "      <td>2</td>\n",
              "      <td>3</td>\n",
              "      <td>108.0</td>\n",
              "      <td>20.0</td>\n",
              "    </tr>\n",
              "    <tr>\n",
              "      <th>587</th>\n",
              "      <td>Xiaomi Redmi Note 8 2021</td>\n",
              "      <td>47</td>\n",
              "      <td>9990</td>\n",
              "      <td>0</td>\n",
              "      <td>0</td>\n",
              "      <td>8</td>\n",
              "      <td>4 GB</td>\n",
              "      <td>64 GB</td>\n",
              "      <td>4000</td>\n",
              "      <td>1</td>\n",
              "      <td>6.30</td>\n",
              "      <td>120</td>\n",
              "      <td>4</td>\n",
              "      <td>1</td>\n",
              "      <td>48.0</td>\n",
              "      <td>13.0</td>\n",
              "    </tr>\n",
              "    <tr>\n",
              "      <th>164</th>\n",
              "      <td>Xiaomi Redmi Note 10S (6GB RAM + 128GB)</td>\n",
              "      <td>47</td>\n",
              "      <td>11999</td>\n",
              "      <td>0</td>\n",
              "      <td>0</td>\n",
              "      <td>8</td>\n",
              "      <td>6 GB</td>\n",
              "      <td>128 GB</td>\n",
              "      <td>5000</td>\n",
              "      <td>1</td>\n",
              "      <td>6.43</td>\n",
              "      <td>120</td>\n",
              "      <td>2</td>\n",
              "      <td>1</td>\n",
              "      <td>64.0</td>\n",
              "      <td>13.0</td>\n",
              "    </tr>\n",
              "  </tbody>\n",
              "</table>\n",
              "</div>\n",
              "    <div class=\"colab-df-buttons\">\n",
              "\n",
              "  <div class=\"colab-df-container\">\n",
              "    <button class=\"colab-df-convert\" onclick=\"convertToInteractive('df-b072304b-1e5f-4416-b916-066da6db17c4')\"\n",
              "            title=\"Convert this dataframe to an interactive table.\"\n",
              "            style=\"display:none;\">\n",
              "\n",
              "  <svg xmlns=\"http://www.w3.org/2000/svg\" height=\"24px\" viewBox=\"0 -960 960 960\">\n",
              "    <path d=\"M120-120v-720h720v720H120Zm60-500h600v-160H180v160Zm220 220h160v-160H400v160Zm0 220h160v-160H400v160ZM180-400h160v-160H180v160Zm440 0h160v-160H620v160ZM180-180h160v-160H180v160Zm440 0h160v-160H620v160Z\"/>\n",
              "  </svg>\n",
              "    </button>\n",
              "\n",
              "  <style>\n",
              "    .colab-df-container {\n",
              "      display:flex;\n",
              "      gap: 12px;\n",
              "    }\n",
              "\n",
              "    .colab-df-convert {\n",
              "      background-color: #E8F0FE;\n",
              "      border: none;\n",
              "      border-radius: 50%;\n",
              "      cursor: pointer;\n",
              "      display: none;\n",
              "      fill: #1967D2;\n",
              "      height: 32px;\n",
              "      padding: 0 0 0 0;\n",
              "      width: 32px;\n",
              "    }\n",
              "\n",
              "    .colab-df-convert:hover {\n",
              "      background-color: #E2EBFA;\n",
              "      box-shadow: 0px 1px 2px rgba(60, 64, 67, 0.3), 0px 1px 3px 1px rgba(60, 64, 67, 0.15);\n",
              "      fill: #174EA6;\n",
              "    }\n",
              "\n",
              "    .colab-df-buttons div {\n",
              "      margin-bottom: 4px;\n",
              "    }\n",
              "\n",
              "    [theme=dark] .colab-df-convert {\n",
              "      background-color: #3B4455;\n",
              "      fill: #D2E3FC;\n",
              "    }\n",
              "\n",
              "    [theme=dark] .colab-df-convert:hover {\n",
              "      background-color: #434B5C;\n",
              "      box-shadow: 0px 1px 3px 1px rgba(0, 0, 0, 0.15);\n",
              "      filter: drop-shadow(0px 1px 2px rgba(0, 0, 0, 0.3));\n",
              "      fill: #FFFFFF;\n",
              "    }\n",
              "  </style>\n",
              "\n",
              "    <script>\n",
              "      const buttonEl =\n",
              "        document.querySelector('#df-b072304b-1e5f-4416-b916-066da6db17c4 button.colab-df-convert');\n",
              "      buttonEl.style.display =\n",
              "        google.colab.kernel.accessAllowed ? 'block' : 'none';\n",
              "\n",
              "      async function convertToInteractive(key) {\n",
              "        const element = document.querySelector('#df-b072304b-1e5f-4416-b916-066da6db17c4');\n",
              "        const dataTable =\n",
              "          await google.colab.kernel.invokeFunction('convertToInteractive',\n",
              "                                                    [key], {});\n",
              "        if (!dataTable) return;\n",
              "\n",
              "        const docLinkHtml = 'Like what you see? Visit the ' +\n",
              "          '<a target=\"_blank\" href=https://colab.research.google.com/notebooks/data_table.ipynb>data table notebook</a>'\n",
              "          + ' to learn more about interactive tables.';\n",
              "        element.innerHTML = '';\n",
              "        dataTable['output_type'] = 'display_data';\n",
              "        await google.colab.output.renderOutput(dataTable, element);\n",
              "        const docLink = document.createElement('div');\n",
              "        docLink.innerHTML = docLinkHtml;\n",
              "        element.appendChild(docLink);\n",
              "      }\n",
              "    </script>\n",
              "  </div>\n",
              "\n",
              "\n",
              "<div id=\"df-09ce7b57-00a1-47e0-8675-e0d48fc88663\">\n",
              "  <button class=\"colab-df-quickchart\" onclick=\"quickchart('df-09ce7b57-00a1-47e0-8675-e0d48fc88663')\"\n",
              "            title=\"Suggest charts\"\n",
              "            style=\"display:none;\">\n",
              "\n",
              "<svg xmlns=\"http://www.w3.org/2000/svg\" height=\"24px\"viewBox=\"0 0 24 24\"\n",
              "     width=\"24px\">\n",
              "    <g>\n",
              "        <path d=\"M19 3H5c-1.1 0-2 .9-2 2v14c0 1.1.9 2 2 2h14c1.1 0 2-.9 2-2V5c0-1.1-.9-2-2-2zM9 17H7v-7h2v7zm4 0h-2V7h2v10zm4 0h-2v-4h2v4z\"/>\n",
              "    </g>\n",
              "</svg>\n",
              "  </button>\n",
              "\n",
              "<style>\n",
              "  .colab-df-quickchart {\n",
              "      --bg-color: #E8F0FE;\n",
              "      --fill-color: #1967D2;\n",
              "      --hover-bg-color: #E2EBFA;\n",
              "      --hover-fill-color: #174EA6;\n",
              "      --disabled-fill-color: #AAA;\n",
              "      --disabled-bg-color: #DDD;\n",
              "  }\n",
              "\n",
              "  [theme=dark] .colab-df-quickchart {\n",
              "      --bg-color: #3B4455;\n",
              "      --fill-color: #D2E3FC;\n",
              "      --hover-bg-color: #434B5C;\n",
              "      --hover-fill-color: #FFFFFF;\n",
              "      --disabled-bg-color: #3B4455;\n",
              "      --disabled-fill-color: #666;\n",
              "  }\n",
              "\n",
              "  .colab-df-quickchart {\n",
              "    background-color: var(--bg-color);\n",
              "    border: none;\n",
              "    border-radius: 50%;\n",
              "    cursor: pointer;\n",
              "    display: none;\n",
              "    fill: var(--fill-color);\n",
              "    height: 32px;\n",
              "    padding: 0;\n",
              "    width: 32px;\n",
              "  }\n",
              "\n",
              "  .colab-df-quickchart:hover {\n",
              "    background-color: var(--hover-bg-color);\n",
              "    box-shadow: 0 1px 2px rgba(60, 64, 67, 0.3), 0 1px 3px 1px rgba(60, 64, 67, 0.15);\n",
              "    fill: var(--button-hover-fill-color);\n",
              "  }\n",
              "\n",
              "  .colab-df-quickchart-complete:disabled,\n",
              "  .colab-df-quickchart-complete:disabled:hover {\n",
              "    background-color: var(--disabled-bg-color);\n",
              "    fill: var(--disabled-fill-color);\n",
              "    box-shadow: none;\n",
              "  }\n",
              "\n",
              "  .colab-df-spinner {\n",
              "    border: 2px solid var(--fill-color);\n",
              "    border-color: transparent;\n",
              "    border-bottom-color: var(--fill-color);\n",
              "    animation:\n",
              "      spin 1s steps(1) infinite;\n",
              "  }\n",
              "\n",
              "  @keyframes spin {\n",
              "    0% {\n",
              "      border-color: transparent;\n",
              "      border-bottom-color: var(--fill-color);\n",
              "      border-left-color: var(--fill-color);\n",
              "    }\n",
              "    20% {\n",
              "      border-color: transparent;\n",
              "      border-left-color: var(--fill-color);\n",
              "      border-top-color: var(--fill-color);\n",
              "    }\n",
              "    30% {\n",
              "      border-color: transparent;\n",
              "      border-left-color: var(--fill-color);\n",
              "      border-top-color: var(--fill-color);\n",
              "      border-right-color: var(--fill-color);\n",
              "    }\n",
              "    40% {\n",
              "      border-color: transparent;\n",
              "      border-right-color: var(--fill-color);\n",
              "      border-top-color: var(--fill-color);\n",
              "    }\n",
              "    60% {\n",
              "      border-color: transparent;\n",
              "      border-right-color: var(--fill-color);\n",
              "    }\n",
              "    80% {\n",
              "      border-color: transparent;\n",
              "      border-right-color: var(--fill-color);\n",
              "      border-bottom-color: var(--fill-color);\n",
              "    }\n",
              "    90% {\n",
              "      border-color: transparent;\n",
              "      border-bottom-color: var(--fill-color);\n",
              "    }\n",
              "  }\n",
              "</style>\n",
              "\n",
              "  <script>\n",
              "    async function quickchart(key) {\n",
              "      const quickchartButtonEl =\n",
              "        document.querySelector('#' + key + ' button');\n",
              "      quickchartButtonEl.disabled = true;  // To prevent multiple clicks.\n",
              "      quickchartButtonEl.classList.add('colab-df-spinner');\n",
              "      try {\n",
              "        const charts = await google.colab.kernel.invokeFunction(\n",
              "            'suggestCharts', [key], {});\n",
              "      } catch (error) {\n",
              "        console.error('Error during call to suggestCharts:', error);\n",
              "      }\n",
              "      quickchartButtonEl.classList.remove('colab-df-spinner');\n",
              "      quickchartButtonEl.classList.add('colab-df-quickchart-complete');\n",
              "    }\n",
              "    (() => {\n",
              "      let quickchartButtonEl =\n",
              "        document.querySelector('#df-09ce7b57-00a1-47e0-8675-e0d48fc88663 button');\n",
              "      quickchartButtonEl.style.display =\n",
              "        google.colab.kernel.accessAllowed ? 'block' : 'none';\n",
              "    })();\n",
              "  </script>\n",
              "</div>\n",
              "\n",
              "    </div>\n",
              "  </div>\n"
            ],
            "application/vnd.google.colaboratory.intrinsic+json": {
              "type": "dataframe",
              "summary": "{\n  \"name\": \"df\",\n  \"rows\": 5,\n  \"fields\": [\n    {\n      \"column\": \"model\",\n      \"properties\": {\n        \"dtype\": \"string\",\n        \"num_unique_values\": 5,\n        \"samples\": [\n          \"Apple iPhone 7s\",\n          \"Xiaomi Redmi Note 10S (6GB RAM + 128GB)\",\n          \"Xiaomi Mi 11X Pro\"\n        ],\n        \"semantic_type\": \"\",\n        \"description\": \"\"\n      }\n    },\n    {\n      \"column\": \"brand\",\n      \"properties\": {\n        \"dtype\": \"number\",\n        \"std\": 21,\n        \"min\": 0,\n        \"max\": 47,\n        \"num_unique_values\": 2,\n        \"samples\": [\n          0,\n          47\n        ],\n        \"semantic_type\": \"\",\n        \"description\": \"\"\n      }\n    },\n    {\n      \"column\": \"selling_price\",\n      \"properties\": {\n        \"dtype\": \"number\",\n        \"std\": 17476,\n        \"min\": 9990,\n        \"max\": 52990,\n        \"num_unique_values\": 5,\n        \"samples\": [\n          52990,\n          11999\n        ],\n        \"semantic_type\": \"\",\n        \"description\": \"\"\n      }\n    },\n    {\n      \"column\": \"sim type\",\n      \"properties\": {\n        \"dtype\": \"number\",\n        \"std\": 0,\n        \"min\": 0,\n        \"max\": 1,\n        \"num_unique_values\": 2,\n        \"samples\": [\n          1,\n          0\n        ],\n        \"semantic_type\": \"\",\n        \"description\": \"\"\n      }\n    },\n    {\n      \"column\": \"is 5G\",\n      \"properties\": {\n        \"dtype\": \"number\",\n        \"std\": 0,\n        \"min\": 0,\n        \"max\": 1,\n        \"num_unique_values\": 2,\n        \"samples\": [\n          0,\n          1\n        ],\n        \"semantic_type\": \"\",\n        \"description\": \"\"\n      }\n    },\n    {\n      \"column\": \"cores\",\n      \"properties\": {\n        \"dtype\": \"number\",\n        \"std\": 1,\n        \"min\": 4,\n        \"max\": 8,\n        \"num_unique_values\": 2,\n        \"samples\": [\n          4,\n          8\n        ],\n        \"semantic_type\": \"\",\n        \"description\": \"\"\n      }\n    },\n    {\n      \"column\": \"RAM\",\n      \"properties\": {\n        \"dtype\": \"string\",\n        \"num_unique_values\": 4,\n        \"samples\": [\n          \"3\\u2009GB\",\n          \"4\\u2009GB\"\n        ],\n        \"semantic_type\": \"\",\n        \"description\": \"\"\n      }\n    },\n    {\n      \"column\": \"ROM\",\n      \"properties\": {\n        \"dtype\": \"string\",\n        \"num_unique_values\": 3,\n        \"samples\": [\n          \"128\\u2009GB\",\n          \"32\\u2009GB\"\n        ],\n        \"semantic_type\": \"\",\n        \"description\": \"\"\n      }\n    },\n    {\n      \"column\": \"battery_mAh\",\n      \"properties\": {\n        \"dtype\": \"number\",\n        \"std\": 1056,\n        \"min\": 2230,\n        \"max\": 5000,\n        \"num_unique_values\": 5,\n        \"samples\": [\n          2230,\n          5000\n        ],\n        \"semantic_type\": \"\",\n        \"description\": \"\"\n      }\n    },\n    {\n      \"column\": \"is_fast\",\n      \"properties\": {\n        \"dtype\": \"number\",\n        \"std\": 0,\n        \"min\": 0,\n        \"max\": 1,\n        \"num_unique_values\": 2,\n        \"samples\": [\n          0,\n          1\n        ],\n        \"semantic_type\": \"\",\n        \"description\": \"\"\n      }\n    },\n    {\n      \"column\": \"display_size\",\n      \"properties\": {\n        \"dtype\": \"number\",\n        \"std\": 0.8111411714368836,\n        \"min\": 4.7,\n        \"max\": 6.67,\n        \"num_unique_values\": 5,\n        \"samples\": [\n          4.7,\n          6.43\n        ],\n        \"semantic_type\": \"\",\n        \"description\": \"\"\n      }\n    },\n    {\n      \"column\": \"refresh rate\",\n      \"properties\": {\n        \"dtype\": \"number\",\n        \"std\": 13,\n        \"min\": 90,\n        \"max\": 120,\n        \"num_unique_values\": 2,\n        \"samples\": [\n          120,\n          90\n        ],\n        \"semantic_type\": \"\",\n        \"description\": \"\"\n      }\n    },\n    {\n      \"column\": \"notch\",\n      \"properties\": {\n        \"dtype\": \"number\",\n        \"std\": 0,\n        \"min\": 2,\n        \"max\": 4,\n        \"num_unique_values\": 2,\n        \"samples\": [\n          4,\n          2\n        ],\n        \"semantic_type\": \"\",\n        \"description\": \"\"\n      }\n    },\n    {\n      \"column\": \"rear camera count\",\n      \"properties\": {\n        \"dtype\": \"number\",\n        \"std\": 1,\n        \"min\": 1,\n        \"max\": 3,\n        \"num_unique_values\": 3,\n        \"samples\": [\n          3,\n          2\n        ],\n        \"semantic_type\": \"\",\n        \"description\": \"\"\n      }\n    },\n    {\n      \"column\": \"rear primary cam\",\n      \"properties\": {\n        \"dtype\": \"number\",\n        \"std\": 34.23156438143019,\n        \"min\": 13.0,\n        \"max\": 108.0,\n        \"num_unique_values\": 4,\n        \"samples\": [\n          13.0,\n          48.0\n        ],\n        \"semantic_type\": \"\",\n        \"description\": \"\"\n      }\n    },\n    {\n      \"column\": \"front primary cam\",\n      \"properties\": {\n        \"dtype\": \"number\",\n        \"std\": 5.504543577809154,\n        \"min\": 7.0,\n        \"max\": 20.0,\n        \"num_unique_values\": 3,\n        \"samples\": [\n          20.0,\n          7.0\n        ],\n        \"semantic_type\": \"\",\n        \"description\": \"\"\n      }\n    }\n  ]\n}"
            }
          },
          "metadata": {},
          "execution_count": 132
        }
      ]
    },
    {
      "cell_type": "code",
      "source": [
        "def get_GB(x):\n",
        "  if 'GB' in x :\n",
        "    return int(x.split('\\u2009GB')[0])\n",
        "  else :\n",
        "    temp = int(x.split('\\u2009MB')[0])\n",
        "\n",
        "    return temp /1024"
      ],
      "metadata": {
        "id": "LmW_dy_5imps"
      },
      "execution_count": 133,
      "outputs": []
    },
    {
      "cell_type": "code",
      "source": [
        "df['RAM'] = df['RAM'].apply(get_GB)"
      ],
      "metadata": {
        "id": "0FrsV_ibjMxT"
      },
      "execution_count": 134,
      "outputs": []
    },
    {
      "cell_type": "code",
      "source": [
        "def get_TB(x):\n",
        "  if 'GB' in x :\n",
        "    return int(x.split('\\u2009GB')[0])\n",
        "  elif 'TB' in x :\n",
        "    temp = int(x.split('\\u2009TB') [0]) * 1024\n",
        "    return temp\n",
        "  else :\n",
        "    temp = int(x.split('\\u2009MB')[0])\n",
        "\n",
        "    return temp /1024"
      ],
      "metadata": {
        "id": "-khRDheAk_GR"
      },
      "execution_count": 135,
      "outputs": []
    },
    {
      "cell_type": "code",
      "source": [
        "df['ROM'] = df['ROM'].apply(get_TB)"
      ],
      "metadata": {
        "id": "2tMTpQx0jxih"
      },
      "execution_count": 136,
      "outputs": []
    },
    {
      "cell_type": "code",
      "source": [
        "df['ROM'].describe()"
      ],
      "metadata": {
        "colab": {
          "base_uri": "https://localhost:8080/"
        },
        "id": "83mS_2IYk7bF",
        "outputId": "f840effa-f692-4115-e2d7-f6aa2d3325c8"
      },
      "execution_count": 137,
      "outputs": [
        {
          "output_type": "execute_result",
          "data": {
            "text/plain": [
              "count     984.000000\n",
              "mean      138.013283\n",
              "std       106.746392\n",
              "min         0.003906\n",
              "25%        64.000000\n",
              "50%       128.000000\n",
              "75%       128.000000\n",
              "max      1024.000000\n",
              "Name: ROM, dtype: float64"
            ]
          },
          "metadata": {},
          "execution_count": 137
        }
      ]
    },
    {
      "cell_type": "code",
      "source": [
        "df.info()"
      ],
      "metadata": {
        "colab": {
          "base_uri": "https://localhost:8080/"
        },
        "id": "_K0d2Kn8lzkb",
        "outputId": "115afa40-2ab2-4a39-b05b-6c6d924af93a"
      },
      "execution_count": 138,
      "outputs": [
        {
          "output_type": "stream",
          "name": "stdout",
          "text": [
            "<class 'pandas.core.frame.DataFrame'>\n",
            "RangeIndex: 984 entries, 0 to 983\n",
            "Data columns (total 16 columns):\n",
            " #   Column             Non-Null Count  Dtype  \n",
            "---  ------             --------------  -----  \n",
            " 0   model              984 non-null    object \n",
            " 1   brand              984 non-null    int64  \n",
            " 2   selling_price      984 non-null    int64  \n",
            " 3   sim type           984 non-null    int64  \n",
            " 4   is 5G              984 non-null    int64  \n",
            " 5   cores              984 non-null    int64  \n",
            " 6   RAM                984 non-null    float64\n",
            " 7   ROM                984 non-null    float64\n",
            " 8   battery_mAh        984 non-null    int64  \n",
            " 9   is_fast            984 non-null    int64  \n",
            " 10  display_size       984 non-null    float64\n",
            " 11  refresh rate       984 non-null    int64  \n",
            " 12  notch              984 non-null    int64  \n",
            " 13  rear camera count  984 non-null    int64  \n",
            " 14  rear primary cam   984 non-null    float64\n",
            " 15  front primary cam  984 non-null    float64\n",
            "dtypes: float64(5), int64(10), object(1)\n",
            "memory usage: 123.1+ KB\n"
          ]
        }
      ]
    },
    {
      "cell_type": "code",
      "source": [
        "df.head()"
      ],
      "metadata": {
        "colab": {
          "base_uri": "https://localhost:8080/",
          "height": 345
        },
        "id": "W9XMuCypl75a",
        "outputId": "bcf52143-ab45-447b-fc49-3150649623d5"
      },
      "execution_count": 139,
      "outputs": [
        {
          "output_type": "execute_result",
          "data": {
            "text/plain": [
              "                       model  brand  selling_price  sim type  is 5G  cores  \\\n",
              "0              OnePlus 11 5G     31          54999         0      1      8   \n",
              "1  OnePlus Nord CE 2 Lite 5G     31          19989         0      1      8   \n",
              "2      Samsung Galaxy A14 5G     39          16499         0      1      8   \n",
              "3       Motorola Moto G62 5G     26          14999         0      1      8   \n",
              "4         Realme 10 Pro Plus     36          24999         0      1      8   \n",
              "\n",
              "    RAM    ROM  battery_mAh  is_fast  display_size  refresh rate  notch  \\\n",
              "0  12.0  256.0         5000        1          6.70           120      2   \n",
              "1   6.0  128.0         5000        1          6.59           120      2   \n",
              "2   4.0   64.0         5000        1          6.60            90      4   \n",
              "3   6.0  128.0         5000        1          6.55           120      2   \n",
              "4   6.0  128.0         5000        1          6.70           120      2   \n",
              "\n",
              "   rear camera count  rear primary cam  front primary cam  \n",
              "0                  3              50.0               16.0  \n",
              "1                  3              64.0               16.0  \n",
              "2                  3              50.0               13.0  \n",
              "3                  3              50.0               16.0  \n",
              "4                  3             108.0               16.0  "
            ],
            "text/html": [
              "\n",
              "  <div id=\"df-e334b2ea-68e6-4ef3-89c5-7d20de3d07f8\" class=\"colab-df-container\">\n",
              "    <div>\n",
              "<style scoped>\n",
              "    .dataframe tbody tr th:only-of-type {\n",
              "        vertical-align: middle;\n",
              "    }\n",
              "\n",
              "    .dataframe tbody tr th {\n",
              "        vertical-align: top;\n",
              "    }\n",
              "\n",
              "    .dataframe thead th {\n",
              "        text-align: right;\n",
              "    }\n",
              "</style>\n",
              "<table border=\"1\" class=\"dataframe\">\n",
              "  <thead>\n",
              "    <tr style=\"text-align: right;\">\n",
              "      <th></th>\n",
              "      <th>model</th>\n",
              "      <th>brand</th>\n",
              "      <th>selling_price</th>\n",
              "      <th>sim type</th>\n",
              "      <th>is 5G</th>\n",
              "      <th>cores</th>\n",
              "      <th>RAM</th>\n",
              "      <th>ROM</th>\n",
              "      <th>battery_mAh</th>\n",
              "      <th>is_fast</th>\n",
              "      <th>display_size</th>\n",
              "      <th>refresh rate</th>\n",
              "      <th>notch</th>\n",
              "      <th>rear camera count</th>\n",
              "      <th>rear primary cam</th>\n",
              "      <th>front primary cam</th>\n",
              "    </tr>\n",
              "  </thead>\n",
              "  <tbody>\n",
              "    <tr>\n",
              "      <th>0</th>\n",
              "      <td>OnePlus 11 5G</td>\n",
              "      <td>31</td>\n",
              "      <td>54999</td>\n",
              "      <td>0</td>\n",
              "      <td>1</td>\n",
              "      <td>8</td>\n",
              "      <td>12.0</td>\n",
              "      <td>256.0</td>\n",
              "      <td>5000</td>\n",
              "      <td>1</td>\n",
              "      <td>6.70</td>\n",
              "      <td>120</td>\n",
              "      <td>2</td>\n",
              "      <td>3</td>\n",
              "      <td>50.0</td>\n",
              "      <td>16.0</td>\n",
              "    </tr>\n",
              "    <tr>\n",
              "      <th>1</th>\n",
              "      <td>OnePlus Nord CE 2 Lite 5G</td>\n",
              "      <td>31</td>\n",
              "      <td>19989</td>\n",
              "      <td>0</td>\n",
              "      <td>1</td>\n",
              "      <td>8</td>\n",
              "      <td>6.0</td>\n",
              "      <td>128.0</td>\n",
              "      <td>5000</td>\n",
              "      <td>1</td>\n",
              "      <td>6.59</td>\n",
              "      <td>120</td>\n",
              "      <td>2</td>\n",
              "      <td>3</td>\n",
              "      <td>64.0</td>\n",
              "      <td>16.0</td>\n",
              "    </tr>\n",
              "    <tr>\n",
              "      <th>2</th>\n",
              "      <td>Samsung Galaxy A14 5G</td>\n",
              "      <td>39</td>\n",
              "      <td>16499</td>\n",
              "      <td>0</td>\n",
              "      <td>1</td>\n",
              "      <td>8</td>\n",
              "      <td>4.0</td>\n",
              "      <td>64.0</td>\n",
              "      <td>5000</td>\n",
              "      <td>1</td>\n",
              "      <td>6.60</td>\n",
              "      <td>90</td>\n",
              "      <td>4</td>\n",
              "      <td>3</td>\n",
              "      <td>50.0</td>\n",
              "      <td>13.0</td>\n",
              "    </tr>\n",
              "    <tr>\n",
              "      <th>3</th>\n",
              "      <td>Motorola Moto G62 5G</td>\n",
              "      <td>26</td>\n",
              "      <td>14999</td>\n",
              "      <td>0</td>\n",
              "      <td>1</td>\n",
              "      <td>8</td>\n",
              "      <td>6.0</td>\n",
              "      <td>128.0</td>\n",
              "      <td>5000</td>\n",
              "      <td>1</td>\n",
              "      <td>6.55</td>\n",
              "      <td>120</td>\n",
              "      <td>2</td>\n",
              "      <td>3</td>\n",
              "      <td>50.0</td>\n",
              "      <td>16.0</td>\n",
              "    </tr>\n",
              "    <tr>\n",
              "      <th>4</th>\n",
              "      <td>Realme 10 Pro Plus</td>\n",
              "      <td>36</td>\n",
              "      <td>24999</td>\n",
              "      <td>0</td>\n",
              "      <td>1</td>\n",
              "      <td>8</td>\n",
              "      <td>6.0</td>\n",
              "      <td>128.0</td>\n",
              "      <td>5000</td>\n",
              "      <td>1</td>\n",
              "      <td>6.70</td>\n",
              "      <td>120</td>\n",
              "      <td>2</td>\n",
              "      <td>3</td>\n",
              "      <td>108.0</td>\n",
              "      <td>16.0</td>\n",
              "    </tr>\n",
              "  </tbody>\n",
              "</table>\n",
              "</div>\n",
              "    <div class=\"colab-df-buttons\">\n",
              "\n",
              "  <div class=\"colab-df-container\">\n",
              "    <button class=\"colab-df-convert\" onclick=\"convertToInteractive('df-e334b2ea-68e6-4ef3-89c5-7d20de3d07f8')\"\n",
              "            title=\"Convert this dataframe to an interactive table.\"\n",
              "            style=\"display:none;\">\n",
              "\n",
              "  <svg xmlns=\"http://www.w3.org/2000/svg\" height=\"24px\" viewBox=\"0 -960 960 960\">\n",
              "    <path d=\"M120-120v-720h720v720H120Zm60-500h600v-160H180v160Zm220 220h160v-160H400v160Zm0 220h160v-160H400v160ZM180-400h160v-160H180v160Zm440 0h160v-160H620v160ZM180-180h160v-160H180v160Zm440 0h160v-160H620v160Z\"/>\n",
              "  </svg>\n",
              "    </button>\n",
              "\n",
              "  <style>\n",
              "    .colab-df-container {\n",
              "      display:flex;\n",
              "      gap: 12px;\n",
              "    }\n",
              "\n",
              "    .colab-df-convert {\n",
              "      background-color: #E8F0FE;\n",
              "      border: none;\n",
              "      border-radius: 50%;\n",
              "      cursor: pointer;\n",
              "      display: none;\n",
              "      fill: #1967D2;\n",
              "      height: 32px;\n",
              "      padding: 0 0 0 0;\n",
              "      width: 32px;\n",
              "    }\n",
              "\n",
              "    .colab-df-convert:hover {\n",
              "      background-color: #E2EBFA;\n",
              "      box-shadow: 0px 1px 2px rgba(60, 64, 67, 0.3), 0px 1px 3px 1px rgba(60, 64, 67, 0.15);\n",
              "      fill: #174EA6;\n",
              "    }\n",
              "\n",
              "    .colab-df-buttons div {\n",
              "      margin-bottom: 4px;\n",
              "    }\n",
              "\n",
              "    [theme=dark] .colab-df-convert {\n",
              "      background-color: #3B4455;\n",
              "      fill: #D2E3FC;\n",
              "    }\n",
              "\n",
              "    [theme=dark] .colab-df-convert:hover {\n",
              "      background-color: #434B5C;\n",
              "      box-shadow: 0px 1px 3px 1px rgba(0, 0, 0, 0.15);\n",
              "      filter: drop-shadow(0px 1px 2px rgba(0, 0, 0, 0.3));\n",
              "      fill: #FFFFFF;\n",
              "    }\n",
              "  </style>\n",
              "\n",
              "    <script>\n",
              "      const buttonEl =\n",
              "        document.querySelector('#df-e334b2ea-68e6-4ef3-89c5-7d20de3d07f8 button.colab-df-convert');\n",
              "      buttonEl.style.display =\n",
              "        google.colab.kernel.accessAllowed ? 'block' : 'none';\n",
              "\n",
              "      async function convertToInteractive(key) {\n",
              "        const element = document.querySelector('#df-e334b2ea-68e6-4ef3-89c5-7d20de3d07f8');\n",
              "        const dataTable =\n",
              "          await google.colab.kernel.invokeFunction('convertToInteractive',\n",
              "                                                    [key], {});\n",
              "        if (!dataTable) return;\n",
              "\n",
              "        const docLinkHtml = 'Like what you see? Visit the ' +\n",
              "          '<a target=\"_blank\" href=https://colab.research.google.com/notebooks/data_table.ipynb>data table notebook</a>'\n",
              "          + ' to learn more about interactive tables.';\n",
              "        element.innerHTML = '';\n",
              "        dataTable['output_type'] = 'display_data';\n",
              "        await google.colab.output.renderOutput(dataTable, element);\n",
              "        const docLink = document.createElement('div');\n",
              "        docLink.innerHTML = docLinkHtml;\n",
              "        element.appendChild(docLink);\n",
              "      }\n",
              "    </script>\n",
              "  </div>\n",
              "\n",
              "\n",
              "<div id=\"df-8d1922f5-e9d1-4d0d-9002-9d6320c59d38\">\n",
              "  <button class=\"colab-df-quickchart\" onclick=\"quickchart('df-8d1922f5-e9d1-4d0d-9002-9d6320c59d38')\"\n",
              "            title=\"Suggest charts\"\n",
              "            style=\"display:none;\">\n",
              "\n",
              "<svg xmlns=\"http://www.w3.org/2000/svg\" height=\"24px\"viewBox=\"0 0 24 24\"\n",
              "     width=\"24px\">\n",
              "    <g>\n",
              "        <path d=\"M19 3H5c-1.1 0-2 .9-2 2v14c0 1.1.9 2 2 2h14c1.1 0 2-.9 2-2V5c0-1.1-.9-2-2-2zM9 17H7v-7h2v7zm4 0h-2V7h2v10zm4 0h-2v-4h2v4z\"/>\n",
              "    </g>\n",
              "</svg>\n",
              "  </button>\n",
              "\n",
              "<style>\n",
              "  .colab-df-quickchart {\n",
              "      --bg-color: #E8F0FE;\n",
              "      --fill-color: #1967D2;\n",
              "      --hover-bg-color: #E2EBFA;\n",
              "      --hover-fill-color: #174EA6;\n",
              "      --disabled-fill-color: #AAA;\n",
              "      --disabled-bg-color: #DDD;\n",
              "  }\n",
              "\n",
              "  [theme=dark] .colab-df-quickchart {\n",
              "      --bg-color: #3B4455;\n",
              "      --fill-color: #D2E3FC;\n",
              "      --hover-bg-color: #434B5C;\n",
              "      --hover-fill-color: #FFFFFF;\n",
              "      --disabled-bg-color: #3B4455;\n",
              "      --disabled-fill-color: #666;\n",
              "  }\n",
              "\n",
              "  .colab-df-quickchart {\n",
              "    background-color: var(--bg-color);\n",
              "    border: none;\n",
              "    border-radius: 50%;\n",
              "    cursor: pointer;\n",
              "    display: none;\n",
              "    fill: var(--fill-color);\n",
              "    height: 32px;\n",
              "    padding: 0;\n",
              "    width: 32px;\n",
              "  }\n",
              "\n",
              "  .colab-df-quickchart:hover {\n",
              "    background-color: var(--hover-bg-color);\n",
              "    box-shadow: 0 1px 2px rgba(60, 64, 67, 0.3), 0 1px 3px 1px rgba(60, 64, 67, 0.15);\n",
              "    fill: var(--button-hover-fill-color);\n",
              "  }\n",
              "\n",
              "  .colab-df-quickchart-complete:disabled,\n",
              "  .colab-df-quickchart-complete:disabled:hover {\n",
              "    background-color: var(--disabled-bg-color);\n",
              "    fill: var(--disabled-fill-color);\n",
              "    box-shadow: none;\n",
              "  }\n",
              "\n",
              "  .colab-df-spinner {\n",
              "    border: 2px solid var(--fill-color);\n",
              "    border-color: transparent;\n",
              "    border-bottom-color: var(--fill-color);\n",
              "    animation:\n",
              "      spin 1s steps(1) infinite;\n",
              "  }\n",
              "\n",
              "  @keyframes spin {\n",
              "    0% {\n",
              "      border-color: transparent;\n",
              "      border-bottom-color: var(--fill-color);\n",
              "      border-left-color: var(--fill-color);\n",
              "    }\n",
              "    20% {\n",
              "      border-color: transparent;\n",
              "      border-left-color: var(--fill-color);\n",
              "      border-top-color: var(--fill-color);\n",
              "    }\n",
              "    30% {\n",
              "      border-color: transparent;\n",
              "      border-left-color: var(--fill-color);\n",
              "      border-top-color: var(--fill-color);\n",
              "      border-right-color: var(--fill-color);\n",
              "    }\n",
              "    40% {\n",
              "      border-color: transparent;\n",
              "      border-right-color: var(--fill-color);\n",
              "      border-top-color: var(--fill-color);\n",
              "    }\n",
              "    60% {\n",
              "      border-color: transparent;\n",
              "      border-right-color: var(--fill-color);\n",
              "    }\n",
              "    80% {\n",
              "      border-color: transparent;\n",
              "      border-right-color: var(--fill-color);\n",
              "      border-bottom-color: var(--fill-color);\n",
              "    }\n",
              "    90% {\n",
              "      border-color: transparent;\n",
              "      border-bottom-color: var(--fill-color);\n",
              "    }\n",
              "  }\n",
              "</style>\n",
              "\n",
              "  <script>\n",
              "    async function quickchart(key) {\n",
              "      const quickchartButtonEl =\n",
              "        document.querySelector('#' + key + ' button');\n",
              "      quickchartButtonEl.disabled = true;  // To prevent multiple clicks.\n",
              "      quickchartButtonEl.classList.add('colab-df-spinner');\n",
              "      try {\n",
              "        const charts = await google.colab.kernel.invokeFunction(\n",
              "            'suggestCharts', [key], {});\n",
              "      } catch (error) {\n",
              "        console.error('Error during call to suggestCharts:', error);\n",
              "      }\n",
              "      quickchartButtonEl.classList.remove('colab-df-spinner');\n",
              "      quickchartButtonEl.classList.add('colab-df-quickchart-complete');\n",
              "    }\n",
              "    (() => {\n",
              "      let quickchartButtonEl =\n",
              "        document.querySelector('#df-8d1922f5-e9d1-4d0d-9002-9d6320c59d38 button');\n",
              "      quickchartButtonEl.style.display =\n",
              "        google.colab.kernel.accessAllowed ? 'block' : 'none';\n",
              "    })();\n",
              "  </script>\n",
              "</div>\n",
              "\n",
              "    </div>\n",
              "  </div>\n"
            ],
            "application/vnd.google.colaboratory.intrinsic+json": {
              "type": "dataframe",
              "variable_name": "df",
              "summary": "{\n  \"name\": \"df\",\n  \"rows\": 984,\n  \"fields\": [\n    {\n      \"column\": \"model\",\n      \"properties\": {\n        \"dtype\": \"string\",\n        \"num_unique_values\": 984,\n        \"samples\": [\n          \"Vivo V21 5G\",\n          \"iQOO 9 SE 5G (12GB RAM + 256GB)\",\n          \"Realme XT\"\n        ],\n        \"semantic_type\": \"\",\n        \"description\": \"\"\n      }\n    },\n    {\n      \"column\": \"brand\",\n      \"properties\": {\n        \"dtype\": \"number\",\n        \"std\": 12,\n        \"min\": 0,\n        \"max\": 51,\n        \"num_unique_values\": 52,\n        \"samples\": [\n          6,\n          18,\n          3\n        ],\n        \"semantic_type\": \"\",\n        \"description\": \"\"\n      }\n    },\n    {\n      \"column\": \"selling_price\",\n      \"properties\": {\n        \"dtype\": \"number\",\n        \"std\": 29981,\n        \"min\": 599,\n        \"max\": 214990,\n        \"num_unique_values\": 389,\n        \"samples\": [\n          1299,\n          74999,\n          6299\n        ],\n        \"semantic_type\": \"\",\n        \"description\": \"\"\n      }\n    },\n    {\n      \"column\": \"sim type\",\n      \"properties\": {\n        \"dtype\": \"number\",\n        \"std\": 0,\n        \"min\": 0,\n        \"max\": 1,\n        \"num_unique_values\": 2,\n        \"samples\": [\n          1,\n          0\n        ],\n        \"semantic_type\": \"\",\n        \"description\": \"\"\n      }\n    },\n    {\n      \"column\": \"is 5G\",\n      \"properties\": {\n        \"dtype\": \"number\",\n        \"std\": 0,\n        \"min\": 0,\n        \"max\": 1,\n        \"num_unique_values\": 2,\n        \"samples\": [\n          0,\n          1\n        ],\n        \"semantic_type\": \"\",\n        \"description\": \"\"\n      }\n    },\n    {\n      \"column\": \"cores\",\n      \"properties\": {\n        \"dtype\": \"number\",\n        \"std\": 1,\n        \"min\": 1,\n        \"max\": 8,\n        \"num_unique_values\": 5,\n        \"samples\": [\n          6,\n          2\n        ],\n        \"semantic_type\": \"\",\n        \"description\": \"\"\n      }\n    },\n    {\n      \"column\": \"RAM\",\n      \"properties\": {\n        \"dtype\": \"number\",\n        \"std\": 2.8343201750493408,\n        \"min\": 0.00390625,\n        \"max\": 18.0,\n        \"num_unique_values\": 17,\n        \"samples\": [\n          12.0,\n          6.0\n        ],\n        \"semantic_type\": \"\",\n        \"description\": \"\"\n      }\n    },\n    {\n      \"column\": \"ROM\",\n      \"properties\": {\n        \"dtype\": \"number\",\n        \"std\": 106.74639193494936,\n        \"min\": 0.00390625,\n        \"max\": 1024.0,\n        \"num_unique_values\": 15,\n        \"samples\": [\n          0.046875,\n          0.00390625\n        ],\n        \"semantic_type\": \"\",\n        \"description\": \"\"\n      }\n    },\n    {\n      \"column\": \"battery_mAh\",\n      \"properties\": {\n        \"dtype\": \"number\",\n        \"std\": 1088,\n        \"min\": 800,\n        \"max\": 22000,\n        \"num_unique_values\": 96,\n        \"samples\": [\n          4360,\n          1480\n        ],\n        \"semantic_type\": \"\",\n        \"description\": \"\"\n      }\n    },\n    {\n      \"column\": \"is_fast\",\n      \"properties\": {\n        \"dtype\": \"number\",\n        \"std\": 0,\n        \"min\": 0,\n        \"max\": 1,\n        \"num_unique_values\": 2,\n        \"samples\": [\n          0,\n          1\n        ],\n        \"semantic_type\": \"\",\n        \"description\": \"\"\n      }\n    },\n    {\n      \"column\": \"display_size\",\n      \"properties\": {\n        \"dtype\": \"number\",\n        \"std\": 0.6263717981773901,\n        \"min\": 1.77,\n        \"max\": 8.03,\n        \"num_unique_values\": 84,\n        \"samples\": [\n          6.22,\n          6.7\n        ],\n        \"semantic_type\": \"\",\n        \"description\": \"\"\n      }\n    },\n    {\n      \"column\": \"refresh rate\",\n      \"properties\": {\n        \"dtype\": \"number\",\n        \"std\": 15,\n        \"min\": 90,\n        \"max\": 240,\n        \"num_unique_values\": 5,\n        \"samples\": [\n          90,\n          240\n        ],\n        \"semantic_type\": \"\",\n        \"description\": \"\"\n      }\n    },\n    {\n      \"column\": \"notch\",\n      \"properties\": {\n        \"dtype\": \"number\",\n        \"std\": 0,\n        \"min\": 0,\n        \"max\": 4,\n        \"num_unique_values\": 5,\n        \"samples\": [\n          4,\n          0\n        ],\n        \"semantic_type\": \"\",\n        \"description\": \"\"\n      }\n    },\n    {\n      \"column\": \"rear camera count\",\n      \"properties\": {\n        \"dtype\": \"number\",\n        \"std\": 1,\n        \"min\": 0,\n        \"max\": 3,\n        \"num_unique_values\": 4,\n        \"samples\": [\n          0,\n          2\n        ],\n        \"semantic_type\": \"\",\n        \"description\": \"\"\n      }\n    },\n    {\n      \"column\": \"rear primary cam\",\n      \"properties\": {\n        \"dtype\": \"number\",\n        \"std\": 34.09620469483442,\n        \"min\": 0.0,\n        \"max\": 200.0,\n        \"num_unique_values\": 20,\n        \"samples\": [\n          50.0,\n          47.2\n        ],\n        \"semantic_type\": \"\",\n        \"description\": \"\"\n      }\n    },\n    {\n      \"column\": \"front primary cam\",\n      \"properties\": {\n        \"dtype\": \"number\",\n        \"std\": 11.228757478011353,\n        \"min\": 0.0,\n        \"max\": 60.0,\n        \"num_unique_values\": 24,\n        \"samples\": [\n          0.0,\n          11.1\n        ],\n        \"semantic_type\": \"\",\n        \"description\": \"\"\n      }\n    }\n  ]\n}"
            }
          },
          "metadata": {},
          "execution_count": 139
        }
      ]
    },
    {
      "cell_type": "code",
      "source": [
        "plt.scatter(df['brand'] , df['selling_price'])\n",
        "plt.xlabel('brand')\n",
        "plt.ylabel('selling price')"
      ],
      "metadata": {
        "colab": {
          "base_uri": "https://localhost:8080/",
          "height": 466
        },
        "id": "rPMgzU-mmHji",
        "outputId": "b25d8e70-5e45-4773-92dc-8522d89eee14"
      },
      "execution_count": 140,
      "outputs": [
        {
          "output_type": "execute_result",
          "data": {
            "text/plain": [
              "Text(0, 0.5, 'selling price')"
            ]
          },
          "metadata": {},
          "execution_count": 140
        },
        {
          "output_type": "display_data",
          "data": {
            "text/plain": [
              "<Figure size 640x480 with 1 Axes>"
            ],
            "image/png": "[encoded data removed]"
          },
          "metadata": {}
        }
      ]
    },
    {
      "cell_type": "code",
      "source": [
        "plt.scatter(range(df.shape[0]) ,df['selling_price'])"
      ],
      "metadata": {
        "colab": {
          "base_uri": "https://localhost:8080/",
          "height": 447
        },
        "id": "Da17Lc4AmSt5",
        "outputId": "ad3c0200-29b9-4fb6-aee6-123e5adedff5"
      },
      "execution_count": 141,
      "outputs": [
        {
          "output_type": "execute_result",
          "data": {
            "text/plain": [
              "<matplotlib.collections.PathCollection at 0x7908f98cf370>"
            ]
          },
          "metadata": {},
          "execution_count": 141
        },
        {
          "output_type": "display_data",
          "data": {
            "text/plain": [
              "<Figure size 640x480 with 1 Axes>"
            ],
            "image/png": "[encoded data removed]"
          },
          "metadata": {}
        }
      ]
    },
    {
      "cell_type": "code",
      "source": [
        "df.columns"
      ],
      "metadata": {
        "colab": {
          "base_uri": "https://localhost:8080/"
        },
        "id": "x0k5ZsUqneAt",
        "outputId": "73928f5b-b2d6-47ea-c7eb-0a252d5000cb"
      },
      "execution_count": 142,
      "outputs": [
        {
          "output_type": "execute_result",
          "data": {
            "text/plain": [
              "Index(['model', 'brand', 'selling_price', 'sim type', 'is 5G', 'cores', 'RAM',\n",
              "       'ROM', 'battery_mAh', 'is_fast', 'display_size', 'refresh rate',\n",
              "       'notch', 'rear camera count', 'rear primary cam', 'front primary cam'],\n",
              "      dtype='object')"
            ]
          },
          "metadata": {},
          "execution_count": 142
        }
      ]
    },
    {
      "cell_type": "markdown",
      "source": [
        "# model Building"
      ],
      "metadata": {
        "id": "uwiJr-6kq2Ch"
      }
    },
    {
      "cell_type": "code",
      "source": [
        "x=df[['brand', 'sim type', 'is 5G', 'cores', 'RAM',\n",
        "       'ROM', 'battery_mAh', 'is_fast', 'display_size', 'refresh rate',\n",
        "       'notch', 'rear camera count', 'rear primary cam', 'front primary cam']]\n",
        "y=df.iloc[:,2]"
      ],
      "metadata": {
        "id": "COZpeJlxohtN"
      },
      "execution_count": 143,
      "outputs": []
    },
    {
      "cell_type": "code",
      "source": [
        "x"
      ],
      "metadata": {
        "colab": {
          "base_uri": "https://localhost:8080/",
          "height": 441
        },
        "id": "Prqf3NoxpGo1",
        "outputId": "022b4749-959f-4310-ac65-49f262adba60"
      },
      "execution_count": 144,
      "outputs": [
        {
          "output_type": "execute_result",
          "data": {
            "text/plain": [
              "     brand  sim type  is 5G  cores   RAM    ROM  battery_mAh  is_fast  \\\n",
              "0       31         0      1      8  12.0  256.0         5000        1   \n",
              "1       31         0      1      8   6.0  128.0         5000        1   \n",
              "2       39         0      1      8   4.0   64.0         5000        1   \n",
              "3       26         0      1      8   6.0  128.0         5000        1   \n",
              "4       36         0      1      8   6.0  128.0         5000        1   \n",
              "..     ...       ...    ...    ...   ...    ...          ...      ...   \n",
              "979     26         0      1      8   8.0  128.0         5000        1   \n",
              "980     13         0      1      8   6.0  128.0         5000        1   \n",
              "981     34         0      1      8   8.0  256.0         5080        1   \n",
              "982     26         0      1      8   6.0  128.0         5000        1   \n",
              "983     39         0      1      8   8.0  128.0         5000        1   \n",
              "\n",
              "     display_size  refresh rate  notch  rear camera count  rear primary cam  \\\n",
              "0            6.70           120      2                  3              50.0   \n",
              "1            6.59           120      2                  3              64.0   \n",
              "2            6.60            90      4                  3              50.0   \n",
              "3            6.55           120      2                  3              50.0   \n",
              "4            6.70           120      2                  3             108.0   \n",
              "..            ...           ...    ...                ...               ...   \n",
              "979          6.67           120      2                  3              64.0   \n",
              "980          6.50           120      4                  3              48.0   \n",
              "981          6.60           144      2                  3              64.0   \n",
              "982          6.80           120      2                  3             108.0   \n",
              "983          6.50           120      4                  3              64.0   \n",
              "\n",
              "     front primary cam  \n",
              "0                 16.0  \n",
              "1                 16.0  \n",
              "2                 13.0  \n",
              "3                 16.0  \n",
              "4                 16.0  \n",
              "..                 ...  \n",
              "979               16.0  \n",
              "980                8.0  \n",
              "981               16.0  \n",
              "982               32.0  \n",
              "983               32.0  \n",
              "\n",
              "[984 rows x 14 columns]"
            ],
            "text/html": [
              "\n",
              "  <div id=\"df-d8cb10e2-ea92-47e6-8825-63acd4732e48\" class=\"colab-df-container\">\n",
              "    <div>\n",
              "<style scoped>\n",
              "    .dataframe tbody tr th:only-of-type {\n",
              "        vertical-align: middle;\n",
              "    }\n",
              "\n",
              "    .dataframe tbody tr th {\n",
              "        vertical-align: top;\n",
              "    }\n",
              "\n",
              "    .dataframe thead th {\n",
              "        text-align: right;\n",
              "    }\n",
              "</style>\n",
              "<table border=\"1\" class=\"dataframe\">\n",
              "  <thead>\n",
              "    <tr style=\"text-align: right;\">\n",
              "      <th></th>\n",
              "      <th>brand</th>\n",
              "      <th>sim type</th>\n",
              "      <th>is 5G</th>\n",
              "      <th>cores</th>\n",
              "      <th>RAM</th>\n",
              "      <th>ROM</th>\n",
              "      <th>battery_mAh</th>\n",
              "      <th>is_fast</th>\n",
              "      <th>display_size</th>\n",
              "      <th>refresh rate</th>\n",
              "      <th>notch</th>\n",
              "      <th>rear camera count</th>\n",
              "      <th>rear primary cam</th>\n",
              "      <th>front primary cam</th>\n",
              "    </tr>\n",
              "  </thead>\n",
              "  <tbody>\n",
              "    <tr>\n",
              "      <th>0</th>\n",
              "      <td>31</td>\n",
              "      <td>0</td>\n",
              "      <td>1</td>\n",
              "      <td>8</td>\n",
              "      <td>12.0</td>\n",
              "      <td>256.0</td>\n",
              "      <td>5000</td>\n",
              "      <td>1</td>\n",
              "      <td>6.70</td>\n",
              "      <td>120</td>\n",
              "      <td>2</td>\n",
              "      <td>3</td>\n",
              "      <td>50.0</td>\n",
              "      <td>16.0</td>\n",
              "    </tr>\n",
              "    <tr>\n",
              "      <th>1</th>\n",
              "      <td>31</td>\n",
              "      <td>0</td>\n",
              "      <td>1</td>\n",
              "      <td>8</td>\n",
              "      <td>6.0</td>\n",
              "      <td>128.0</td>\n",
              "      <td>5000</td>\n",
              "      <td>1</td>\n",
              "      <td>6.59</td>\n",
              "      <td>120</td>\n",
              "      <td>2</td>\n",
              "      <td>3</td>\n",
              "      <td>64.0</td>\n",
              "      <td>16.0</td>\n",
              "    </tr>\n",
              "    <tr>\n",
              "      <th>2</th>\n",
              "      <td>39</td>\n",
              "      <td>0</td>\n",
              "      <td>1</td>\n",
              "      <td>8</td>\n",
              "      <td>4.0</td>\n",
              "      <td>64.0</td>\n",
              "      <td>5000</td>\n",
              "      <td>1</td>\n",
              "      <td>6.60</td>\n",
              "      <td>90</td>\n",
              "      <td>4</td>\n",
              "      <td>3</td>\n",
              "      <td>50.0</td>\n",
              "      <td>13.0</td>\n",
              "    </tr>\n",
              "    <tr>\n",
              "      <th>3</th>\n",
              "      <td>26</td>\n",
              "      <td>0</td>\n",
              "      <td>1</td>\n",
              "      <td>8</td>\n",
              "      <td>6.0</td>\n",
              "      <td>128.0</td>\n",
              "      <td>5000</td>\n",
              "      <td>1</td>\n",
              "      <td>6.55</td>\n",
              "      <td>120</td>\n",
              "      <td>2</td>\n",
              "      <td>3</td>\n",
              "      <td>50.0</td>\n",
              "      <td>16.0</td>\n",
              "    </tr>\n",
              "    <tr>\n",
              "      <th>4</th>\n",
              "      <td>36</td>\n",
              "      <td>0</td>\n",
              "      <td>1</td>\n",
              "      <td>8</td>\n",
              "      <td>6.0</td>\n",
              "      <td>128.0</td>\n",
              "      <td>5000</td>\n",
              "      <td>1</td>\n",
              "      <td>6.70</td>\n",
              "      <td>120</td>\n",
              "      <td>2</td>\n",
              "      <td>3</td>\n",
              "      <td>108.0</td>\n",
              "      <td>16.0</td>\n",
              "    </tr>\n",
              "    <tr>\n",
              "      <th>...</th>\n",
              "      <td>...</td>\n",
              "      <td>...</td>\n",
              "      <td>...</td>\n",
              "      <td>...</td>\n",
              "      <td>...</td>\n",
              "      <td>...</td>\n",
              "      <td>...</td>\n",
              "      <td>...</td>\n",
              "      <td>...</td>\n",
              "      <td>...</td>\n",
              "      <td>...</td>\n",
              "      <td>...</td>\n",
              "      <td>...</td>\n",
              "      <td>...</td>\n",
              "    </tr>\n",
              "    <tr>\n",
              "      <th>979</th>\n",
              "      <td>26</td>\n",
              "      <td>0</td>\n",
              "      <td>1</td>\n",
              "      <td>8</td>\n",
              "      <td>8.0</td>\n",
              "      <td>128.0</td>\n",
              "      <td>5000</td>\n",
              "      <td>1</td>\n",
              "      <td>6.67</td>\n",
              "      <td>120</td>\n",
              "      <td>2</td>\n",
              "      <td>3</td>\n",
              "      <td>64.0</td>\n",
              "      <td>16.0</td>\n",
              "    </tr>\n",
              "    <tr>\n",
              "      <th>980</th>\n",
              "      <td>13</td>\n",
              "      <td>0</td>\n",
              "      <td>1</td>\n",
              "      <td>8</td>\n",
              "      <td>6.0</td>\n",
              "      <td>128.0</td>\n",
              "      <td>5000</td>\n",
              "      <td>1</td>\n",
              "      <td>6.50</td>\n",
              "      <td>120</td>\n",
              "      <td>4</td>\n",
              "      <td>3</td>\n",
              "      <td>48.0</td>\n",
              "      <td>8.0</td>\n",
              "    </tr>\n",
              "    <tr>\n",
              "      <th>981</th>\n",
              "      <td>34</td>\n",
              "      <td>0</td>\n",
              "      <td>1</td>\n",
              "      <td>8</td>\n",
              "      <td>8.0</td>\n",
              "      <td>256.0</td>\n",
              "      <td>5080</td>\n",
              "      <td>1</td>\n",
              "      <td>6.60</td>\n",
              "      <td>144</td>\n",
              "      <td>2</td>\n",
              "      <td>3</td>\n",
              "      <td>64.0</td>\n",
              "      <td>16.0</td>\n",
              "    </tr>\n",
              "    <tr>\n",
              "      <th>982</th>\n",
              "      <td>26</td>\n",
              "      <td>0</td>\n",
              "      <td>1</td>\n",
              "      <td>8</td>\n",
              "      <td>6.0</td>\n",
              "      <td>128.0</td>\n",
              "      <td>5000</td>\n",
              "      <td>1</td>\n",
              "      <td>6.80</td>\n",
              "      <td>120</td>\n",
              "      <td>2</td>\n",
              "      <td>3</td>\n",
              "      <td>108.0</td>\n",
              "      <td>32.0</td>\n",
              "    </tr>\n",
              "    <tr>\n",
              "      <th>983</th>\n",
              "      <td>39</td>\n",
              "      <td>0</td>\n",
              "      <td>1</td>\n",
              "      <td>8</td>\n",
              "      <td>8.0</td>\n",
              "      <td>128.0</td>\n",
              "      <td>5000</td>\n",
              "      <td>1</td>\n",
              "      <td>6.50</td>\n",
              "      <td>120</td>\n",
              "      <td>4</td>\n",
              "      <td>3</td>\n",
              "      <td>64.0</td>\n",
              "      <td>32.0</td>\n",
              "    </tr>\n",
              "  </tbody>\n",
              "</table>\n",
              "<p>984 rows × 14 columns</p>\n",
              "</div>\n",
              "    <div class=\"colab-df-buttons\">\n",
              "\n",
              "  <div class=\"colab-df-container\">\n",
              "    <button class=\"colab-df-convert\" onclick=\"convertToInteractive('df-d8cb10e2-ea92-47e6-8825-63acd4732e48')\"\n",
              "            title=\"Convert this dataframe to an interactive table.\"\n",
              "            style=\"display:none;\">\n",
              "\n",
              "  <svg xmlns=\"http://www.w3.org/2000/svg\" height=\"24px\" viewBox=\"0 -960 960 960\">\n",
              "    <path d=\"M120-120v-720h720v720H120Zm60-500h600v-160H180v160Zm220 220h160v-160H400v160Zm0 220h160v-160H400v160ZM180-400h160v-160H180v160Zm440 0h160v-160H620v160ZM180-180h160v-160H180v160Zm440 0h160v-160H620v160Z\"/>\n",
              "  </svg>\n",
              "    </button>\n",
              "\n",
              "  <style>\n",
              "    .colab-df-container {\n",
              "      display:flex;\n",
              "      gap: 12px;\n",
              "    }\n",
              "\n",
              "    .colab-df-convert {\n",
              "      background-color: #E8F0FE;\n",
              "      border: none;\n",
              "      border-radius: 50%;\n",
              "      cursor: pointer;\n",
              "      display: none;\n",
              "      fill: #1967D2;\n",
              "      height: 32px;\n",
              "      padding: 0 0 0 0;\n",
              "      width: 32px;\n",
              "    }\n",
              "\n",
              "    .colab-df-convert:hover {\n",
              "      background-color: #E2EBFA;\n",
              "      box-shadow: 0px 1px 2px rgba(60, 64, 67, 0.3), 0px 1px 3px 1px rgba(60, 64, 67, 0.15);\n",
              "      fill: #174EA6;\n",
              "    }\n",
              "\n",
              "    .colab-df-buttons div {\n",
              "      margin-bottom: 4px;\n",
              "    }\n",
              "\n",
              "    [theme=dark] .colab-df-convert {\n",
              "      background-color: #3B4455;\n",
              "      fill: #D2E3FC;\n",
              "    }\n",
              "\n",
              "    [theme=dark] .colab-df-convert:hover {\n",
              "      background-color: #434B5C;\n",
              "      box-shadow: 0px 1px 3px 1px rgba(0, 0, 0, 0.15);\n",
              "      filter: drop-shadow(0px 1px 2px rgba(0, 0, 0, 0.3));\n",
              "      fill: #FFFFFF;\n",
              "    }\n",
              "  </style>\n",
              "\n",
              "    <script>\n",
              "      const buttonEl =\n",
              "        document.querySelector('#df-d8cb10e2-ea92-47e6-8825-63acd4732e48 button.colab-df-convert');\n",
              "      buttonEl.style.display =\n",
              "        google.colab.kernel.accessAllowed ? 'block' : 'none';\n",
              "\n",
              "      async function convertToInteractive(key) {\n",
              "        const element = document.querySelector('#df-d8cb10e2-ea92-47e6-8825-63acd4732e48');\n",
              "        const dataTable =\n",
              "          await google.colab.kernel.invokeFunction('convertToInteractive',\n",
              "                                                    [key], {});\n",
              "        if (!dataTable) return;\n",
              "\n",
              "        const docLinkHtml = 'Like what you see? Visit the ' +\n",
              "          '<a target=\"_blank\" href=https://colab.research.google.com/notebooks/data_table.ipynb>data table notebook</a>'\n",
              "          + ' to learn more about interactive tables.';\n",
              "        element.innerHTML = '';\n",
              "        dataTable['output_type'] = 'display_data';\n",
              "        await google.colab.output.renderOutput(dataTable, element);\n",
              "        const docLink = document.createElement('div');\n",
              "        docLink.innerHTML = docLinkHtml;\n",
              "        element.appendChild(docLink);\n",
              "      }\n",
              "    </script>\n",
              "  </div>\n",
              "\n",
              "\n",
              "<div id=\"df-216a4ea0-fb98-4f18-aa1d-32e7fc3d9007\">\n",
              "  <button class=\"colab-df-quickchart\" onclick=\"quickchart('df-216a4ea0-fb98-4f18-aa1d-32e7fc3d9007')\"\n",
              "            title=\"Suggest charts\"\n",
              "            style=\"display:none;\">\n",
              "\n",
              "<svg xmlns=\"http://www.w3.org/2000/svg\" height=\"24px\"viewBox=\"0 0 24 24\"\n",
              "     width=\"24px\">\n",
              "    <g>\n",
              "        <path d=\"M19 3H5c-1.1 0-2 .9-2 2v14c0 1.1.9 2 2 2h14c1.1 0 2-.9 2-2V5c0-1.1-.9-2-2-2zM9 17H7v-7h2v7zm4 0h-2V7h2v10zm4 0h-2v-4h2v4z\"/>\n",
              "    </g>\n",
              "</svg>\n",
              "  </button>\n",
              "\n",
              "<style>\n",
              "  .colab-df-quickchart {\n",
              "      --bg-color: #E8F0FE;\n",
              "      --fill-color: #1967D2;\n",
              "      --hover-bg-color: #E2EBFA;\n",
              "      --hover-fill-color: #174EA6;\n",
              "      --disabled-fill-color: #AAA;\n",
              "      --disabled-bg-color: #DDD;\n",
              "  }\n",
              "\n",
              "  [theme=dark] .colab-df-quickchart {\n",
              "      --bg-color: #3B4455;\n",
              "      --fill-color: #D2E3FC;\n",
              "      --hover-bg-color: #434B5C;\n",
              "      --hover-fill-color: #FFFFFF;\n",
              "      --disabled-bg-color: #3B4455;\n",
              "      --disabled-fill-color: #666;\n",
              "  }\n",
              "\n",
              "  .colab-df-quickchart {\n",
              "    background-color: var(--bg-color);\n",
              "    border: none;\n",
              "    border-radius: 50%;\n",
              "    cursor: pointer;\n",
              "    display: none;\n",
              "    fill: var(--fill-color);\n",
              "    height: 32px;\n",
              "    padding: 0;\n",
              "    width: 32px;\n",
              "  }\n",
              "\n",
              "  .colab-df-quickchart:hover {\n",
              "    background-color: var(--hover-bg-color);\n",
              "    box-shadow: 0 1px 2px rgba(60, 64, 67, 0.3), 0 1px 3px 1px rgba(60, 64, 67, 0.15);\n",
              "    fill: var(--button-hover-fill-color);\n",
              "  }\n",
              "\n",
              "  .colab-df-quickchart-complete:disabled,\n",
              "  .colab-df-quickchart-complete:disabled:hover {\n",
              "    background-color: var(--disabled-bg-color);\n",
              "    fill: var(--disabled-fill-color);\n",
              "    box-shadow: none;\n",
              "  }\n",
              "\n",
              "  .colab-df-spinner {\n",
              "    border: 2px solid var(--fill-color);\n",
              "    border-color: transparent;\n",
              "    border-bottom-color: var(--fill-color);\n",
              "    animation:\n",
              "      spin 1s steps(1) infinite;\n",
              "  }\n",
              "\n",
              "  @keyframes spin {\n",
              "    0% {\n",
              "      border-color: transparent;\n",
              "      border-bottom-color: var(--fill-color);\n",
              "      border-left-color: var(--fill-color);\n",
              "    }\n",
              "    20% {\n",
              "      border-color: transparent;\n",
              "      border-left-color: var(--fill-color);\n",
              "      border-top-color: var(--fill-color);\n",
              "    }\n",
              "    30% {\n",
              "      border-color: transparent;\n",
              "      border-left-color: var(--fill-color);\n",
              "      border-top-color: var(--fill-color);\n",
              "      border-right-color: var(--fill-color);\n",
              "    }\n",
              "    40% {\n",
              "      border-color: transparent;\n",
              "      border-right-color: var(--fill-color);\n",
              "      border-top-color: var(--fill-color);\n",
              "    }\n",
              "    60% {\n",
              "      border-color: transparent;\n",
              "      border-right-color: var(--fill-color);\n",
              "    }\n",
              "    80% {\n",
              "      border-color: transparent;\n",
              "      border-right-color: var(--fill-color);\n",
              "      border-bottom-color: var(--fill-color);\n",
              "    }\n",
              "    90% {\n",
              "      border-color: transparent;\n",
              "      border-bottom-color: var(--fill-color);\n",
              "    }\n",
              "  }\n",
              "</style>\n",
              "\n",
              "  <script>\n",
              "    async function quickchart(key) {\n",
              "      const quickchartButtonEl =\n",
              "        document.querySelector('#' + key + ' button');\n",
              "      quickchartButtonEl.disabled = true;  // To prevent multiple clicks.\n",
              "      quickchartButtonEl.classList.add('colab-df-spinner');\n",
              "      try {\n",
              "        const charts = await google.colab.kernel.invokeFunction(\n",
              "            'suggestCharts', [key], {});\n",
              "      } catch (error) {\n",
              "        console.error('Error during call to suggestCharts:', error);\n",
              "      }\n",
              "      quickchartButtonEl.classList.remove('colab-df-spinner');\n",
              "      quickchartButtonEl.classList.add('colab-df-quickchart-complete');\n",
              "    }\n",
              "    (() => {\n",
              "      let quickchartButtonEl =\n",
              "        document.querySelector('#df-216a4ea0-fb98-4f18-aa1d-32e7fc3d9007 button');\n",
              "      quickchartButtonEl.style.display =\n",
              "        google.colab.kernel.accessAllowed ? 'block' : 'none';\n",
              "    })();\n",
              "  </script>\n",
              "</div>\n",
              "\n",
              "  <div id=\"id_5abcf2a9-e3bb-42fb-8a69-6dcf0c8bee60\">\n",
              "    <style>\n",
              "      .colab-df-generate {\n",
              "        background-color: #E8F0FE;\n",
              "        border: none;\n",
              "        border-radius: 50%;\n",
              "        cursor: pointer;\n",
              "        display: none;\n",
              "        fill: #1967D2;\n",
              "        height: 32px;\n",
              "        padding: 0 0 0 0;\n",
              "        width: 32px;\n",
              "      }\n",
              "\n",
              "      .colab-df-generate:hover {\n",
              "        background-color: #E2EBFA;\n",
              "        box-shadow: 0px 1px 2px rgba(60, 64, 67, 0.3), 0px 1px 3px 1px rgba(60, 64, 67, 0.15);\n",
              "        fill: #174EA6;\n",
              "      }\n",
              "\n",
              "      [theme=dark] .colab-df-generate {\n",
              "        background-color: #3B4455;\n",
              "        fill: #D2E3FC;\n",
              "      }\n",
              "\n",
              "      [theme=dark] .colab-df-generate:hover {\n",
              "        background-color: #434B5C;\n",
              "        box-shadow: 0px 1px 3px 1px rgba(0, 0, 0, 0.15);\n",
              "        filter: drop-shadow(0px 1px 2px rgba(0, 0, 0, 0.3));\n",
              "        fill: #FFFFFF;\n",
              "      }\n",
              "    </style>\n",
              "    <button class=\"colab-df-generate\" onclick=\"generateWithVariable('x')\"\n",
              "            title=\"Generate code using this dataframe.\"\n",
              "            style=\"display:none;\">\n",
              "\n",
              "  <svg xmlns=\"http://www.w3.org/2000/svg\" height=\"24px\"viewBox=\"0 0 24 24\"\n",
              "       width=\"24px\">\n",
              "    <path d=\"M7,19H8.4L18.45,9,17,7.55,7,17.6ZM5,21V16.75L18.45,3.32a2,2,0,0,1,2.83,0l1.4,1.43a1.91,1.91,0,0,1,.58,1.4,1.91,1.91,0,0,1-.58,1.4L9.25,21ZM18.45,9,17,7.55Zm-12,3A5.31,5.31,0,0,0,4.9,8.1,5.31,5.31,0,0,0,1,6.5,5.31,5.31,0,0,0,4.9,4.9,5.31,5.31,0,0,0,6.5,1,5.31,5.31,0,0,0,8.1,4.9,5.31,5.31,0,0,0,12,6.5,5.46,5.46,0,0,0,6.5,12Z\"/>\n",
              "  </svg>\n",
              "    </button>\n",
              "    <script>\n",
              "      (() => {\n",
              "      const buttonEl =\n",
              "        document.querySelector('#id_5abcf2a9-e3bb-42fb-8a69-6dcf0c8bee60 button.colab-df-generate');\n",
              "      buttonEl.style.display =\n",
              "        google.colab.kernel.accessAllowed ? 'block' : 'none';\n",
              "\n",
              "      buttonEl.onclick = () => {\n",
              "        google.colab.notebook.generateWithVariable('x');\n",
              "      }\n",
              "      })();\n",
              "    </script>\n",
              "  </div>\n",
              "\n",
              "    </div>\n",
              "  </div>\n"
            ],
            "application/vnd.google.colaboratory.intrinsic+json": {
              "type": "dataframe",
              "variable_name": "x",
              "summary": "{\n  \"name\": \"x\",\n  \"rows\": 984,\n  \"fields\": [\n    {\n      \"column\": \"brand\",\n      \"properties\": {\n        \"dtype\": \"number\",\n        \"std\": 12,\n        \"min\": 0,\n        \"max\": 51,\n        \"num_unique_values\": 52,\n        \"samples\": [\n          6,\n          18,\n          3\n        ],\n        \"semantic_type\": \"\",\n        \"description\": \"\"\n      }\n    },\n    {\n      \"column\": \"sim type\",\n      \"properties\": {\n        \"dtype\": \"number\",\n        \"std\": 0,\n        \"min\": 0,\n        \"max\": 1,\n        \"num_unique_values\": 2,\n        \"samples\": [\n          1,\n          0\n        ],\n        \"semantic_type\": \"\",\n        \"description\": \"\"\n      }\n    },\n    {\n      \"column\": \"is 5G\",\n      \"properties\": {\n        \"dtype\": \"number\",\n        \"std\": 0,\n        \"min\": 0,\n        \"max\": 1,\n        \"num_unique_values\": 2,\n        \"samples\": [\n          0,\n          1\n        ],\n        \"semantic_type\": \"\",\n        \"description\": \"\"\n      }\n    },\n    {\n      \"column\": \"cores\",\n      \"properties\": {\n        \"dtype\": \"number\",\n        \"std\": 1,\n        \"min\": 1,\n        \"max\": 8,\n        \"num_unique_values\": 5,\n        \"samples\": [\n          6,\n          2\n        ],\n        \"semantic_type\": \"\",\n        \"description\": \"\"\n      }\n    },\n    {\n      \"column\": \"RAM\",\n      \"properties\": {\n        \"dtype\": \"number\",\n        \"std\": 2.8343201750493408,\n        \"min\": 0.00390625,\n        \"max\": 18.0,\n        \"num_unique_values\": 17,\n        \"samples\": [\n          12.0,\n          6.0\n        ],\n        \"semantic_type\": \"\",\n        \"description\": \"\"\n      }\n    },\n    {\n      \"column\": \"ROM\",\n      \"properties\": {\n        \"dtype\": \"number\",\n        \"std\": 106.74639193494936,\n        \"min\": 0.00390625,\n        \"max\": 1024.0,\n        \"num_unique_values\": 15,\n        \"samples\": [\n          0.046875,\n          0.00390625\n        ],\n        \"semantic_type\": \"\",\n        \"description\": \"\"\n      }\n    },\n    {\n      \"column\": \"battery_mAh\",\n      \"properties\": {\n        \"dtype\": \"number\",\n        \"std\": 1088,\n        \"min\": 800,\n        \"max\": 22000,\n        \"num_unique_values\": 96,\n        \"samples\": [\n          4360,\n          1480\n        ],\n        \"semantic_type\": \"\",\n        \"description\": \"\"\n      }\n    },\n    {\n      \"column\": \"is_fast\",\n      \"properties\": {\n        \"dtype\": \"number\",\n        \"std\": 0,\n        \"min\": 0,\n        \"max\": 1,\n        \"num_unique_values\": 2,\n        \"samples\": [\n          0,\n          1\n        ],\n        \"semantic_type\": \"\",\n        \"description\": \"\"\n      }\n    },\n    {\n      \"column\": \"display_size\",\n      \"properties\": {\n        \"dtype\": \"number\",\n        \"std\": 0.6263717981773901,\n        \"min\": 1.77,\n        \"max\": 8.03,\n        \"num_unique_values\": 84,\n        \"samples\": [\n          6.22,\n          6.7\n        ],\n        \"semantic_type\": \"\",\n        \"description\": \"\"\n      }\n    },\n    {\n      \"column\": \"refresh rate\",\n      \"properties\": {\n        \"dtype\": \"number\",\n        \"std\": 15,\n        \"min\": 90,\n        \"max\": 240,\n        \"num_unique_values\": 5,\n        \"samples\": [\n          90,\n          240\n        ],\n        \"semantic_type\": \"\",\n        \"description\": \"\"\n      }\n    },\n    {\n      \"column\": \"notch\",\n      \"properties\": {\n        \"dtype\": \"number\",\n        \"std\": 0,\n        \"min\": 0,\n        \"max\": 4,\n        \"num_unique_values\": 5,\n        \"samples\": [\n          4,\n          0\n        ],\n        \"semantic_type\": \"\",\n        \"description\": \"\"\n      }\n    },\n    {\n      \"column\": \"rear camera count\",\n      \"properties\": {\n        \"dtype\": \"number\",\n        \"std\": 1,\n        \"min\": 0,\n        \"max\": 3,\n        \"num_unique_values\": 4,\n        \"samples\": [\n          0,\n          2\n        ],\n        \"semantic_type\": \"\",\n        \"description\": \"\"\n      }\n    },\n    {\n      \"column\": \"rear primary cam\",\n      \"properties\": {\n        \"dtype\": \"number\",\n        \"std\": 34.09620469483442,\n        \"min\": 0.0,\n        \"max\": 200.0,\n        \"num_unique_values\": 20,\n        \"samples\": [\n          50.0,\n          47.2\n        ],\n        \"semantic_type\": \"\",\n        \"description\": \"\"\n      }\n    },\n    {\n      \"column\": \"front primary cam\",\n      \"properties\": {\n        \"dtype\": \"number\",\n        \"std\": 11.228757478011353,\n        \"min\": 0.0,\n        \"max\": 60.0,\n        \"num_unique_values\": 24,\n        \"samples\": [\n          0.0,\n          11.1\n        ],\n        \"semantic_type\": \"\",\n        \"description\": \"\"\n      }\n    }\n  ]\n}"
            }
          },
          "metadata": {},
          "execution_count": 144
        }
      ]
    },
    {
      "cell_type": "code",
      "source": [
        "y"
      ],
      "metadata": {
        "colab": {
          "base_uri": "https://localhost:8080/"
        },
        "id": "YcUPM9-0pJCC",
        "outputId": "641ef993-1fa2-432d-ccf8-94c049848791"
      },
      "execution_count": 145,
      "outputs": [
        {
          "output_type": "execute_result",
          "data": {
            "text/plain": [
              "0      54999\n",
              "1      19989\n",
              "2      16499\n",
              "3      14999\n",
              "4      24999\n",
              "       ...  \n",
              "979    34990\n",
              "980    14990\n",
              "981    28990\n",
              "982    19990\n",
              "983    24990\n",
              "Name: selling_price, Length: 984, dtype: int64"
            ]
          },
          "metadata": {},
          "execution_count": 145
        }
      ]
    },
    {
      "cell_type": "code",
      "source": [
        "x_train , x_test , y_train ,y_test = train_test_split(x , y , test_size = 0.2)"
      ],
      "metadata": {
        "id": "s9XKoWHvoBp0"
      },
      "execution_count": 146,
      "outputs": []
    },
    {
      "cell_type": "code",
      "source": [
        "scaler = StandardScaler()\n",
        "\n",
        "x_train = scaler.fit_transform(x_train)\n",
        "x_test = scaler.transform(x_test)"
      ],
      "metadata": {
        "id": "GFgM_ZgBpNwQ"
      },
      "execution_count": 147,
      "outputs": []
    },
    {
      "cell_type": "code",
      "source": [
        "x_train"
      ],
      "metadata": {
        "colab": {
          "base_uri": "https://localhost:8080/"
        },
        "id": "zfiifIBZptlJ",
        "outputId": "590f0f68-b6b2-455c-9546-94e91a7622b2"
      },
      "execution_count": 148,
      "outputs": [
        {
          "output_type": "execute_result",
          "data": {
            "text/plain": [
              "array([[-2.73973866e+00,  7.71611700e+00, -1.08352810e+00, ...,\n",
              "        -2.06147448e-03, -1.04772156e+00, -7.96894340e-01],\n",
              "       [ 3.48428755e-01, -1.29598864e-01, -1.08352810e+00, ...,\n",
              "        -8.13251682e-01, -1.07659422e+00, -5.28542626e-01],\n",
              "       [ 3.48428755e-01, -1.29598864e-01, -1.08352810e+00, ...,\n",
              "        -8.13251682e-01,  2.05667232e-02, -7.07443769e-01],\n",
              "       ...,\n",
              "       [ 9.02715214e-01, -1.29598864e-01,  9.22910996e-01, ...,\n",
              "         8.09128733e-01,  1.69518079e+00,  1.43936994e+00],\n",
              "       [ 1.10877415e-01, -1.29598864e-01,  9.22910996e-01, ...,\n",
              "         8.09128733e-01,  2.05667232e-02,  1.43936994e+00],\n",
              "       [ 3.48428755e-01, -1.29598864e-01,  9.22910996e-01, ...,\n",
              "        -8.13251682e-01,  1.69518079e+00,  1.43936994e+00]])"
            ]
          },
          "metadata": {},
          "execution_count": 148
        }
      ]
    },
    {
      "cell_type": "code",
      "source": [
        "lr = LinearRegression()\n",
        "lr.fit(x_train , y_train)\n",
        "r2_score(y_test, lr.predict(x_test))"
      ],
      "metadata": {
        "id": "mZf1UT1CphEP",
        "colab": {
          "base_uri": "https://localhost:8080/"
        },
        "outputId": "ad9e6ecc-5b1a-4bf2-bb1a-9203de7515ed"
      },
      "execution_count": 149,
      "outputs": [
        {
          "output_type": "execute_result",
          "data": {
            "text/plain": [
              "0.6925402015533848"
            ]
          },
          "metadata": {},
          "execution_count": 149
        }
      ]
    },
    {
      "cell_type": "markdown",
      "source": [
        "<p color = 'green'>  accuracy of Linear Regression : 69.25%"
      ],
      "metadata": {
        "id": "RZVfD3Hqsthn"
      }
    },
    {
      "cell_type": "code",
      "source": [
        "ridge = Ridge(alpha = 10)\n",
        "ridge.fit(x_train ,y_train)\n",
        "r2_score(y_test, ridge.predict(x_test))"
      ],
      "metadata": {
        "colab": {
          "base_uri": "https://localhost:8080/"
        },
        "id": "aX3C7X-6lsE-",
        "outputId": "55c724c1-4f3d-43cd-a75d-dbb70a13c8f6"
      },
      "execution_count": 150,
      "outputs": [
        {
          "output_type": "execute_result",
          "data": {
            "text/plain": [
              "0.6924079719892317"
            ]
          },
          "metadata": {},
          "execution_count": 150
        }
      ]
    },
    {
      "cell_type": "markdown",
      "source": [
        "<p color = 'green'>  accuracy of Ridge Regression : 69.24%"
      ],
      "metadata": {
        "id": "XbRurCQUs9tq"
      }
    },
    {
      "cell_type": "code",
      "source": [
        "dt = DecisionTreeRegressor(max_depth = 9)\n",
        "dt.fit(x_train , y_train)\n",
        "\n",
        "print( 'training',r2_score(y_train, dt.predict(x_train)))\n",
        "print('testing',r2_score(y_test, dt.predict(x_test)))\n",
        "# plot_tree(dt)"
      ],
      "metadata": {
        "colab": {
          "base_uri": "https://localhost:8080/"
        },
        "id": "KqVclmRuqdVl",
        "outputId": "d35d3baa-3527-4759-dfca-562c5a5d5d74"
      },
      "execution_count": 151,
      "outputs": [
        {
          "output_type": "stream",
          "name": "stdout",
          "text": [
            "training 0.9633149085487126\n",
            "testing 0.7213848523509443\n"
          ]
        }
      ]
    },
    {
      "cell_type": "markdown",
      "source": [
        "<p color = 'green'>  accuracy of Decision tree regressior : 72.13%"
      ],
      "metadata": {
        "id": "B_GJiHyPtJPL"
      }
    },
    {
      "cell_type": "code",
      "source": [
        "rf = RandomForestRegressor()\n",
        "rf.fit(x_train , y_train)\n",
        "print( 'training',r2_score(y_train, rf.predict(x_train)))\n",
        "print('testing',r2_score(y_test, rf.predict(x_test)))"
      ],
      "metadata": {
        "colab": {
          "base_uri": "https://localhost:8080/"
        },
        "id": "GKWFTMV3r8uf",
        "outputId": "3c81d756-462a-4e3d-a842-4bdf2d19c6a9"
      },
      "execution_count": 152,
      "outputs": [
        {
          "output_type": "stream",
          "name": "stdout",
          "text": [
            "training 0.9697943884523589\n",
            "testing 0.7933985574692848\n"
          ]
        }
      ]
    },
    {
      "cell_type": "markdown",
      "source": [
        "<p color = 'green'>  accuracy of Random forest Regressior : 79.33%"
      ],
      "metadata": {
        "id": "vMWkdEvBtS8C"
      }
    },
    {
      "cell_type": "code",
      "source": [
        "for i in range(1, 100):\n",
        "  xg_r = xg.XGBRegressor(n_estimators = i)\n",
        "  xg_r.fit(x_train ,y_train)\n",
        "  print( i , r2_score(y_test, xg_r.predict(x_test)))"
      ],
      "metadata": {
        "id": "8fEhI82ouXoI",
        "colab": {
          "base_uri": "https://localhost:8080/"
        },
        "outputId": "96298a76-6baa-4c15-ad40-9cb019c60512"
      },
      "execution_count": 153,
      "outputs": [
        {
          "output_type": "stream",
          "name": "stdout",
          "text": [
            "1 0.3463468673049276\n",
            "2 0.546256039642876\n",
            "3 0.6381989209687462\n",
            "4 0.7068589212340353\n",
            "5 0.7426273520567133\n",
            "6 0.765282023962608\n",
            "7 0.7753684134261063\n",
            "8 0.7852738042556113\n",
            "9 0.7913645180234206\n",
            "10 0.794252675992347\n",
            "11 0.7974065023803568\n",
            "12 0.800605782058145\n",
            "13 0.8034626031503618\n",
            "14 0.8050662642612754\n",
            "15 0.8064540620966643\n",
            "16 0.8075982198185006\n",
            "17 0.807871092998849\n",
            "18 0.807662233910165\n",
            "19 0.8086393222242119\n",
            "20 0.8128883905040135\n",
            "21 0.8123496450635901\n",
            "22 0.8119490774002527\n",
            "23 0.8133181398203111\n",
            "24 0.8132689517040935\n",
            "25 0.812064646598975\n",
            "26 0.8114241135530778\n",
            "27 0.8112726178941214\n",
            "28 0.811142145658542\n",
            "29 0.8120186444613118\n",
            "30 0.8126962054544418\n",
            "31 0.8134912854674743\n",
            "32 0.8103093022794959\n",
            "33 0.809875237640683\n",
            "34 0.8105640265438292\n",
            "35 0.8110627335425731\n",
            "36 0.8122515348826651\n",
            "37 0.8142939376218965\n",
            "38 0.8133762488293587\n",
            "39 0.81264427005969\n",
            "40 0.8126810659011449\n",
            "41 0.8131664231198232\n",
            "42 0.8133788981454033\n",
            "43 0.8135262661762759\n",
            "44 0.8132530277716138\n",
            "45 0.8130889504530365\n",
            "46 0.813152344464583\n",
            "47 0.8130363346756031\n",
            "48 0.8129918091941863\n",
            "49 0.8130312209708115\n",
            "50 0.813948776741311\n",
            "51 0.8134875586855499\n",
            "52 0.8129948380648414\n",
            "53 0.8135862646029929\n",
            "54 0.8139771443132526\n",
            "55 0.8138371573249179\n",
            "56 0.8134602275511941\n",
            "57 0.8135433390369977\n",
            "58 0.8140991828170547\n",
            "59 0.814079884463545\n",
            "60 0.8140648151060816\n",
            "61 0.814492881428737\n",
            "62 0.8146858868074202\n",
            "63 0.8145495363903874\n",
            "64 0.814446996419175\n",
            "65 0.8144170209144608\n",
            "66 0.8141187301029842\n",
            "67 0.8143122342703069\n",
            "68 0.8147464211474181\n",
            "69 0.8145139894617976\n",
            "70 0.8146732410624933\n",
            "71 0.8146340373320066\n",
            "72 0.8149903364917831\n",
            "73 0.81471909958913\n",
            "74 0.8145239760023653\n",
            "75 0.8146857102502878\n",
            "76 0.8152294702640757\n",
            "77 0.8151527730848871\n",
            "78 0.8152568059898839\n",
            "79 0.8152187154098094\n",
            "80 0.8151236794415289\n",
            "81 0.8151933694695248\n",
            "82 0.8157872709081817\n",
            "83 0.8157317585007038\n",
            "84 0.8158634688437008\n",
            "85 0.8155420477110471\n",
            "86 0.8154761826350058\n",
            "87 0.8152966288490657\n",
            "88 0.8152820572467674\n",
            "89 0.8152393712053931\n",
            "90 0.815224514488208\n",
            "91 0.8153338748895302\n",
            "92 0.8151417546046962\n",
            "93 0.8152463549107771\n",
            "94 0.8154353518604138\n",
            "95 0.8151779399721355\n",
            "96 0.8154250834217897\n",
            "97 0.8154007552778562\n",
            "98 0.8156443302022485\n",
            "99 0.8157812506042292\n"
          ]
        }
      ]
    },
    {
      "cell_type": "code",
      "source": [
        "print( 'training',r2_score(y_train, xg_r.predict(x_train)))\n",
        "print('testing',r2_score(y_test, xg_r.predict(x_test)))"
      ],
      "metadata": {
        "colab": {
          "base_uri": "https://localhost:8080/"
        },
        "id": "vkDPDRCukpQA",
        "outputId": "b08c0744-ae8e-4774-eadc-fe002d0e1228"
      },
      "execution_count": 154,
      "outputs": [
        {
          "output_type": "stream",
          "name": "stdout",
          "text": [
            "training 0.9946443550706394\n",
            "testing 0.8157812506042292\n"
          ]
        }
      ]
    },
    {
      "cell_type": "markdown",
      "source": [
        "<p color = 'green'>  accuracy of xg Boost Regression : 81.57%"
      ],
      "metadata": {
        "id": "z6Ogal-jtdsB"
      }
    },
    {
      "cell_type": "code",
      "source": [],
      "metadata": {
        "id": "BPiMFDpzkvRX"
      },
      "execution_count": 154,
      "outputs": []
    }
  ]
}