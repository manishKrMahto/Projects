{
  "nbformat": 4,
  "nbformat_minor": 0,
  "metadata": {
    "colab": {
      "provenance": []
    },
    "kernelspec": {
      "name": "python3",
      "display_name": "Python 3"
    },
    "language_info": {
      "name": "python"
    }
  },
  "cells": [
    {
      "cell_type": "code",
      "execution_count": 110,
      "metadata": {
        "id": "4799h7yZvR-W"
      },
      "outputs": [],
      "source": [
        "import numpy as np\n",
        "import pandas as pd\n",
        "import matplotlib.pyplot as plt\n",
        "import seaborn as sns"
      ]
    },
    {
      "cell_type": "markdown",
      "source": [
        "# Data Collection"
      ],
      "metadata": {
        "id": "XZsT7_XEmQyl"
      }
    },
    {
      "cell_type": "code",
      "source": [
        "df = pd.read_csv('/content/smartphones - smartphones.csv')"
      ],
      "metadata": {
        "id": "H2dzeR57vfKg"
      },
      "execution_count": 111,
      "outputs": []
    },
    {
      "cell_type": "markdown",
      "source": [
        "# Data assessing"
      ],
      "metadata": {
        "id": "TcxZRaXgmXHd"
      }
    },
    {
      "cell_type": "markdown",
      "source": [
        "- extracting `brand column` from `model column`\n",
        "- removing unwanted things(rupees symbol and comma) from `price column`\n",
        "- filling missing values of `rating column` with it's mean\n",
        "- in `sim column` rename \"Wi-Fi\" --> \"no sim\"\n",
        "- from `sim column` extracting sim type only\n",
        "- making `is 5g column` from `sim column`\n",
        "- from `processor column` extracting `processor name` and `no of core `\n",
        "- from `ram column` extracting `RAM` and `ROM`\n",
        "- from `battery column` extracting `battery mAh` , `charger watt` , `is fast charging `\n",
        "- from `display column` extracting `display size in inches` , `resolution` , `Hz` , `notch` .\n",
        "- from `camera column` extracting `rear camera count` , `rear prmary camera pixel` , `front primary camera `.\n",
        "- removing `card` and` os` column because of too much nan values\n",
        "- removing in currect values from each columns ."
      ],
      "metadata": {
        "id": "oyc4PQTXrzrH"
      }
    },
    {
      "cell_type": "code",
      "source": [
        "df.shape"
      ],
      "metadata": {
        "colab": {
          "base_uri": "https://localhost:8080/"
        },
        "id": "BwrdfykNviec",
        "outputId": "986ebfaa-129c-4b58-d338-5733d0baf42d"
      },
      "execution_count": 112,
      "outputs": [
        {
          "output_type": "execute_result",
          "data": {
            "text/plain": [
              "(1020, 11)"
            ]
          },
          "metadata": {},
          "execution_count": 112
        }
      ]
    },
    {
      "cell_type": "code",
      "source": [
        "df.columns"
      ],
      "metadata": {
        "colab": {
          "base_uri": "https://localhost:8080/"
        },
        "id": "RT-VH2SZ_SUw",
        "outputId": "1e3c4c76-1ba4-4ed4-cee5-2386f327540b"
      },
      "execution_count": 113,
      "outputs": [
        {
          "output_type": "execute_result",
          "data": {
            "text/plain": [
              "Index(['model', 'price', 'rating', 'sim', 'processor', 'ram', 'battery',\n",
              "       'display', 'camera', 'card', 'os'],\n",
              "      dtype='object')"
            ]
          },
          "metadata": {},
          "execution_count": 113
        }
      ]
    },
    {
      "cell_type": "code",
      "source": [
        "df.head(3)"
      ],
      "metadata": {
        "colab": {
          "base_uri": "https://localhost:8080/",
          "height": 248
        },
        "id": "qdUndnIIvkgt",
        "outputId": "3b7d24d0-f6a3-4549-c431-d4e05653336f"
      },
      "execution_count": 114,
      "outputs": [
        {
          "output_type": "execute_result",
          "data": {
            "text/plain": [
              "                       model    price  rating  \\\n",
              "0              OnePlus 11 5G  ₹54,999    89.0   \n",
              "1  OnePlus Nord CE 2 Lite 5G  ₹19,989    81.0   \n",
              "2      Samsung Galaxy A14 5G  ₹16,499    75.0   \n",
              "\n",
              "                                       sim  \\\n",
              "0  Dual Sim, 3G, 4G, 5G, VoLTE, Wi-Fi, NFC   \n",
              "1       Dual Sim, 3G, 4G, 5G, VoLTE, Wi-Fi   \n",
              "2       Dual Sim, 3G, 4G, 5G, VoLTE, Wi-Fi   \n",
              "\n",
              "                                         processor                        ram  \\\n",
              "0  Snapdragon 8 Gen2, Octa Core, 3.2 GHz Processor  12 GB RAM, 256 GB inbuilt   \n",
              "1     Snapdragon 695, Octa Core, 2.2 GHz Processor   6 GB RAM, 128 GB inbuilt   \n",
              "2        Exynos 1330, Octa Core, 2.4 GHz Processor    4 GB RAM, 64 GB inbuilt   \n",
              "\n",
              "                                    battery  \\\n",
              "0  5000 mAh Battery with 100W Fast Charging   \n",
              "1   5000 mAh Battery with 33W Fast Charging   \n",
              "2   5000 mAh Battery with 15W Fast Charging   \n",
              "\n",
              "                                             display  \\\n",
              "0  6.7 inches, 1440 x 3216 px, 120 Hz Display wit...   \n",
              "1  6.59 inches, 1080 x 2412 px, 120 Hz Display wi...   \n",
              "2  6.6 inches, 1080 x 2408 px, 90 Hz Display with...   \n",
              "\n",
              "                                              camera  \\\n",
              "0  50 MP + 48 MP + 32 MP Triple Rear & 16 MP Fron...   \n",
              "1  64 MP + 2 MP + 2 MP Triple Rear & 16 MP Front ...   \n",
              "2  50 MP + 2 MP + 2 MP Triple Rear & 13 MP Front ...   \n",
              "\n",
              "                               card           os  \n",
              "0         Memory Card Not Supported  Android v13  \n",
              "1   Memory Card (Hybrid), upto 1 TB  Android v12  \n",
              "2  Memory Card Supported, upto 1 TB  Android v13  "
            ],
            "text/html": [
              "\n",
              "  <div id=\"df-d99c9d44-0a5a-438b-8cdf-31f47485febc\" class=\"colab-df-container\">\n",
              "    <div>\n",
              "<style scoped>\n",
              "    .dataframe tbody tr th:only-of-type {\n",
              "        vertical-align: middle;\n",
              "    }\n",
              "\n",
              "    .dataframe tbody tr th {\n",
              "        vertical-align: top;\n",
              "    }\n",
              "\n",
              "    .dataframe thead th {\n",
              "        text-align: right;\n",
              "    }\n",
              "</style>\n",
              "<table border=\"1\" class=\"dataframe\">\n",
              "  <thead>\n",
              "    <tr style=\"text-align: right;\">\n",
              "      <th></th>\n",
              "      <th>model</th>\n",
              "      <th>price</th>\n",
              "      <th>rating</th>\n",
              "      <th>sim</th>\n",
              "      <th>processor</th>\n",
              "      <th>ram</th>\n",
              "      <th>battery</th>\n",
              "      <th>display</th>\n",
              "      <th>camera</th>\n",
              "      <th>card</th>\n",
              "      <th>os</th>\n",
              "    </tr>\n",
              "  </thead>\n",
              "  <tbody>\n",
              "    <tr>\n",
              "      <th>0</th>\n",
              "      <td>OnePlus 11 5G</td>\n",
              "      <td>₹54,999</td>\n",
              "      <td>89.0</td>\n",
              "      <td>Dual Sim, 3G, 4G, 5G, VoLTE, Wi-Fi, NFC</td>\n",
              "      <td>Snapdragon 8 Gen2, Octa Core, 3.2 GHz Processor</td>\n",
              "      <td>12 GB RAM, 256 GB inbuilt</td>\n",
              "      <td>5000 mAh Battery with 100W Fast Charging</td>\n",
              "      <td>6.7 inches, 1440 x 3216 px, 120 Hz Display wit...</td>\n",
              "      <td>50 MP + 48 MP + 32 MP Triple Rear &amp; 16 MP Fron...</td>\n",
              "      <td>Memory Card Not Supported</td>\n",
              "      <td>Android v13</td>\n",
              "    </tr>\n",
              "    <tr>\n",
              "      <th>1</th>\n",
              "      <td>OnePlus Nord CE 2 Lite 5G</td>\n",
              "      <td>₹19,989</td>\n",
              "      <td>81.0</td>\n",
              "      <td>Dual Sim, 3G, 4G, 5G, VoLTE, Wi-Fi</td>\n",
              "      <td>Snapdragon 695, Octa Core, 2.2 GHz Processor</td>\n",
              "      <td>6 GB RAM, 128 GB inbuilt</td>\n",
              "      <td>5000 mAh Battery with 33W Fast Charging</td>\n",
              "      <td>6.59 inches, 1080 x 2412 px, 120 Hz Display wi...</td>\n",
              "      <td>64 MP + 2 MP + 2 MP Triple Rear &amp; 16 MP Front ...</td>\n",
              "      <td>Memory Card (Hybrid), upto 1 TB</td>\n",
              "      <td>Android v12</td>\n",
              "    </tr>\n",
              "    <tr>\n",
              "      <th>2</th>\n",
              "      <td>Samsung Galaxy A14 5G</td>\n",
              "      <td>₹16,499</td>\n",
              "      <td>75.0</td>\n",
              "      <td>Dual Sim, 3G, 4G, 5G, VoLTE, Wi-Fi</td>\n",
              "      <td>Exynos 1330, Octa Core, 2.4 GHz Processor</td>\n",
              "      <td>4 GB RAM, 64 GB inbuilt</td>\n",
              "      <td>5000 mAh Battery with 15W Fast Charging</td>\n",
              "      <td>6.6 inches, 1080 x 2408 px, 90 Hz Display with...</td>\n",
              "      <td>50 MP + 2 MP + 2 MP Triple Rear &amp; 13 MP Front ...</td>\n",
              "      <td>Memory Card Supported, upto 1 TB</td>\n",
              "      <td>Android v13</td>\n",
              "    </tr>\n",
              "  </tbody>\n",
              "</table>\n",
              "</div>\n",
              "    <div class=\"colab-df-buttons\">\n",
              "\n",
              "  <div class=\"colab-df-container\">\n",
              "    <button class=\"colab-df-convert\" onclick=\"convertToInteractive('df-d99c9d44-0a5a-438b-8cdf-31f47485febc')\"\n",
              "            title=\"Convert this dataframe to an interactive table.\"\n",
              "            style=\"display:none;\">\n",
              "\n",
              "  <svg xmlns=\"http://www.w3.org/2000/svg\" height=\"24px\" viewBox=\"0 -960 960 960\">\n",
              "    <path d=\"M120-120v-720h720v720H120Zm60-500h600v-160H180v160Zm220 220h160v-160H400v160Zm0 220h160v-160H400v160ZM180-400h160v-160H180v160Zm440 0h160v-160H620v160ZM180-180h160v-160H180v160Zm440 0h160v-160H620v160Z\"/>\n",
              "  </svg>\n",
              "    </button>\n",
              "\n",
              "  <style>\n",
              "    .colab-df-container {\n",
              "      display:flex;\n",
              "      gap: 12px;\n",
              "    }\n",
              "\n",
              "    .colab-df-convert {\n",
              "      background-color: #E8F0FE;\n",
              "      border: none;\n",
              "      border-radius: 50%;\n",
              "      cursor: pointer;\n",
              "      display: none;\n",
              "      fill: #1967D2;\n",
              "      height: 32px;\n",
              "      padding: 0 0 0 0;\n",
              "      width: 32px;\n",
              "    }\n",
              "\n",
              "    .colab-df-convert:hover {\n",
              "      background-color: #E2EBFA;\n",
              "      box-shadow: 0px 1px 2px rgba(60, 64, 67, 0.3), 0px 1px 3px 1px rgba(60, 64, 67, 0.15);\n",
              "      fill: #174EA6;\n",
              "    }\n",
              "\n",
              "    .colab-df-buttons div {\n",
              "      margin-bottom: 4px;\n",
              "    }\n",
              "\n",
              "    [theme=dark] .colab-df-convert {\n",
              "      background-color: #3B4455;\n",
              "      fill: #D2E3FC;\n",
              "    }\n",
              "\n",
              "    [theme=dark] .colab-df-convert:hover {\n",
              "      background-color: #434B5C;\n",
              "      box-shadow: 0px 1px 3px 1px rgba(0, 0, 0, 0.15);\n",
              "      filter: drop-shadow(0px 1px 2px rgba(0, 0, 0, 0.3));\n",
              "      fill: #FFFFFF;\n",
              "    }\n",
              "  </style>\n",
              "\n",
              "    <script>\n",
              "      const buttonEl =\n",
              "        document.querySelector('#df-d99c9d44-0a5a-438b-8cdf-31f47485febc button.colab-df-convert');\n",
              "      buttonEl.style.display =\n",
              "        google.colab.kernel.accessAllowed ? 'block' : 'none';\n",
              "\n",
              "      async function convertToInteractive(key) {\n",
              "        const element = document.querySelector('#df-d99c9d44-0a5a-438b-8cdf-31f47485febc');\n",
              "        const dataTable =\n",
              "          await google.colab.kernel.invokeFunction('convertToInteractive',\n",
              "                                                    [key], {});\n",
              "        if (!dataTable) return;\n",
              "\n",
              "        const docLinkHtml = 'Like what you see? Visit the ' +\n",
              "          '<a target=\"_blank\" href=https://colab.research.google.com/notebooks/data_table.ipynb>data table notebook</a>'\n",
              "          + ' to learn more about interactive tables.';\n",
              "        element.innerHTML = '';\n",
              "        dataTable['output_type'] = 'display_data';\n",
              "        await google.colab.output.renderOutput(dataTable, element);\n",
              "        const docLink = document.createElement('div');\n",
              "        docLink.innerHTML = docLinkHtml;\n",
              "        element.appendChild(docLink);\n",
              "      }\n",
              "    </script>\n",
              "  </div>\n",
              "\n",
              "\n",
              "<div id=\"df-da0b7d69-d410-4391-9833-3daad40b3b94\">\n",
              "  <button class=\"colab-df-quickchart\" onclick=\"quickchart('df-da0b7d69-d410-4391-9833-3daad40b3b94')\"\n",
              "            title=\"Suggest charts\"\n",
              "            style=\"display:none;\">\n",
              "\n",
              "<svg xmlns=\"http://www.w3.org/2000/svg\" height=\"24px\"viewBox=\"0 0 24 24\"\n",
              "     width=\"24px\">\n",
              "    <g>\n",
              "        <path d=\"M19 3H5c-1.1 0-2 .9-2 2v14c0 1.1.9 2 2 2h14c1.1 0 2-.9 2-2V5c0-1.1-.9-2-2-2zM9 17H7v-7h2v7zm4 0h-2V7h2v10zm4 0h-2v-4h2v4z\"/>\n",
              "    </g>\n",
              "</svg>\n",
              "  </button>\n",
              "\n",
              "<style>\n",
              "  .colab-df-quickchart {\n",
              "      --bg-color: #E8F0FE;\n",
              "      --fill-color: #1967D2;\n",
              "      --hover-bg-color: #E2EBFA;\n",
              "      --hover-fill-color: #174EA6;\n",
              "      --disabled-fill-color: #AAA;\n",
              "      --disabled-bg-color: #DDD;\n",
              "  }\n",
              "\n",
              "  [theme=dark] .colab-df-quickchart {\n",
              "      --bg-color: #3B4455;\n",
              "      --fill-color: #D2E3FC;\n",
              "      --hover-bg-color: #434B5C;\n",
              "      --hover-fill-color: #FFFFFF;\n",
              "      --disabled-bg-color: #3B4455;\n",
              "      --disabled-fill-color: #666;\n",
              "  }\n",
              "\n",
              "  .colab-df-quickchart {\n",
              "    background-color: var(--bg-color);\n",
              "    border: none;\n",
              "    border-radius: 50%;\n",
              "    cursor: pointer;\n",
              "    display: none;\n",
              "    fill: var(--fill-color);\n",
              "    height: 32px;\n",
              "    padding: 0;\n",
              "    width: 32px;\n",
              "  }\n",
              "\n",
              "  .colab-df-quickchart:hover {\n",
              "    background-color: var(--hover-bg-color);\n",
              "    box-shadow: 0 1px 2px rgba(60, 64, 67, 0.3), 0 1px 3px 1px rgba(60, 64, 67, 0.15);\n",
              "    fill: var(--button-hover-fill-color);\n",
              "  }\n",
              "\n",
              "  .colab-df-quickchart-complete:disabled,\n",
              "  .colab-df-quickchart-complete:disabled:hover {\n",
              "    background-color: var(--disabled-bg-color);\n",
              "    fill: var(--disabled-fill-color);\n",
              "    box-shadow: none;\n",
              "  }\n",
              "\n",
              "  .colab-df-spinner {\n",
              "    border: 2px solid var(--fill-color);\n",
              "    border-color: transparent;\n",
              "    border-bottom-color: var(--fill-color);\n",
              "    animation:\n",
              "      spin 1s steps(1) infinite;\n",
              "  }\n",
              "\n",
              "  @keyframes spin {\n",
              "    0% {\n",
              "      border-color: transparent;\n",
              "      border-bottom-color: var(--fill-color);\n",
              "      border-left-color: var(--fill-color);\n",
              "    }\n",
              "    20% {\n",
              "      border-color: transparent;\n",
              "      border-left-color: var(--fill-color);\n",
              "      border-top-color: var(--fill-color);\n",
              "    }\n",
              "    30% {\n",
              "      border-color: transparent;\n",
              "      border-left-color: var(--fill-color);\n",
              "      border-top-color: var(--fill-color);\n",
              "      border-right-color: var(--fill-color);\n",
              "    }\n",
              "    40% {\n",
              "      border-color: transparent;\n",
              "      border-right-color: var(--fill-color);\n",
              "      border-top-color: var(--fill-color);\n",
              "    }\n",
              "    60% {\n",
              "      border-color: transparent;\n",
              "      border-right-color: var(--fill-color);\n",
              "    }\n",
              "    80% {\n",
              "      border-color: transparent;\n",
              "      border-right-color: var(--fill-color);\n",
              "      border-bottom-color: var(--fill-color);\n",
              "    }\n",
              "    90% {\n",
              "      border-color: transparent;\n",
              "      border-bottom-color: var(--fill-color);\n",
              "    }\n",
              "  }\n",
              "</style>\n",
              "\n",
              "  <script>\n",
              "    async function quickchart(key) {\n",
              "      const quickchartButtonEl =\n",
              "        document.querySelector('#' + key + ' button');\n",
              "      quickchartButtonEl.disabled = true;  // To prevent multiple clicks.\n",
              "      quickchartButtonEl.classList.add('colab-df-spinner');\n",
              "      try {\n",
              "        const charts = await google.colab.kernel.invokeFunction(\n",
              "            'suggestCharts', [key], {});\n",
              "      } catch (error) {\n",
              "        console.error('Error during call to suggestCharts:', error);\n",
              "      }\n",
              "      quickchartButtonEl.classList.remove('colab-df-spinner');\n",
              "      quickchartButtonEl.classList.add('colab-df-quickchart-complete');\n",
              "    }\n",
              "    (() => {\n",
              "      let quickchartButtonEl =\n",
              "        document.querySelector('#df-da0b7d69-d410-4391-9833-3daad40b3b94 button');\n",
              "      quickchartButtonEl.style.display =\n",
              "        google.colab.kernel.accessAllowed ? 'block' : 'none';\n",
              "    })();\n",
              "  </script>\n",
              "</div>\n",
              "\n",
              "    </div>\n",
              "  </div>\n"
            ],
            "application/vnd.google.colaboratory.intrinsic+json": {
              "type": "dataframe",
              "variable_name": "df",
              "summary": "{\n  \"name\": \"df\",\n  \"rows\": 1020,\n  \"fields\": [\n    {\n      \"column\": \"model\",\n      \"properties\": {\n        \"dtype\": \"string\",\n        \"num_unique_values\": 1020,\n        \"samples\": [\n          \"Realme 9 Pro Plus 5G (8GB RAM + 256GB)\",\n          \"Vivo V21\",\n          \"Realme GT 2 Pro 5G\"\n        ],\n        \"semantic_type\": \"\",\n        \"description\": \"\"\n      }\n    },\n    {\n      \"column\": \"price\",\n      \"properties\": {\n        \"dtype\": \"category\",\n        \"num_unique_values\": 412,\n        \"samples\": [\n          \"\\u20b919,980\",\n          \"\\u20b99,499\",\n          \"\\u20b91,762\"\n        ],\n        \"semantic_type\": \"\",\n        \"description\": \"\"\n      }\n    },\n    {\n      \"column\": \"rating\",\n      \"properties\": {\n        \"dtype\": \"number\",\n        \"std\": 7.402854348688586,\n        \"min\": 60.0,\n        \"max\": 89.0,\n        \"num_unique_values\": 30,\n        \"samples\": [\n          60.0,\n          73.0,\n          67.0\n        ],\n        \"semantic_type\": \"\",\n        \"description\": \"\"\n      }\n    },\n    {\n      \"column\": \"sim\",\n      \"properties\": {\n        \"dtype\": \"category\",\n        \"num_unique_values\": 28,\n        \"samples\": [\n          \"Single Sim, 3G, 4G, VoLTE, Wi-Fi, NFC\",\n          \"Dual Sim, 3G, 4G, 5G, VoLTE, Vo5G, Wi-Fi, IR Blaster\",\n          \"Dual Sim, 3G, 4G, Wi-Fi\"\n        ],\n        \"semantic_type\": \"\",\n        \"description\": \"\"\n      }\n    },\n    {\n      \"column\": \"processor\",\n      \"properties\": {\n        \"dtype\": \"category\",\n        \"num_unique_values\": 298,\n        \"samples\": [\n          \"Helio  P35, Octa Core, 2.3\\u2009GHz Processor\",\n          \"Samsung Exynos 7885, Octa Core, 2.2\\u2009GHz Processor\",\n          \"1.77\\u2009MHz Processor\"\n        ],\n        \"semantic_type\": \"\",\n        \"description\": \"\"\n      }\n    },\n    {\n      \"column\": \"ram\",\n      \"properties\": {\n        \"dtype\": \"category\",\n        \"num_unique_values\": 58,\n        \"samples\": [\n          \"12\\u2009GB RAM, 256\\u2009GB inbuilt\",\n          \"4\\u2009GB RAM, 128\\u2009GB inbuilt\",\n          \"1325\\u2009mAh Battery\"\n        ],\n        \"semantic_type\": \"\",\n        \"description\": \"\"\n      }\n    },\n    {\n      \"column\": \"battery\",\n      \"properties\": {\n        \"dtype\": \"category\",\n        \"num_unique_values\": 256,\n        \"samples\": [\n          \"7000\\u2009mAh Battery\",\n          \"3279\\u2009mAh Battery with Fast Charging\",\n          \"7000\\u2009mAh Battery with 33W Fast Charging\"\n        ],\n        \"semantic_type\": \"\",\n        \"description\": \"\"\n      }\n    },\n    {\n      \"column\": \"display\",\n      \"properties\": {\n        \"dtype\": \"category\",\n        \"num_unique_values\": 369,\n        \"samples\": [\n          \"6.62 inches, 2400\\u2009x\\u20091080\\u2009px, 120 Hz Display with Punch Hole\",\n          \"6.6 inches, 1080\\u2009x\\u20092408\\u2009px, 90 Hz Display with Punch Hole\",\n          \"6.56 inches, 1080\\u2009x\\u20092376\\u2009px, 120 Hz Display with Punch Hole\"\n        ],\n        \"semantic_type\": \"\",\n        \"description\": \"\"\n      }\n    },\n    {\n      \"column\": \"camera\",\n      \"properties\": {\n        \"dtype\": \"category\",\n        \"num_unique_values\": 285,\n        \"samples\": [\n          \"50\\u2009MP + 8\\u2009MP + 2\\u2009MP Triple Rear & 32\\u2009MP Front Camera\",\n          \"12\\u2009MP + 2\\u2009MP + 2\\u2009MP Triple Rear & 8\\u2009MP Front Camera\",\n          \"0.3\\u2009MP Rear Camera\"\n        ],\n        \"semantic_type\": \"\",\n        \"description\": \"\"\n      }\n    },\n    {\n      \"column\": \"card\",\n      \"properties\": {\n        \"dtype\": \"category\",\n        \"num_unique_values\": 63,\n        \"samples\": [\n          \"48\\u2009MP Quad Rear Camera\",\n          \"5\\u2009MP Rear & 2\\u2009MP Front Camera\",\n          \"Memory Card Not Supported\"\n        ],\n        \"semantic_type\": \"\",\n        \"description\": \"\"\n      }\n    },\n    {\n      \"column\": \"os\",\n      \"properties\": {\n        \"dtype\": \"category\",\n        \"num_unique_values\": 48,\n        \"samples\": [\n          \"Android v5.1.1 (Lollipop)\",\n          \"HarmonyOS v2.0\",\n          \"Android v5.1 (Lollipop)\"\n        ],\n        \"semantic_type\": \"\",\n        \"description\": \"\"\n      }\n    }\n  ]\n}"
            }
          },
          "metadata": {},
          "execution_count": 114
        }
      ]
    },
    {
      "cell_type": "code",
      "source": [
        "df.describe()"
      ],
      "metadata": {
        "colab": {
          "base_uri": "https://localhost:8080/",
          "height": 300
        },
        "id": "M8HOz7kiGt4d",
        "outputId": "292ed4f5-8226-485b-960c-27267c5201dd"
      },
      "execution_count": 115,
      "outputs": [
        {
          "output_type": "execute_result",
          "data": {
            "text/plain": [
              "           rating\n",
              "count  879.000000\n",
              "mean    78.258248\n",
              "std      7.402854\n",
              "min     60.000000\n",
              "25%     74.000000\n",
              "50%     80.000000\n",
              "75%     84.000000\n",
              "max     89.000000"
            ],
            "text/html": [
              "\n",
              "  <div id=\"df-2187638d-fa35-45b8-b5ea-cff9f81c93a5\" class=\"colab-df-container\">\n",
              "    <div>\n",
              "<style scoped>\n",
              "    .dataframe tbody tr th:only-of-type {\n",
              "        vertical-align: middle;\n",
              "    }\n",
              "\n",
              "    .dataframe tbody tr th {\n",
              "        vertical-align: top;\n",
              "    }\n",
              "\n",
              "    .dataframe thead th {\n",
              "        text-align: right;\n",
              "    }\n",
              "</style>\n",
              "<table border=\"1\" class=\"dataframe\">\n",
              "  <thead>\n",
              "    <tr style=\"text-align: right;\">\n",
              "      <th></th>\n",
              "      <th>rating</th>\n",
              "    </tr>\n",
              "  </thead>\n",
              "  <tbody>\n",
              "    <tr>\n",
              "      <th>count</th>\n",
              "      <td>879.000000</td>\n",
              "    </tr>\n",
              "    <tr>\n",
              "      <th>mean</th>\n",
              "      <td>78.258248</td>\n",
              "    </tr>\n",
              "    <tr>\n",
              "      <th>std</th>\n",
              "      <td>7.402854</td>\n",
              "    </tr>\n",
              "    <tr>\n",
              "      <th>min</th>\n",
              "      <td>60.000000</td>\n",
              "    </tr>\n",
              "    <tr>\n",
              "      <th>25%</th>\n",
              "      <td>74.000000</td>\n",
              "    </tr>\n",
              "    <tr>\n",
              "      <th>50%</th>\n",
              "      <td>80.000000</td>\n",
              "    </tr>\n",
              "    <tr>\n",
              "      <th>75%</th>\n",
              "      <td>84.000000</td>\n",
              "    </tr>\n",
              "    <tr>\n",
              "      <th>max</th>\n",
              "      <td>89.000000</td>\n",
              "    </tr>\n",
              "  </tbody>\n",
              "</table>\n",
              "</div>\n",
              "    <div class=\"colab-df-buttons\">\n",
              "\n",
              "  <div class=\"colab-df-container\">\n",
              "    <button class=\"colab-df-convert\" onclick=\"convertToInteractive('df-2187638d-fa35-45b8-b5ea-cff9f81c93a5')\"\n",
              "            title=\"Convert this dataframe to an interactive table.\"\n",
              "            style=\"display:none;\">\n",
              "\n",
              "  <svg xmlns=\"http://www.w3.org/2000/svg\" height=\"24px\" viewBox=\"0 -960 960 960\">\n",
              "    <path d=\"M120-120v-720h720v720H120Zm60-500h600v-160H180v160Zm220 220h160v-160H400v160Zm0 220h160v-160H400v160ZM180-400h160v-160H180v160Zm440 0h160v-160H620v160ZM180-180h160v-160H180v160Zm440 0h160v-160H620v160Z\"/>\n",
              "  </svg>\n",
              "    </button>\n",
              "\n",
              "  <style>\n",
              "    .colab-df-container {\n",
              "      display:flex;\n",
              "      gap: 12px;\n",
              "    }\n",
              "\n",
              "    .colab-df-convert {\n",
              "      background-color: #E8F0FE;\n",
              "      border: none;\n",
              "      border-radius: 50%;\n",
              "      cursor: pointer;\n",
              "      display: none;\n",
              "      fill: #1967D2;\n",
              "      height: 32px;\n",
              "      padding: 0 0 0 0;\n",
              "      width: 32px;\n",
              "    }\n",
              "\n",
              "    .colab-df-convert:hover {\n",
              "      background-color: #E2EBFA;\n",
              "      box-shadow: 0px 1px 2px rgba(60, 64, 67, 0.3), 0px 1px 3px 1px rgba(60, 64, 67, 0.15);\n",
              "      fill: #174EA6;\n",
              "    }\n",
              "\n",
              "    .colab-df-buttons div {\n",
              "      margin-bottom: 4px;\n",
              "    }\n",
              "\n",
              "    [theme=dark] .colab-df-convert {\n",
              "      background-color: #3B4455;\n",
              "      fill: #D2E3FC;\n",
              "    }\n",
              "\n",
              "    [theme=dark] .colab-df-convert:hover {\n",
              "      background-color: #434B5C;\n",
              "      box-shadow: 0px 1px 3px 1px rgba(0, 0, 0, 0.15);\n",
              "      filter: drop-shadow(0px 1px 2px rgba(0, 0, 0, 0.3));\n",
              "      fill: #FFFFFF;\n",
              "    }\n",
              "  </style>\n",
              "\n",
              "    <script>\n",
              "      const buttonEl =\n",
              "        document.querySelector('#df-2187638d-fa35-45b8-b5ea-cff9f81c93a5 button.colab-df-convert');\n",
              "      buttonEl.style.display =\n",
              "        google.colab.kernel.accessAllowed ? 'block' : 'none';\n",
              "\n",
              "      async function convertToInteractive(key) {\n",
              "        const element = document.querySelector('#df-2187638d-fa35-45b8-b5ea-cff9f81c93a5');\n",
              "        const dataTable =\n",
              "          await google.colab.kernel.invokeFunction('convertToInteractive',\n",
              "                                                    [key], {});\n",
              "        if (!dataTable) return;\n",
              "\n",
              "        const docLinkHtml = 'Like what you see? Visit the ' +\n",
              "          '<a target=\"_blank\" href=https://colab.research.google.com/notebooks/data_table.ipynb>data table notebook</a>'\n",
              "          + ' to learn more about interactive tables.';\n",
              "        element.innerHTML = '';\n",
              "        dataTable['output_type'] = 'display_data';\n",
              "        await google.colab.output.renderOutput(dataTable, element);\n",
              "        const docLink = document.createElement('div');\n",
              "        docLink.innerHTML = docLinkHtml;\n",
              "        element.appendChild(docLink);\n",
              "      }\n",
              "    </script>\n",
              "  </div>\n",
              "\n",
              "\n",
              "<div id=\"df-ce3e0eab-97c8-4bea-a440-8264756f93ee\">\n",
              "  <button class=\"colab-df-quickchart\" onclick=\"quickchart('df-ce3e0eab-97c8-4bea-a440-8264756f93ee')\"\n",
              "            title=\"Suggest charts\"\n",
              "            style=\"display:none;\">\n",
              "\n",
              "<svg xmlns=\"http://www.w3.org/2000/svg\" height=\"24px\"viewBox=\"0 0 24 24\"\n",
              "     width=\"24px\">\n",
              "    <g>\n",
              "        <path d=\"M19 3H5c-1.1 0-2 .9-2 2v14c0 1.1.9 2 2 2h14c1.1 0 2-.9 2-2V5c0-1.1-.9-2-2-2zM9 17H7v-7h2v7zm4 0h-2V7h2v10zm4 0h-2v-4h2v4z\"/>\n",
              "    </g>\n",
              "</svg>\n",
              "  </button>\n",
              "\n",
              "<style>\n",
              "  .colab-df-quickchart {\n",
              "      --bg-color: #E8F0FE;\n",
              "      --fill-color: #1967D2;\n",
              "      --hover-bg-color: #E2EBFA;\n",
              "      --hover-fill-color: #174EA6;\n",
              "      --disabled-fill-color: #AAA;\n",
              "      --disabled-bg-color: #DDD;\n",
              "  }\n",
              "\n",
              "  [theme=dark] .colab-df-quickchart {\n",
              "      --bg-color: #3B4455;\n",
              "      --fill-color: #D2E3FC;\n",
              "      --hover-bg-color: #434B5C;\n",
              "      --hover-fill-color: #FFFFFF;\n",
              "      --disabled-bg-color: #3B4455;\n",
              "      --disabled-fill-color: #666;\n",
              "  }\n",
              "\n",
              "  .colab-df-quickchart {\n",
              "    background-color: var(--bg-color);\n",
              "    border: none;\n",
              "    border-radius: 50%;\n",
              "    cursor: pointer;\n",
              "    display: none;\n",
              "    fill: var(--fill-color);\n",
              "    height: 32px;\n",
              "    padding: 0;\n",
              "    width: 32px;\n",
              "  }\n",
              "\n",
              "  .colab-df-quickchart:hover {\n",
              "    background-color: var(--hover-bg-color);\n",
              "    box-shadow: 0 1px 2px rgba(60, 64, 67, 0.3), 0 1px 3px 1px rgba(60, 64, 67, 0.15);\n",
              "    fill: var(--button-hover-fill-color);\n",
              "  }\n",
              "\n",
              "  .colab-df-quickchart-complete:disabled,\n",
              "  .colab-df-quickchart-complete:disabled:hover {\n",
              "    background-color: var(--disabled-bg-color);\n",
              "    fill: var(--disabled-fill-color);\n",
              "    box-shadow: none;\n",
              "  }\n",
              "\n",
              "  .colab-df-spinner {\n",
              "    border: 2px solid var(--fill-color);\n",
              "    border-color: transparent;\n",
              "    border-bottom-color: var(--fill-color);\n",
              "    animation:\n",
              "      spin 1s steps(1) infinite;\n",
              "  }\n",
              "\n",
              "  @keyframes spin {\n",
              "    0% {\n",
              "      border-color: transparent;\n",
              "      border-bottom-color: var(--fill-color);\n",
              "      border-left-color: var(--fill-color);\n",
              "    }\n",
              "    20% {\n",
              "      border-color: transparent;\n",
              "      border-left-color: var(--fill-color);\n",
              "      border-top-color: var(--fill-color);\n",
              "    }\n",
              "    30% {\n",
              "      border-color: transparent;\n",
              "      border-left-color: var(--fill-color);\n",
              "      border-top-color: var(--fill-color);\n",
              "      border-right-color: var(--fill-color);\n",
              "    }\n",
              "    40% {\n",
              "      border-color: transparent;\n",
              "      border-right-color: var(--fill-color);\n",
              "      border-top-color: var(--fill-color);\n",
              "    }\n",
              "    60% {\n",
              "      border-color: transparent;\n",
              "      border-right-color: var(--fill-color);\n",
              "    }\n",
              "    80% {\n",
              "      border-color: transparent;\n",
              "      border-right-color: var(--fill-color);\n",
              "      border-bottom-color: var(--fill-color);\n",
              "    }\n",
              "    90% {\n",
              "      border-color: transparent;\n",
              "      border-bottom-color: var(--fill-color);\n",
              "    }\n",
              "  }\n",
              "</style>\n",
              "\n",
              "  <script>\n",
              "    async function quickchart(key) {\n",
              "      const quickchartButtonEl =\n",
              "        document.querySelector('#' + key + ' button');\n",
              "      quickchartButtonEl.disabled = true;  // To prevent multiple clicks.\n",
              "      quickchartButtonEl.classList.add('colab-df-spinner');\n",
              "      try {\n",
              "        const charts = await google.colab.kernel.invokeFunction(\n",
              "            'suggestCharts', [key], {});\n",
              "      } catch (error) {\n",
              "        console.error('Error during call to suggestCharts:', error);\n",
              "      }\n",
              "      quickchartButtonEl.classList.remove('colab-df-spinner');\n",
              "      quickchartButtonEl.classList.add('colab-df-quickchart-complete');\n",
              "    }\n",
              "    (() => {\n",
              "      let quickchartButtonEl =\n",
              "        document.querySelector('#df-ce3e0eab-97c8-4bea-a440-8264756f93ee button');\n",
              "      quickchartButtonEl.style.display =\n",
              "        google.colab.kernel.accessAllowed ? 'block' : 'none';\n",
              "    })();\n",
              "  </script>\n",
              "</div>\n",
              "\n",
              "    </div>\n",
              "  </div>\n"
            ],
            "application/vnd.google.colaboratory.intrinsic+json": {
              "type": "dataframe",
              "summary": "{\n  \"name\": \"df\",\n  \"rows\": 8,\n  \"fields\": [\n    {\n      \"column\": \"rating\",\n      \"properties\": {\n        \"dtype\": \"number\",\n        \"std\": 288.07233433898347,\n        \"min\": 7.402854348688586,\n        \"max\": 879.0,\n        \"num_unique_values\": 8,\n        \"samples\": [\n          78.25824800910125,\n          80.0,\n          879.0\n        ],\n        \"semantic_type\": \"\",\n        \"description\": \"\"\n      }\n    }\n  ]\n}"
            }
          },
          "metadata": {},
          "execution_count": 115
        }
      ]
    },
    {
      "cell_type": "code",
      "source": [
        "df.info()"
      ],
      "metadata": {
        "colab": {
          "base_uri": "https://localhost:8080/"
        },
        "id": "vsBZr55BMR1Q",
        "outputId": "72a6658c-35d7-413c-c91d-dbb48b7c0862"
      },
      "execution_count": 116,
      "outputs": [
        {
          "output_type": "stream",
          "name": "stdout",
          "text": [
            "<class 'pandas.core.frame.DataFrame'>\n",
            "RangeIndex: 1020 entries, 0 to 1019\n",
            "Data columns (total 11 columns):\n",
            " #   Column     Non-Null Count  Dtype  \n",
            "---  ------     --------------  -----  \n",
            " 0   model      1020 non-null   object \n",
            " 1   price      1020 non-null   object \n",
            " 2   rating     879 non-null    float64\n",
            " 3   sim        1020 non-null   object \n",
            " 4   processor  1020 non-null   object \n",
            " 5   ram        1020 non-null   object \n",
            " 6   battery    1020 non-null   object \n",
            " 7   display    1020 non-null   object \n",
            " 8   camera     1019 non-null   object \n",
            " 9   card       1013 non-null   object \n",
            " 10  os         1003 non-null   object \n",
            "dtypes: float64(1), object(10)\n",
            "memory usage: 87.8+ KB\n"
          ]
        }
      ]
    },
    {
      "cell_type": "code",
      "source": [
        "#making brand column\n",
        "df['brand'] = df['model'].str.split(' ').str.get(0)"
      ],
      "metadata": {
        "id": "tGWjt64wMd-W"
      },
      "execution_count": 117,
      "outputs": []
    },
    {
      "cell_type": "code",
      "source": [
        "#changing brand datatype to category from object.\n",
        "df['brand'] = df['brand'].astype('category')"
      ],
      "metadata": {
        "id": "R5GTFNokO9Mb"
      },
      "execution_count": 118,
      "outputs": []
    },
    {
      "cell_type": "code",
      "source": [
        "df['selling_price'] = df['price'].str.replace('₹' ,'').str.replace(',','').astype(np.int32)"
      ],
      "metadata": {
        "id": "bTDyjEr6Mp2V"
      },
      "execution_count": 119,
      "outputs": []
    },
    {
      "cell_type": "code",
      "source": [
        "df.info()"
      ],
      "metadata": {
        "colab": {
          "base_uri": "https://localhost:8080/"
        },
        "id": "USaNjeNjNBo9",
        "outputId": "254c0a55-5a0e-4b54-ee12-2fc3102e6a85"
      },
      "execution_count": 120,
      "outputs": [
        {
          "output_type": "stream",
          "name": "stdout",
          "text": [
            "<class 'pandas.core.frame.DataFrame'>\n",
            "RangeIndex: 1020 entries, 0 to 1019\n",
            "Data columns (total 13 columns):\n",
            " #   Column         Non-Null Count  Dtype   \n",
            "---  ------         --------------  -----   \n",
            " 0   model          1020 non-null   object  \n",
            " 1   price          1020 non-null   object  \n",
            " 2   rating         879 non-null    float64 \n",
            " 3   sim            1020 non-null   object  \n",
            " 4   processor      1020 non-null   object  \n",
            " 5   ram            1020 non-null   object  \n",
            " 6   battery        1020 non-null   object  \n",
            " 7   display        1020 non-null   object  \n",
            " 8   camera         1019 non-null   object  \n",
            " 9   card           1013 non-null   object  \n",
            " 10  os             1003 non-null   object  \n",
            " 11  brand          1020 non-null   category\n",
            " 12  selling_price  1020 non-null   int32   \n",
            "dtypes: category(1), float64(1), int32(1), object(10)\n",
            "memory usage: 95.3+ KB\n"
          ]
        }
      ]
    },
    {
      "cell_type": "code",
      "source": [
        "df.head(3)"
      ],
      "metadata": {
        "id": "Bu4nldyVORHy",
        "colab": {
          "base_uri": "https://localhost:8080/",
          "height": 300
        },
        "outputId": "21c83b1c-8b85-4e13-8a97-897ad67c9215"
      },
      "execution_count": 121,
      "outputs": [
        {
          "output_type": "execute_result",
          "data": {
            "text/plain": [
              "                       model    price  rating  \\\n",
              "0              OnePlus 11 5G  ₹54,999    89.0   \n",
              "1  OnePlus Nord CE 2 Lite 5G  ₹19,989    81.0   \n",
              "2      Samsung Galaxy A14 5G  ₹16,499    75.0   \n",
              "\n",
              "                                       sim  \\\n",
              "0  Dual Sim, 3G, 4G, 5G, VoLTE, Wi-Fi, NFC   \n",
              "1       Dual Sim, 3G, 4G, 5G, VoLTE, Wi-Fi   \n",
              "2       Dual Sim, 3G, 4G, 5G, VoLTE, Wi-Fi   \n",
              "\n",
              "                                         processor                        ram  \\\n",
              "0  Snapdragon 8 Gen2, Octa Core, 3.2 GHz Processor  12 GB RAM, 256 GB inbuilt   \n",
              "1     Snapdragon 695, Octa Core, 2.2 GHz Processor   6 GB RAM, 128 GB inbuilt   \n",
              "2        Exynos 1330, Octa Core, 2.4 GHz Processor    4 GB RAM, 64 GB inbuilt   \n",
              "\n",
              "                                    battery  \\\n",
              "0  5000 mAh Battery with 100W Fast Charging   \n",
              "1   5000 mAh Battery with 33W Fast Charging   \n",
              "2   5000 mAh Battery with 15W Fast Charging   \n",
              "\n",
              "                                             display  \\\n",
              "0  6.7 inches, 1440 x 3216 px, 120 Hz Display wit...   \n",
              "1  6.59 inches, 1080 x 2412 px, 120 Hz Display wi...   \n",
              "2  6.6 inches, 1080 x 2408 px, 90 Hz Display with...   \n",
              "\n",
              "                                              camera  \\\n",
              "0  50 MP + 48 MP + 32 MP Triple Rear & 16 MP Fron...   \n",
              "1  64 MP + 2 MP + 2 MP Triple Rear & 16 MP Front ...   \n",
              "2  50 MP + 2 MP + 2 MP Triple Rear & 13 MP Front ...   \n",
              "\n",
              "                               card           os    brand  selling_price  \n",
              "0         Memory Card Not Supported  Android v13  OnePlus          54999  \n",
              "1   Memory Card (Hybrid), upto 1 TB  Android v12  OnePlus          19989  \n",
              "2  Memory Card Supported, upto 1 TB  Android v13  Samsung          16499  "
            ],
            "text/html": [
              "\n",
              "  <div id=\"df-aa9f9bf7-1c93-4f1a-8fa7-85cc75e816a9\" class=\"colab-df-container\">\n",
              "    <div>\n",
              "<style scoped>\n",
              "    .dataframe tbody tr th:only-of-type {\n",
              "        vertical-align: middle;\n",
              "    }\n",
              "\n",
              "    .dataframe tbody tr th {\n",
              "        vertical-align: top;\n",
              "    }\n",
              "\n",
              "    .dataframe thead th {\n",
              "        text-align: right;\n",
              "    }\n",
              "</style>\n",
              "<table border=\"1\" class=\"dataframe\">\n",
              "  <thead>\n",
              "    <tr style=\"text-align: right;\">\n",
              "      <th></th>\n",
              "      <th>model</th>\n",
              "      <th>price</th>\n",
              "      <th>rating</th>\n",
              "      <th>sim</th>\n",
              "      <th>processor</th>\n",
              "      <th>ram</th>\n",
              "      <th>battery</th>\n",
              "      <th>display</th>\n",
              "      <th>camera</th>\n",
              "      <th>card</th>\n",
              "      <th>os</th>\n",
              "      <th>brand</th>\n",
              "      <th>selling_price</th>\n",
              "    </tr>\n",
              "  </thead>\n",
              "  <tbody>\n",
              "    <tr>\n",
              "      <th>0</th>\n",
              "      <td>OnePlus 11 5G</td>\n",
              "      <td>₹54,999</td>\n",
              "      <td>89.0</td>\n",
              "      <td>Dual Sim, 3G, 4G, 5G, VoLTE, Wi-Fi, NFC</td>\n",
              "      <td>Snapdragon 8 Gen2, Octa Core, 3.2 GHz Processor</td>\n",
              "      <td>12 GB RAM, 256 GB inbuilt</td>\n",
              "      <td>5000 mAh Battery with 100W Fast Charging</td>\n",
              "      <td>6.7 inches, 1440 x 3216 px, 120 Hz Display wit...</td>\n",
              "      <td>50 MP + 48 MP + 32 MP Triple Rear &amp; 16 MP Fron...</td>\n",
              "      <td>Memory Card Not Supported</td>\n",
              "      <td>Android v13</td>\n",
              "      <td>OnePlus</td>\n",
              "      <td>54999</td>\n",
              "    </tr>\n",
              "    <tr>\n",
              "      <th>1</th>\n",
              "      <td>OnePlus Nord CE 2 Lite 5G</td>\n",
              "      <td>₹19,989</td>\n",
              "      <td>81.0</td>\n",
              "      <td>Dual Sim, 3G, 4G, 5G, VoLTE, Wi-Fi</td>\n",
              "      <td>Snapdragon 695, Octa Core, 2.2 GHz Processor</td>\n",
              "      <td>6 GB RAM, 128 GB inbuilt</td>\n",
              "      <td>5000 mAh Battery with 33W Fast Charging</td>\n",
              "      <td>6.59 inches, 1080 x 2412 px, 120 Hz Display wi...</td>\n",
              "      <td>64 MP + 2 MP + 2 MP Triple Rear &amp; 16 MP Front ...</td>\n",
              "      <td>Memory Card (Hybrid), upto 1 TB</td>\n",
              "      <td>Android v12</td>\n",
              "      <td>OnePlus</td>\n",
              "      <td>19989</td>\n",
              "    </tr>\n",
              "    <tr>\n",
              "      <th>2</th>\n",
              "      <td>Samsung Galaxy A14 5G</td>\n",
              "      <td>₹16,499</td>\n",
              "      <td>75.0</td>\n",
              "      <td>Dual Sim, 3G, 4G, 5G, VoLTE, Wi-Fi</td>\n",
              "      <td>Exynos 1330, Octa Core, 2.4 GHz Processor</td>\n",
              "      <td>4 GB RAM, 64 GB inbuilt</td>\n",
              "      <td>5000 mAh Battery with 15W Fast Charging</td>\n",
              "      <td>6.6 inches, 1080 x 2408 px, 90 Hz Display with...</td>\n",
              "      <td>50 MP + 2 MP + 2 MP Triple Rear &amp; 13 MP Front ...</td>\n",
              "      <td>Memory Card Supported, upto 1 TB</td>\n",
              "      <td>Android v13</td>\n",
              "      <td>Samsung</td>\n",
              "      <td>16499</td>\n",
              "    </tr>\n",
              "  </tbody>\n",
              "</table>\n",
              "</div>\n",
              "    <div class=\"colab-df-buttons\">\n",
              "\n",
              "  <div class=\"colab-df-container\">\n",
              "    <button class=\"colab-df-convert\" onclick=\"convertToInteractive('df-aa9f9bf7-1c93-4f1a-8fa7-85cc75e816a9')\"\n",
              "            title=\"Convert this dataframe to an interactive table.\"\n",
              "            style=\"display:none;\">\n",
              "\n",
              "  <svg xmlns=\"http://www.w3.org/2000/svg\" height=\"24px\" viewBox=\"0 -960 960 960\">\n",
              "    <path d=\"M120-120v-720h720v720H120Zm60-500h600v-160H180v160Zm220 220h160v-160H400v160Zm0 220h160v-160H400v160ZM180-400h160v-160H180v160Zm440 0h160v-160H620v160ZM180-180h160v-160H180v160Zm440 0h160v-160H620v160Z\"/>\n",
              "  </svg>\n",
              "    </button>\n",
              "\n",
              "  <style>\n",
              "    .colab-df-container {\n",
              "      display:flex;\n",
              "      gap: 12px;\n",
              "    }\n",
              "\n",
              "    .colab-df-convert {\n",
              "      background-color: #E8F0FE;\n",
              "      border: none;\n",
              "      border-radius: 50%;\n",
              "      cursor: pointer;\n",
              "      display: none;\n",
              "      fill: #1967D2;\n",
              "      height: 32px;\n",
              "      padding: 0 0 0 0;\n",
              "      width: 32px;\n",
              "    }\n",
              "\n",
              "    .colab-df-convert:hover {\n",
              "      background-color: #E2EBFA;\n",
              "      box-shadow: 0px 1px 2px rgba(60, 64, 67, 0.3), 0px 1px 3px 1px rgba(60, 64, 67, 0.15);\n",
              "      fill: #174EA6;\n",
              "    }\n",
              "\n",
              "    .colab-df-buttons div {\n",
              "      margin-bottom: 4px;\n",
              "    }\n",
              "\n",
              "    [theme=dark] .colab-df-convert {\n",
              "      background-color: #3B4455;\n",
              "      fill: #D2E3FC;\n",
              "    }\n",
              "\n",
              "    [theme=dark] .colab-df-convert:hover {\n",
              "      background-color: #434B5C;\n",
              "      box-shadow: 0px 1px 3px 1px rgba(0, 0, 0, 0.15);\n",
              "      filter: drop-shadow(0px 1px 2px rgba(0, 0, 0, 0.3));\n",
              "      fill: #FFFFFF;\n",
              "    }\n",
              "  </style>\n",
              "\n",
              "    <script>\n",
              "      const buttonEl =\n",
              "        document.querySelector('#df-aa9f9bf7-1c93-4f1a-8fa7-85cc75e816a9 button.colab-df-convert');\n",
              "      buttonEl.style.display =\n",
              "        google.colab.kernel.accessAllowed ? 'block' : 'none';\n",
              "\n",
              "      async function convertToInteractive(key) {\n",
              "        const element = document.querySelector('#df-aa9f9bf7-1c93-4f1a-8fa7-85cc75e816a9');\n",
              "        const dataTable =\n",
              "          await google.colab.kernel.invokeFunction('convertToInteractive',\n",
              "                                                    [key], {});\n",
              "        if (!dataTable) return;\n",
              "\n",
              "        const docLinkHtml = 'Like what you see? Visit the ' +\n",
              "          '<a target=\"_blank\" href=https://colab.research.google.com/notebooks/data_table.ipynb>data table notebook</a>'\n",
              "          + ' to learn more about interactive tables.';\n",
              "        element.innerHTML = '';\n",
              "        dataTable['output_type'] = 'display_data';\n",
              "        await google.colab.output.renderOutput(dataTable, element);\n",
              "        const docLink = document.createElement('div');\n",
              "        docLink.innerHTML = docLinkHtml;\n",
              "        element.appendChild(docLink);\n",
              "      }\n",
              "    </script>\n",
              "  </div>\n",
              "\n",
              "\n",
              "<div id=\"df-2e336f34-62c2-40c5-a13d-551f1dd224cf\">\n",
              "  <button class=\"colab-df-quickchart\" onclick=\"quickchart('df-2e336f34-62c2-40c5-a13d-551f1dd224cf')\"\n",
              "            title=\"Suggest charts\"\n",
              "            style=\"display:none;\">\n",
              "\n",
              "<svg xmlns=\"http://www.w3.org/2000/svg\" height=\"24px\"viewBox=\"0 0 24 24\"\n",
              "     width=\"24px\">\n",
              "    <g>\n",
              "        <path d=\"M19 3H5c-1.1 0-2 .9-2 2v14c0 1.1.9 2 2 2h14c1.1 0 2-.9 2-2V5c0-1.1-.9-2-2-2zM9 17H7v-7h2v7zm4 0h-2V7h2v10zm4 0h-2v-4h2v4z\"/>\n",
              "    </g>\n",
              "</svg>\n",
              "  </button>\n",
              "\n",
              "<style>\n",
              "  .colab-df-quickchart {\n",
              "      --bg-color: #E8F0FE;\n",
              "      --fill-color: #1967D2;\n",
              "      --hover-bg-color: #E2EBFA;\n",
              "      --hover-fill-color: #174EA6;\n",
              "      --disabled-fill-color: #AAA;\n",
              "      --disabled-bg-color: #DDD;\n",
              "  }\n",
              "\n",
              "  [theme=dark] .colab-df-quickchart {\n",
              "      --bg-color: #3B4455;\n",
              "      --fill-color: #D2E3FC;\n",
              "      --hover-bg-color: #434B5C;\n",
              "      --hover-fill-color: #FFFFFF;\n",
              "      --disabled-bg-color: #3B4455;\n",
              "      --disabled-fill-color: #666;\n",
              "  }\n",
              "\n",
              "  .colab-df-quickchart {\n",
              "    background-color: var(--bg-color);\n",
              "    border: none;\n",
              "    border-radius: 50%;\n",
              "    cursor: pointer;\n",
              "    display: none;\n",
              "    fill: var(--fill-color);\n",
              "    height: 32px;\n",
              "    padding: 0;\n",
              "    width: 32px;\n",
              "  }\n",
              "\n",
              "  .colab-df-quickchart:hover {\n",
              "    background-color: var(--hover-bg-color);\n",
              "    box-shadow: 0 1px 2px rgba(60, 64, 67, 0.3), 0 1px 3px 1px rgba(60, 64, 67, 0.15);\n",
              "    fill: var(--button-hover-fill-color);\n",
              "  }\n",
              "\n",
              "  .colab-df-quickchart-complete:disabled,\n",
              "  .colab-df-quickchart-complete:disabled:hover {\n",
              "    background-color: var(--disabled-bg-color);\n",
              "    fill: var(--disabled-fill-color);\n",
              "    box-shadow: none;\n",
              "  }\n",
              "\n",
              "  .colab-df-spinner {\n",
              "    border: 2px solid var(--fill-color);\n",
              "    border-color: transparent;\n",
              "    border-bottom-color: var(--fill-color);\n",
              "    animation:\n",
              "      spin 1s steps(1) infinite;\n",
              "  }\n",
              "\n",
              "  @keyframes spin {\n",
              "    0% {\n",
              "      border-color: transparent;\n",
              "      border-bottom-color: var(--fill-color);\n",
              "      border-left-color: var(--fill-color);\n",
              "    }\n",
              "    20% {\n",
              "      border-color: transparent;\n",
              "      border-left-color: var(--fill-color);\n",
              "      border-top-color: var(--fill-color);\n",
              "    }\n",
              "    30% {\n",
              "      border-color: transparent;\n",
              "      border-left-color: var(--fill-color);\n",
              "      border-top-color: var(--fill-color);\n",
              "      border-right-color: var(--fill-color);\n",
              "    }\n",
              "    40% {\n",
              "      border-color: transparent;\n",
              "      border-right-color: var(--fill-color);\n",
              "      border-top-color: var(--fill-color);\n",
              "    }\n",
              "    60% {\n",
              "      border-color: transparent;\n",
              "      border-right-color: var(--fill-color);\n",
              "    }\n",
              "    80% {\n",
              "      border-color: transparent;\n",
              "      border-right-color: var(--fill-color);\n",
              "      border-bottom-color: var(--fill-color);\n",
              "    }\n",
              "    90% {\n",
              "      border-color: transparent;\n",
              "      border-bottom-color: var(--fill-color);\n",
              "    }\n",
              "  }\n",
              "</style>\n",
              "\n",
              "  <script>\n",
              "    async function quickchart(key) {\n",
              "      const quickchartButtonEl =\n",
              "        document.querySelector('#' + key + ' button');\n",
              "      quickchartButtonEl.disabled = true;  // To prevent multiple clicks.\n",
              "      quickchartButtonEl.classList.add('colab-df-spinner');\n",
              "      try {\n",
              "        const charts = await google.colab.kernel.invokeFunction(\n",
              "            'suggestCharts', [key], {});\n",
              "      } catch (error) {\n",
              "        console.error('Error during call to suggestCharts:', error);\n",
              "      }\n",
              "      quickchartButtonEl.classList.remove('colab-df-spinner');\n",
              "      quickchartButtonEl.classList.add('colab-df-quickchart-complete');\n",
              "    }\n",
              "    (() => {\n",
              "      let quickchartButtonEl =\n",
              "        document.querySelector('#df-2e336f34-62c2-40c5-a13d-551f1dd224cf button');\n",
              "      quickchartButtonEl.style.display =\n",
              "        google.colab.kernel.accessAllowed ? 'block' : 'none';\n",
              "    })();\n",
              "  </script>\n",
              "</div>\n",
              "\n",
              "    </div>\n",
              "  </div>\n"
            ],
            "application/vnd.google.colaboratory.intrinsic+json": {
              "type": "dataframe",
              "variable_name": "df",
              "summary": "{\n  \"name\": \"df\",\n  \"rows\": 1020,\n  \"fields\": [\n    {\n      \"column\": \"model\",\n      \"properties\": {\n        \"dtype\": \"string\",\n        \"num_unique_values\": 1020,\n        \"samples\": [\n          \"Realme 9 Pro Plus 5G (8GB RAM + 256GB)\",\n          \"Vivo V21\",\n          \"Realme GT 2 Pro 5G\"\n        ],\n        \"semantic_type\": \"\",\n        \"description\": \"\"\n      }\n    },\n    {\n      \"column\": \"price\",\n      \"properties\": {\n        \"dtype\": \"category\",\n        \"num_unique_values\": 412,\n        \"samples\": [\n          \"\\u20b919,980\",\n          \"\\u20b99,499\",\n          \"\\u20b91,762\"\n        ],\n        \"semantic_type\": \"\",\n        \"description\": \"\"\n      }\n    },\n    {\n      \"column\": \"rating\",\n      \"properties\": {\n        \"dtype\": \"number\",\n        \"std\": 7.402854348688586,\n        \"min\": 60.0,\n        \"max\": 89.0,\n        \"num_unique_values\": 30,\n        \"samples\": [\n          60.0,\n          73.0,\n          67.0\n        ],\n        \"semantic_type\": \"\",\n        \"description\": \"\"\n      }\n    },\n    {\n      \"column\": \"sim\",\n      \"properties\": {\n        \"dtype\": \"category\",\n        \"num_unique_values\": 28,\n        \"samples\": [\n          \"Single Sim, 3G, 4G, VoLTE, Wi-Fi, NFC\",\n          \"Dual Sim, 3G, 4G, 5G, VoLTE, Vo5G, Wi-Fi, IR Blaster\",\n          \"Dual Sim, 3G, 4G, Wi-Fi\"\n        ],\n        \"semantic_type\": \"\",\n        \"description\": \"\"\n      }\n    },\n    {\n      \"column\": \"processor\",\n      \"properties\": {\n        \"dtype\": \"category\",\n        \"num_unique_values\": 298,\n        \"samples\": [\n          \"Helio  P35, Octa Core, 2.3\\u2009GHz Processor\",\n          \"Samsung Exynos 7885, Octa Core, 2.2\\u2009GHz Processor\",\n          \"1.77\\u2009MHz Processor\"\n        ],\n        \"semantic_type\": \"\",\n        \"description\": \"\"\n      }\n    },\n    {\n      \"column\": \"ram\",\n      \"properties\": {\n        \"dtype\": \"category\",\n        \"num_unique_values\": 58,\n        \"samples\": [\n          \"12\\u2009GB RAM, 256\\u2009GB inbuilt\",\n          \"4\\u2009GB RAM, 128\\u2009GB inbuilt\",\n          \"1325\\u2009mAh Battery\"\n        ],\n        \"semantic_type\": \"\",\n        \"description\": \"\"\n      }\n    },\n    {\n      \"column\": \"battery\",\n      \"properties\": {\n        \"dtype\": \"category\",\n        \"num_unique_values\": 256,\n        \"samples\": [\n          \"7000\\u2009mAh Battery\",\n          \"3279\\u2009mAh Battery with Fast Charging\",\n          \"7000\\u2009mAh Battery with 33W Fast Charging\"\n        ],\n        \"semantic_type\": \"\",\n        \"description\": \"\"\n      }\n    },\n    {\n      \"column\": \"display\",\n      \"properties\": {\n        \"dtype\": \"category\",\n        \"num_unique_values\": 369,\n        \"samples\": [\n          \"6.62 inches, 2400\\u2009x\\u20091080\\u2009px, 120 Hz Display with Punch Hole\",\n          \"6.6 inches, 1080\\u2009x\\u20092408\\u2009px, 90 Hz Display with Punch Hole\",\n          \"6.56 inches, 1080\\u2009x\\u20092376\\u2009px, 120 Hz Display with Punch Hole\"\n        ],\n        \"semantic_type\": \"\",\n        \"description\": \"\"\n      }\n    },\n    {\n      \"column\": \"camera\",\n      \"properties\": {\n        \"dtype\": \"category\",\n        \"num_unique_values\": 285,\n        \"samples\": [\n          \"50\\u2009MP + 8\\u2009MP + 2\\u2009MP Triple Rear & 32\\u2009MP Front Camera\",\n          \"12\\u2009MP + 2\\u2009MP + 2\\u2009MP Triple Rear & 8\\u2009MP Front Camera\",\n          \"0.3\\u2009MP Rear Camera\"\n        ],\n        \"semantic_type\": \"\",\n        \"description\": \"\"\n      }\n    },\n    {\n      \"column\": \"card\",\n      \"properties\": {\n        \"dtype\": \"category\",\n        \"num_unique_values\": 63,\n        \"samples\": [\n          \"48\\u2009MP Quad Rear Camera\",\n          \"5\\u2009MP Rear & 2\\u2009MP Front Camera\",\n          \"Memory Card Not Supported\"\n        ],\n        \"semantic_type\": \"\",\n        \"description\": \"\"\n      }\n    },\n    {\n      \"column\": \"os\",\n      \"properties\": {\n        \"dtype\": \"category\",\n        \"num_unique_values\": 48,\n        \"samples\": [\n          \"Android v5.1.1 (Lollipop)\",\n          \"HarmonyOS v2.0\",\n          \"Android v5.1 (Lollipop)\"\n        ],\n        \"semantic_type\": \"\",\n        \"description\": \"\"\n      }\n    },\n    {\n      \"column\": \"brand\",\n      \"properties\": {\n        \"dtype\": \"category\",\n        \"num_unique_values\": 56,\n        \"samples\": [\n          \"OnePlus\",\n          \"Xiaomi\",\n          \"Oukitel\"\n        ],\n        \"semantic_type\": \"\",\n        \"description\": \"\"\n      }\n    },\n    {\n      \"column\": \"selling_price\",\n      \"properties\": {\n        \"dtype\": \"int32\",\n        \"num_unique_values\": 412,\n        \"samples\": [\n          19980,\n          9499,\n          1762\n        ],\n        \"semantic_type\": \"\",\n        \"description\": \"\"\n      }\n    }\n  ]\n}"
            }
          },
          "metadata": {},
          "execution_count": 121
        }
      ]
    },
    {
      "cell_type": "code",
      "source": [
        "df['rating'] = df['rating'].fillna(round(df['rating'].mean()) )"
      ],
      "metadata": {
        "id": "ig3j1yWfIdop"
      },
      "execution_count": 122,
      "outputs": []
    },
    {
      "cell_type": "code",
      "source": [
        "df['sim'] [df['sim'] == 'Wi-Fi']"
      ],
      "metadata": {
        "colab": {
          "base_uri": "https://localhost:8080/"
        },
        "id": "wHbws1Z0IsOo",
        "outputId": "f2b5145c-125c-4295-8a70-41be9a7f11c2"
      },
      "execution_count": 123,
      "outputs": [
        {
          "output_type": "execute_result",
          "data": {
            "text/plain": [
              "754    Wi-Fi\n",
              "Name: sim, dtype: object"
            ]
          },
          "metadata": {},
          "execution_count": 123
        }
      ]
    },
    {
      "cell_type": "code",
      "source": [
        "df['sim'].loc[754] = 'No Sim'"
      ],
      "metadata": {
        "colab": {
          "base_uri": "https://localhost:8080/"
        },
        "id": "kNgFbI7tIx6v",
        "outputId": "4ba92f30-8926-40b0-f401-6723c037ecf4"
      },
      "execution_count": 124,
      "outputs": [
        {
          "output_type": "stream",
          "name": "stderr",
          "text": [
            "<ipython-input-124-58b161b404a1>:1: SettingWithCopyWarning: \n",
            "A value is trying to be set on a copy of a slice from a DataFrame\n",
            "\n",
            "See the caveats in the documentation: https://pandas.pydata.org/pandas-docs/stable/user_guide/indexing.html#returning-a-view-versus-a-copy\n",
            "  df['sim'].loc[754] = 'No Sim'\n"
          ]
        }
      ]
    },
    {
      "cell_type": "code",
      "source": [
        "df['sim type'] = df['sim'].str.split(',').str.get(0).astype('category')"
      ],
      "metadata": {
        "id": "0cMb1fTLJ2Vd"
      },
      "execution_count": 125,
      "outputs": []
    },
    {
      "cell_type": "code",
      "source": [
        "def is_5G(series):\n",
        "\n",
        "  if '5G' in series:\n",
        "    return 1\n",
        "  else :\n",
        "    return 0"
      ],
      "metadata": {
        "id": "iH0yTNibMRTB"
      },
      "execution_count": 126,
      "outputs": []
    },
    {
      "cell_type": "code",
      "source": [
        "df['is 5G'] = df['sim'].apply(is_5G)"
      ],
      "metadata": {
        "id": "tlgtIfi9KPlj"
      },
      "execution_count": 127,
      "outputs": []
    },
    {
      "cell_type": "code",
      "source": [
        "df['is 5G'].value_counts().plot(kind = 'pie' , autopct = '%0.f%%')"
      ],
      "metadata": {
        "colab": {
          "base_uri": "https://localhost:8080/",
          "height": 423
        },
        "id": "6IXrzp3DLtKb",
        "outputId": "b16d8bf9-2893-4221-ecb9-4e997574ac01"
      },
      "execution_count": 128,
      "outputs": [
        {
          "output_type": "execute_result",
          "data": {
            "text/plain": [
              "<Axes: ylabel='count'>"
            ]
          },
          "metadata": {},
          "execution_count": 128
        },
        {
          "output_type": "display_data",
          "data": {
            "text/plain": [
              "<Figure size 640x480 with 1 Axes>"
            ],
            "image/png": "[encoded data removed]"
          },
          "metadata": {}
        }
      ]
    },
    {
      "cell_type": "code",
      "source": [
        "# def find_mis(series):\n",
        "#   if ('Battery' in series )  or ('inbuilt' in series)  or ('No' in series) :\n",
        "#     return np.nan\n",
        "#   else :\n",
        "#     return series"
      ],
      "metadata": {
        "id": "JZkHaY5pO_fS"
      },
      "execution_count": 129,
      "outputs": []
    },
    {
      "cell_type": "code",
      "source": [
        "type(df['processor'].iloc[376])"
      ],
      "metadata": {
        "colab": {
          "base_uri": "https://localhost:8080/"
        },
        "id": "zwHUiFpOWk-G",
        "outputId": "9c27e187-c15a-43ec-ddcf-18708b58128c"
      },
      "execution_count": 130,
      "outputs": [
        {
          "output_type": "execute_result",
          "data": {
            "text/plain": [
              "str"
            ]
          },
          "metadata": {},
          "execution_count": 130
        }
      ]
    },
    {
      "cell_type": "code",
      "source": [
        "def find_cores(series):\n",
        "  if 'Dual' in series:\n",
        "    return 2\n",
        "  elif 'Quad' in series :\n",
        "    return 4\n",
        "  elif 'Hex' in series:\n",
        "    return 6\n",
        "  elif 'Octa' in series:\n",
        "    return 8\n",
        "  else :\n",
        "    return 1"
      ],
      "metadata": {
        "id": "izHi8znALhgI"
      },
      "execution_count": 131,
      "outputs": []
    },
    {
      "cell_type": "code",
      "source": [
        "df['processor'].apply(find_cores).value_counts().plot(kind='pie' , autopct = '%0.2f%%')"
      ],
      "metadata": {
        "colab": {
          "base_uri": "https://localhost:8080/",
          "height": 423
        },
        "id": "rZ3IxZSGQJgH",
        "outputId": "2bf53d2e-7ca0-4a7c-f5de-809e81c0347a"
      },
      "execution_count": 132,
      "outputs": [
        {
          "output_type": "execute_result",
          "data": {
            "text/plain": [
              "<Axes: ylabel='count'>"
            ]
          },
          "metadata": {},
          "execution_count": 132
        },
        {
          "output_type": "display_data",
          "data": {
            "text/plain": [
              "<Figure size 640x480 with 1 Axes>"
            ],
            "image/png": "[encoded data removed]"
          },
          "metadata": {}
        }
      ]
    },
    {
      "cell_type": "code",
      "source": [
        "df['cores'] = df['processor'].apply(find_cores)"
      ],
      "metadata": {
        "id": "phiYoCc5QPhP"
      },
      "execution_count": 133,
      "outputs": []
    },
    {
      "cell_type": "code",
      "source": [
        "df['processor']"
      ],
      "metadata": {
        "colab": {
          "base_uri": "https://localhost:8080/"
        },
        "id": "vmdhN6gDR7VH",
        "outputId": "ccf0eeec-8206-4252-8309-da2d6eda4fba"
      },
      "execution_count": 134,
      "outputs": [
        {
          "output_type": "execute_result",
          "data": {
            "text/plain": [
              "0       Snapdragon 8 Gen2, Octa Core, 3.2 GHz Processor\n",
              "1          Snapdragon 695, Octa Core, 2.2 GHz Processor\n",
              "2             Exynos 1330, Octa Core, 2.4 GHz Processor\n",
              "3         Snapdragon  695, Octa Core, 2.2 GHz Processor\n",
              "4          Dimensity 1080, Octa Core, 2.6 GHz Processor\n",
              "                             ...                       \n",
              "1015      Snapdragon 8 Gen1, Octa Core, 3 GHz Processor\n",
              "1016     Snapdragon  480+, Octa Core, 2.2 GHz Processor\n",
              "1017      Dimensity 8100, Octa Core, 2.85 GHz Processor\n",
              "1018       Snapdragon 695, Octa Core, 2.2 GHz Processor\n",
              "1019                                Octa Core Processor\n",
              "Name: processor, Length: 1020, dtype: object"
            ]
          },
          "metadata": {},
          "execution_count": 134
        }
      ]
    },
    {
      "cell_type": "code",
      "source": [
        "df['ram'].apply(lambda x : x if 'MB' in x else np.nan).dropna()"
      ],
      "metadata": {
        "id": "lJ3VMmSFSBA_",
        "colab": {
          "base_uri": "https://localhost:8080/"
        },
        "outputId": "f589f94b-b4de-495f-bc8c-564d7ce1ff81"
      },
      "execution_count": 135,
      "outputs": [
        {
          "output_type": "execute_result",
          "data": {
            "text/plain": [
              "155     4 GB RAM, 512 MB inbuilt\n",
              "271     512 MB RAM, 4 GB inbuilt\n",
              "400     512 MB RAM, 4 GB inbuilt\n",
              "473    128 MB RAM, 48 MB inbuilt\n",
              "486     512 MB RAM, 4 GB inbuilt\n",
              "533    64 MB RAM, 128 MB inbuilt\n",
              "573       4 MB RAM, 4 MB inbuilt\n",
              "627    64 MB RAM, 128 MB inbuilt\n",
              "685      8 MB RAM, 16 MB inbuilt\n",
              "835     32 MB RAM, 32 MB inbuilt\n",
              "846     32 MB RAM, 32 MB inbuilt\n",
              "852    64 MB RAM, 128 MB inbuilt\n",
              "873     48 MB RAM, 48 MB inbuilt\n",
              "881       4 MB RAM, 4 MB inbuilt\n",
              "917                 4 MB inbuilt\n",
              "932     16 MB RAM, 16 MB inbuilt\n",
              "Name: ram, dtype: object"
            ]
          },
          "metadata": {},
          "execution_count": 135
        }
      ]
    },
    {
      "cell_type": "code",
      "source": [
        "def find_ram(x):\n",
        "  if 'RAM' in x:\n",
        "    ram_part = x.split(',')[0]\n",
        "\n",
        "    return ram_part.split(' RAM')[0]\n",
        "  else :\n",
        "    return np.nan"
      ],
      "metadata": {
        "id": "toOoj_y1MNf_"
      },
      "execution_count": 136,
      "outputs": []
    },
    {
      "cell_type": "code",
      "source": [
        "df['RAM'] = df['ram'].apply(find_ram).astype('category')"
      ],
      "metadata": {
        "id": "wrU3S0IDK_BK"
      },
      "execution_count": 137,
      "outputs": []
    },
    {
      "cell_type": "code",
      "source": [
        "def find_rom(x):\n",
        "\n",
        "  if 'inbuilt' in x:\n",
        "\n",
        "    if len(x.split(', ')) == 1:\n",
        "      return x.split(' inbuilt')[0]\n",
        "    else :\n",
        "      return x.split(', ')[1].split(' inbuilt')[0]\n",
        "\n",
        "  else :\n",
        "    return np.nan\n"
      ],
      "metadata": {
        "id": "ZzL0xdDqOQ4x"
      },
      "execution_count": 138,
      "outputs": []
    },
    {
      "cell_type": "code",
      "source": [
        "df['ROM'] = df['ram'].apply(find_rom).astype('category')"
      ],
      "metadata": {
        "id": "IZla98V1OVnY"
      },
      "execution_count": 139,
      "outputs": []
    },
    {
      "cell_type": "code",
      "source": [
        "df['ram'].apply(lambda x:np.nan if 'inbuilt' in x else x).dropna()"
      ],
      "metadata": {
        "colab": {
          "base_uri": "https://localhost:8080/"
        },
        "id": "k0yRGu6VMLpt",
        "outputId": "79ea01ea-de8f-4edd-e149-47ebebbb2ec1"
      },
      "execution_count": 140,
      "outputs": [
        {
          "output_type": "execute_result",
          "data": {
            "text/plain": [
              "376                          Unisoc T107\n",
              "532       Single Core, 208 MHz Processor\n",
              "551                                 T117\n",
              "582                          Unisoc T107\n",
              "608                     1325 mAh Battery\n",
              "611         Dual Core, 500 MHz Processor\n",
              "640                      800 mAh Battery\n",
              "645     3.6 inches, 240 x 320 px Display\n",
              "647                     1750 mAh Battery\n",
              "657                      200 mAh Battery\n",
              "665                     1200 mAh Battery\n",
              "699     1.5 inches, 120 x 120 px Display\n",
              "748     2.4 inches, 240 x 320 px Display\n",
              "754      4 inches, 640 x 1136 px Display\n",
              "757                     1000 mAh Battery\n",
              "817                                 T117\n",
              "857                     1470 mAh Battery\n",
              "882                          Unisoc T107\n",
              "925                     1200 mAh Battery\n",
              "927                      800 mAh Battery\n",
              "930                     1800 mAh Battery\n",
              "988                     1200 mAh Battery\n",
              "1000                             No Wifi\n",
              "Name: ram, dtype: object"
            ]
          },
          "metadata": {},
          "execution_count": 140
        }
      ]
    },
    {
      "cell_type": "code",
      "source": [
        "df['battery'].apply(lambda x : np.nan if 'mAh' in x else x).dropna()"
      ],
      "metadata": {
        "colab": {
          "base_uri": "https://localhost:8080/"
        },
        "id": "Q4VQFEZvPMrz",
        "outputId": "c6211d55-afc9-4d03-e9ef-2e39faef5529"
      },
      "execution_count": 141,
      "outputs": [
        {
          "output_type": "execute_result",
          "data": {
            "text/plain": [
              "111     6.1 inches, 1170 x 2532 px Display with Large ...\n",
              "149                    5.4 inches, 1080 x 2340 px Display\n",
              "307     6.1 inches, 1170 x 2532 px Display with Large ...\n",
              "363                    5.4 inches, 1080 x 2340 px Display\n",
              "376                             48 MB RAM, 128 MB inbuilt\n",
              "439                     4.7 inches, 750 x 1334 px Display\n",
              "448     6.06 inches, 1170 x 2532 px, 120 Hz Display wi...\n",
              "551                             64 MB RAM, 128 MB inbuilt\n",
              "582                             48 MB RAM, 128 MB inbuilt\n",
              "608                       4 inches, 720 x 1280 px Display\n",
              "611                              32 MB RAM, 32 MB inbuilt\n",
              "628     6.1 inches, 1170 x 2532 px Display with Large ...\n",
              "640                     1.77 inches, 128 x 160 px Display\n",
              "645                         5 MP Rear & 5 MP Front Camera\n",
              "647                      1.8 inches, 160 x 128 px Display\n",
              "657                       0.49 inches, 64 x 32 px Display\n",
              "665                      1.8 inches, 160 x 128 px Display\n",
              "699                                        No Rear Camera\n",
              "748                     0.3 MP Rear & 0.3 MP Front Camera\n",
              "754                       8 MP Rear & 1.2 MP Front Camera\n",
              "757                      1.8 inches, 128 x 160 px Display\n",
              "762                     6.1 inches, 750 x 1580 px Display\n",
              "817                             48 MB RAM, 128 MB inbuilt\n",
              "853     6.1 inches, 1170 x 2532 px Display with Large ...\n",
              "857                      2.8 inches, 240 x 320 px Display\n",
              "882                             48 MB RAM, 128 MB inbuilt\n",
              "913                    5.4 inches, 1080 x 2340 px Display\n",
              "914     6.1 inches, 1170 x 2532 px Display with Large ...\n",
              "925                      2.4 inches, 240 x 320 px Display\n",
              "927                      1.5 inches, 128 x 128 px Display\n",
              "930                      2.4 inches, 240 x 360 px Display\n",
              "988                      2.4 inches, 240 x 320 px Display\n",
              "1000                             32 MB RAM, 32 MB inbuilt\n",
              "Name: battery, dtype: object"
            ]
          },
          "metadata": {},
          "execution_count": 141
        }
      ]
    },
    {
      "cell_type": "code",
      "source": [
        "def find_mah(x):\n",
        "\n",
        "  if 'mAh' in x :\n",
        "    return x.split('mAh')[0].strip()\n",
        "  else :\n",
        "    return np.nan"
      ],
      "metadata": {
        "id": "y6DHb_QkS1v6"
      },
      "execution_count": 142,
      "outputs": []
    },
    {
      "cell_type": "code",
      "source": [
        "df['battery_mAh'] = df['battery'].apply(find_mah).astype('category')"
      ],
      "metadata": {
        "id": "loL6wTpXQBHY"
      },
      "execution_count": 143,
      "outputs": []
    },
    {
      "cell_type": "code",
      "source": [
        "def find_wat(x):\n",
        "\n",
        "  lst = x.split(' ')\n",
        "\n",
        "  for i , word in enumerate(lst):\n",
        "    if word == 'with':\n",
        "\n",
        "      if lst[i+1] == 'Fast':\n",
        "        return np.nan\n",
        "      elif 'W' in lst[i+1] or 'w' in lst[i+1]:\n",
        "        return lst[i+1]\n",
        "\n",
        "      break\n",
        "\n",
        "\n",
        "  return np.nan"
      ],
      "metadata": {
        "id": "GFePc4LCWBW6"
      },
      "execution_count": 144,
      "outputs": []
    },
    {
      "cell_type": "code",
      "source": [
        "df['charger'] = df['battery'].apply(find_wat).astype('category')"
      ],
      "metadata": {
        "id": "vAzT4UhlS3oP"
      },
      "execution_count": 145,
      "outputs": []
    },
    {
      "cell_type": "code",
      "source": [
        "def is_fast(x):\n",
        "  if 'Fast' in x :\n",
        "    return 1\n",
        "  else :\n",
        "    return 0"
      ],
      "metadata": {
        "id": "dIGRqeXYWSc_"
      },
      "execution_count": 146,
      "outputs": []
    },
    {
      "cell_type": "code",
      "source": [
        "df['is_fast'] = df['battery'].apply(is_fast).astype('category')"
      ],
      "metadata": {
        "id": "VFMXYleH0dHS"
      },
      "execution_count": 147,
      "outputs": []
    },
    {
      "cell_type": "code",
      "source": [
        "df['display'].apply(lambda x : np.nan if 'Display' in x else x).dropna()"
      ],
      "metadata": {
        "colab": {
          "base_uri": "https://localhost:8080/"
        },
        "id": "haDyBqr1WF91",
        "outputId": "b224d7d8-43a1-4186-a50d-0c7e72640c6e"
      },
      "execution_count": 148,
      "outputs": [
        {
          "output_type": "execute_result",
          "data": {
            "text/plain": [
              "111          12 MP + 12 MP Dual Rear & 12 MP Front Camera\n",
              "149          12 MP + 12 MP Dual Rear & 12 MP Front Camera\n",
              "307          12 MP + 12 MP Dual Rear & 12 MP Front Camera\n",
              "363          12 MP + 12 MP Dual Rear & 12 MP Front Camera\n",
              "376                                      1450 mAh Battery\n",
              "439                        12 MP Rear & 7 MP Front Camera\n",
              "448     50 MP + 12 MP + 12 MP Triple Rear & 12 MP Fron...\n",
              "551                                      1900 mAh Battery\n",
              "582                                      1450 mAh Battery\n",
              "608                       2 MP Rear & 0.3 MP Front Camera\n",
              "611                                      3000 mAh Battery\n",
              "628     12 MP + 12 MP + 12 MP Triple Rear & 12 MP Fron...\n",
              "640                                        No Rear Camera\n",
              "645                     Memory Card Supported, upto 32 GB\n",
              "647                                        No Rear Camera\n",
              "657                                        No Rear Camera\n",
              "665                                        No Rear Camera\n",
              "699                                           No FM Radio\n",
              "748                     Memory Card Supported, upto 64 GB\n",
              "754                                               iOS v12\n",
              "757                                        No Rear Camera\n",
              "762                     12 MP Rear & 10.8 MP Front Camera\n",
              "817                                      1200 mAh Battery\n",
              "853     12 MP + 12 MP + 12 MP Triple Rear & 12 MP Fron...\n",
              "857                                      2 MP Rear Camera\n",
              "882                                      1450 mAh Battery\n",
              "913          12 MP + 12 MP Dual Rear & 12 MP Front Camera\n",
              "914          12 MP + 12 MP Dual Rear & 12 MP Front Camera\n",
              "925                                      2 MP Rear Camera\n",
              "927                                        No Rear Camera\n",
              "930                                    0.3 MP Rear Camera\n",
              "988                                    0.3 MP Rear Camera\n",
              "1000                                      800 mAh Battery\n",
              "Name: display, dtype: object"
            ]
          },
          "metadata": {},
          "execution_count": 148
        }
      ]
    },
    {
      "cell_type": "code",
      "source": [
        "def find_disp_size(x):\n",
        "  if 'inches' in x:\n",
        "    return x.split(' inches')[0]\n",
        "  else :\n",
        "    return np.nan"
      ],
      "metadata": {
        "id": "Q2g2OYVLXt8D"
      },
      "execution_count": 149,
      "outputs": []
    },
    {
      "cell_type": "code",
      "source": [
        "df['display_size'] = df['display'].apply(find_disp_size)"
      ],
      "metadata": {
        "id": "PCRmkeg7WxpT"
      },
      "execution_count": 150,
      "outputs": []
    },
    {
      "cell_type": "code",
      "source": [
        "def find_hz(x):\n",
        "  if 'Hz' in x:\n",
        "    temp = x.split(',')[2]\n",
        "    return temp.split(' ')[1]\n",
        "  else :\n",
        "    return np.nan"
      ],
      "metadata": {
        "id": "b54zNtiHZq7N"
      },
      "execution_count": 151,
      "outputs": []
    },
    {
      "cell_type": "code",
      "source": [
        "df['refresh rate'] = df['display'].apply(find_hz).astype('category')"
      ],
      "metadata": {
        "id": "LfF2KzSiXb3B"
      },
      "execution_count": 152,
      "outputs": []
    },
    {
      "cell_type": "code",
      "source": [
        "def find_notches(x):\n",
        "  if 'with' in x :\n",
        "    temp = x.split('with ')[1]\n",
        "\n",
        "    return temp.replace(' Notch' ,'') if 'Notch' in temp else temp\n",
        "  else :\n",
        "    return np.nan"
      ],
      "metadata": {
        "id": "eEqkxlepce_i"
      },
      "execution_count": 153,
      "outputs": []
    },
    {
      "cell_type": "code",
      "source": [
        "df['notch'] = df['display'].apply(find_notches).astype('category')"
      ],
      "metadata": {
        "id": "qxom8shLYQpf"
      },
      "execution_count": 154,
      "outputs": []
    },
    {
      "cell_type": "code",
      "source": [
        "df['camera'] = df['camera'].str.replace('\\u2009' ,' ' )"
      ],
      "metadata": {
        "id": "cufDKtq6bjtF"
      },
      "execution_count": 155,
      "outputs": []
    },
    {
      "cell_type": "code",
      "source": [
        "df['camera'].iloc[699] = str(df['camera'].iloc[699])"
      ],
      "metadata": {
        "colab": {
          "base_uri": "https://localhost:8080/"
        },
        "id": "CVMaLFa8lVJ0",
        "outputId": "64ffcab8-2ed0-4ce4-f5b7-5c0938c31b13"
      },
      "execution_count": 156,
      "outputs": [
        {
          "output_type": "stream",
          "name": "stderr",
          "text": [
            "<ipython-input-156-7202725635eb>:1: SettingWithCopyWarning: \n",
            "A value is trying to be set on a copy of a slice from a DataFrame\n",
            "\n",
            "See the caveats in the documentation: https://pandas.pydata.org/pandas-docs/stable/user_guide/indexing.html#returning-a-view-versus-a-copy\n",
            "  df['camera'].iloc[699] = str(df['camera'].iloc[699])\n"
          ]
        }
      ]
    },
    {
      "cell_type": "code",
      "source": [
        "df['camera'].apply(lambda x : np.nan if 'MP' in x else x).dropna()"
      ],
      "metadata": {
        "colab": {
          "base_uri": "https://localhost:8080/"
        },
        "id": "vQcl7NTTf5zq",
        "outputId": "c747f324-45c6-426f-abc4-27ad9116aeb0"
      },
      "execution_count": 157,
      "outputs": [
        {
          "output_type": "execute_result",
          "data": {
            "text/plain": [
              "69         Foldable Display, Dual Display\n",
              "98                       Foldable Display\n",
              "111             Memory Card Not Supported\n",
              "149             Memory Card Not Supported\n",
              "155                          Dual Display\n",
              "                      ...                \n",
              "954                      Foldable Display\n",
              "988     Memory Card Supported, upto 32 GB\n",
              "993                      Foldable Display\n",
              "1000    1.77 inches, 240 x 320 px Display\n",
              "1014                     Foldable Display\n",
              "Name: camera, Length: 66, dtype: object"
            ]
          },
          "metadata": {},
          "execution_count": 157
        }
      ]
    },
    {
      "cell_type": "code",
      "source": [
        "def find_rear_no(x):\n",
        "  if 'MP' in x :\n",
        "    temp = x.split('&')[0].split(' ')[-3]\n",
        "\n",
        "    if temp in ['Triple', 'Dual' , 'Quad']:\n",
        "      return temp\n",
        "    else :\n",
        "      return 'Single'\n",
        "  else :\n",
        "    return  np.nan"
      ],
      "metadata": {
        "id": "Ik32LygC_Km8"
      },
      "execution_count": 158,
      "outputs": []
    },
    {
      "cell_type": "code",
      "source": [
        "df['rear camera count'] = df['camera'].apply(find_rear_no).astype('category')"
      ],
      "metadata": {
        "id": "RtguvOiDkyLh"
      },
      "execution_count": 159,
      "outputs": []
    },
    {
      "cell_type": "code",
      "source": [
        "def find_primary_rear_cam(x):\n",
        "  if 'MP' in x:\n",
        "    return x.split(' ')[0]\n",
        "  else :\n",
        "    return 0"
      ],
      "metadata": {
        "id": "V29tOkklBcXF"
      },
      "execution_count": 160,
      "outputs": []
    },
    {
      "cell_type": "code",
      "source": [
        "df['rear primary cam'] = df['camera'].apply(find_primary_rear_cam).astype(np.float16)"
      ],
      "metadata": {
        "id": "5JhBpD-0lcQX"
      },
      "execution_count": 161,
      "outputs": []
    },
    {
      "cell_type": "code",
      "source": [
        "def find_front_primary_cam(x):\n",
        "  if 'Front' in x:\n",
        "    return x.split('&')[1].split(' ')[1]\n",
        "  else:\n",
        "    return 0"
      ],
      "metadata": {
        "id": "-xC2Tp_wCljq"
      },
      "execution_count": 162,
      "outputs": []
    },
    {
      "cell_type": "code",
      "source": [
        "df['front primary cam'] = df['camera'].apply(find_front_primary_cam).astype(np.float16)"
      ],
      "metadata": {
        "id": "O3QKiEEhAyi7"
      },
      "execution_count": 163,
      "outputs": []
    },
    {
      "cell_type": "code",
      "source": [
        "df['card'][df['card'].isnull()]"
      ],
      "metadata": {
        "colab": {
          "base_uri": "https://localhost:8080/"
        },
        "id": "rvEOog0YEJuD",
        "outputId": "f12c0c90-2b69-48b9-f476-2b611ed79142"
      },
      "execution_count": 164,
      "outputs": [
        {
          "output_type": "execute_result",
          "data": {
            "text/plain": [
              "573    NaN\n",
              "647    NaN\n",
              "699    NaN\n",
              "835    NaN\n",
              "881    NaN\n",
              "927    NaN\n",
              "932    NaN\n",
              "Name: card, dtype: object"
            ]
          },
          "metadata": {},
          "execution_count": 164
        }
      ]
    },
    {
      "cell_type": "code",
      "source": [
        "type(df['card'].iloc[573])"
      ],
      "metadata": {
        "colab": {
          "base_uri": "https://localhost:8080/"
        },
        "id": "MW4Hso_zILj1",
        "outputId": "8a7f15f5-f0e2-440e-e54c-5a2a1bda1540"
      },
      "execution_count": 165,
      "outputs": [
        {
          "output_type": "execute_result",
          "data": {
            "text/plain": [
              "float"
            ]
          },
          "metadata": {},
          "execution_count": 165
        }
      ]
    },
    {
      "cell_type": "code",
      "source": [
        "lst = list(df['card'][df['card'].isnull()].index)\n",
        "lst"
      ],
      "metadata": {
        "colab": {
          "base_uri": "https://localhost:8080/"
        },
        "id": "ZgVLDTXLGuIK",
        "outputId": "b3b3abcd-6db3-4872-abc6-24bc608c029d"
      },
      "execution_count": 166,
      "outputs": [
        {
          "output_type": "execute_result",
          "data": {
            "text/plain": [
              "[573, 647, 699, 835, 881, 927, 932]"
            ]
          },
          "metadata": {},
          "execution_count": 166
        }
      ]
    },
    {
      "cell_type": "code",
      "source": [
        "for i in lst:\n",
        "  df['card'].iloc[i] = str(df['card'].iloc[i])"
      ],
      "metadata": {
        "colab": {
          "base_uri": "https://localhost:8080/"
        },
        "id": "pqzqAfFHG1j_",
        "outputId": "c5654948-31ac-4502-cfb6-735487822e83"
      },
      "execution_count": 167,
      "outputs": [
        {
          "output_type": "stream",
          "name": "stderr",
          "text": [
            "<ipython-input-167-099c58e1c529>:2: SettingWithCopyWarning: \n",
            "A value is trying to be set on a copy of a slice from a DataFrame\n",
            "\n",
            "See the caveats in the documentation: https://pandas.pydata.org/pandas-docs/stable/user_guide/indexing.html#returning-a-view-versus-a-copy\n",
            "  df['card'].iloc[i] = str(df['card'].iloc[i])\n"
          ]
        }
      ]
    },
    {
      "cell_type": "code",
      "source": [
        "df['card']"
      ],
      "metadata": {
        "colab": {
          "base_uri": "https://localhost:8080/"
        },
        "id": "1qNiiczLHfOl",
        "outputId": "2ed6976a-6d24-4480-fcea-97ceff5cf037"
      },
      "execution_count": 168,
      "outputs": [
        {
          "output_type": "execute_result",
          "data": {
            "text/plain": [
              "0              Memory Card Not Supported\n",
              "1        Memory Card (Hybrid), upto 1 TB\n",
              "2       Memory Card Supported, upto 1 TB\n",
              "3        Memory Card (Hybrid), upto 1 TB\n",
              "4              Memory Card Not Supported\n",
              "                      ...               \n",
              "1015                         Android v12\n",
              "1016    Memory Card Supported, upto 1 TB\n",
              "1017           Memory Card Not Supported\n",
              "1018    Memory Card Supported, upto 1 TB\n",
              "1019    Memory Card Supported, upto 1 TB\n",
              "Name: card, Length: 1020, dtype: object"
            ]
          },
          "metadata": {},
          "execution_count": 168
        }
      ]
    },
    {
      "cell_type": "code",
      "source": [
        "(df['card'].apply(lambda x : np.nan if 'Card' in x else x).dropna().shape[0] / df['card'].shape[0] ) * 100"
      ],
      "metadata": {
        "colab": {
          "base_uri": "https://localhost:8080/"
        },
        "id": "RESu8VxNIUoO",
        "outputId": "77e6607a-0287-4e9f-90eb-65f041fb6be1"
      },
      "execution_count": 169,
      "outputs": [
        {
          "output_type": "execute_result",
          "data": {
            "text/plain": [
              "27.35294117647059"
            ]
          },
          "metadata": {},
          "execution_count": 169
        }
      ]
    },
    {
      "cell_type": "code",
      "source": [
        "lst = list(df['os'] [df['os'].isnull()].index)\n",
        "print(lst)"
      ],
      "metadata": {
        "colab": {
          "base_uri": "https://localhost:8080/"
        },
        "id": "F5CGouB0_cDM",
        "outputId": "a19e2e10-b2ee-4753-8e38-d0b985ba9831"
      },
      "execution_count": 170,
      "outputs": [
        {
          "output_type": "stream",
          "name": "stdout",
          "text": [
            "[473, 532, 573, 608, 640, 645, 647, 657, 665, 699, 748, 757, 835, 857, 881, 927, 932]\n"
          ]
        }
      ]
    },
    {
      "cell_type": "code",
      "source": [
        "for i in lst:\n",
        "  print(type(df['os'].iloc[i]))"
      ],
      "metadata": {
        "colab": {
          "base_uri": "https://localhost:8080/"
        },
        "id": "fqNTIqa9AXJB",
        "outputId": "67b0eb42-a45a-4081-a9d8-563e59b313b7"
      },
      "execution_count": 171,
      "outputs": [
        {
          "output_type": "stream",
          "name": "stdout",
          "text": [
            "<class 'float'>\n",
            "<class 'float'>\n",
            "<class 'float'>\n",
            "<class 'float'>\n",
            "<class 'float'>\n",
            "<class 'float'>\n",
            "<class 'float'>\n",
            "<class 'float'>\n",
            "<class 'float'>\n",
            "<class 'float'>\n",
            "<class 'float'>\n",
            "<class 'float'>\n",
            "<class 'float'>\n",
            "<class 'float'>\n",
            "<class 'float'>\n",
            "<class 'float'>\n",
            "<class 'float'>\n"
          ]
        }
      ]
    },
    {
      "cell_type": "code",
      "source": [
        "for i in lst :\n",
        "  df['os'].iloc[i] = str(df['os'].iloc[i])"
      ],
      "metadata": {
        "colab": {
          "base_uri": "https://localhost:8080/"
        },
        "id": "SFf2CRNFAoJI",
        "outputId": "9293b01e-cd16-4099-b898-302611ef01a0"
      },
      "execution_count": 172,
      "outputs": [
        {
          "output_type": "stream",
          "name": "stderr",
          "text": [
            "<ipython-input-172-42073413060a>:2: SettingWithCopyWarning: \n",
            "A value is trying to be set on a copy of a slice from a DataFrame\n",
            "\n",
            "See the caveats in the documentation: https://pandas.pydata.org/pandas-docs/stable/user_guide/indexing.html#returning-a-view-versus-a-copy\n",
            "  df['os'].iloc[i] = str(df['os'].iloc[i])\n"
          ]
        }
      ]
    },
    {
      "cell_type": "code",
      "source": [
        "df [df['os'].apply(lambda x : x if ('Android' in x) or ('iOS' in x) or ('Harmony' in x ) or ('EMUI' in x) else np.nan).isnull()] [['model' ,'brand', 'os']]"
      ],
      "metadata": {
        "colab": {
          "base_uri": "https://localhost:8080/",
          "height": 424
        },
        "id": "5zw457pZ-0Pg",
        "outputId": "b06c9b43-794a-4e8f-a5f5-e6bc3cf75c34"
      },
      "execution_count": 173,
      "outputs": [
        {
          "output_type": "execute_result",
          "data": {
            "text/plain": [
              "                            model     brand           os\n",
              "8                 Nothing Phone 1   Nothing  No FM Radio\n",
              "9              OnePlus Nord 2T 5G   OnePlus  No FM Radio\n",
              "12    Xiaomi Redmi Note 12 Pro 5G    Xiaomi  No FM Radio\n",
              "17           OPPO Reno 9 Pro Plus      OPPO  No FM Radio\n",
              "18                 OnePlus 10R 5G   OnePlus    Bluetooth\n",
              "...                           ...       ...          ...\n",
              "1009                Xiaomi Civi 3    Xiaomi  No FM Radio\n",
              "1011                 Oppo Find X6      Oppo  No FM Radio\n",
              "1012                    itel A23s      itel  No FM Radio\n",
              "1013           Google Pixel 8 Pro    Google  No FM Radio\n",
              "1015   Motorola Moto Edge S30 Pro  Motorola  No FM Radio\n",
              "\n",
              "[279 rows x 3 columns]"
            ],
            "text/html": [
              "\n",
              "  <div id=\"df-9c1a0c67-887d-470d-ace4-44a599650af8\" class=\"colab-df-container\">\n",
              "    <div>\n",
              "<style scoped>\n",
              "    .dataframe tbody tr th:only-of-type {\n",
              "        vertical-align: middle;\n",
              "    }\n",
              "\n",
              "    .dataframe tbody tr th {\n",
              "        vertical-align: top;\n",
              "    }\n",
              "\n",
              "    .dataframe thead th {\n",
              "        text-align: right;\n",
              "    }\n",
              "</style>\n",
              "<table border=\"1\" class=\"dataframe\">\n",
              "  <thead>\n",
              "    <tr style=\"text-align: right;\">\n",
              "      <th></th>\n",
              "      <th>model</th>\n",
              "      <th>brand</th>\n",
              "      <th>os</th>\n",
              "    </tr>\n",
              "  </thead>\n",
              "  <tbody>\n",
              "    <tr>\n",
              "      <th>8</th>\n",
              "      <td>Nothing Phone 1</td>\n",
              "      <td>Nothing</td>\n",
              "      <td>No FM Radio</td>\n",
              "    </tr>\n",
              "    <tr>\n",
              "      <th>9</th>\n",
              "      <td>OnePlus Nord 2T 5G</td>\n",
              "      <td>OnePlus</td>\n",
              "      <td>No FM Radio</td>\n",
              "    </tr>\n",
              "    <tr>\n",
              "      <th>12</th>\n",
              "      <td>Xiaomi Redmi Note 12 Pro 5G</td>\n",
              "      <td>Xiaomi</td>\n",
              "      <td>No FM Radio</td>\n",
              "    </tr>\n",
              "    <tr>\n",
              "      <th>17</th>\n",
              "      <td>OPPO Reno 9 Pro Plus</td>\n",
              "      <td>OPPO</td>\n",
              "      <td>No FM Radio</td>\n",
              "    </tr>\n",
              "    <tr>\n",
              "      <th>18</th>\n",
              "      <td>OnePlus 10R 5G</td>\n",
              "      <td>OnePlus</td>\n",
              "      <td>Bluetooth</td>\n",
              "    </tr>\n",
              "    <tr>\n",
              "      <th>...</th>\n",
              "      <td>...</td>\n",
              "      <td>...</td>\n",
              "      <td>...</td>\n",
              "    </tr>\n",
              "    <tr>\n",
              "      <th>1009</th>\n",
              "      <td>Xiaomi Civi 3</td>\n",
              "      <td>Xiaomi</td>\n",
              "      <td>No FM Radio</td>\n",
              "    </tr>\n",
              "    <tr>\n",
              "      <th>1011</th>\n",
              "      <td>Oppo Find X6</td>\n",
              "      <td>Oppo</td>\n",
              "      <td>No FM Radio</td>\n",
              "    </tr>\n",
              "    <tr>\n",
              "      <th>1012</th>\n",
              "      <td>itel A23s</td>\n",
              "      <td>itel</td>\n",
              "      <td>No FM Radio</td>\n",
              "    </tr>\n",
              "    <tr>\n",
              "      <th>1013</th>\n",
              "      <td>Google Pixel 8 Pro</td>\n",
              "      <td>Google</td>\n",
              "      <td>No FM Radio</td>\n",
              "    </tr>\n",
              "    <tr>\n",
              "      <th>1015</th>\n",
              "      <td>Motorola Moto Edge S30 Pro</td>\n",
              "      <td>Motorola</td>\n",
              "      <td>No FM Radio</td>\n",
              "    </tr>\n",
              "  </tbody>\n",
              "</table>\n",
              "<p>279 rows × 3 columns</p>\n",
              "</div>\n",
              "    <div class=\"colab-df-buttons\">\n",
              "\n",
              "  <div class=\"colab-df-container\">\n",
              "    <button class=\"colab-df-convert\" onclick=\"convertToInteractive('df-9c1a0c67-887d-470d-ace4-44a599650af8')\"\n",
              "            title=\"Convert this dataframe to an interactive table.\"\n",
              "            style=\"display:none;\">\n",
              "\n",
              "  <svg xmlns=\"http://www.w3.org/2000/svg\" height=\"24px\" viewBox=\"0 -960 960 960\">\n",
              "    <path d=\"M120-120v-720h720v720H120Zm60-500h600v-160H180v160Zm220 220h160v-160H400v160Zm0 220h160v-160H400v160ZM180-400h160v-160H180v160Zm440 0h160v-160H620v160ZM180-180h160v-160H180v160Zm440 0h160v-160H620v160Z\"/>\n",
              "  </svg>\n",
              "    </button>\n",
              "\n",
              "  <style>\n",
              "    .colab-df-container {\n",
              "      display:flex;\n",
              "      gap: 12px;\n",
              "    }\n",
              "\n",
              "    .colab-df-convert {\n",
              "      background-color: #E8F0FE;\n",
              "      border: none;\n",
              "      border-radius: 50%;\n",
              "      cursor: pointer;\n",
              "      display: none;\n",
              "      fill: #1967D2;\n",
              "      height: 32px;\n",
              "      padding: 0 0 0 0;\n",
              "      width: 32px;\n",
              "    }\n",
              "\n",
              "    .colab-df-convert:hover {\n",
              "      background-color: #E2EBFA;\n",
              "      box-shadow: 0px 1px 2px rgba(60, 64, 67, 0.3), 0px 1px 3px 1px rgba(60, 64, 67, 0.15);\n",
              "      fill: #174EA6;\n",
              "    }\n",
              "\n",
              "    .colab-df-buttons div {\n",
              "      margin-bottom: 4px;\n",
              "    }\n",
              "\n",
              "    [theme=dark] .colab-df-convert {\n",
              "      background-color: #3B4455;\n",
              "      fill: #D2E3FC;\n",
              "    }\n",
              "\n",
              "    [theme=dark] .colab-df-convert:hover {\n",
              "      background-color: #434B5C;\n",
              "      box-shadow: 0px 1px 3px 1px rgba(0, 0, 0, 0.15);\n",
              "      filter: drop-shadow(0px 1px 2px rgba(0, 0, 0, 0.3));\n",
              "      fill: #FFFFFF;\n",
              "    }\n",
              "  </style>\n",
              "\n",
              "    <script>\n",
              "      const buttonEl =\n",
              "        document.querySelector('#df-9c1a0c67-887d-470d-ace4-44a599650af8 button.colab-df-convert');\n",
              "      buttonEl.style.display =\n",
              "        google.colab.kernel.accessAllowed ? 'block' : 'none';\n",
              "\n",
              "      async function convertToInteractive(key) {\n",
              "        const element = document.querySelector('#df-9c1a0c67-887d-470d-ace4-44a599650af8');\n",
              "        const dataTable =\n",
              "          await google.colab.kernel.invokeFunction('convertToInteractive',\n",
              "                                                    [key], {});\n",
              "        if (!dataTable) return;\n",
              "\n",
              "        const docLinkHtml = 'Like what you see? Visit the ' +\n",
              "          '<a target=\"_blank\" href=https://colab.research.google.com/notebooks/data_table.ipynb>data table notebook</a>'\n",
              "          + ' to learn more about interactive tables.';\n",
              "        element.innerHTML = '';\n",
              "        dataTable['output_type'] = 'display_data';\n",
              "        await google.colab.output.renderOutput(dataTable, element);\n",
              "        const docLink = document.createElement('div');\n",
              "        docLink.innerHTML = docLinkHtml;\n",
              "        element.appendChild(docLink);\n",
              "      }\n",
              "    </script>\n",
              "  </div>\n",
              "\n",
              "\n",
              "<div id=\"df-fbbc55d5-4f88-424a-8edd-a61fb2ee949e\">\n",
              "  <button class=\"colab-df-quickchart\" onclick=\"quickchart('df-fbbc55d5-4f88-424a-8edd-a61fb2ee949e')\"\n",
              "            title=\"Suggest charts\"\n",
              "            style=\"display:none;\">\n",
              "\n",
              "<svg xmlns=\"http://www.w3.org/2000/svg\" height=\"24px\"viewBox=\"0 0 24 24\"\n",
              "     width=\"24px\">\n",
              "    <g>\n",
              "        <path d=\"M19 3H5c-1.1 0-2 .9-2 2v14c0 1.1.9 2 2 2h14c1.1 0 2-.9 2-2V5c0-1.1-.9-2-2-2zM9 17H7v-7h2v7zm4 0h-2V7h2v10zm4 0h-2v-4h2v4z\"/>\n",
              "    </g>\n",
              "</svg>\n",
              "  </button>\n",
              "\n",
              "<style>\n",
              "  .colab-df-quickchart {\n",
              "      --bg-color: #E8F0FE;\n",
              "      --fill-color: #1967D2;\n",
              "      --hover-bg-color: #E2EBFA;\n",
              "      --hover-fill-color: #174EA6;\n",
              "      --disabled-fill-color: #AAA;\n",
              "      --disabled-bg-color: #DDD;\n",
              "  }\n",
              "\n",
              "  [theme=dark] .colab-df-quickchart {\n",
              "      --bg-color: #3B4455;\n",
              "      --fill-color: #D2E3FC;\n",
              "      --hover-bg-color: #434B5C;\n",
              "      --hover-fill-color: #FFFFFF;\n",
              "      --disabled-bg-color: #3B4455;\n",
              "      --disabled-fill-color: #666;\n",
              "  }\n",
              "\n",
              "  .colab-df-quickchart {\n",
              "    background-color: var(--bg-color);\n",
              "    border: none;\n",
              "    border-radius: 50%;\n",
              "    cursor: pointer;\n",
              "    display: none;\n",
              "    fill: var(--fill-color);\n",
              "    height: 32px;\n",
              "    padding: 0;\n",
              "    width: 32px;\n",
              "  }\n",
              "\n",
              "  .colab-df-quickchart:hover {\n",
              "    background-color: var(--hover-bg-color);\n",
              "    box-shadow: 0 1px 2px rgba(60, 64, 67, 0.3), 0 1px 3px 1px rgba(60, 64, 67, 0.15);\n",
              "    fill: var(--button-hover-fill-color);\n",
              "  }\n",
              "\n",
              "  .colab-df-quickchart-complete:disabled,\n",
              "  .colab-df-quickchart-complete:disabled:hover {\n",
              "    background-color: var(--disabled-bg-color);\n",
              "    fill: var(--disabled-fill-color);\n",
              "    box-shadow: none;\n",
              "  }\n",
              "\n",
              "  .colab-df-spinner {\n",
              "    border: 2px solid var(--fill-color);\n",
              "    border-color: transparent;\n",
              "    border-bottom-color: var(--fill-color);\n",
              "    animation:\n",
              "      spin 1s steps(1) infinite;\n",
              "  }\n",
              "\n",
              "  @keyframes spin {\n",
              "    0% {\n",
              "      border-color: transparent;\n",
              "      border-bottom-color: var(--fill-color);\n",
              "      border-left-color: var(--fill-color);\n",
              "    }\n",
              "    20% {\n",
              "      border-color: transparent;\n",
              "      border-left-color: var(--fill-color);\n",
              "      border-top-color: var(--fill-color);\n",
              "    }\n",
              "    30% {\n",
              "      border-color: transparent;\n",
              "      border-left-color: var(--fill-color);\n",
              "      border-top-color: var(--fill-color);\n",
              "      border-right-color: var(--fill-color);\n",
              "    }\n",
              "    40% {\n",
              "      border-color: transparent;\n",
              "      border-right-color: var(--fill-color);\n",
              "      border-top-color: var(--fill-color);\n",
              "    }\n",
              "    60% {\n",
              "      border-color: transparent;\n",
              "      border-right-color: var(--fill-color);\n",
              "    }\n",
              "    80% {\n",
              "      border-color: transparent;\n",
              "      border-right-color: var(--fill-color);\n",
              "      border-bottom-color: var(--fill-color);\n",
              "    }\n",
              "    90% {\n",
              "      border-color: transparent;\n",
              "      border-bottom-color: var(--fill-color);\n",
              "    }\n",
              "  }\n",
              "</style>\n",
              "\n",
              "  <script>\n",
              "    async function quickchart(key) {\n",
              "      const quickchartButtonEl =\n",
              "        document.querySelector('#' + key + ' button');\n",
              "      quickchartButtonEl.disabled = true;  // To prevent multiple clicks.\n",
              "      quickchartButtonEl.classList.add('colab-df-spinner');\n",
              "      try {\n",
              "        const charts = await google.colab.kernel.invokeFunction(\n",
              "            'suggestCharts', [key], {});\n",
              "      } catch (error) {\n",
              "        console.error('Error during call to suggestCharts:', error);\n",
              "      }\n",
              "      quickchartButtonEl.classList.remove('colab-df-spinner');\n",
              "      quickchartButtonEl.classList.add('colab-df-quickchart-complete');\n",
              "    }\n",
              "    (() => {\n",
              "      let quickchartButtonEl =\n",
              "        document.querySelector('#df-fbbc55d5-4f88-424a-8edd-a61fb2ee949e button');\n",
              "      quickchartButtonEl.style.display =\n",
              "        google.colab.kernel.accessAllowed ? 'block' : 'none';\n",
              "    })();\n",
              "  </script>\n",
              "</div>\n",
              "\n",
              "    </div>\n",
              "  </div>\n"
            ],
            "application/vnd.google.colaboratory.intrinsic+json": {
              "type": "dataframe",
              "summary": "{\n  \"name\": \"df [df['os']\",\n  \"rows\": 279,\n  \"fields\": [\n    {\n      \"column\": \"model\",\n      \"properties\": {\n        \"dtype\": \"string\",\n        \"num_unique_values\": 279,\n        \"samples\": [\n          \"Samsung Galaxy S23\",\n          \"OnePlus 12 Pro\",\n          \"Nokia 400 4G\"\n        ],\n        \"semantic_type\": \"\",\n        \"description\": \"\"\n      }\n    },\n    {\n      \"column\": \"brand\",\n      \"properties\": {\n        \"dtype\": \"category\",\n        \"num_unique_values\": 38,\n        \"samples\": [\n          \"CAT\",\n          \"iKall\",\n          \"Vivo\"\n        ],\n        \"semantic_type\": \"\",\n        \"description\": \"\"\n      }\n    },\n    {\n      \"column\": \"os\",\n      \"properties\": {\n        \"dtype\": \"category\",\n        \"num_unique_values\": 20,\n        \"samples\": [\n          \"No FM Radio\",\n          \"Browser\",\n          \"Hongmeng OS v4.0\"\n        ],\n        \"semantic_type\": \"\",\n        \"description\": \"\"\n      }\n    }\n  ]\n}"
            }
          },
          "metadata": {},
          "execution_count": 173
        }
      ]
    },
    {
      "cell_type": "code",
      "source": [
        "lst = list(df [df['os'].apply(lambda x : x if ('Android' in x) or ('iOS' in x) or ('Harmony' in x ) or ('EMUI' in x) else np.nan).isnull()]['brand'].unique())"
      ],
      "metadata": {
        "id": "qQ7CHS2t-3dV"
      },
      "execution_count": 174,
      "outputs": []
    },
    {
      "cell_type": "code",
      "source": [
        "len(lst)"
      ],
      "metadata": {
        "colab": {
          "base_uri": "https://localhost:8080/"
        },
        "id": "4sY9QqvLBAN-",
        "outputId": "ac33c50d-4f1b-4897-e78f-eb3f6b552242"
      },
      "execution_count": 175,
      "outputs": [
        {
          "output_type": "execute_result",
          "data": {
            "text/plain": [
              "38"
            ]
          },
          "metadata": {},
          "execution_count": 175
        }
      ]
    },
    {
      "cell_type": "code",
      "source": [
        "print(lst)"
      ],
      "metadata": {
        "colab": {
          "base_uri": "https://localhost:8080/"
        },
        "id": "O7Y7Tw4nBGSk",
        "outputId": "f62dd497-a6dd-4dd5-86f6-5e47640448b8"
      },
      "execution_count": 176,
      "outputs": [
        {
          "output_type": "stream",
          "name": "stdout",
          "text": [
            "['Nothing', 'OnePlus', 'Xiaomi', 'OPPO', 'Vivo', 'Samsung', 'iQOO', 'Motorola', 'Tecno', 'Apple', 'Nokia', 'Oppo', 'Letv', 'LeEco', 'Honor', 'Google', 'Realme', 'Nubia', 'Royole', 'Poco', 'itel', 'Jio', 'Asus', 'Huawei', 'Itel', 'ZTE', 'Lenovo', 'LG', 'Namotel', 'Eunity', 'Oukitel', 'Zanco', 'Karbonn', 'CAT', 'DIZO', 'BlackZone', 'iKall', 'XTouch']\n"
          ]
        }
      ]
    },
    {
      "cell_type": "code",
      "source": [
        "df[df[['brand']] == 'Nothing']['brand'].dropna()"
      ],
      "metadata": {
        "colab": {
          "base_uri": "https://localhost:8080/"
        },
        "id": "1VZ0vdg9ED3s",
        "outputId": "9b67de72-4529-4af8-93eb-cf73073984c5"
      },
      "execution_count": 177,
      "outputs": [
        {
          "output_type": "execute_result",
          "data": {
            "text/plain": [
              "8      Nothing\n",
              "133    Nothing\n",
              "206    Nothing\n",
              "269    Nothing\n",
              "944    Nothing\n",
              "Name: brand, dtype: category\n",
              "Categories (56, object): ['Apple', 'Asus', 'BLU', 'BlackZone', ..., 'Zanco', 'iKall', 'iQOO', 'itel']"
            ]
          },
          "metadata": {},
          "execution_count": 177
        }
      ]
    },
    {
      "cell_type": "code",
      "source": [
        "df[['brand' , 'os']].iloc[944]"
      ],
      "metadata": {
        "colab": {
          "base_uri": "https://localhost:8080/"
        },
        "id": "ut7SuKlTEJHz",
        "outputId": "6443728f-20de-4b9a-a317-64e7a03e8d78"
      },
      "execution_count": 178,
      "outputs": [
        {
          "output_type": "execute_result",
          "data": {
            "text/plain": [
              "brand        Nothing\n",
              "os       No FM Radio\n",
              "Name: 944, dtype: object"
            ]
          },
          "metadata": {},
          "execution_count": 178
        }
      ]
    },
    {
      "cell_type": "code",
      "source": [
        "df.columns"
      ],
      "metadata": {
        "id": "gnn_ZVEYEqRS",
        "colab": {
          "base_uri": "https://localhost:8080/"
        },
        "outputId": "8fd09b25-ad1a-4623-aa91-e39e8a5cec35"
      },
      "execution_count": 179,
      "outputs": [
        {
          "output_type": "execute_result",
          "data": {
            "text/plain": [
              "Index(['model', 'price', 'rating', 'sim', 'processor', 'ram', 'battery',\n",
              "       'display', 'camera', 'card', 'os', 'brand', 'selling_price', 'sim type',\n",
              "       'is 5G', 'cores', 'RAM', 'ROM', 'battery_mAh', 'charger', 'is_fast',\n",
              "       'display_size', 'refresh rate', 'notch', 'rear camera count',\n",
              "       'rear primary cam', 'front primary cam'],\n",
              "      dtype='object')"
            ]
          },
          "metadata": {},
          "execution_count": 179
        }
      ]
    },
    {
      "cell_type": "code",
      "source": [
        "def os(x):\n",
        "  print(x)"
      ],
      "metadata": {
        "id": "FOPSes9GMluK"
      },
      "execution_count": 180,
      "outputs": []
    },
    {
      "cell_type": "code",
      "source": [
        "df[df['brand']=='Nothing'].apply(os)"
      ],
      "metadata": {
        "colab": {
          "base_uri": "https://localhost:8080/"
        },
        "id": "8fp_tq3JPTjV",
        "outputId": "2d8fb464-06f4-4193-81b7-620921a1c587"
      },
      "execution_count": 181,
      "outputs": [
        {
          "output_type": "stream",
          "name": "stdout",
          "text": [
            "8                         Nothing Phone 1\n",
            "133     Nothing Phone 1 (8GB RAM + 256GB)\n",
            "206    Nothing Phone 1 (12GB RAM + 256GB)\n",
            "269                       Nothing Phone 2\n",
            "944                  Nothing Phone 1 Lite\n",
            "Name: model, dtype: object\n",
            "8      ₹26,749\n",
            "133    ₹28,249\n",
            "206    ₹35,999\n",
            "269    ₹39,990\n",
            "944    ₹24,990\n",
            "Name: price, dtype: object\n",
            "8      85.0\n",
            "133    86.0\n",
            "206    87.0\n",
            "269    88.0\n",
            "944    80.0\n",
            "Name: rating, dtype: float64\n",
            "8      Dual Sim, 3G, 4G, 5G, VoLTE, Wi-Fi, NFC\n",
            "133    Dual Sim, 3G, 4G, 5G, VoLTE, Wi-Fi, NFC\n",
            "206    Dual Sim, 3G, 4G, 5G, VoLTE, Wi-Fi, NFC\n",
            "269    Dual Sim, 3G, 4G, 5G, VoLTE, Wi-Fi, NFC\n",
            "944    Dual Sim, 3G, 4G, 5G, VoLTE, Wi-Fi, NFC\n",
            "Name: sim, dtype: object\n",
            "8      Snapdragon 778G Plus, Octa Core, 2.5 GHz Proce...\n",
            "133    Snapdragon 778G Plus, Octa Core, 2.5 GHz Proce...\n",
            "206    Snapdragon 778G Plus, Octa Core, 2.5 GHz Proce...\n",
            "269     Snapdragon 8+ Gen1, Octa Core, 3.2 GHz Processor\n",
            "944    Snapdragon 778G Plus, Octa Core, 2.5 GHz Proce...\n",
            "Name: processor, dtype: object\n",
            "8       8 GB RAM, 128 GB inbuilt\n",
            "133     8 GB RAM, 256 GB inbuilt\n",
            "206    12 GB RAM, 256 GB inbuilt\n",
            "269     8 GB RAM, 128 GB inbuilt\n",
            "944     6 GB RAM, 128 GB inbuilt\n",
            "Name: ram, dtype: object\n",
            "8      4500 mAh Battery with 33W Fast Charging\n",
            "133    4500 mAh Battery with 33W Fast Charging\n",
            "206    4500 mAh Battery with 33W Fast Charging\n",
            "269    4700 mAh Battery with 66W Fast Charging\n",
            "944    5000 mAh Battery with 33W Fast Charging\n",
            "Name: battery, dtype: object\n",
            "8      6.55 inches, 1080 x 2400 px, 120 Hz Display wi...\n",
            "133    6.55 inches, 1080 x 2400 px, 120 Hz Display wi...\n",
            "206    6.55 inches, 1080 x 2400 px, 120 Hz Display wi...\n",
            "269    6.67 inches, 1080 x 2400 px, 120 Hz Display wi...\n",
            "944    6.55 inches, 1080 x 2400 px, 120 Hz Display wi...\n",
            "Name: display, dtype: object\n",
            "8           50 MP + 50 MP Dual Rear & 16 MP Front Camera\n",
            "133         50 MP + 50 MP Dual Rear & 16 MP Front Camera\n",
            "206         50 MP + 50 MP Dual Rear & 16 MP Front Camera\n",
            "269    50 MP + 50 MP + 50 MP Triple Rear & 32 MP Fron...\n",
            "944         50 MP + 12 MP Dual Rear & 16 MP Front Camera\n",
            "Name: camera, dtype: object\n",
            "8      Android v12\n",
            "133    Android v12\n",
            "206    Android v12\n",
            "269    Android v13\n",
            "944    Android v12\n",
            "Name: card, dtype: object\n",
            "8      No FM Radio\n",
            "133    No FM Radio\n",
            "206    No FM Radio\n",
            "269    No FM Radio\n",
            "944    No FM Radio\n",
            "Name: os, dtype: object\n",
            "8      Nothing\n",
            "133    Nothing\n",
            "206    Nothing\n",
            "269    Nothing\n",
            "944    Nothing\n",
            "Name: brand, dtype: category\n",
            "Categories (56, object): ['Apple', 'Asus', 'BLU', 'BlackZone', ..., 'Zanco', 'iKall', 'iQOO', 'itel']\n",
            "8      26749\n",
            "133    28249\n",
            "206    35999\n",
            "269    39990\n",
            "944    24990\n",
            "Name: selling_price, dtype: int32\n",
            "8      Dual Sim\n",
            "133    Dual Sim\n",
            "206    Dual Sim\n",
            "269    Dual Sim\n",
            "944    Dual Sim\n",
            "Name: sim type, dtype: category\n",
            "Categories (3, object): ['Dual Sim', 'No Sim', 'Single Sim']\n",
            "8      1\n",
            "133    1\n",
            "206    1\n",
            "269    1\n",
            "944    1\n",
            "Name: is 5G, dtype: int64\n",
            "8      8\n",
            "133    8\n",
            "206    8\n",
            "269    8\n",
            "944    8\n",
            "Name: cores, dtype: int64\n",
            "8       8 GB\n",
            "133     8 GB\n",
            "206    12 GB\n",
            "269     8 GB\n",
            "944     6 GB\n",
            "Name: RAM, dtype: category\n",
            "Categories (17, object): ['128 MB', '12 GB', '16 GB', '16 MB', ..., '64 MB', '6 GB', '8 GB', '8 MB']\n",
            "8      128 GB\n",
            "133    256 GB\n",
            "206    256 GB\n",
            "269    128 GB\n",
            "944    128 GB\n",
            "Name: ROM, dtype: category\n",
            "Categories (15, object): ['128 GB', '128 MB', '16 GB', '16 MB', ..., '512 GB', '512 MB', '64 GB',\n",
            "                          '8 GB']\n",
            "8      4500\n",
            "133    4500\n",
            "206    4500\n",
            "269    4700\n",
            "944    5000\n",
            "Name: battery_mAh, dtype: category\n",
            "Categories (96, object): ['1000', '1020', '1150', '1450', ..., '7000', '800', '8000', '9800']\n",
            "8      33W\n",
            "133    33W\n",
            "206    33W\n",
            "269    66W\n",
            "944    33W\n",
            "Name: charger, dtype: category\n",
            "Categories (33, object): ['100W', '10W', '120W', '125W', ..., '67W', '68.2W', '68W', '80W']\n",
            "8      1\n",
            "133    1\n",
            "206    1\n",
            "269    1\n",
            "944    1\n",
            "Name: is_fast, dtype: category\n",
            "Categories (2, int64): [0, 1]\n",
            "8      6.55\n",
            "133    6.55\n",
            "206    6.55\n",
            "269    6.67\n",
            "944    6.55\n",
            "Name: display_size, dtype: object\n",
            "8      120\n",
            "133    120\n",
            "206    120\n",
            "269    120\n",
            "944    120\n",
            "Name: refresh rate, dtype: category\n",
            "Categories (5, object): ['120', '144', '165', '240', '90']\n",
            "8      Punch Hole\n",
            "133    Punch Hole\n",
            "206    Punch Hole\n",
            "269    Punch Hole\n",
            "944    Punch Hole\n",
            "Name: notch, dtype: category\n",
            "Categories (5, object): ['Dual Punch Hole', 'Large', 'Punch Hole', 'Small', 'Water Drop']\n",
            "8        Dual\n",
            "133      Dual\n",
            "206      Dual\n",
            "269    Triple\n",
            "944      Dual\n",
            "Name: rear camera count, dtype: category\n",
            "Categories (4, object): ['Dual', 'Quad', 'Single', 'Triple']\n",
            "8      50.0\n",
            "133    50.0\n",
            "206    50.0\n",
            "269    50.0\n",
            "944    50.0\n",
            "Name: rear primary cam, dtype: float16\n",
            "8      16.0\n",
            "133    16.0\n",
            "206    16.0\n",
            "269    32.0\n",
            "944    16.0\n",
            "Name: front primary cam, dtype: float16\n"
          ]
        },
        {
          "output_type": "execute_result",
          "data": {
            "text/plain": [
              "model                None\n",
              "price                None\n",
              "rating               None\n",
              "sim                  None\n",
              "processor            None\n",
              "ram                  None\n",
              "battery              None\n",
              "display              None\n",
              "camera               None\n",
              "card                 None\n",
              "os                   None\n",
              "brand                None\n",
              "selling_price        None\n",
              "sim type             None\n",
              "is 5G                None\n",
              "cores                None\n",
              "RAM                  None\n",
              "ROM                  None\n",
              "battery_mAh          None\n",
              "charger              None\n",
              "is_fast              None\n",
              "display_size         None\n",
              "refresh rate         None\n",
              "notch                None\n",
              "rear camera count    None\n",
              "rear primary cam     None\n",
              "front primary cam    None\n",
              "dtype: object"
            ]
          },
          "metadata": {},
          "execution_count": 181
        }
      ]
    },
    {
      "cell_type": "code",
      "source": [
        "df['os'].apply(lambda x : x if ('Android' in x) or ('iOS' in x) or ('Harmony' in x ) or ('EMUI' in x) else np.nan).dropna()"
      ],
      "metadata": {
        "id": "UaxqaJ_qQrvc",
        "colab": {
          "base_uri": "https://localhost:8080/"
        },
        "outputId": "09e62443-7117-43e2-8a3b-ddd112b6cc97"
      },
      "execution_count": 182,
      "outputs": [
        {
          "output_type": "execute_result",
          "data": {
            "text/plain": [
              "0       Android v13\n",
              "1       Android v12\n",
              "2       Android v13\n",
              "3       Android v12\n",
              "4       Android v13\n",
              "           ...     \n",
              "1014    Android v12\n",
              "1016    Android v11\n",
              "1017    Android v12\n",
              "1018    Android v12\n",
              "1019    Android v12\n",
              "Name: os, Length: 741, dtype: object"
            ]
          },
          "metadata": {},
          "execution_count": 182
        }
      ]
    },
    {
      "cell_type": "code",
      "source": [
        "df.columns"
      ],
      "metadata": {
        "id": "9vxjeW5ATM-s",
        "colab": {
          "base_uri": "https://localhost:8080/"
        },
        "outputId": "55e87acd-0443-455b-dc11-3147e7025757"
      },
      "execution_count": 183,
      "outputs": [
        {
          "output_type": "execute_result",
          "data": {
            "text/plain": [
              "Index(['model', 'price', 'rating', 'sim', 'processor', 'ram', 'battery',\n",
              "       'display', 'camera', 'card', 'os', 'brand', 'selling_price', 'sim type',\n",
              "       'is 5G', 'cores', 'RAM', 'ROM', 'battery_mAh', 'charger', 'is_fast',\n",
              "       'display_size', 'refresh rate', 'notch', 'rear camera count',\n",
              "       'rear primary cam', 'front primary cam'],\n",
              "      dtype='object')"
            ]
          },
          "metadata": {},
          "execution_count": 183
        }
      ]
    },
    {
      "cell_type": "code",
      "source": [
        "phone=df[['model','brand','selling_price', 'sim type',\n",
        "       'is 5G', 'cores', 'RAM', 'ROM', 'battery_mAh', 'charger', 'is_fast',\n",
        "       'display_size', 'refresh rate', 'notch', 'rear camera count',\n",
        "       'rear primary cam', 'front primary cam']].copy()"
      ],
      "metadata": {
        "id": "acgAtdfDX6Ox"
      },
      "execution_count": 184,
      "outputs": []
    },
    {
      "cell_type": "code",
      "source": [
        "phone.head(3)"
      ],
      "metadata": {
        "colab": {
          "base_uri": "https://localhost:8080/",
          "height": 265
        },
        "id": "i1fZRK6UYV74",
        "outputId": "1c7e01ea-517d-477b-c169-a2a1b4f514d4"
      },
      "execution_count": 185,
      "outputs": [
        {
          "output_type": "execute_result",
          "data": {
            "text/plain": [
              "                       model    brand  selling_price  sim type  is 5G  cores  \\\n",
              "0              OnePlus 11 5G  OnePlus          54999  Dual Sim      1      8   \n",
              "1  OnePlus Nord CE 2 Lite 5G  OnePlus          19989  Dual Sim      1      8   \n",
              "2      Samsung Galaxy A14 5G  Samsung          16499  Dual Sim      1      8   \n",
              "\n",
              "     RAM     ROM battery_mAh charger is_fast display_size refresh rate  \\\n",
              "0  12 GB  256 GB        5000    100W       1          6.7          120   \n",
              "1   6 GB  128 GB        5000     33W       1         6.59          120   \n",
              "2   4 GB   64 GB        5000     15W       1          6.6           90   \n",
              "\n",
              "        notch rear camera count  rear primary cam  front primary cam  \n",
              "0  Punch Hole            Triple              50.0               16.0  \n",
              "1  Punch Hole            Triple              64.0               16.0  \n",
              "2  Water Drop            Triple              50.0               13.0  "
            ],
            "text/html": [
              "\n",
              "  <div id=\"df-23c741e2-fed1-4cd9-a872-890dd35781bb\" class=\"colab-df-container\">\n",
              "    <div>\n",
              "<style scoped>\n",
              "    .dataframe tbody tr th:only-of-type {\n",
              "        vertical-align: middle;\n",
              "    }\n",
              "\n",
              "    .dataframe tbody tr th {\n",
              "        vertical-align: top;\n",
              "    }\n",
              "\n",
              "    .dataframe thead th {\n",
              "        text-align: right;\n",
              "    }\n",
              "</style>\n",
              "<table border=\"1\" class=\"dataframe\">\n",
              "  <thead>\n",
              "    <tr style=\"text-align: right;\">\n",
              "      <th></th>\n",
              "      <th>model</th>\n",
              "      <th>brand</th>\n",
              "      <th>selling_price</th>\n",
              "      <th>sim type</th>\n",
              "      <th>is 5G</th>\n",
              "      <th>cores</th>\n",
              "      <th>RAM</th>\n",
              "      <th>ROM</th>\n",
              "      <th>battery_mAh</th>\n",
              "      <th>charger</th>\n",
              "      <th>is_fast</th>\n",
              "      <th>display_size</th>\n",
              "      <th>refresh rate</th>\n",
              "      <th>notch</th>\n",
              "      <th>rear camera count</th>\n",
              "      <th>rear primary cam</th>\n",
              "      <th>front primary cam</th>\n",
              "    </tr>\n",
              "  </thead>\n",
              "  <tbody>\n",
              "    <tr>\n",
              "      <th>0</th>\n",
              "      <td>OnePlus 11 5G</td>\n",
              "      <td>OnePlus</td>\n",
              "      <td>54999</td>\n",
              "      <td>Dual Sim</td>\n",
              "      <td>1</td>\n",
              "      <td>8</td>\n",
              "      <td>12 GB</td>\n",
              "      <td>256 GB</td>\n",
              "      <td>5000</td>\n",
              "      <td>100W</td>\n",
              "      <td>1</td>\n",
              "      <td>6.7</td>\n",
              "      <td>120</td>\n",
              "      <td>Punch Hole</td>\n",
              "      <td>Triple</td>\n",
              "      <td>50.0</td>\n",
              "      <td>16.0</td>\n",
              "    </tr>\n",
              "    <tr>\n",
              "      <th>1</th>\n",
              "      <td>OnePlus Nord CE 2 Lite 5G</td>\n",
              "      <td>OnePlus</td>\n",
              "      <td>19989</td>\n",
              "      <td>Dual Sim</td>\n",
              "      <td>1</td>\n",
              "      <td>8</td>\n",
              "      <td>6 GB</td>\n",
              "      <td>128 GB</td>\n",
              "      <td>5000</td>\n",
              "      <td>33W</td>\n",
              "      <td>1</td>\n",
              "      <td>6.59</td>\n",
              "      <td>120</td>\n",
              "      <td>Punch Hole</td>\n",
              "      <td>Triple</td>\n",
              "      <td>64.0</td>\n",
              "      <td>16.0</td>\n",
              "    </tr>\n",
              "    <tr>\n",
              "      <th>2</th>\n",
              "      <td>Samsung Galaxy A14 5G</td>\n",
              "      <td>Samsung</td>\n",
              "      <td>16499</td>\n",
              "      <td>Dual Sim</td>\n",
              "      <td>1</td>\n",
              "      <td>8</td>\n",
              "      <td>4 GB</td>\n",
              "      <td>64 GB</td>\n",
              "      <td>5000</td>\n",
              "      <td>15W</td>\n",
              "      <td>1</td>\n",
              "      <td>6.6</td>\n",
              "      <td>90</td>\n",
              "      <td>Water Drop</td>\n",
              "      <td>Triple</td>\n",
              "      <td>50.0</td>\n",
              "      <td>13.0</td>\n",
              "    </tr>\n",
              "  </tbody>\n",
              "</table>\n",
              "</div>\n",
              "    <div class=\"colab-df-buttons\">\n",
              "\n",
              "  <div class=\"colab-df-container\">\n",
              "    <button class=\"colab-df-convert\" onclick=\"convertToInteractive('df-23c741e2-fed1-4cd9-a872-890dd35781bb')\"\n",
              "            title=\"Convert this dataframe to an interactive table.\"\n",
              "            style=\"display:none;\">\n",
              "\n",
              "  <svg xmlns=\"http://www.w3.org/2000/svg\" height=\"24px\" viewBox=\"0 -960 960 960\">\n",
              "    <path d=\"M120-120v-720h720v720H120Zm60-500h600v-160H180v160Zm220 220h160v-160H400v160Zm0 220h160v-160H400v160ZM180-400h160v-160H180v160Zm440 0h160v-160H620v160ZM180-180h160v-160H180v160Zm440 0h160v-160H620v160Z\"/>\n",
              "  </svg>\n",
              "    </button>\n",
              "\n",
              "  <style>\n",
              "    .colab-df-container {\n",
              "      display:flex;\n",
              "      gap: 12px;\n",
              "    }\n",
              "\n",
              "    .colab-df-convert {\n",
              "      background-color: #E8F0FE;\n",
              "      border: none;\n",
              "      border-radius: 50%;\n",
              "      cursor: pointer;\n",
              "      display: none;\n",
              "      fill: #1967D2;\n",
              "      height: 32px;\n",
              "      padding: 0 0 0 0;\n",
              "      width: 32px;\n",
              "    }\n",
              "\n",
              "    .colab-df-convert:hover {\n",
              "      background-color: #E2EBFA;\n",
              "      box-shadow: 0px 1px 2px rgba(60, 64, 67, 0.3), 0px 1px 3px 1px rgba(60, 64, 67, 0.15);\n",
              "      fill: #174EA6;\n",
              "    }\n",
              "\n",
              "    .colab-df-buttons div {\n",
              "      margin-bottom: 4px;\n",
              "    }\n",
              "\n",
              "    [theme=dark] .colab-df-convert {\n",
              "      background-color: #3B4455;\n",
              "      fill: #D2E3FC;\n",
              "    }\n",
              "\n",
              "    [theme=dark] .colab-df-convert:hover {\n",
              "      background-color: #434B5C;\n",
              "      box-shadow: 0px 1px 3px 1px rgba(0, 0, 0, 0.15);\n",
              "      filter: drop-shadow(0px 1px 2px rgba(0, 0, 0, 0.3));\n",
              "      fill: #FFFFFF;\n",
              "    }\n",
              "  </style>\n",
              "\n",
              "    <script>\n",
              "      const buttonEl =\n",
              "        document.querySelector('#df-23c741e2-fed1-4cd9-a872-890dd35781bb button.colab-df-convert');\n",
              "      buttonEl.style.display =\n",
              "        google.colab.kernel.accessAllowed ? 'block' : 'none';\n",
              "\n",
              "      async function convertToInteractive(key) {\n",
              "        const element = document.querySelector('#df-23c741e2-fed1-4cd9-a872-890dd35781bb');\n",
              "        const dataTable =\n",
              "          await google.colab.kernel.invokeFunction('convertToInteractive',\n",
              "                                                    [key], {});\n",
              "        if (!dataTable) return;\n",
              "\n",
              "        const docLinkHtml = 'Like what you see? Visit the ' +\n",
              "          '<a target=\"_blank\" href=https://colab.research.google.com/notebooks/data_table.ipynb>data table notebook</a>'\n",
              "          + ' to learn more about interactive tables.';\n",
              "        element.innerHTML = '';\n",
              "        dataTable['output_type'] = 'display_data';\n",
              "        await google.colab.output.renderOutput(dataTable, element);\n",
              "        const docLink = document.createElement('div');\n",
              "        docLink.innerHTML = docLinkHtml;\n",
              "        element.appendChild(docLink);\n",
              "      }\n",
              "    </script>\n",
              "  </div>\n",
              "\n",
              "\n",
              "<div id=\"df-ed505bdd-17c9-40a8-b878-11a37b31a7e3\">\n",
              "  <button class=\"colab-df-quickchart\" onclick=\"quickchart('df-ed505bdd-17c9-40a8-b878-11a37b31a7e3')\"\n",
              "            title=\"Suggest charts\"\n",
              "            style=\"display:none;\">\n",
              "\n",
              "<svg xmlns=\"http://www.w3.org/2000/svg\" height=\"24px\"viewBox=\"0 0 24 24\"\n",
              "     width=\"24px\">\n",
              "    <g>\n",
              "        <path d=\"M19 3H5c-1.1 0-2 .9-2 2v14c0 1.1.9 2 2 2h14c1.1 0 2-.9 2-2V5c0-1.1-.9-2-2-2zM9 17H7v-7h2v7zm4 0h-2V7h2v10zm4 0h-2v-4h2v4z\"/>\n",
              "    </g>\n",
              "</svg>\n",
              "  </button>\n",
              "\n",
              "<style>\n",
              "  .colab-df-quickchart {\n",
              "      --bg-color: #E8F0FE;\n",
              "      --fill-color: #1967D2;\n",
              "      --hover-bg-color: #E2EBFA;\n",
              "      --hover-fill-color: #174EA6;\n",
              "      --disabled-fill-color: #AAA;\n",
              "      --disabled-bg-color: #DDD;\n",
              "  }\n",
              "\n",
              "  [theme=dark] .colab-df-quickchart {\n",
              "      --bg-color: #3B4455;\n",
              "      --fill-color: #D2E3FC;\n",
              "      --hover-bg-color: #434B5C;\n",
              "      --hover-fill-color: #FFFFFF;\n",
              "      --disabled-bg-color: #3B4455;\n",
              "      --disabled-fill-color: #666;\n",
              "  }\n",
              "\n",
              "  .colab-df-quickchart {\n",
              "    background-color: var(--bg-color);\n",
              "    border: none;\n",
              "    border-radius: 50%;\n",
              "    cursor: pointer;\n",
              "    display: none;\n",
              "    fill: var(--fill-color);\n",
              "    height: 32px;\n",
              "    padding: 0;\n",
              "    width: 32px;\n",
              "  }\n",
              "\n",
              "  .colab-df-quickchart:hover {\n",
              "    background-color: var(--hover-bg-color);\n",
              "    box-shadow: 0 1px 2px rgba(60, 64, 67, 0.3), 0 1px 3px 1px rgba(60, 64, 67, 0.15);\n",
              "    fill: var(--button-hover-fill-color);\n",
              "  }\n",
              "\n",
              "  .colab-df-quickchart-complete:disabled,\n",
              "  .colab-df-quickchart-complete:disabled:hover {\n",
              "    background-color: var(--disabled-bg-color);\n",
              "    fill: var(--disabled-fill-color);\n",
              "    box-shadow: none;\n",
              "  }\n",
              "\n",
              "  .colab-df-spinner {\n",
              "    border: 2px solid var(--fill-color);\n",
              "    border-color: transparent;\n",
              "    border-bottom-color: var(--fill-color);\n",
              "    animation:\n",
              "      spin 1s steps(1) infinite;\n",
              "  }\n",
              "\n",
              "  @keyframes spin {\n",
              "    0% {\n",
              "      border-color: transparent;\n",
              "      border-bottom-color: var(--fill-color);\n",
              "      border-left-color: var(--fill-color);\n",
              "    }\n",
              "    20% {\n",
              "      border-color: transparent;\n",
              "      border-left-color: var(--fill-color);\n",
              "      border-top-color: var(--fill-color);\n",
              "    }\n",
              "    30% {\n",
              "      border-color: transparent;\n",
              "      border-left-color: var(--fill-color);\n",
              "      border-top-color: var(--fill-color);\n",
              "      border-right-color: var(--fill-color);\n",
              "    }\n",
              "    40% {\n",
              "      border-color: transparent;\n",
              "      border-right-color: var(--fill-color);\n",
              "      border-top-color: var(--fill-color);\n",
              "    }\n",
              "    60% {\n",
              "      border-color: transparent;\n",
              "      border-right-color: var(--fill-color);\n",
              "    }\n",
              "    80% {\n",
              "      border-color: transparent;\n",
              "      border-right-color: var(--fill-color);\n",
              "      border-bottom-color: var(--fill-color);\n",
              "    }\n",
              "    90% {\n",
              "      border-color: transparent;\n",
              "      border-bottom-color: var(--fill-color);\n",
              "    }\n",
              "  }\n",
              "</style>\n",
              "\n",
              "  <script>\n",
              "    async function quickchart(key) {\n",
              "      const quickchartButtonEl =\n",
              "        document.querySelector('#' + key + ' button');\n",
              "      quickchartButtonEl.disabled = true;  // To prevent multiple clicks.\n",
              "      quickchartButtonEl.classList.add('colab-df-spinner');\n",
              "      try {\n",
              "        const charts = await google.colab.kernel.invokeFunction(\n",
              "            'suggestCharts', [key], {});\n",
              "      } catch (error) {\n",
              "        console.error('Error during call to suggestCharts:', error);\n",
              "      }\n",
              "      quickchartButtonEl.classList.remove('colab-df-spinner');\n",
              "      quickchartButtonEl.classList.add('colab-df-quickchart-complete');\n",
              "    }\n",
              "    (() => {\n",
              "      let quickchartButtonEl =\n",
              "        document.querySelector('#df-ed505bdd-17c9-40a8-b878-11a37b31a7e3 button');\n",
              "      quickchartButtonEl.style.display =\n",
              "        google.colab.kernel.accessAllowed ? 'block' : 'none';\n",
              "    })();\n",
              "  </script>\n",
              "</div>\n",
              "\n",
              "    </div>\n",
              "  </div>\n"
            ],
            "application/vnd.google.colaboratory.intrinsic+json": {
              "type": "dataframe",
              "variable_name": "phone",
              "summary": "{\n  \"name\": \"phone\",\n  \"rows\": 1020,\n  \"fields\": [\n    {\n      \"column\": \"model\",\n      \"properties\": {\n        \"dtype\": \"string\",\n        \"num_unique_values\": 1020,\n        \"samples\": [\n          \"Realme 9 Pro Plus 5G (8GB RAM + 256GB)\",\n          \"Vivo V21\",\n          \"Realme GT 2 Pro 5G\"\n        ],\n        \"semantic_type\": \"\",\n        \"description\": \"\"\n      }\n    },\n    {\n      \"column\": \"brand\",\n      \"properties\": {\n        \"dtype\": \"category\",\n        \"num_unique_values\": 56,\n        \"samples\": [\n          \"OnePlus\",\n          \"Xiaomi\",\n          \"Oukitel\"\n        ],\n        \"semantic_type\": \"\",\n        \"description\": \"\"\n      }\n    },\n    {\n      \"column\": \"selling_price\",\n      \"properties\": {\n        \"dtype\": \"int32\",\n        \"num_unique_values\": 412,\n        \"samples\": [\n          19980,\n          9499,\n          1762\n        ],\n        \"semantic_type\": \"\",\n        \"description\": \"\"\n      }\n    },\n    {\n      \"column\": \"sim type\",\n      \"properties\": {\n        \"dtype\": \"category\",\n        \"num_unique_values\": 3,\n        \"samples\": [\n          \"Dual Sim\",\n          \"Single Sim\",\n          \"No Sim\"\n        ],\n        \"semantic_type\": \"\",\n        \"description\": \"\"\n      }\n    },\n    {\n      \"column\": \"is 5G\",\n      \"properties\": {\n        \"dtype\": \"number\",\n        \"std\": 0,\n        \"min\": 0,\n        \"max\": 1,\n        \"num_unique_values\": 2,\n        \"samples\": [\n          0,\n          1\n        ],\n        \"semantic_type\": \"\",\n        \"description\": \"\"\n      }\n    },\n    {\n      \"column\": \"cores\",\n      \"properties\": {\n        \"dtype\": \"number\",\n        \"std\": 1,\n        \"min\": 1,\n        \"max\": 8,\n        \"num_unique_values\": 5,\n        \"samples\": [\n          6,\n          2\n        ],\n        \"semantic_type\": \"\",\n        \"description\": \"\"\n      }\n    },\n    {\n      \"column\": \"RAM\",\n      \"properties\": {\n        \"dtype\": \"category\",\n        \"num_unique_values\": 17,\n        \"samples\": [\n          \"12\\u2009GB\",\n          \"6\\u2009GB\"\n        ],\n        \"semantic_type\": \"\",\n        \"description\": \"\"\n      }\n    },\n    {\n      \"column\": \"ROM\",\n      \"properties\": {\n        \"dtype\": \"category\",\n        \"num_unique_values\": 15,\n        \"samples\": [\n          \"48\\u2009MB\",\n          \"4\\u2009MB\"\n        ],\n        \"semantic_type\": \"\",\n        \"description\": \"\"\n      }\n    },\n    {\n      \"column\": \"battery_mAh\",\n      \"properties\": {\n        \"dtype\": \"category\",\n        \"num_unique_values\": 96,\n        \"samples\": [\n          \"4360\",\n          \"1480\"\n        ],\n        \"semantic_type\": \"\",\n        \"description\": \"\"\n      }\n    },\n    {\n      \"column\": \"charger\",\n      \"properties\": {\n        \"dtype\": \"category\",\n        \"num_unique_values\": 33,\n        \"samples\": [\n          \"55W\",\n          \"68W\"\n        ],\n        \"semantic_type\": \"\",\n        \"description\": \"\"\n      }\n    },\n    {\n      \"column\": \"is_fast\",\n      \"properties\": {\n        \"dtype\": \"category\",\n        \"num_unique_values\": 2,\n        \"samples\": [\n          0,\n          1\n        ],\n        \"semantic_type\": \"\",\n        \"description\": \"\"\n      }\n    },\n    {\n      \"column\": \"display_size\",\n      \"properties\": {\n        \"dtype\": \"category\",\n        \"num_unique_values\": 85,\n        \"samples\": [\n          \"7.2\",\n          \"6.7\"\n        ],\n        \"semantic_type\": \"\",\n        \"description\": \"\"\n      }\n    },\n    {\n      \"column\": \"refresh rate\",\n      \"properties\": {\n        \"dtype\": \"category\",\n        \"num_unique_values\": 5,\n        \"samples\": [\n          \"90\",\n          \"240\"\n        ],\n        \"semantic_type\": \"\",\n        \"description\": \"\"\n      }\n    },\n    {\n      \"column\": \"notch\",\n      \"properties\": {\n        \"dtype\": \"category\",\n        \"num_unique_values\": 5,\n        \"samples\": [\n          \"Water Drop\",\n          \"Dual Punch Hole\"\n        ],\n        \"semantic_type\": \"\",\n        \"description\": \"\"\n      }\n    },\n    {\n      \"column\": \"rear camera count\",\n      \"properties\": {\n        \"dtype\": \"category\",\n        \"num_unique_values\": 4,\n        \"samples\": [\n          \"Dual\",\n          \"Single\"\n        ],\n        \"semantic_type\": \"\",\n        \"description\": \"\"\n      }\n    },\n    {\n      \"column\": \"rear primary cam\",\n      \"properties\": {\n        \"dtype\": \"float16\",\n        \"num_unique_values\": 20,\n        \"samples\": [\n          50.0,\n          47.1875\n        ],\n        \"semantic_type\": \"\",\n        \"description\": \"\"\n      }\n    },\n    {\n      \"column\": \"front primary cam\",\n      \"properties\": {\n        \"dtype\": \"float16\",\n        \"num_unique_values\": 24,\n        \"samples\": [\n          0.0,\n          11.1015625\n        ],\n        \"semantic_type\": \"\",\n        \"description\": \"\"\n      }\n    }\n  ]\n}"
            }
          },
          "metadata": {},
          "execution_count": 185
        }
      ]
    },
    {
      "cell_type": "code",
      "source": [
        "phone.isnull().sum()"
      ],
      "metadata": {
        "colab": {
          "base_uri": "https://localhost:8080/"
        },
        "id": "c5QI_ihErWzh",
        "outputId": "3fae265f-9191-4a47-f04f-e3271aa99360"
      },
      "execution_count": 186,
      "outputs": [
        {
          "output_type": "execute_result",
          "data": {
            "text/plain": [
              "model                  0\n",
              "brand                  0\n",
              "selling_price          0\n",
              "sim type               0\n",
              "is 5G                  0\n",
              "cores                  0\n",
              "RAM                   27\n",
              "ROM                   23\n",
              "battery_mAh           33\n",
              "charger              251\n",
              "is_fast                0\n",
              "display_size          33\n",
              "refresh rate         409\n",
              "notch                135\n",
              "rear camera count     66\n",
              "rear primary cam       0\n",
              "front primary cam      0\n",
              "dtype: int64"
            ]
          },
          "metadata": {},
          "execution_count": 186
        }
      ]
    },
    {
      "cell_type": "code",
      "source": [
        "phone [phone['RAM'].isnull()]"
      ],
      "metadata": {
        "colab": {
          "base_uri": "https://localhost:8080/",
          "height": 1000
        },
        "id": "E_VmNCkIrWpN",
        "outputId": "ad5dd5d8-09b1-427d-c49b-992fff38f48b"
      },
      "execution_count": 187,
      "outputs": [
        {
          "output_type": "execute_result",
          "data": {
            "text/plain": [
              "                                 model     brand  selling_price    sim type  \\\n",
              "376                    Nokia 2660 Flip     Nokia           4649    Dual Sim   \n",
              "439             Apple iPhone SE 3 2022     Apple          43900    Dual Sim   \n",
              "483   Huawei Mate 50 RS Porsche Design    Huawei         239999    Dual Sim   \n",
              "532      Samsung Guru Music 2 Dual Sim   Samsung           1949    Dual Sim   \n",
              "551                    itel Magic 2 4G      itel           2399    Dual Sim   \n",
              "582                      Nokia 8210 4G     Nokia           3749    Dual Sim   \n",
              "608                  Namotel Achhe Din   Namotel             99    Dual Sim   \n",
              "611                    Eunity U1 5605N    Eunity            699    Dual Sim   \n",
              "640                     Nokia 105 Plus     Nokia           1299    Dual Sim   \n",
              "645                    Nokia 2760 Flip     Nokia           5490    Dual Sim   \n",
              "647                  Motorola Moto A10  Motorola           1339    Dual Sim   \n",
              "657                      Zanco Tiny T1     Zanco           2799  Single Sim   \n",
              "665                       itel it2163S      itel            958    Dual Sim   \n",
              "699              Samsung Guru GT-E1215   Samsung           1850  Single Sim   \n",
              "748                       Nokia 400 4G     Nokia           3290    Dual Sim   \n",
              "754         Apple iPod Touch (7th Gen)     Apple          18900      No Sim   \n",
              "757                       Karbonn KU3i   Karbonn            995    Dual Sim   \n",
              "762                  Apple iPhone SE 4     Apple          49990    Dual Sim   \n",
              "817                       itel Magic X      itel           2239    Dual Sim   \n",
              "857                        LG Folder 2        LG          11999  Single Sim   \n",
              "882             Nokia 5710 XpressAudio     Nokia           4799    Dual Sim   \n",
              "917                   Nokia 150 (2020)     Nokia           2499    Dual Sim   \n",
              "925                      Nokia 3310 4G     Nokia           3999    Dual Sim   \n",
              "927                 Samsung Guru E1200   Samsung           1685  Single Sim   \n",
              "930                   iKall K88 Pro 4G     iKall           2099    Dual Sim   \n",
              "988                Nokia 5310 Dual Sim     Nokia           3399    Dual Sim   \n",
              "1000                   XTouch F40 Flip    XTouch           1999    Dual Sim   \n",
              "\n",
              "      is 5G  cores  RAM     ROM battery_mAh charger is_fast display_size  \\\n",
              "376       0      1  NaN     NaN         NaN     NaN       0          NaN   \n",
              "439       1      6  NaN   64 GB         NaN     NaN       0          NaN   \n",
              "483       0      8  NaN  512 GB        4700     66W       1         6.74   \n",
              "532       0      1  NaN     NaN         800     NaN       0            2   \n",
              "551       0      1  NaN     NaN         NaN     NaN       0          NaN   \n",
              "582       0      1  NaN     NaN         NaN     NaN       0          NaN   \n",
              "608       0      1  NaN     NaN         NaN     NaN       0          NaN   \n",
              "611       0      1  NaN     NaN         NaN     NaN       0          NaN   \n",
              "640       0      1  NaN     NaN         NaN     NaN       0          NaN   \n",
              "645       0      1  NaN     NaN         NaN     NaN       0          NaN   \n",
              "647       0      1  NaN     NaN         NaN     NaN       0          NaN   \n",
              "657       0      1  NaN     NaN         NaN     NaN       0          NaN   \n",
              "665       0      1  NaN     NaN         NaN     NaN       0          NaN   \n",
              "699       0      1  NaN     NaN         NaN     NaN       0          NaN   \n",
              "748       0      1  NaN     NaN         NaN     NaN       0          NaN   \n",
              "754       0      1  NaN     NaN         NaN     NaN       0          NaN   \n",
              "757       0      1  NaN     NaN         NaN     NaN       0          NaN   \n",
              "762       1      6  NaN   64 GB         NaN     NaN       0          NaN   \n",
              "817       0      1  NaN     NaN         NaN     NaN       0          NaN   \n",
              "857       0      1  NaN     NaN         NaN     NaN       0          NaN   \n",
              "882       0      1  NaN     NaN         NaN     NaN       0          NaN   \n",
              "917       0      1  NaN    4 MB        1020     NaN       0          2.4   \n",
              "925       0      1  NaN     NaN         NaN     NaN       0          NaN   \n",
              "927       0      1  NaN     NaN         NaN     NaN       0          NaN   \n",
              "930       0      1  NaN     NaN         NaN     NaN       0          NaN   \n",
              "988       0      1  NaN     NaN         NaN     NaN       0          NaN   \n",
              "1000      0      1  NaN     NaN         NaN     NaN       0          NaN   \n",
              "\n",
              "     refresh rate notch rear camera count  rear primary cam  front primary cam  \n",
              "376           NaN   NaN               NaN          0.000000                0.0  \n",
              "439           NaN   NaN               NaN          0.000000                0.0  \n",
              "483           120   NaN            Triple         50.000000               13.0  \n",
              "532           NaN   NaN               NaN          0.000000                0.0  \n",
              "551           NaN   NaN               NaN          0.000000                0.0  \n",
              "582           NaN   NaN               NaN          0.000000                0.0  \n",
              "608           NaN   NaN               NaN          0.000000                0.0  \n",
              "611           NaN   NaN               NaN          0.000000                0.0  \n",
              "640           NaN   NaN               NaN          0.000000                0.0  \n",
              "645           NaN   NaN               NaN          0.000000                0.0  \n",
              "647           NaN   NaN               NaN          0.000000                0.0  \n",
              "657           NaN   NaN               NaN          0.000000                0.0  \n",
              "665           NaN   NaN               NaN          0.000000                0.0  \n",
              "699           NaN   NaN               NaN          0.000000                0.0  \n",
              "748           NaN   NaN               NaN          0.000000                0.0  \n",
              "754           NaN   NaN               NaN          0.000000                0.0  \n",
              "757           NaN   NaN               NaN          0.000000                0.0  \n",
              "762           NaN   NaN               NaN          0.000000                0.0  \n",
              "817           NaN   NaN               NaN          0.000000                0.0  \n",
              "857           NaN   NaN               NaN          0.000000                0.0  \n",
              "882           NaN   NaN               NaN          0.000000                0.0  \n",
              "917           NaN   NaN            Single          0.300049                0.0  \n",
              "925           NaN   NaN               NaN          0.000000                0.0  \n",
              "927           NaN   NaN               NaN          0.000000                0.0  \n",
              "930           NaN   NaN               NaN          0.000000                0.0  \n",
              "988           NaN   NaN               NaN          0.000000                0.0  \n",
              "1000          NaN   NaN               NaN          0.000000                0.0  "
            ],
            "text/html": [
              "\n",
              "  <div id=\"df-5fecbb3a-b97e-470b-801d-209fb6d27689\" class=\"colab-df-container\">\n",
              "    <div>\n",
              "<style scoped>\n",
              "    .dataframe tbody tr th:only-of-type {\n",
              "        vertical-align: middle;\n",
              "    }\n",
              "\n",
              "    .dataframe tbody tr th {\n",
              "        vertical-align: top;\n",
              "    }\n",
              "\n",
              "    .dataframe thead th {\n",
              "        text-align: right;\n",
              "    }\n",
              "</style>\n",
              "<table border=\"1\" class=\"dataframe\">\n",
              "  <thead>\n",
              "    <tr style=\"text-align: right;\">\n",
              "      <th></th>\n",
              "      <th>model</th>\n",
              "      <th>brand</th>\n",
              "      <th>selling_price</th>\n",
              "      <th>sim type</th>\n",
              "      <th>is 5G</th>\n",
              "      <th>cores</th>\n",
              "      <th>RAM</th>\n",
              "      <th>ROM</th>\n",
              "      <th>battery_mAh</th>\n",
              "      <th>charger</th>\n",
              "      <th>is_fast</th>\n",
              "      <th>display_size</th>\n",
              "      <th>refresh rate</th>\n",
              "      <th>notch</th>\n",
              "      <th>rear camera count</th>\n",
              "      <th>rear primary cam</th>\n",
              "      <th>front primary cam</th>\n",
              "    </tr>\n",
              "  </thead>\n",
              "  <tbody>\n",
              "    <tr>\n",
              "      <th>376</th>\n",
              "      <td>Nokia 2660 Flip</td>\n",
              "      <td>Nokia</td>\n",
              "      <td>4649</td>\n",
              "      <td>Dual Sim</td>\n",
              "      <td>0</td>\n",
              "      <td>1</td>\n",
              "      <td>NaN</td>\n",
              "      <td>NaN</td>\n",
              "      <td>NaN</td>\n",
              "      <td>NaN</td>\n",
              "      <td>0</td>\n",
              "      <td>NaN</td>\n",
              "      <td>NaN</td>\n",
              "      <td>NaN</td>\n",
              "      <td>NaN</td>\n",
              "      <td>0.000000</td>\n",
              "      <td>0.0</td>\n",
              "    </tr>\n",
              "    <tr>\n",
              "      <th>439</th>\n",
              "      <td>Apple iPhone SE 3 2022</td>\n",
              "      <td>Apple</td>\n",
              "      <td>43900</td>\n",
              "      <td>Dual Sim</td>\n",
              "      <td>1</td>\n",
              "      <td>6</td>\n",
              "      <td>NaN</td>\n",
              "      <td>64 GB</td>\n",
              "      <td>NaN</td>\n",
              "      <td>NaN</td>\n",
              "      <td>0</td>\n",
              "      <td>NaN</td>\n",
              "      <td>NaN</td>\n",
              "      <td>NaN</td>\n",
              "      <td>NaN</td>\n",
              "      <td>0.000000</td>\n",
              "      <td>0.0</td>\n",
              "    </tr>\n",
              "    <tr>\n",
              "      <th>483</th>\n",
              "      <td>Huawei Mate 50 RS Porsche Design</td>\n",
              "      <td>Huawei</td>\n",
              "      <td>239999</td>\n",
              "      <td>Dual Sim</td>\n",
              "      <td>0</td>\n",
              "      <td>8</td>\n",
              "      <td>NaN</td>\n",
              "      <td>512 GB</td>\n",
              "      <td>4700</td>\n",
              "      <td>66W</td>\n",
              "      <td>1</td>\n",
              "      <td>6.74</td>\n",
              "      <td>120</td>\n",
              "      <td>NaN</td>\n",
              "      <td>Triple</td>\n",
              "      <td>50.000000</td>\n",
              "      <td>13.0</td>\n",
              "    </tr>\n",
              "    <tr>\n",
              "      <th>532</th>\n",
              "      <td>Samsung Guru Music 2 Dual Sim</td>\n",
              "      <td>Samsung</td>\n",
              "      <td>1949</td>\n",
              "      <td>Dual Sim</td>\n",
              "      <td>0</td>\n",
              "      <td>1</td>\n",
              "      <td>NaN</td>\n",
              "      <td>NaN</td>\n",
              "      <td>800</td>\n",
              "      <td>NaN</td>\n",
              "      <td>0</td>\n",
              "      <td>2</td>\n",
              "      <td>NaN</td>\n",
              "      <td>NaN</td>\n",
              "      <td>NaN</td>\n",
              "      <td>0.000000</td>\n",
              "      <td>0.0</td>\n",
              "    </tr>\n",
              "    <tr>\n",
              "      <th>551</th>\n",
              "      <td>itel Magic 2 4G</td>\n",
              "      <td>itel</td>\n",
              "      <td>2399</td>\n",
              "      <td>Dual Sim</td>\n",
              "      <td>0</td>\n",
              "      <td>1</td>\n",
              "      <td>NaN</td>\n",
              "      <td>NaN</td>\n",
              "      <td>NaN</td>\n",
              "      <td>NaN</td>\n",
              "      <td>0</td>\n",
              "      <td>NaN</td>\n",
              "      <td>NaN</td>\n",
              "      <td>NaN</td>\n",
              "      <td>NaN</td>\n",
              "      <td>0.000000</td>\n",
              "      <td>0.0</td>\n",
              "    </tr>\n",
              "    <tr>\n",
              "      <th>582</th>\n",
              "      <td>Nokia 8210 4G</td>\n",
              "      <td>Nokia</td>\n",
              "      <td>3749</td>\n",
              "      <td>Dual Sim</td>\n",
              "      <td>0</td>\n",
              "      <td>1</td>\n",
              "      <td>NaN</td>\n",
              "      <td>NaN</td>\n",
              "      <td>NaN</td>\n",
              "      <td>NaN</td>\n",
              "      <td>0</td>\n",
              "      <td>NaN</td>\n",
              "      <td>NaN</td>\n",
              "      <td>NaN</td>\n",
              "      <td>NaN</td>\n",
              "      <td>0.000000</td>\n",
              "      <td>0.0</td>\n",
              "    </tr>\n",
              "    <tr>\n",
              "      <th>608</th>\n",
              "      <td>Namotel Achhe Din</td>\n",
              "      <td>Namotel</td>\n",
              "      <td>99</td>\n",
              "      <td>Dual Sim</td>\n",
              "      <td>0</td>\n",
              "      <td>1</td>\n",
              "      <td>NaN</td>\n",
              "      <td>NaN</td>\n",
              "      <td>NaN</td>\n",
              "      <td>NaN</td>\n",
              "      <td>0</td>\n",
              "      <td>NaN</td>\n",
              "      <td>NaN</td>\n",
              "      <td>NaN</td>\n",
              "      <td>NaN</td>\n",
              "      <td>0.000000</td>\n",
              "      <td>0.0</td>\n",
              "    </tr>\n",
              "    <tr>\n",
              "      <th>611</th>\n",
              "      <td>Eunity U1 5605N</td>\n",
              "      <td>Eunity</td>\n",
              "      <td>699</td>\n",
              "      <td>Dual Sim</td>\n",
              "      <td>0</td>\n",
              "      <td>1</td>\n",
              "      <td>NaN</td>\n",
              "      <td>NaN</td>\n",
              "      <td>NaN</td>\n",
              "      <td>NaN</td>\n",
              "      <td>0</td>\n",
              "      <td>NaN</td>\n",
              "      <td>NaN</td>\n",
              "      <td>NaN</td>\n",
              "      <td>NaN</td>\n",
              "      <td>0.000000</td>\n",
              "      <td>0.0</td>\n",
              "    </tr>\n",
              "    <tr>\n",
              "      <th>640</th>\n",
              "      <td>Nokia 105 Plus</td>\n",
              "      <td>Nokia</td>\n",
              "      <td>1299</td>\n",
              "      <td>Dual Sim</td>\n",
              "      <td>0</td>\n",
              "      <td>1</td>\n",
              "      <td>NaN</td>\n",
              "      <td>NaN</td>\n",
              "      <td>NaN</td>\n",
              "      <td>NaN</td>\n",
              "      <td>0</td>\n",
              "      <td>NaN</td>\n",
              "      <td>NaN</td>\n",
              "      <td>NaN</td>\n",
              "      <td>NaN</td>\n",
              "      <td>0.000000</td>\n",
              "      <td>0.0</td>\n",
              "    </tr>\n",
              "    <tr>\n",
              "      <th>645</th>\n",
              "      <td>Nokia 2760 Flip</td>\n",
              "      <td>Nokia</td>\n",
              "      <td>5490</td>\n",
              "      <td>Dual Sim</td>\n",
              "      <td>0</td>\n",
              "      <td>1</td>\n",
              "      <td>NaN</td>\n",
              "      <td>NaN</td>\n",
              "      <td>NaN</td>\n",
              "      <td>NaN</td>\n",
              "      <td>0</td>\n",
              "      <td>NaN</td>\n",
              "      <td>NaN</td>\n",
              "      <td>NaN</td>\n",
              "      <td>NaN</td>\n",
              "      <td>0.000000</td>\n",
              "      <td>0.0</td>\n",
              "    </tr>\n",
              "    <tr>\n",
              "      <th>647</th>\n",
              "      <td>Motorola Moto A10</td>\n",
              "      <td>Motorola</td>\n",
              "      <td>1339</td>\n",
              "      <td>Dual Sim</td>\n",
              "      <td>0</td>\n",
              "      <td>1</td>\n",
              "      <td>NaN</td>\n",
              "      <td>NaN</td>\n",
              "      <td>NaN</td>\n",
              "      <td>NaN</td>\n",
              "      <td>0</td>\n",
              "      <td>NaN</td>\n",
              "      <td>NaN</td>\n",
              "      <td>NaN</td>\n",
              "      <td>NaN</td>\n",
              "      <td>0.000000</td>\n",
              "      <td>0.0</td>\n",
              "    </tr>\n",
              "    <tr>\n",
              "      <th>657</th>\n",
              "      <td>Zanco Tiny T1</td>\n",
              "      <td>Zanco</td>\n",
              "      <td>2799</td>\n",
              "      <td>Single Sim</td>\n",
              "      <td>0</td>\n",
              "      <td>1</td>\n",
              "      <td>NaN</td>\n",
              "      <td>NaN</td>\n",
              "      <td>NaN</td>\n",
              "      <td>NaN</td>\n",
              "      <td>0</td>\n",
              "      <td>NaN</td>\n",
              "      <td>NaN</td>\n",
              "      <td>NaN</td>\n",
              "      <td>NaN</td>\n",
              "      <td>0.000000</td>\n",
              "      <td>0.0</td>\n",
              "    </tr>\n",
              "    <tr>\n",
              "      <th>665</th>\n",
              "      <td>itel it2163S</td>\n",
              "      <td>itel</td>\n",
              "      <td>958</td>\n",
              "      <td>Dual Sim</td>\n",
              "      <td>0</td>\n",
              "      <td>1</td>\n",
              "      <td>NaN</td>\n",
              "      <td>NaN</td>\n",
              "      <td>NaN</td>\n",
              "      <td>NaN</td>\n",
              "      <td>0</td>\n",
              "      <td>NaN</td>\n",
              "      <td>NaN</td>\n",
              "      <td>NaN</td>\n",
              "      <td>NaN</td>\n",
              "      <td>0.000000</td>\n",
              "      <td>0.0</td>\n",
              "    </tr>\n",
              "    <tr>\n",
              "      <th>699</th>\n",
              "      <td>Samsung Guru GT-E1215</td>\n",
              "      <td>Samsung</td>\n",
              "      <td>1850</td>\n",
              "      <td>Single Sim</td>\n",
              "      <td>0</td>\n",
              "      <td>1</td>\n",
              "      <td>NaN</td>\n",
              "      <td>NaN</td>\n",
              "      <td>NaN</td>\n",
              "      <td>NaN</td>\n",
              "      <td>0</td>\n",
              "      <td>NaN</td>\n",
              "      <td>NaN</td>\n",
              "      <td>NaN</td>\n",
              "      <td>NaN</td>\n",
              "      <td>0.000000</td>\n",
              "      <td>0.0</td>\n",
              "    </tr>\n",
              "    <tr>\n",
              "      <th>748</th>\n",
              "      <td>Nokia 400 4G</td>\n",
              "      <td>Nokia</td>\n",
              "      <td>3290</td>\n",
              "      <td>Dual Sim</td>\n",
              "      <td>0</td>\n",
              "      <td>1</td>\n",
              "      <td>NaN</td>\n",
              "      <td>NaN</td>\n",
              "      <td>NaN</td>\n",
              "      <td>NaN</td>\n",
              "      <td>0</td>\n",
              "      <td>NaN</td>\n",
              "      <td>NaN</td>\n",
              "      <td>NaN</td>\n",
              "      <td>NaN</td>\n",
              "      <td>0.000000</td>\n",
              "      <td>0.0</td>\n",
              "    </tr>\n",
              "    <tr>\n",
              "      <th>754</th>\n",
              "      <td>Apple iPod Touch (7th Gen)</td>\n",
              "      <td>Apple</td>\n",
              "      <td>18900</td>\n",
              "      <td>No Sim</td>\n",
              "      <td>0</td>\n",
              "      <td>1</td>\n",
              "      <td>NaN</td>\n",
              "      <td>NaN</td>\n",
              "      <td>NaN</td>\n",
              "      <td>NaN</td>\n",
              "      <td>0</td>\n",
              "      <td>NaN</td>\n",
              "      <td>NaN</td>\n",
              "      <td>NaN</td>\n",
              "      <td>NaN</td>\n",
              "      <td>0.000000</td>\n",
              "      <td>0.0</td>\n",
              "    </tr>\n",
              "    <tr>\n",
              "      <th>757</th>\n",
              "      <td>Karbonn KU3i</td>\n",
              "      <td>Karbonn</td>\n",
              "      <td>995</td>\n",
              "      <td>Dual Sim</td>\n",
              "      <td>0</td>\n",
              "      <td>1</td>\n",
              "      <td>NaN</td>\n",
              "      <td>NaN</td>\n",
              "      <td>NaN</td>\n",
              "      <td>NaN</td>\n",
              "      <td>0</td>\n",
              "      <td>NaN</td>\n",
              "      <td>NaN</td>\n",
              "      <td>NaN</td>\n",
              "      <td>NaN</td>\n",
              "      <td>0.000000</td>\n",
              "      <td>0.0</td>\n",
              "    </tr>\n",
              "    <tr>\n",
              "      <th>762</th>\n",
              "      <td>Apple iPhone SE 4</td>\n",
              "      <td>Apple</td>\n",
              "      <td>49990</td>\n",
              "      <td>Dual Sim</td>\n",
              "      <td>1</td>\n",
              "      <td>6</td>\n",
              "      <td>NaN</td>\n",
              "      <td>64 GB</td>\n",
              "      <td>NaN</td>\n",
              "      <td>NaN</td>\n",
              "      <td>0</td>\n",
              "      <td>NaN</td>\n",
              "      <td>NaN</td>\n",
              "      <td>NaN</td>\n",
              "      <td>NaN</td>\n",
              "      <td>0.000000</td>\n",
              "      <td>0.0</td>\n",
              "    </tr>\n",
              "    <tr>\n",
              "      <th>817</th>\n",
              "      <td>itel Magic X</td>\n",
              "      <td>itel</td>\n",
              "      <td>2239</td>\n",
              "      <td>Dual Sim</td>\n",
              "      <td>0</td>\n",
              "      <td>1</td>\n",
              "      <td>NaN</td>\n",
              "      <td>NaN</td>\n",
              "      <td>NaN</td>\n",
              "      <td>NaN</td>\n",
              "      <td>0</td>\n",
              "      <td>NaN</td>\n",
              "      <td>NaN</td>\n",
              "      <td>NaN</td>\n",
              "      <td>NaN</td>\n",
              "      <td>0.000000</td>\n",
              "      <td>0.0</td>\n",
              "    </tr>\n",
              "    <tr>\n",
              "      <th>857</th>\n",
              "      <td>LG Folder 2</td>\n",
              "      <td>LG</td>\n",
              "      <td>11999</td>\n",
              "      <td>Single Sim</td>\n",
              "      <td>0</td>\n",
              "      <td>1</td>\n",
              "      <td>NaN</td>\n",
              "      <td>NaN</td>\n",
              "      <td>NaN</td>\n",
              "      <td>NaN</td>\n",
              "      <td>0</td>\n",
              "      <td>NaN</td>\n",
              "      <td>NaN</td>\n",
              "      <td>NaN</td>\n",
              "      <td>NaN</td>\n",
              "      <td>0.000000</td>\n",
              "      <td>0.0</td>\n",
              "    </tr>\n",
              "    <tr>\n",
              "      <th>882</th>\n",
              "      <td>Nokia 5710 XpressAudio</td>\n",
              "      <td>Nokia</td>\n",
              "      <td>4799</td>\n",
              "      <td>Dual Sim</td>\n",
              "      <td>0</td>\n",
              "      <td>1</td>\n",
              "      <td>NaN</td>\n",
              "      <td>NaN</td>\n",
              "      <td>NaN</td>\n",
              "      <td>NaN</td>\n",
              "      <td>0</td>\n",
              "      <td>NaN</td>\n",
              "      <td>NaN</td>\n",
              "      <td>NaN</td>\n",
              "      <td>NaN</td>\n",
              "      <td>0.000000</td>\n",
              "      <td>0.0</td>\n",
              "    </tr>\n",
              "    <tr>\n",
              "      <th>917</th>\n",
              "      <td>Nokia 150 (2020)</td>\n",
              "      <td>Nokia</td>\n",
              "      <td>2499</td>\n",
              "      <td>Dual Sim</td>\n",
              "      <td>0</td>\n",
              "      <td>1</td>\n",
              "      <td>NaN</td>\n",
              "      <td>4 MB</td>\n",
              "      <td>1020</td>\n",
              "      <td>NaN</td>\n",
              "      <td>0</td>\n",
              "      <td>2.4</td>\n",
              "      <td>NaN</td>\n",
              "      <td>NaN</td>\n",
              "      <td>Single</td>\n",
              "      <td>0.300049</td>\n",
              "      <td>0.0</td>\n",
              "    </tr>\n",
              "    <tr>\n",
              "      <th>925</th>\n",
              "      <td>Nokia 3310 4G</td>\n",
              "      <td>Nokia</td>\n",
              "      <td>3999</td>\n",
              "      <td>Dual Sim</td>\n",
              "      <td>0</td>\n",
              "      <td>1</td>\n",
              "      <td>NaN</td>\n",
              "      <td>NaN</td>\n",
              "      <td>NaN</td>\n",
              "      <td>NaN</td>\n",
              "      <td>0</td>\n",
              "      <td>NaN</td>\n",
              "      <td>NaN</td>\n",
              "      <td>NaN</td>\n",
              "      <td>NaN</td>\n",
              "      <td>0.000000</td>\n",
              "      <td>0.0</td>\n",
              "    </tr>\n",
              "    <tr>\n",
              "      <th>927</th>\n",
              "      <td>Samsung Guru E1200</td>\n",
              "      <td>Samsung</td>\n",
              "      <td>1685</td>\n",
              "      <td>Single Sim</td>\n",
              "      <td>0</td>\n",
              "      <td>1</td>\n",
              "      <td>NaN</td>\n",
              "      <td>NaN</td>\n",
              "      <td>NaN</td>\n",
              "      <td>NaN</td>\n",
              "      <td>0</td>\n",
              "      <td>NaN</td>\n",
              "      <td>NaN</td>\n",
              "      <td>NaN</td>\n",
              "      <td>NaN</td>\n",
              "      <td>0.000000</td>\n",
              "      <td>0.0</td>\n",
              "    </tr>\n",
              "    <tr>\n",
              "      <th>930</th>\n",
              "      <td>iKall K88 Pro 4G</td>\n",
              "      <td>iKall</td>\n",
              "      <td>2099</td>\n",
              "      <td>Dual Sim</td>\n",
              "      <td>0</td>\n",
              "      <td>1</td>\n",
              "      <td>NaN</td>\n",
              "      <td>NaN</td>\n",
              "      <td>NaN</td>\n",
              "      <td>NaN</td>\n",
              "      <td>0</td>\n",
              "      <td>NaN</td>\n",
              "      <td>NaN</td>\n",
              "      <td>NaN</td>\n",
              "      <td>NaN</td>\n",
              "      <td>0.000000</td>\n",
              "      <td>0.0</td>\n",
              "    </tr>\n",
              "    <tr>\n",
              "      <th>988</th>\n",
              "      <td>Nokia 5310 Dual Sim</td>\n",
              "      <td>Nokia</td>\n",
              "      <td>3399</td>\n",
              "      <td>Dual Sim</td>\n",
              "      <td>0</td>\n",
              "      <td>1</td>\n",
              "      <td>NaN</td>\n",
              "      <td>NaN</td>\n",
              "      <td>NaN</td>\n",
              "      <td>NaN</td>\n",
              "      <td>0</td>\n",
              "      <td>NaN</td>\n",
              "      <td>NaN</td>\n",
              "      <td>NaN</td>\n",
              "      <td>NaN</td>\n",
              "      <td>0.000000</td>\n",
              "      <td>0.0</td>\n",
              "    </tr>\n",
              "    <tr>\n",
              "      <th>1000</th>\n",
              "      <td>XTouch F40 Flip</td>\n",
              "      <td>XTouch</td>\n",
              "      <td>1999</td>\n",
              "      <td>Dual Sim</td>\n",
              "      <td>0</td>\n",
              "      <td>1</td>\n",
              "      <td>NaN</td>\n",
              "      <td>NaN</td>\n",
              "      <td>NaN</td>\n",
              "      <td>NaN</td>\n",
              "      <td>0</td>\n",
              "      <td>NaN</td>\n",
              "      <td>NaN</td>\n",
              "      <td>NaN</td>\n",
              "      <td>NaN</td>\n",
              "      <td>0.000000</td>\n",
              "      <td>0.0</td>\n",
              "    </tr>\n",
              "  </tbody>\n",
              "</table>\n",
              "</div>\n",
              "    <div class=\"colab-df-buttons\">\n",
              "\n",
              "  <div class=\"colab-df-container\">\n",
              "    <button class=\"colab-df-convert\" onclick=\"convertToInteractive('df-5fecbb3a-b97e-470b-801d-209fb6d27689')\"\n",
              "            title=\"Convert this dataframe to an interactive table.\"\n",
              "            style=\"display:none;\">\n",
              "\n",
              "  <svg xmlns=\"http://www.w3.org/2000/svg\" height=\"24px\" viewBox=\"0 -960 960 960\">\n",
              "    <path d=\"M120-120v-720h720v720H120Zm60-500h600v-160H180v160Zm220 220h160v-160H400v160Zm0 220h160v-160H400v160ZM180-400h160v-160H180v160Zm440 0h160v-160H620v160ZM180-180h160v-160H180v160Zm440 0h160v-160H620v160Z\"/>\n",
              "  </svg>\n",
              "    </button>\n",
              "\n",
              "  <style>\n",
              "    .colab-df-container {\n",
              "      display:flex;\n",
              "      gap: 12px;\n",
              "    }\n",
              "\n",
              "    .colab-df-convert {\n",
              "      background-color: #E8F0FE;\n",
              "      border: none;\n",
              "      border-radius: 50%;\n",
              "      cursor: pointer;\n",
              "      display: none;\n",
              "      fill: #1967D2;\n",
              "      height: 32px;\n",
              "      padding: 0 0 0 0;\n",
              "      width: 32px;\n",
              "    }\n",
              "\n",
              "    .colab-df-convert:hover {\n",
              "      background-color: #E2EBFA;\n",
              "      box-shadow: 0px 1px 2px rgba(60, 64, 67, 0.3), 0px 1px 3px 1px rgba(60, 64, 67, 0.15);\n",
              "      fill: #174EA6;\n",
              "    }\n",
              "\n",
              "    .colab-df-buttons div {\n",
              "      margin-bottom: 4px;\n",
              "    }\n",
              "\n",
              "    [theme=dark] .colab-df-convert {\n",
              "      background-color: #3B4455;\n",
              "      fill: #D2E3FC;\n",
              "    }\n",
              "\n",
              "    [theme=dark] .colab-df-convert:hover {\n",
              "      background-color: #434B5C;\n",
              "      box-shadow: 0px 1px 3px 1px rgba(0, 0, 0, 0.15);\n",
              "      filter: drop-shadow(0px 1px 2px rgba(0, 0, 0, 0.3));\n",
              "      fill: #FFFFFF;\n",
              "    }\n",
              "  </style>\n",
              "\n",
              "    <script>\n",
              "      const buttonEl =\n",
              "        document.querySelector('#df-5fecbb3a-b97e-470b-801d-209fb6d27689 button.colab-df-convert');\n",
              "      buttonEl.style.display =\n",
              "        google.colab.kernel.accessAllowed ? 'block' : 'none';\n",
              "\n",
              "      async function convertToInteractive(key) {\n",
              "        const element = document.querySelector('#df-5fecbb3a-b97e-470b-801d-209fb6d27689');\n",
              "        const dataTable =\n",
              "          await google.colab.kernel.invokeFunction('convertToInteractive',\n",
              "                                                    [key], {});\n",
              "        if (!dataTable) return;\n",
              "\n",
              "        const docLinkHtml = 'Like what you see? Visit the ' +\n",
              "          '<a target=\"_blank\" href=https://colab.research.google.com/notebooks/data_table.ipynb>data table notebook</a>'\n",
              "          + ' to learn more about interactive tables.';\n",
              "        element.innerHTML = '';\n",
              "        dataTable['output_type'] = 'display_data';\n",
              "        await google.colab.output.renderOutput(dataTable, element);\n",
              "        const docLink = document.createElement('div');\n",
              "        docLink.innerHTML = docLinkHtml;\n",
              "        element.appendChild(docLink);\n",
              "      }\n",
              "    </script>\n",
              "  </div>\n",
              "\n",
              "\n",
              "<div id=\"df-618e56fa-2579-4b5d-ac17-dfcf72433989\">\n",
              "  <button class=\"colab-df-quickchart\" onclick=\"quickchart('df-618e56fa-2579-4b5d-ac17-dfcf72433989')\"\n",
              "            title=\"Suggest charts\"\n",
              "            style=\"display:none;\">\n",
              "\n",
              "<svg xmlns=\"http://www.w3.org/2000/svg\" height=\"24px\"viewBox=\"0 0 24 24\"\n",
              "     width=\"24px\">\n",
              "    <g>\n",
              "        <path d=\"M19 3H5c-1.1 0-2 .9-2 2v14c0 1.1.9 2 2 2h14c1.1 0 2-.9 2-2V5c0-1.1-.9-2-2-2zM9 17H7v-7h2v7zm4 0h-2V7h2v10zm4 0h-2v-4h2v4z\"/>\n",
              "    </g>\n",
              "</svg>\n",
              "  </button>\n",
              "\n",
              "<style>\n",
              "  .colab-df-quickchart {\n",
              "      --bg-color: #E8F0FE;\n",
              "      --fill-color: #1967D2;\n",
              "      --hover-bg-color: #E2EBFA;\n",
              "      --hover-fill-color: #174EA6;\n",
              "      --disabled-fill-color: #AAA;\n",
              "      --disabled-bg-color: #DDD;\n",
              "  }\n",
              "\n",
              "  [theme=dark] .colab-df-quickchart {\n",
              "      --bg-color: #3B4455;\n",
              "      --fill-color: #D2E3FC;\n",
              "      --hover-bg-color: #434B5C;\n",
              "      --hover-fill-color: #FFFFFF;\n",
              "      --disabled-bg-color: #3B4455;\n",
              "      --disabled-fill-color: #666;\n",
              "  }\n",
              "\n",
              "  .colab-df-quickchart {\n",
              "    background-color: var(--bg-color);\n",
              "    border: none;\n",
              "    border-radius: 50%;\n",
              "    cursor: pointer;\n",
              "    display: none;\n",
              "    fill: var(--fill-color);\n",
              "    height: 32px;\n",
              "    padding: 0;\n",
              "    width: 32px;\n",
              "  }\n",
              "\n",
              "  .colab-df-quickchart:hover {\n",
              "    background-color: var(--hover-bg-color);\n",
              "    box-shadow: 0 1px 2px rgba(60, 64, 67, 0.3), 0 1px 3px 1px rgba(60, 64, 67, 0.15);\n",
              "    fill: var(--button-hover-fill-color);\n",
              "  }\n",
              "\n",
              "  .colab-df-quickchart-complete:disabled,\n",
              "  .colab-df-quickchart-complete:disabled:hover {\n",
              "    background-color: var(--disabled-bg-color);\n",
              "    fill: var(--disabled-fill-color);\n",
              "    box-shadow: none;\n",
              "  }\n",
              "\n",
              "  .colab-df-spinner {\n",
              "    border: 2px solid var(--fill-color);\n",
              "    border-color: transparent;\n",
              "    border-bottom-color: var(--fill-color);\n",
              "    animation:\n",
              "      spin 1s steps(1) infinite;\n",
              "  }\n",
              "\n",
              "  @keyframes spin {\n",
              "    0% {\n",
              "      border-color: transparent;\n",
              "      border-bottom-color: var(--fill-color);\n",
              "      border-left-color: var(--fill-color);\n",
              "    }\n",
              "    20% {\n",
              "      border-color: transparent;\n",
              "      border-left-color: var(--fill-color);\n",
              "      border-top-color: var(--fill-color);\n",
              "    }\n",
              "    30% {\n",
              "      border-color: transparent;\n",
              "      border-left-color: var(--fill-color);\n",
              "      border-top-color: var(--fill-color);\n",
              "      border-right-color: var(--fill-color);\n",
              "    }\n",
              "    40% {\n",
              "      border-color: transparent;\n",
              "      border-right-color: var(--fill-color);\n",
              "      border-top-color: var(--fill-color);\n",
              "    }\n",
              "    60% {\n",
              "      border-color: transparent;\n",
              "      border-right-color: var(--fill-color);\n",
              "    }\n",
              "    80% {\n",
              "      border-color: transparent;\n",
              "      border-right-color: var(--fill-color);\n",
              "      border-bottom-color: var(--fill-color);\n",
              "    }\n",
              "    90% {\n",
              "      border-color: transparent;\n",
              "      border-bottom-color: var(--fill-color);\n",
              "    }\n",
              "  }\n",
              "</style>\n",
              "\n",
              "  <script>\n",
              "    async function quickchart(key) {\n",
              "      const quickchartButtonEl =\n",
              "        document.querySelector('#' + key + ' button');\n",
              "      quickchartButtonEl.disabled = true;  // To prevent multiple clicks.\n",
              "      quickchartButtonEl.classList.add('colab-df-spinner');\n",
              "      try {\n",
              "        const charts = await google.colab.kernel.invokeFunction(\n",
              "            'suggestCharts', [key], {});\n",
              "      } catch (error) {\n",
              "        console.error('Error during call to suggestCharts:', error);\n",
              "      }\n",
              "      quickchartButtonEl.classList.remove('colab-df-spinner');\n",
              "      quickchartButtonEl.classList.add('colab-df-quickchart-complete');\n",
              "    }\n",
              "    (() => {\n",
              "      let quickchartButtonEl =\n",
              "        document.querySelector('#df-618e56fa-2579-4b5d-ac17-dfcf72433989 button');\n",
              "      quickchartButtonEl.style.display =\n",
              "        google.colab.kernel.accessAllowed ? 'block' : 'none';\n",
              "    })();\n",
              "  </script>\n",
              "</div>\n",
              "\n",
              "    </div>\n",
              "  </div>\n"
            ],
            "application/vnd.google.colaboratory.intrinsic+json": {
              "type": "dataframe",
              "summary": "{\n  \"name\": \"phone [phone['RAM']\",\n  \"rows\": 27,\n  \"fields\": [\n    {\n      \"column\": \"model\",\n      \"properties\": {\n        \"dtype\": \"string\",\n        \"num_unique_values\": 27,\n        \"samples\": [\n          \"Nokia 105 Plus\",\n          \"Samsung Guru GT-E1215\",\n          \"Nokia 2760 Flip\"\n        ],\n        \"semantic_type\": \"\",\n        \"description\": \"\"\n      }\n    },\n    {\n      \"column\": \"brand\",\n      \"properties\": {\n        \"dtype\": \"category\",\n        \"num_unique_values\": 13,\n        \"samples\": [\n          \"iKall\",\n          \"Karbonn\",\n          \"Nokia\"\n        ],\n        \"semantic_type\": \"\",\n        \"description\": \"\"\n      }\n    },\n    {\n      \"column\": \"selling_price\",\n      \"properties\": {\n        \"dtype\": \"int32\",\n        \"num_unique_values\": 27,\n        \"samples\": [\n          1299,\n          1850,\n          5490\n        ],\n        \"semantic_type\": \"\",\n        \"description\": \"\"\n      }\n    },\n    {\n      \"column\": \"sim type\",\n      \"properties\": {\n        \"dtype\": \"category\",\n        \"num_unique_values\": 3,\n        \"samples\": [\n          \"Dual Sim\",\n          \"Single Sim\",\n          \"No Sim\"\n        ],\n        \"semantic_type\": \"\",\n        \"description\": \"\"\n      }\n    },\n    {\n      \"column\": \"is 5G\",\n      \"properties\": {\n        \"dtype\": \"number\",\n        \"std\": 0,\n        \"min\": 0,\n        \"max\": 1,\n        \"num_unique_values\": 2,\n        \"samples\": [\n          1,\n          0\n        ],\n        \"semantic_type\": \"\",\n        \"description\": \"\"\n      }\n    },\n    {\n      \"column\": \"cores\",\n      \"properties\": {\n        \"dtype\": \"number\",\n        \"std\": 1,\n        \"min\": 1,\n        \"max\": 8,\n        \"num_unique_values\": 3,\n        \"samples\": [\n          1,\n          6\n        ],\n        \"semantic_type\": \"\",\n        \"description\": \"\"\n      }\n    },\n    {\n      \"column\": \"RAM\",\n      \"properties\": {\n        \"dtype\": \"category\",\n        \"num_unique_values\": 0,\n        \"samples\": [],\n        \"semantic_type\": \"\",\n        \"description\": \"\"\n      }\n    },\n    {\n      \"column\": \"ROM\",\n      \"properties\": {\n        \"dtype\": \"category\",\n        \"num_unique_values\": 3,\n        \"samples\": [],\n        \"semantic_type\": \"\",\n        \"description\": \"\"\n      }\n    },\n    {\n      \"column\": \"battery_mAh\",\n      \"properties\": {\n        \"dtype\": \"category\",\n        \"num_unique_values\": 3,\n        \"samples\": [],\n        \"semantic_type\": \"\",\n        \"description\": \"\"\n      }\n    },\n    {\n      \"column\": \"charger\",\n      \"properties\": {\n        \"dtype\": \"category\",\n        \"num_unique_values\": 1,\n        \"samples\": [],\n        \"semantic_type\": \"\",\n        \"description\": \"\"\n      }\n    },\n    {\n      \"column\": \"is_fast\",\n      \"properties\": {\n        \"dtype\": \"category\",\n        \"num_unique_values\": 2,\n        \"samples\": [],\n        \"semantic_type\": \"\",\n        \"description\": \"\"\n      }\n    },\n    {\n      \"column\": \"display_size\",\n      \"properties\": {\n        \"dtype\": \"category\",\n        \"num_unique_values\": 3,\n        \"samples\": [],\n        \"semantic_type\": \"\",\n        \"description\": \"\"\n      }\n    },\n    {\n      \"column\": \"refresh rate\",\n      \"properties\": {\n        \"dtype\": \"category\",\n        \"num_unique_values\": 1,\n        \"samples\": [],\n        \"semantic_type\": \"\",\n        \"description\": \"\"\n      }\n    },\n    {\n      \"column\": \"notch\",\n      \"properties\": {\n        \"dtype\": \"category\",\n        \"num_unique_values\": 0,\n        \"samples\": [],\n        \"semantic_type\": \"\",\n        \"description\": \"\"\n      }\n    },\n    {\n      \"column\": \"rear camera count\",\n      \"properties\": {\n        \"dtype\": \"category\",\n        \"num_unique_values\": 2,\n        \"samples\": [],\n        \"semantic_type\": \"\",\n        \"description\": \"\"\n      }\n    },\n    {\n      \"column\": \"rear primary cam\",\n      \"properties\": {\n        \"dtype\": \"float16\",\n        \"num_unique_values\": 3,\n        \"samples\": [],\n        \"semantic_type\": \"\",\n        \"description\": \"\"\n      }\n    },\n    {\n      \"column\": \"front primary cam\",\n      \"properties\": {\n        \"dtype\": \"float16\",\n        \"num_unique_values\": 2,\n        \"samples\": [],\n        \"semantic_type\": \"\",\n        \"description\": \"\"\n      }\n    }\n  ]\n}"
            }
          },
          "metadata": {},
          "execution_count": 187
        }
      ]
    },
    {
      "cell_type": "code",
      "source": [
        "phone.dropna(subset =['RAM' , 'ROM'] , inplace = True)"
      ],
      "metadata": {
        "id": "fGy39XG7rWmX"
      },
      "execution_count": 188,
      "outputs": []
    },
    {
      "cell_type": "code",
      "source": [
        "phone.shape"
      ],
      "metadata": {
        "colab": {
          "base_uri": "https://localhost:8080/"
        },
        "id": "puJBDCG0sEbY",
        "outputId": "6396e678-0c76-42be-d26d-80928a6224b3"
      },
      "execution_count": 189,
      "outputs": [
        {
          "output_type": "execute_result",
          "data": {
            "text/plain": [
              "(993, 17)"
            ]
          },
          "metadata": {},
          "execution_count": 189
        }
      ]
    },
    {
      "cell_type": "code",
      "source": [
        "phone['ROM'].isnull().sum()"
      ],
      "metadata": {
        "colab": {
          "base_uri": "https://localhost:8080/"
        },
        "id": "vfm_bf6xtn1c",
        "outputId": "a31a612f-395d-48ba-b61d-c820b3531be7"
      },
      "execution_count": 190,
      "outputs": [
        {
          "output_type": "execute_result",
          "data": {
            "text/plain": [
              "0"
            ]
          },
          "metadata": {},
          "execution_count": 190
        }
      ]
    },
    {
      "cell_type": "code",
      "source": [
        "phone[phone['battery_mAh'].isnull()]"
      ],
      "metadata": {
        "colab": {
          "base_uri": "https://localhost:8080/",
          "height": 731
        },
        "id": "D1mz_O9CtyEs",
        "outputId": "64c143fd-d0f0-4d5b-beac-3665ca8944ab"
      },
      "execution_count": 191,
      "outputs": [
        {
          "output_type": "execute_result",
          "data": {
            "text/plain": [
              "                            model  brand  selling_price  sim type  is 5G  \\\n",
              "111               Apple iPhone 12  Apple          51999  Dual Sim      1   \n",
              "149          Apple iPhone 12 Mini  Apple          40999  Dual Sim      1   \n",
              "307       Apple iPhone 12 (128GB)  Apple          55999  Dual Sim      1   \n",
              "363  Apple iPhone 12 Mini (128GB)  Apple          45999  Dual Sim      1   \n",
              "448           Apple iPhone 15 Pro  Apple         130990  Dual Sim      1   \n",
              "628   Apple iPhone 12 Pro (512GB)  Apple         139900  Dual Sim      1   \n",
              "853   Apple iPhone 12 Pro (256GB)  Apple         119900  Dual Sim      1   \n",
              "913  Apple iPhone 12 Mini (256GB)  Apple          55999  Dual Sim      1   \n",
              "914       Apple iPhone 12 (256GB)  Apple          67999  Dual Sim      1   \n",
              "\n",
              "     cores   RAM     ROM battery_mAh charger is_fast display_size  \\\n",
              "111      6  4 GB   64 GB         NaN     NaN       0          NaN   \n",
              "149      6  4 GB   64 GB         NaN     NaN       0          NaN   \n",
              "307      6  4 GB  128 GB         NaN     NaN       0          NaN   \n",
              "363      6  4 GB  128 GB         NaN     NaN       0          NaN   \n",
              "448      1  8 GB  128 GB         NaN     NaN       0          NaN   \n",
              "628      6  6 GB  512 GB         NaN     NaN       0          NaN   \n",
              "853      6  6 GB  256 GB         NaN     NaN       0          NaN   \n",
              "913      6  4 GB  256 GB         NaN     NaN       0          NaN   \n",
              "914      6  4 GB  256 GB         NaN     NaN       0          NaN   \n",
              "\n",
              "    refresh rate notch rear camera count  rear primary cam  front primary cam  \n",
              "111          NaN   NaN               NaN               0.0                0.0  \n",
              "149          NaN   NaN               NaN               0.0                0.0  \n",
              "307          NaN   NaN               NaN               0.0                0.0  \n",
              "363          NaN   NaN               NaN               0.0                0.0  \n",
              "448          NaN   NaN               NaN               0.0                0.0  \n",
              "628          NaN   NaN               NaN               0.0                0.0  \n",
              "853          NaN   NaN               NaN               0.0                0.0  \n",
              "913          NaN   NaN               NaN               0.0                0.0  \n",
              "914          NaN   NaN               NaN               0.0                0.0  "
            ],
            "text/html": [
              "\n",
              "  <div id=\"df-603c2bd1-647c-44cd-915e-28bc97ad05ea\" class=\"colab-df-container\">\n",
              "    <div>\n",
              "<style scoped>\n",
              "    .dataframe tbody tr th:only-of-type {\n",
              "        vertical-align: middle;\n",
              "    }\n",
              "\n",
              "    .dataframe tbody tr th {\n",
              "        vertical-align: top;\n",
              "    }\n",
              "\n",
              "    .dataframe thead th {\n",
              "        text-align: right;\n",
              "    }\n",
              "</style>\n",
              "<table border=\"1\" class=\"dataframe\">\n",
              "  <thead>\n",
              "    <tr style=\"text-align: right;\">\n",
              "      <th></th>\n",
              "      <th>model</th>\n",
              "      <th>brand</th>\n",
              "      <th>selling_price</th>\n",
              "      <th>sim type</th>\n",
              "      <th>is 5G</th>\n",
              "      <th>cores</th>\n",
              "      <th>RAM</th>\n",
              "      <th>ROM</th>\n",
              "      <th>battery_mAh</th>\n",
              "      <th>charger</th>\n",
              "      <th>is_fast</th>\n",
              "      <th>display_size</th>\n",
              "      <th>refresh rate</th>\n",
              "      <th>notch</th>\n",
              "      <th>rear camera count</th>\n",
              "      <th>rear primary cam</th>\n",
              "      <th>front primary cam</th>\n",
              "    </tr>\n",
              "  </thead>\n",
              "  <tbody>\n",
              "    <tr>\n",
              "      <th>111</th>\n",
              "      <td>Apple iPhone 12</td>\n",
              "      <td>Apple</td>\n",
              "      <td>51999</td>\n",
              "      <td>Dual Sim</td>\n",
              "      <td>1</td>\n",
              "      <td>6</td>\n",
              "      <td>4 GB</td>\n",
              "      <td>64 GB</td>\n",
              "      <td>NaN</td>\n",
              "      <td>NaN</td>\n",
              "      <td>0</td>\n",
              "      <td>NaN</td>\n",
              "      <td>NaN</td>\n",
              "      <td>NaN</td>\n",
              "      <td>NaN</td>\n",
              "      <td>0.0</td>\n",
              "      <td>0.0</td>\n",
              "    </tr>\n",
              "    <tr>\n",
              "      <th>149</th>\n",
              "      <td>Apple iPhone 12 Mini</td>\n",
              "      <td>Apple</td>\n",
              "      <td>40999</td>\n",
              "      <td>Dual Sim</td>\n",
              "      <td>1</td>\n",
              "      <td>6</td>\n",
              "      <td>4 GB</td>\n",
              "      <td>64 GB</td>\n",
              "      <td>NaN</td>\n",
              "      <td>NaN</td>\n",
              "      <td>0</td>\n",
              "      <td>NaN</td>\n",
              "      <td>NaN</td>\n",
              "      <td>NaN</td>\n",
              "      <td>NaN</td>\n",
              "      <td>0.0</td>\n",
              "      <td>0.0</td>\n",
              "    </tr>\n",
              "    <tr>\n",
              "      <th>307</th>\n",
              "      <td>Apple iPhone 12 (128GB)</td>\n",
              "      <td>Apple</td>\n",
              "      <td>55999</td>\n",
              "      <td>Dual Sim</td>\n",
              "      <td>1</td>\n",
              "      <td>6</td>\n",
              "      <td>4 GB</td>\n",
              "      <td>128 GB</td>\n",
              "      <td>NaN</td>\n",
              "      <td>NaN</td>\n",
              "      <td>0</td>\n",
              "      <td>NaN</td>\n",
              "      <td>NaN</td>\n",
              "      <td>NaN</td>\n",
              "      <td>NaN</td>\n",
              "      <td>0.0</td>\n",
              "      <td>0.0</td>\n",
              "    </tr>\n",
              "    <tr>\n",
              "      <th>363</th>\n",
              "      <td>Apple iPhone 12 Mini (128GB)</td>\n",
              "      <td>Apple</td>\n",
              "      <td>45999</td>\n",
              "      <td>Dual Sim</td>\n",
              "      <td>1</td>\n",
              "      <td>6</td>\n",
              "      <td>4 GB</td>\n",
              "      <td>128 GB</td>\n",
              "      <td>NaN</td>\n",
              "      <td>NaN</td>\n",
              "      <td>0</td>\n",
              "      <td>NaN</td>\n",
              "      <td>NaN</td>\n",
              "      <td>NaN</td>\n",
              "      <td>NaN</td>\n",
              "      <td>0.0</td>\n",
              "      <td>0.0</td>\n",
              "    </tr>\n",
              "    <tr>\n",
              "      <th>448</th>\n",
              "      <td>Apple iPhone 15 Pro</td>\n",
              "      <td>Apple</td>\n",
              "      <td>130990</td>\n",
              "      <td>Dual Sim</td>\n",
              "      <td>1</td>\n",
              "      <td>1</td>\n",
              "      <td>8 GB</td>\n",
              "      <td>128 GB</td>\n",
              "      <td>NaN</td>\n",
              "      <td>NaN</td>\n",
              "      <td>0</td>\n",
              "      <td>NaN</td>\n",
              "      <td>NaN</td>\n",
              "      <td>NaN</td>\n",
              "      <td>NaN</td>\n",
              "      <td>0.0</td>\n",
              "      <td>0.0</td>\n",
              "    </tr>\n",
              "    <tr>\n",
              "      <th>628</th>\n",
              "      <td>Apple iPhone 12 Pro (512GB)</td>\n",
              "      <td>Apple</td>\n",
              "      <td>139900</td>\n",
              "      <td>Dual Sim</td>\n",
              "      <td>1</td>\n",
              "      <td>6</td>\n",
              "      <td>6 GB</td>\n",
              "      <td>512 GB</td>\n",
              "      <td>NaN</td>\n",
              "      <td>NaN</td>\n",
              "      <td>0</td>\n",
              "      <td>NaN</td>\n",
              "      <td>NaN</td>\n",
              "      <td>NaN</td>\n",
              "      <td>NaN</td>\n",
              "      <td>0.0</td>\n",
              "      <td>0.0</td>\n",
              "    </tr>\n",
              "    <tr>\n",
              "      <th>853</th>\n",
              "      <td>Apple iPhone 12 Pro (256GB)</td>\n",
              "      <td>Apple</td>\n",
              "      <td>119900</td>\n",
              "      <td>Dual Sim</td>\n",
              "      <td>1</td>\n",
              "      <td>6</td>\n",
              "      <td>6 GB</td>\n",
              "      <td>256 GB</td>\n",
              "      <td>NaN</td>\n",
              "      <td>NaN</td>\n",
              "      <td>0</td>\n",
              "      <td>NaN</td>\n",
              "      <td>NaN</td>\n",
              "      <td>NaN</td>\n",
              "      <td>NaN</td>\n",
              "      <td>0.0</td>\n",
              "      <td>0.0</td>\n",
              "    </tr>\n",
              "    <tr>\n",
              "      <th>913</th>\n",
              "      <td>Apple iPhone 12 Mini (256GB)</td>\n",
              "      <td>Apple</td>\n",
              "      <td>55999</td>\n",
              "      <td>Dual Sim</td>\n",
              "      <td>1</td>\n",
              "      <td>6</td>\n",
              "      <td>4 GB</td>\n",
              "      <td>256 GB</td>\n",
              "      <td>NaN</td>\n",
              "      <td>NaN</td>\n",
              "      <td>0</td>\n",
              "      <td>NaN</td>\n",
              "      <td>NaN</td>\n",
              "      <td>NaN</td>\n",
              "      <td>NaN</td>\n",
              "      <td>0.0</td>\n",
              "      <td>0.0</td>\n",
              "    </tr>\n",
              "    <tr>\n",
              "      <th>914</th>\n",
              "      <td>Apple iPhone 12 (256GB)</td>\n",
              "      <td>Apple</td>\n",
              "      <td>67999</td>\n",
              "      <td>Dual Sim</td>\n",
              "      <td>1</td>\n",
              "      <td>6</td>\n",
              "      <td>4 GB</td>\n",
              "      <td>256 GB</td>\n",
              "      <td>NaN</td>\n",
              "      <td>NaN</td>\n",
              "      <td>0</td>\n",
              "      <td>NaN</td>\n",
              "      <td>NaN</td>\n",
              "      <td>NaN</td>\n",
              "      <td>NaN</td>\n",
              "      <td>0.0</td>\n",
              "      <td>0.0</td>\n",
              "    </tr>\n",
              "  </tbody>\n",
              "</table>\n",
              "</div>\n",
              "    <div class=\"colab-df-buttons\">\n",
              "\n",
              "  <div class=\"colab-df-container\">\n",
              "    <button class=\"colab-df-convert\" onclick=\"convertToInteractive('df-603c2bd1-647c-44cd-915e-28bc97ad05ea')\"\n",
              "            title=\"Convert this dataframe to an interactive table.\"\n",
              "            style=\"display:none;\">\n",
              "\n",
              "  <svg xmlns=\"http://www.w3.org/2000/svg\" height=\"24px\" viewBox=\"0 -960 960 960\">\n",
              "    <path d=\"M120-120v-720h720v720H120Zm60-500h600v-160H180v160Zm220 220h160v-160H400v160Zm0 220h160v-160H400v160ZM180-400h160v-160H180v160Zm440 0h160v-160H620v160ZM180-180h160v-160H180v160Zm440 0h160v-160H620v160Z\"/>\n",
              "  </svg>\n",
              "    </button>\n",
              "\n",
              "  <style>\n",
              "    .colab-df-container {\n",
              "      display:flex;\n",
              "      gap: 12px;\n",
              "    }\n",
              "\n",
              "    .colab-df-convert {\n",
              "      background-color: #E8F0FE;\n",
              "      border: none;\n",
              "      border-radius: 50%;\n",
              "      cursor: pointer;\n",
              "      display: none;\n",
              "      fill: #1967D2;\n",
              "      height: 32px;\n",
              "      padding: 0 0 0 0;\n",
              "      width: 32px;\n",
              "    }\n",
              "\n",
              "    .colab-df-convert:hover {\n",
              "      background-color: #E2EBFA;\n",
              "      box-shadow: 0px 1px 2px rgba(60, 64, 67, 0.3), 0px 1px 3px 1px rgba(60, 64, 67, 0.15);\n",
              "      fill: #174EA6;\n",
              "    }\n",
              "\n",
              "    .colab-df-buttons div {\n",
              "      margin-bottom: 4px;\n",
              "    }\n",
              "\n",
              "    [theme=dark] .colab-df-convert {\n",
              "      background-color: #3B4455;\n",
              "      fill: #D2E3FC;\n",
              "    }\n",
              "\n",
              "    [theme=dark] .colab-df-convert:hover {\n",
              "      background-color: #434B5C;\n",
              "      box-shadow: 0px 1px 3px 1px rgba(0, 0, 0, 0.15);\n",
              "      filter: drop-shadow(0px 1px 2px rgba(0, 0, 0, 0.3));\n",
              "      fill: #FFFFFF;\n",
              "    }\n",
              "  </style>\n",
              "\n",
              "    <script>\n",
              "      const buttonEl =\n",
              "        document.querySelector('#df-603c2bd1-647c-44cd-915e-28bc97ad05ea button.colab-df-convert');\n",
              "      buttonEl.style.display =\n",
              "        google.colab.kernel.accessAllowed ? 'block' : 'none';\n",
              "\n",
              "      async function convertToInteractive(key) {\n",
              "        const element = document.querySelector('#df-603c2bd1-647c-44cd-915e-28bc97ad05ea');\n",
              "        const dataTable =\n",
              "          await google.colab.kernel.invokeFunction('convertToInteractive',\n",
              "                                                    [key], {});\n",
              "        if (!dataTable) return;\n",
              "\n",
              "        const docLinkHtml = 'Like what you see? Visit the ' +\n",
              "          '<a target=\"_blank\" href=https://colab.research.google.com/notebooks/data_table.ipynb>data table notebook</a>'\n",
              "          + ' to learn more about interactive tables.';\n",
              "        element.innerHTML = '';\n",
              "        dataTable['output_type'] = 'display_data';\n",
              "        await google.colab.output.renderOutput(dataTable, element);\n",
              "        const docLink = document.createElement('div');\n",
              "        docLink.innerHTML = docLinkHtml;\n",
              "        element.appendChild(docLink);\n",
              "      }\n",
              "    </script>\n",
              "  </div>\n",
              "\n",
              "\n",
              "<div id=\"df-18cc29ec-0acc-48ab-b59b-e153084b5e6c\">\n",
              "  <button class=\"colab-df-quickchart\" onclick=\"quickchart('df-18cc29ec-0acc-48ab-b59b-e153084b5e6c')\"\n",
              "            title=\"Suggest charts\"\n",
              "            style=\"display:none;\">\n",
              "\n",
              "<svg xmlns=\"http://www.w3.org/2000/svg\" height=\"24px\"viewBox=\"0 0 24 24\"\n",
              "     width=\"24px\">\n",
              "    <g>\n",
              "        <path d=\"M19 3H5c-1.1 0-2 .9-2 2v14c0 1.1.9 2 2 2h14c1.1 0 2-.9 2-2V5c0-1.1-.9-2-2-2zM9 17H7v-7h2v7zm4 0h-2V7h2v10zm4 0h-2v-4h2v4z\"/>\n",
              "    </g>\n",
              "</svg>\n",
              "  </button>\n",
              "\n",
              "<style>\n",
              "  .colab-df-quickchart {\n",
              "      --bg-color: #E8F0FE;\n",
              "      --fill-color: #1967D2;\n",
              "      --hover-bg-color: #E2EBFA;\n",
              "      --hover-fill-color: #174EA6;\n",
              "      --disabled-fill-color: #AAA;\n",
              "      --disabled-bg-color: #DDD;\n",
              "  }\n",
              "\n",
              "  [theme=dark] .colab-df-quickchart {\n",
              "      --bg-color: #3B4455;\n",
              "      --fill-color: #D2E3FC;\n",
              "      --hover-bg-color: #434B5C;\n",
              "      --hover-fill-color: #FFFFFF;\n",
              "      --disabled-bg-color: #3B4455;\n",
              "      --disabled-fill-color: #666;\n",
              "  }\n",
              "\n",
              "  .colab-df-quickchart {\n",
              "    background-color: var(--bg-color);\n",
              "    border: none;\n",
              "    border-radius: 50%;\n",
              "    cursor: pointer;\n",
              "    display: none;\n",
              "    fill: var(--fill-color);\n",
              "    height: 32px;\n",
              "    padding: 0;\n",
              "    width: 32px;\n",
              "  }\n",
              "\n",
              "  .colab-df-quickchart:hover {\n",
              "    background-color: var(--hover-bg-color);\n",
              "    box-shadow: 0 1px 2px rgba(60, 64, 67, 0.3), 0 1px 3px 1px rgba(60, 64, 67, 0.15);\n",
              "    fill: var(--button-hover-fill-color);\n",
              "  }\n",
              "\n",
              "  .colab-df-quickchart-complete:disabled,\n",
              "  .colab-df-quickchart-complete:disabled:hover {\n",
              "    background-color: var(--disabled-bg-color);\n",
              "    fill: var(--disabled-fill-color);\n",
              "    box-shadow: none;\n",
              "  }\n",
              "\n",
              "  .colab-df-spinner {\n",
              "    border: 2px solid var(--fill-color);\n",
              "    border-color: transparent;\n",
              "    border-bottom-color: var(--fill-color);\n",
              "    animation:\n",
              "      spin 1s steps(1) infinite;\n",
              "  }\n",
              "\n",
              "  @keyframes spin {\n",
              "    0% {\n",
              "      border-color: transparent;\n",
              "      border-bottom-color: var(--fill-color);\n",
              "      border-left-color: var(--fill-color);\n",
              "    }\n",
              "    20% {\n",
              "      border-color: transparent;\n",
              "      border-left-color: var(--fill-color);\n",
              "      border-top-color: var(--fill-color);\n",
              "    }\n",
              "    30% {\n",
              "      border-color: transparent;\n",
              "      border-left-color: var(--fill-color);\n",
              "      border-top-color: var(--fill-color);\n",
              "      border-right-color: var(--fill-color);\n",
              "    }\n",
              "    40% {\n",
              "      border-color: transparent;\n",
              "      border-right-color: var(--fill-color);\n",
              "      border-top-color: var(--fill-color);\n",
              "    }\n",
              "    60% {\n",
              "      border-color: transparent;\n",
              "      border-right-color: var(--fill-color);\n",
              "    }\n",
              "    80% {\n",
              "      border-color: transparent;\n",
              "      border-right-color: var(--fill-color);\n",
              "      border-bottom-color: var(--fill-color);\n",
              "    }\n",
              "    90% {\n",
              "      border-color: transparent;\n",
              "      border-bottom-color: var(--fill-color);\n",
              "    }\n",
              "  }\n",
              "</style>\n",
              "\n",
              "  <script>\n",
              "    async function quickchart(key) {\n",
              "      const quickchartButtonEl =\n",
              "        document.querySelector('#' + key + ' button');\n",
              "      quickchartButtonEl.disabled = true;  // To prevent multiple clicks.\n",
              "      quickchartButtonEl.classList.add('colab-df-spinner');\n",
              "      try {\n",
              "        const charts = await google.colab.kernel.invokeFunction(\n",
              "            'suggestCharts', [key], {});\n",
              "      } catch (error) {\n",
              "        console.error('Error during call to suggestCharts:', error);\n",
              "      }\n",
              "      quickchartButtonEl.classList.remove('colab-df-spinner');\n",
              "      quickchartButtonEl.classList.add('colab-df-quickchart-complete');\n",
              "    }\n",
              "    (() => {\n",
              "      let quickchartButtonEl =\n",
              "        document.querySelector('#df-18cc29ec-0acc-48ab-b59b-e153084b5e6c button');\n",
              "      quickchartButtonEl.style.display =\n",
              "        google.colab.kernel.accessAllowed ? 'block' : 'none';\n",
              "    })();\n",
              "  </script>\n",
              "</div>\n",
              "\n",
              "    </div>\n",
              "  </div>\n"
            ],
            "application/vnd.google.colaboratory.intrinsic+json": {
              "type": "dataframe",
              "repr_error": "0"
            }
          },
          "metadata": {},
          "execution_count": 191
        }
      ]
    },
    {
      "cell_type": "code",
      "source": [
        "phone['battery_mAh'].isnull().sum()"
      ],
      "metadata": {
        "colab": {
          "base_uri": "https://localhost:8080/"
        },
        "id": "iMnabChduPfy",
        "outputId": "11e6d850-ee31-41bc-a0d4-8d27b2963e2f"
      },
      "execution_count": 192,
      "outputs": [
        {
          "output_type": "execute_result",
          "data": {
            "text/plain": [
              "9"
            ]
          },
          "metadata": {},
          "execution_count": 192
        }
      ]
    },
    {
      "cell_type": "code",
      "source": [
        "phone.dropna(subset = ['battery_mAh'] , inplace = True)"
      ],
      "metadata": {
        "id": "0zRjMbNtt72I"
      },
      "execution_count": 193,
      "outputs": []
    },
    {
      "cell_type": "code",
      "source": [
        "phone['battery_mAh'].isnull().sum()"
      ],
      "metadata": {
        "colab": {
          "base_uri": "https://localhost:8080/"
        },
        "id": "yKIfiu33uoD_",
        "outputId": "eb7b4bbc-6427-4429-c1b9-1a7d8a4c705e"
      },
      "execution_count": 194,
      "outputs": [
        {
          "output_type": "execute_result",
          "data": {
            "text/plain": [
              "0"
            ]
          },
          "metadata": {},
          "execution_count": 194
        }
      ]
    },
    {
      "cell_type": "code",
      "source": [
        "phone.isnull().sum()"
      ],
      "metadata": {
        "colab": {
          "base_uri": "https://localhost:8080/"
        },
        "id": "7uzGC2JYurke",
        "outputId": "6defe354-bd30-4433-cf7d-05207a1d5fdd"
      },
      "execution_count": 195,
      "outputs": [
        {
          "output_type": "execute_result",
          "data": {
            "text/plain": [
              "model                  0\n",
              "brand                  0\n",
              "selling_price          0\n",
              "sim type               0\n",
              "is 5G                  0\n",
              "cores                  0\n",
              "RAM                    0\n",
              "ROM                    0\n",
              "battery_mAh            0\n",
              "charger              216\n",
              "is_fast                0\n",
              "display_size           0\n",
              "refresh rate         374\n",
              "notch                 99\n",
              "rear camera count     32\n",
              "rear primary cam       0\n",
              "front primary cam      0\n",
              "dtype: int64"
            ]
          },
          "metadata": {},
          "execution_count": 195
        }
      ]
    },
    {
      "cell_type": "code",
      "source": [
        "phone['charger'].value_counts()"
      ],
      "metadata": {
        "colab": {
          "base_uri": "https://localhost:8080/"
        },
        "id": "-MiyCw10uupG",
        "outputId": "7e2f43cf-4cca-47b2-8ebb-740762802c3d"
      },
      "execution_count": 196,
      "outputs": [
        {
          "output_type": "execute_result",
          "data": {
            "text/plain": [
              "charger\n",
              "33W      152\n",
              "18W      128\n",
              "67W       65\n",
              "25W       53\n",
              "120W      46\n",
              "15W       43\n",
              "80W       42\n",
              "66W       36\n",
              "10W       33\n",
              "30W       32\n",
              "65W       30\n",
              "44W       23\n",
              "45W       17\n",
              "20W       10\n",
              "68W        7\n",
              "100W       7\n",
              "150W       7\n",
              "125W       6\n",
              "22.5W      5\n",
              "40W        5\n",
              "60W        4\n",
              "55W        3\n",
              "21W        2\n",
              "50W        2\n",
              "210W       2\n",
              "180W       1\n",
              "19W        1\n",
              "200W       1\n",
              "165W       1\n",
              "135W       1\n",
              "68.2W      1\n",
              "27W        1\n",
              "240W       1\n",
              "Name: count, dtype: int64"
            ]
          },
          "metadata": {},
          "execution_count": 196
        }
      ]
    },
    {
      "cell_type": "code",
      "source": [
        "phone.drop(columns = ['charger'] ,inplace = True)"
      ],
      "metadata": {
        "id": "Y5x-ruSDxjU0"
      },
      "execution_count": 197,
      "outputs": []
    },
    {
      "cell_type": "code",
      "source": [
        "phone.columns"
      ],
      "metadata": {
        "colab": {
          "base_uri": "https://localhost:8080/"
        },
        "id": "75I9Ir8EyP5t",
        "outputId": "b2aeeec5-e952-45f7-922d-150fa15829c4"
      },
      "execution_count": 198,
      "outputs": [
        {
          "output_type": "execute_result",
          "data": {
            "text/plain": [
              "Index(['model', 'brand', 'selling_price', 'sim type', 'is 5G', 'cores', 'RAM',\n",
              "       'ROM', 'battery_mAh', 'is_fast', 'display_size', 'refresh rate',\n",
              "       'notch', 'rear camera count', 'rear primary cam', 'front primary cam'],\n",
              "      dtype='object')"
            ]
          },
          "metadata": {},
          "execution_count": 198
        }
      ]
    },
    {
      "cell_type": "code",
      "source": [
        "phone['refresh rate'].value_counts()"
      ],
      "metadata": {
        "colab": {
          "base_uri": "https://localhost:8080/"
        },
        "id": "LcQcYc3kyWlE",
        "outputId": "6656326e-2b83-4010-ba88-23e2b9ace767"
      },
      "execution_count": 199,
      "outputs": [
        {
          "output_type": "execute_result",
          "data": {
            "text/plain": [
              "refresh rate\n",
              "120    342\n",
              "90     219\n",
              "144     39\n",
              "165      9\n",
              "240      1\n",
              "Name: count, dtype: int64"
            ]
          },
          "metadata": {},
          "execution_count": 199
        }
      ]
    },
    {
      "cell_type": "code",
      "source": [
        "# supposing nan mobiles has highest refresh rate in the column\n",
        "phone['refresh rate'].fillna(phone['refresh rate'].value_counts().index[0] , inplace = True)"
      ],
      "metadata": {
        "id": "lkc5wFp3yb50"
      },
      "execution_count": 200,
      "outputs": []
    },
    {
      "cell_type": "code",
      "source": [
        "phone['notch'].value_counts()"
      ],
      "metadata": {
        "colab": {
          "base_uri": "https://localhost:8080/"
        },
        "id": "8XdH0QRlzDRP",
        "outputId": "1e0487ff-b85a-476c-8e47-f4fbac633bd8"
      },
      "execution_count": 201,
      "outputs": [
        {
          "output_type": "execute_result",
          "data": {
            "text/plain": [
              "notch\n",
              "Punch Hole         532\n",
              "Water Drop         309\n",
              "Small               25\n",
              "Large               13\n",
              "Dual Punch Hole      6\n",
              "Name: count, dtype: int64"
            ]
          },
          "metadata": {},
          "execution_count": 201
        }
      ]
    },
    {
      "cell_type": "code",
      "source": [
        "phone['notch'].fillna(phone['notch'].value_counts().index[0] , inplace = True)"
      ],
      "metadata": {
        "id": "Dzy3LK80zzSQ"
      },
      "execution_count": 202,
      "outputs": []
    },
    {
      "cell_type": "code",
      "source": [
        "phone['notch'].value_counts()"
      ],
      "metadata": {
        "colab": {
          "base_uri": "https://localhost:8080/"
        },
        "id": "FojFHdTy0XMv",
        "outputId": "f48a85bd-5d95-4d3e-ee26-b71577b2d8d3"
      },
      "execution_count": 203,
      "outputs": [
        {
          "output_type": "execute_result",
          "data": {
            "text/plain": [
              "notch\n",
              "Punch Hole         631\n",
              "Water Drop         309\n",
              "Small               25\n",
              "Large               13\n",
              "Dual Punch Hole      6\n",
              "Name: count, dtype: int64"
            ]
          },
          "metadata": {},
          "execution_count": 203
        }
      ]
    },
    {
      "cell_type": "code",
      "source": [
        "phone['rear camera count'].value_counts()"
      ],
      "metadata": {
        "colab": {
          "base_uri": "https://localhost:8080/"
        },
        "id": "le_NRNL00bJ_",
        "outputId": "151001b4-8762-4748-c4aa-42b083e68b89"
      },
      "execution_count": 204,
      "outputs": [
        {
          "output_type": "execute_result",
          "data": {
            "text/plain": [
              "rear camera count\n",
              "Triple    531\n",
              "Dual      197\n",
              "Quad      152\n",
              "Single     72\n",
              "Name: count, dtype: int64"
            ]
          },
          "metadata": {},
          "execution_count": 204
        }
      ]
    },
    {
      "cell_type": "code",
      "source": [
        "phone['rear camera count'].fillna(phone['rear camera count'].value_counts().index[0] , inplace = True)"
      ],
      "metadata": {
        "id": "rhfZeThV0i73"
      },
      "execution_count": 205,
      "outputs": []
    },
    {
      "cell_type": "code",
      "source": [
        "phone.isnull().sum()"
      ],
      "metadata": {
        "colab": {
          "base_uri": "https://localhost:8080/"
        },
        "id": "isobCPz90scm",
        "outputId": "114f13ea-f26f-4497-9de4-941e19e9eafb"
      },
      "execution_count": 206,
      "outputs": [
        {
          "output_type": "execute_result",
          "data": {
            "text/plain": [
              "model                0\n",
              "brand                0\n",
              "selling_price        0\n",
              "sim type             0\n",
              "is 5G                0\n",
              "cores                0\n",
              "RAM                  0\n",
              "ROM                  0\n",
              "battery_mAh          0\n",
              "is_fast              0\n",
              "display_size         0\n",
              "refresh rate         0\n",
              "notch                0\n",
              "rear camera count    0\n",
              "rear primary cam     0\n",
              "front primary cam    0\n",
              "dtype: int64"
            ]
          },
          "metadata": {},
          "execution_count": 206
        }
      ]
    },
    {
      "cell_type": "code",
      "source": [
        "df = phone.copy()"
      ],
      "metadata": {
        "id": "_1kjKl7C0wZG"
      },
      "execution_count": 207,
      "outputs": []
    },
    {
      "cell_type": "code",
      "source": [
        "df.to_csv('phones clearned.csv' , index = False)"
      ],
      "metadata": {
        "id": "x9TYq7Wu08V9"
      },
      "execution_count": 208,
      "outputs": []
    },
    {
      "cell_type": "code",
      "source": [],
      "metadata": {
        "id": "kv1kuy_y1Fkt"
      },
      "execution_count": 208,
      "outputs": []
    }
  ]
}